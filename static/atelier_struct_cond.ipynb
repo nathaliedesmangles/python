{
 "cells": [
  {
   "cell_type": "code",
   "execution_count": null,
   "metadata": {},
   "outputs": [],
   "source": [
    "\n",
    "# Demander les données à l'utilisateur\n",
    "temperature = \n",
    "pression = \n",
    "\n",
    "# Déterminer le point d’ébullition selon la pression\n",
    "if \n",
    "    \n",
    "elif \n",
    "    \n",
    "elif \n",
    "    \n",
    "elif \n",
    "    \n",
    "else:\n",
    "    print(\"Pression invalide. Veuillez entrer 0.5, 1.0, 1.5 ou 2.0.\")\n",
    "    exit()\n",
    "\n",
    "# Déterminer l’état de l’eau\n",
    "if \n",
    "elif \n",
    "else:\n",
    "   \n",
    "\n",
    "# Affichage\n",
    "\n",
    "\n",
    "\n"
   ]
  },
  {
   "cell_type": "code",
   "execution_count": null,
   "metadata": {},
   "outputs": [],
   "source": [
    "# Version améliorée: Utilisez la valeur None\n",
    "\n",
    "# Gérer des cas d’erreurs (ex. : pression invalide)\n",
    "# Afficher une petite phrase plus descriptive selon l’état :\n",
    "# “L’eau est sous forme de vapeur.” ou “L’eau est liquide à cette température et pression.”\n"
   ]
  }
 ],
 "metadata": {
  "language_info": {
   "name": "python"
  }
 },
 "nbformat": 4,
 "nbformat_minor": 2
}
