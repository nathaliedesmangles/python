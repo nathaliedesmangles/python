{
 "cells": [
  {
   "cell_type": "markdown",
   "id": "c84fa28e",
   "metadata": {},
   "source": [
    "## Fonction personnalisées"
   ]
  },
  {
   "cell_type": "markdown",
   "id": "3338ce0d",
   "metadata": {},
   "source": [
    "## Exercice 1 : La loi d'Ohm\n",
    "\n",
    "Écrire une fonction `loi_ohm()` qui :\n",
    "\n",
    "- Demande à l’utilisateur d’entrer la valeur de la résistance (en ohms).\n",
    "- Demande à l’utilisateur d’entrer la valeur du courant (en ampères).\n",
    "- Calcule et affiche la tension à l’aide d’une phrase."
   ]
  },
  {
   "cell_type": "code",
   "execution_count": null,
   "id": "a5c2c2a0",
   "metadata": {},
   "outputs": [],
   "source": [
    "# code ici"
   ]
  },
  {
   "cell_type": "markdown",
   "id": "178d3035",
   "metadata": {},
   "source": [
    "## Exercice 2 : Élément chimique\n",
    "\n",
    "Écrire une fonction `element_chm(elt)`"
   ]
  },
  {
   "cell_type": "code",
   "execution_count": null,
   "id": "63b3b93f",
   "metadata": {},
   "outputs": [],
   "source": [
    "# code ici"
   ]
  },
  {
   "cell_type": "markdown",
   "id": "6c71cc1a",
   "metadata": {},
   "source": [
    "## Exercice 3 : Convertir Celsius en Kelvin\n",
    "\n",
    "Écrire la fonction `convertir_C_en_K(C)` \n"
   ]
  },
  {
   "cell_type": "code",
   "execution_count": null,
   "id": "b027a7b0",
   "metadata": {},
   "outputs": [],
   "source": [
    "# code ici"
   ]
  },
  {
   "cell_type": "markdown",
   "id": "810b9f51",
   "metadata": {},
   "source": [
    "## Exercice 4 : Calculer une énergie cinétique\n",
    "\n",
    "Érire la fonction `energie_cinetique(m, v)` qui calcule et retourne la valeur de l'énergie cinétique d'un objet en joules"
   ]
  },
  {
   "cell_type": "code",
   "execution_count": null,
   "id": "42e66103",
   "metadata": {},
   "outputs": [],
   "source": [
    "# code ici"
   ]
  },
  {
   "cell_type": "markdown",
   "id": "b750f860",
   "metadata": {},
   "source": [
    "## Exercice 5 : Aire d'un cercle\n",
    "\n",
    "Écrire la fonction `aire_cercle()`"
   ]
  },
  {
   "cell_type": "code",
   "execution_count": null,
   "id": "4bf33013",
   "metadata": {},
   "outputs": [],
   "source": [
    "# code ici"
   ]
  },
  {
   "cell_type": "markdown",
   "id": "c4ad1908",
   "metadata": {},
   "source": [
    "## Exercice 6 : Vérifier la portée locale\n",
    "\n",
    "Créer la fonction `tester_variable()`"
   ]
  },
  {
   "cell_type": "code",
   "execution_count": null,
   "id": "e41eefe7",
   "metadata": {},
   "outputs": [],
   "source": [
    "# code ici"
   ]
  }
 ],
 "metadata": {
  "language_info": {
   "name": "python"
  }
 },
 "nbformat": 4,
 "nbformat_minor": 5
}
