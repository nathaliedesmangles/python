{
 "cells": [
  {
   "cell_type": "markdown",
   "metadata": {},
   "source": [
    "# 🧪 Atelier 2 - Exercices scientifiques et algorithmiques\n",
    "\n",
    "Travaillez chaque exercice en identifiant les variables, constantes, formules nécessaires et testez vos résultats avec des impressions (`print`)."
   ]
  },
  {
   "cell_type": "markdown",
   "metadata": {},
   "source": [
    "## Exercice 1 - Expérience en chimie\n",
    "\n",
    "Un bécher contient 400 mL de solution. La solution s’évapore à raison de 25 mL/min.\n",
    "\n",
    "Fonction linéaire :\n",
    "$$q(t) = 400 - 25t$$\n",
    "\n",
    "On souhaite trouver la quantité de solution qu'il restera après 10 min 15 s.\n",
    "\n",
    "🧠 **Indications** :\n",
    "- Identifier les variables, constantes et formules nécessaires\n",
    "- Convertir 15 secondes en minutes\n",
    "- Afficher le résultat avec `print`"
   ]
  },
  {
   "cell_type": "code",
   "execution_count": null,
   "metadata": {},
   "outputs": [],
   "source": [
    "# Ton code ici\n",
    "\n"
   ]
  },
  {
   "cell_type": "markdown",
   "metadata": {},
   "source": [
    "## Exercice 2 - Calcul de la force gravitationnelle\n",
    "\n",
    "Écrire une fonction qui :\n",
    "1. Demande le nom de l’objet\n",
    "2. Demande la masse de l’objet (kg)\n",
    "3. Calcule la force avec `force = masse * 9.8`\n",
    "4. Affiche la force avec une phrase complète\n",
    "\n",
    "🧪 **Test 1** : balle, 2.5 kg\n",
    "\n",
    "🧪 **Test 2** : voiture, 1000.0 kg"
   ]
  },
  {
   "cell_type": "code",
   "execution_count": null,
   "metadata": {},
   "outputs": [],
   "source": [
    "# Ton code ici\n",
    "\n"
   ]
  },
  {
   "cell_type": "markdown",
   "metadata": {},
   "source": [
    "## Exercice 3 - Intérêts simples et composés\n",
    "\n",
    "Deux placements avec un montant initial de 100 $ :\n",
    "- **Simple** : 3,2 % par an pendant 10 ans\n",
    "- **Composé** : 1,6 % tous les 6 mois pendant 10 ans\n",
    "\n",
    "🧮 Calcule :\n",
    "- La valeur finale des deux placements\n",
    "- L’écart relatif en % entre les deux\n",
    "- Quel est le meilleur ?"
   ]
  },
  {
   "cell_type": "code",
   "execution_count": null,
   "metadata": {},
   "outputs": [],
   "source": [
    "# Ton code ici\n",
    "\n"
   ]
  },
  {
   "cell_type": "markdown",
   "metadata": {},
   "source": [
    "## Exercice 4 - Hauteur maximale\n",
    "\n",
    "Calcule la hauteur maximale atteinte par un objet lancé vers le haut avec la vitesse initiale donnée par l’utilisateur.\n",
    "\n",
    "Formule :\n",
    "$$h_{\\text{max}} = \\frac{v^2}{2g}$$\n",
    "avec $g = 9.81$ m/s²\n",
    "\n",
    "🧠 Demande la vitesse initiale à l’utilisateur puis affiche la hauteur."
   ]
  },
  {
   "cell_type": "code",
   "execution_count": null,
   "metadata": {},
   "outputs": [],
   "source": [
    "# Ton code ici\n",
    "\n"
   ]
  },
  {
   "cell_type": "markdown",
   "metadata": {},
   "source": [
    "## Exercice 5 - Probabilité géométrique\n",
    "\n",
    "Un rectangle contient 6 cercles (2 rangées de 3), de même taille. La hauteur du rectangle est de 10 cm, soit 2 diamètres de cercle. \n",
    "\n",
    "📐 Calcule la probabilité qu’un point choisi au hasard soit **en dehors des cercles** (dans la région grise).\n",
    "\n",
    "🧠 Formules utiles :\n",
    "- Aire d’un cercle : $A = \\pi r^2$\n",
    "- Aire rectangle = largeur × hauteur\n",
    "- Probabilité = aire grise / aire totale"
   ]
  },
  {
   "cell_type": "code",
   "execution_count": null,
   "metadata": {},
   "outputs": [],
   "source": [
    "# Ton code ici\n",
    "\n",
    "import math\n",
    "\n"
   ]
  }
 ],
 "metadata": {
  "kernelspec": {
   "display_name": "Python 3",
   "language": "python",
   "name": "python3"
  },
  "language_info": {
   "name": "python",
   "version": "3.10"
  }
 },
 "nbformat": 4,
 "nbformat_minor": 5
}
