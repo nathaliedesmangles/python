{
 "cells": [
  {
   "cell_type": "markdown",
   "id": "0c548e2a",
   "metadata": {},
   "source": [
    "# 📘 Leçon – Fichiers CSV, dictionnaires, lecture de données, visualisation avec Matplotlib"
   ]
  },
  {
   "cell_type": "markdown",
   "id": "4ef6571d",
   "metadata": {},
   "source": [
    "\n",
    "## 🎯 Objectifs\n",
    "À la fin de cette leçon, tu sauras :\n",
    "- lire un fichier `.csv` contenant des données scientifiques simples,\n",
    "- stocker les données dans un **dictionnaire**,\n",
    "- visualiser les données avec un **graphique de base** (`matplotlib.pyplot`).\n"
   ]
  },
  {
   "cell_type": "markdown",
   "id": "06201f34",
   "metadata": {},
   "source": [
    "## 📄 1. Lecture de fichiers CSV"
   ]
  },
  {
   "cell_type": "markdown",
   "id": "4971c736",
   "metadata": {},
   "source": [
    "\n",
    "Un fichier `.csv` contient des données tabulaires. Chaque ligne correspond à un enregistrement.\n",
    "\n",
    "Exemple de fichier `mesures.csv` :\n",
    "\n",
    "```\n",
    "temps,temperature\n",
    "0,20.0\n",
    "1,21.5\n",
    "2,22.7\n",
    "3,24.1\n",
    "```\n"
   ]
  },
  {
   "cell_type": "code",
   "execution_count": null,
   "id": "7e085620",
   "metadata": {},
   "outputs": [],
   "source": [
    "# Lecture manuelle d’un fichier CSV simple\n",
    "fichier = open(\"mesures.csv\", \"r\")\n",
    "lignes = fichier.readlines()\n",
    "fichier.close()\n",
    "\n",
    "for ligne in lignes:\n",
    "    print(ligne.strip())"
   ]
  },
  {
   "cell_type": "markdown",
   "id": "f39a7349",
   "metadata": {},
   "source": [
    "### ➕ Convertir les données"
   ]
  },
  {
   "cell_type": "code",
   "execution_count": null,
   "id": "cfde75bb",
   "metadata": {},
   "outputs": [],
   "source": [
    "temps = []\n",
    "temperature = []\n",
    "\n",
    "for ligne in lignes[1:]:  # On saute l'en-tête\n",
    "    t, temp = ligne.strip().split(\",\")\n",
    "    temps.append(int(t))\n",
    "    temperature.append(float(temp))\n",
    "\n",
    "print(temps)\n",
    "print(temperature)"
   ]
  },
  {
   "cell_type": "markdown",
   "id": "bf807783",
   "metadata": {},
   "source": [
    "## 🧺 2. Les dictionnaires"
   ]
  },
  {
   "cell_type": "markdown",
   "id": "46e8e04c",
   "metadata": {},
   "source": [
    "\n",
    "Un **dictionnaire** associe une **clé** à une **valeur**.\n",
    "\n",
    "Exemple :\n"
   ]
  },
  {
   "cell_type": "code",
   "execution_count": null,
   "id": "f806d041",
   "metadata": {},
   "outputs": [],
   "source": [
    "densites = {\n",
    "    \"eau\": 1.0,\n",
    "    \"éthanol\": 0.789,\n",
    "    \"mercure\": 13.6\n",
    "}\n",
    "\n",
    "print(densites[\"mercure\"])"
   ]
  },
  {
   "cell_type": "code",
   "execution_count": null,
   "id": "67e5d6ce",
   "metadata": {},
   "outputs": [],
   "source": [
    "# Ajouter une entrée\n",
    "densites[\"acétone\"] = 0.79\n",
    "\n",
    "# Parcourir le dictionnaire\n",
    "for substance in densites:\n",
    "    print(substance, \"->\", densites[substance])"
   ]
  },
  {
   "cell_type": "markdown",
   "id": "933704b6",
   "metadata": {},
   "source": [
    "## 📊 3. Visualisation avec Matplotlib"
   ]
  },
  {
   "cell_type": "code",
   "execution_count": null,
   "id": "6c3cb487",
   "metadata": {},
   "outputs": [],
   "source": [
    "import matplotlib.pyplot as plt\n",
    "\n",
    "plt.plot(temps, temperature)\n",
    "plt.title(\"Température en fonction du temps\")\n",
    "plt.xlabel(\"Temps (minutes)\")\n",
    "plt.ylabel(\"Température (°C)\")\n",
    "plt.grid()\n",
    "plt.show()"
   ]
  },
  {
   "cell_type": "markdown",
   "id": "168c5930",
   "metadata": {},
   "source": [
    "# ✏️ Exercices – À faire **avant le cours**"
   ]
  },
  {
   "cell_type": "markdown",
   "id": "a813c25d",
   "metadata": {},
   "source": [
    "### 🔬 Exercice 1 – Densité de liquides"
   ]
  },
  {
   "cell_type": "code",
   "execution_count": null,
   "id": "87ba7ffa",
   "metadata": {},
   "outputs": [],
   "source": [
    "# Complète le dictionnaire avec 3 liquides de ton choix et leur densité\n",
    "densites = {\n",
    "    \"eau\": 1.0,\n",
    "    \"éthanol\": 0.789\n",
    "}\n",
    "\n",
    "# Affiche la densité de chaque liquide\n",
    "for substance in densites:\n",
    "    print(substance, \":\", densites[substance])"
   ]
  },
  {
   "cell_type": "markdown",
   "id": "67036af7",
   "metadata": {},
   "source": [
    "### 🔬 Exercice 2 – Fichier CSV : température vs temps"
   ]
  },
  {
   "cell_type": "code",
   "execution_count": null,
   "id": "0e743582",
   "metadata": {},
   "outputs": [],
   "source": [
    "# Supposons que le fichier mesures.csv existe déjà dans le dossier\n",
    "\n",
    "# Lis le fichier et sépare les colonnes\n",
    "fichier = open(\"mesures.csv\", \"r\")\n",
    "lignes = fichier.readlines()\n",
    "fichier.close()\n",
    "\n",
    "temps = []\n",
    "temperature = []\n",
    "\n",
    "for ligne in lignes[1:]:\n",
    "    t, temp = ligne.strip().split(\",\")\n",
    "    temps.append(int(t))\n",
    "    temperature.append(float(temp))\n",
    "\n",
    "# Affiche les listes obtenues\n",
    "print(\"Temps :\", temps)\n",
    "print(\"Températures :\", temperature)"
   ]
  },
  {
   "cell_type": "markdown",
   "id": "2a9674bb",
   "metadata": {},
   "source": [
    "### 🔬 Exercice 3 – Visualisation"
   ]
  },
  {
   "cell_type": "code",
   "execution_count": null,
   "id": "945c93ea",
   "metadata": {},
   "outputs": [],
   "source": [
    "import matplotlib.pyplot as plt\n",
    "\n",
    "plt.plot(temps, temperature, marker='o')\n",
    "plt.title(\"Évolution de la température\")\n",
    "plt.xlabel(\"Temps (min)\")\n",
    "plt.ylabel(\"Température (°C)\")\n",
    "plt.grid()\n",
    "plt.show()"
   ]
  }
 ],
 "metadata": {},
 "nbformat": 4,
 "nbformat_minor": 5
}
