{
 "cells": [
  {
   "cell_type": "markdown",
   "id": "187a0c1f",
   "metadata": {},
   "source": [
    "# 📘 Leçon – Boucles imbriquées et mini-analyse complète de fichiers"
   ]
  },
  {
   "cell_type": "markdown",
   "id": "a6dbd35d",
   "metadata": {},
   "source": [
    "\n",
    "## 🎯 Objectifs\n",
    "À la fin de cette leçon, tu sauras :\n",
    "- utiliser des **boucles imbriquées** pour parcourir des données tabulaires,\n",
    "- lire et analyser un **fichier CSV** structuré en plusieurs colonnes,\n",
    "- extraire des statistiques à partir d’un fichier réel,\n",
    "- produire un résumé scientifique simple des données.\n"
   ]
  },
  {
   "cell_type": "markdown",
   "id": "b22aad01",
   "metadata": {},
   "source": [
    "## 🔁 1. Boucles imbriquées"
   ]
  },
  {
   "cell_type": "code",
   "execution_count": null,
   "id": "4755d623",
   "metadata": {},
   "outputs": [],
   "source": [
    "# Exemple : afficher tous les éléments d'une grille 2D\n",
    "grille = [\n",
    "    [1, 2, 3],\n",
    "    [4, 5, 6],\n",
    "    [7, 8, 9]\n",
    "]\n",
    "\n",
    "for ligne in grille:\n",
    "    for element in ligne:\n",
    "        print(element, end=' ')\n",
    "    print()"
   ]
  },
  {
   "cell_type": "markdown",
   "id": "b2b3ebf9",
   "metadata": {},
   "source": [
    "## 📄 2. Lecture et analyse de fichier CSV"
   ]
  },
  {
   "cell_type": "markdown",
   "id": "af93341a",
   "metadata": {},
   "source": [
    "\n",
    "Imaginons un fichier `resultats.csv` qui contient les concentrations mesurées pour différents échantillons et différentes substances :\n",
    "\n",
    "```\n",
    "échantillon,glucose,protéines,lipides\n",
    "1,4.5,2.1,3.0\n",
    "2,5.2,2.4,2.8\n",
    "3,3.9,1.8,3.1\n",
    "```\n"
   ]
  },
  {
   "cell_type": "code",
   "execution_count": null,
   "id": "4b969937",
   "metadata": {},
   "outputs": [],
   "source": [
    "# Lecture d’un fichier CSV\n",
    "fichier = open(\"resultats.csv\", \"r\")\n",
    "lignes = fichier.readlines()\n",
    "fichier.close()\n",
    "\n",
    "# Transformation en liste de listes numériques\n",
    "donnees = []\n",
    "\n",
    "for ligne in lignes[1:]:\n",
    "    valeurs = ligne.strip().split(\",\")[1:]  # On saute l’étiquette 'échantillon'\n",
    "    ligne_numerique = [float(v) for v in valeurs]\n",
    "    donnees.append(ligne_numerique)\n",
    "\n",
    "# Affichage\n",
    "for ligne in donnees:\n",
    "    print(ligne)"
   ]
  },
  {
   "cell_type": "markdown",
   "id": "a3c2bcde",
   "metadata": {},
   "source": [
    "## 📊 3. Calcul de moyennes pour chaque substance"
   ]
  },
  {
   "cell_type": "code",
   "execution_count": null,
   "id": "cf0d8b16",
   "metadata": {},
   "outputs": [],
   "source": [
    "# Calcul de la moyenne par substance\n",
    "nb_substances = len(donnees[0])\n",
    "somme = [0] * nb_substances\n",
    "\n",
    "for ligne in donnees:\n",
    "    for i in range(nb_substances):\n",
    "        somme[i] += ligne[i]\n",
    "\n",
    "moyennes = [total / len(donnees) for total in somme]\n",
    "print(\"Moyennes par substance :\", moyennes)"
   ]
  },
  {
   "cell_type": "markdown",
   "id": "9ee431eb",
   "metadata": {},
   "source": [
    "# ✏️ Exercices – À faire **avant le cours**"
   ]
  },
  {
   "cell_type": "markdown",
   "id": "a8d2948e",
   "metadata": {},
   "source": [
    "### 🔬 Exercice 1 – Grille de mesures"
   ]
  },
  {
   "cell_type": "code",
   "execution_count": null,
   "id": "892e8033",
   "metadata": {},
   "outputs": [],
   "source": [
    "# Crée une grille 3x3 représentant des mesures de pH\n",
    "mesures_pH = [\n",
    "    [7.0, 6.8, 7.2],\n",
    "    [7.1, 6.9, 7.0],\n",
    "    [6.7, 7.3, 7.1]\n",
    "]\n",
    "\n",
    "# Affiche chaque valeur et son écart à 7.0\n",
    "for ligne in mesures_pH:\n",
    "    for ph in ligne:\n",
    "        ecart = abs(ph - 7.0)\n",
    "        print(f\"pH: {ph}, écart: {ecart}\")"
   ]
  },
  {
   "cell_type": "markdown",
   "id": "2bc889ee",
   "metadata": {},
   "source": [
    "### 🔬 Exercice 2 – Analyse de données nutritionnelles"
   ]
  },
  {
   "cell_type": "code",
   "execution_count": null,
   "id": "c4ecf4a3",
   "metadata": {},
   "outputs": [],
   "source": [
    "# Fichier fictif: nutrition.csv\n",
    "# colonnes : aliment,glucides,lipides,protéines\n",
    "# Utilise un fichier structuré et calcule la moyenne par nutriment comme ci-dessus"
   ]
  },
  {
   "cell_type": "markdown",
   "id": "400a0b93",
   "metadata": {},
   "source": [
    "### 🔬 Exercice 3 – Moyennes conditionnelles"
   ]
  },
  {
   "cell_type": "code",
   "execution_count": null,
   "id": "759475a2",
   "metadata": {},
   "outputs": [],
   "source": [
    "# Reprendre la liste donnees, mais ne faire la moyenne que des lignes\n",
    "# où la valeur de glucose (colonne 0) est > 4.0\n",
    "\n",
    "glucoses = [ligne[0] for ligne in donnees if ligne[0] > 4.0]\n",
    "moyenne_glucose = sum(glucoses) / len(glucoses)\n",
    "print(\"Moyenne des glucoses > 4.0 :\", moyenne_glucose)"
   ]
  }
 ],
 "metadata": {},
 "nbformat": 4,
 "nbformat_minor": 5
}
