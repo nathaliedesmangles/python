{
  "cells": [
    {
      "cell_type": "markdown",
      "metadata": {},
      "source": [
        "# Atelier - Dictionnaires et graphiques en mathématiques\n",
        "## Contexte : fonction quadratique et sa dérivée\n",
        "\n",
        "Complète les cellules suivantes en suivant les indications."
      ]
    },
    {
      "cell_type": "code",
      "execution_count": null,
      "metadata": {},
      "outputs": [],
      "source": [
        "import matplotlib.pyplot as plt\n",
        "\n",
        "# 1. Crée deux dictionnaires vides : carres et derivees\n",
        "carres = {}\n",
        "derivees = {}\n",
        "\n",
        "# 2. Avec une boucle for, remplis ces dictionnaires pour x allant de -5 à 5 inclus.\n",
        "# - carres[x] = x**2\n",
        "# - derivees[x] = 2*x\n",
        "\n",
        "# Ton code ici\n",
        "\n",
        "print(\"Carrés :\", carres)\n",
        "print(\"Dérivées :\", derivees)"
      ]
    },
    {
      "cell_type": "code",
      "execution_count": null,
      "metadata": {},
      "outputs": [],
      "source": [
        "# 3. Prépare les listes de données pour tracer les graphes.\n",
        "# - Crée la liste x_vals à partir des clés de carres.\n",
        "# - Crée la liste y_carres à partir des valeurs de carres.\n",
        "# - Crée la liste y_derivees à partir des valeurs de derivees.\n",
        "\n",
        "# Ton code ici\n"
      ]
    },
    {
      "cell_type": "code",
      "execution_count": null,
      "metadata": {},
      "outputs": [],
      "source": [
        "# 4. Trace deux courbes :\n",
        "# - f(x) = x^2 (bleu)\n",
        "# - f'(x) = 2x (rouge)\n",
        "# Ajoute titre, axes, légende et grille.\n",
        "\n",
        "# Ton code ici\n"
      ]
    }
  ],
  "metadata": {
    "kernelspec": {
      "name": "python3",
      "language": "python",
      "display_name": "Python 3"
    }
  },
  "nbformat": 4,
  "nbformat_minor": 2
}