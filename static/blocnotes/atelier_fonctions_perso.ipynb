{
 "cells": [
  {
   "cell_type": "markdown",
   "metadata": {},
   "source": [
    "# Exercice – Calcul de dilution (C₁V₁ = C₂V₂)\n",
    "\n",
    "En laboratoire, vous devez préparer une solution diluée à partir d'une solution mère plus concentrée.\n",
    "\n",
    "La formule utilisée est :\n",
    "```\n",
    "C₁ × V₁ = C₂ × V₂\n",
    "```\n",
    "où :\n",
    "- `C₁` est la concentration de la solution mère (mol/L)\n",
    "- `V₁` est le volume à prélever (L)\n",
    "- `C₂` est la concentration finale souhaitée (mol/L)\n",
    "- `V₂` est le volume final de la solution diluée (L)\n",
    "\n",
    "Tu dois créer un programme structuré en plusieurs fonctions."
   ]
  },
  {
   "cell_type": "markdown",
   "metadata": {},
   "source": [
    "## Étape 1 – Lecture des données utilisateur\n",
    "Crée une fonction `lire_donnees()` qui demande à l’utilisateur :\n",
    "- la concentration `C1` (mol/L)\n",
    "- la concentration `C2` (mol/L)\n",
    "- le volume final `V2` (L)"
   ]
  },
  {
   "cell_type": "code",
   "execution_count": null,
   "metadata": {},
   "outputs": [],
   "source": [
    "def lire_donnees():\n",
    "    # À compléter"
   ]
  },
  {
   "cell_type": "markdown",
   "metadata": {},
   "source": [
    "## Étape 2 – Calcul du volume V1 à prélever\n",
    "Crée une fonction `calculer_v1(C1, C2, V2)` qui retourne `V1 = (C2 × V2) / C1`."
   ]
  },
  {
   "cell_type": "code",
   "execution_count": null,
   "metadata": {},
   "outputs": [],
   "source": [
    "def calculer_v1(C1, C2, V2):\n",
    "    # À compléter"
   ]
  },
  {
   "cell_type": "markdown",
   "metadata": {},
   "source": [
    "## Étape 3 – Affichage du résultat\n",
    "Crée une fonction `afficher_resultat(V1)` qui affiche le volume de solution mère à prélever avec deux décimales."
   ]
  },
  {
   "cell_type": "code",
   "execution_count": null,
   "metadata": {},
   "outputs": [],
   "source": [
    "def afficher_resultat(V1):\n",
    "    # À compléter"
   ]
  },
  {
   "cell_type": "markdown",
   "metadata": {},
   "source": [
    "## Étape 4 – Programme principal\n",
    "Utilise les fonctions ci-dessus pour créer le programme complet."
   ]
  },
  {
   "cell_type": "code",
   "execution_count": null,
   "metadata": {},
   "outputs": [],
   "source": [
    "# Programme principal\n",
    "print(\"--- Programme de dilution ---\")\n",
    "\n",
    "# À compléter : appeler les fonctions dans l'ordre approprié"
   ]
  }
 ],
 "metadata": {
  "kernelspec": {
   "display_name": "Python 3",
   "language": "python",
   "name": "python3"
  },
  "language_info": {
   "name": "python"
  }
 },
 "nbformat": 4,
 "nbformat_minor": 2
}
