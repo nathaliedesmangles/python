{
 "cells": [
  {
   "cell_type": "code",
   "execution_count": null,
   "id": "9b41dc4b",
   "metadata": {},
   "outputs": [],
   "source": [
    "# Étape 1 : Demander la vitesse initiale\n",
    "vitesse = float(input(\"Entrez la vitesse initiale de l'objet (en m/s) : \"))\n",
    "\n",
    "# Étape 2 : Définir une fonction pour calculer la hauteur maximale\n",
    "def hauteur_maximale(v):\n",
    "    g = 9.81\n",
    "    h = ________ / (2 * g)\n",
    "    return h\n",
    "\n",
    "# Étape 3 : Appeler la fonction et afficher la hauteur\n",
    "hmax = hauteur_maximale(vitesse)\n",
    "print(\"L’objet atteint une hauteur maximale de\", hmax, \"mètres.\")"
   ]
  }
 ],
 "metadata": {
  "language_info": {
   "name": "python"
  }
 },
 "nbformat": 4,
 "nbformat_minor": 5
}
