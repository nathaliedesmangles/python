{
 "cells": [
  {
   "cell_type": "markdown",
   "id": "36ba3516",
   "metadata": {},
   "source": [
    "# Exercices NumPy"
   ]
  },
  {
   "cell_type": "markdown",
   "id": "48d89ab5",
   "metadata": {},
   "source": [
    "### Exercice 1 : Chute libre verticale et régression linéaire\n",
    "Un objet est lâché d’une hauteur **h = 20 m** sans vitesse initiale.\n",
    "La formule de la position est :\n",
    "$$ y(t) = h - \\frac{1}{2} g t^2 $$\n",
    "avec $ g = 9.8 \\, m/s^2 $\n",
    "\n",
    "**Étapes :**\n",
    "1. Importez NumPy et Matplotlib.\n",
    "2. Définissez les constantes `g` et `h`.\n",
    "3. Créez un tableau `t` de 0 à 2 secondes avec 21 valeurs (`np.linspace(0, 2, 21)`).\n",
    "4. Calculez la position `y` avec la formule ci-dessus.\n",
    "5. Affichez les **5 premières valeurs** de `y` (`y[:5]`).\n",
    "6. Tracez le graphique de la position (`plt.plot(t, y)`).\n",
    "7. Ajoutez une **droite de régression linéaire** sur la portion `0.5 ≤ t ≤ 1.5`."
   ]
  },
  {
   "cell_type": "code",
   "execution_count": null,
   "id": "ae93a579",
   "metadata": {},
   "outputs": [],
   "source": [
    "# Votre code ici\n",
    "import numpy as np\n",
    "import matplotlib.pyplot as plt\n",
    "\n",
    "# Constantes\n",
    "# ...\n",
    "\n",
    "# Tableau t\n",
    "# ...\n",
    "\n",
    "# Position y\n",
    "# ...\n",
    "\n",
    "# Affichage\n",
    "# ...\n",
    "\n",
    "# Graphique\n",
    "# ..."
   ]
  },
  {
   "cell_type": "markdown",
   "id": "2bec87a0",
   "metadata": {},
   "source": [
    "### Exercice 2 : Mouvement rectiligne uniforme et régression linéaire\n",
    "Une voiture roule à vitesse constante **v = 15 m/s**. Sa position est donnée par :\n",
    "$$ x(t) = v \\cdot t $$\n",
    "\n",
    "**Étapes :**\n",
    "1. Définissez la vitesse constante (`v = 15`).\n",
    "2. Créez un tableau `t` allant de 0 à 10 s avec un pas de 0.5 (`np.arange(0, 10.5, 0.5)`).\n",
    "3. Calculez la position `x`.\n",
    "4. Affichez la **dernière valeur** (`x[-1]`).\n",
    "5. Tracez la position en fonction du temps.\n",
    "6. Ajoutez une **droite de régression linéaire**."
   ]
  },
  {
   "cell_type": "code",
   "execution_count": null,
   "id": "8de904b8",
   "metadata": {},
   "outputs": [],
   "source": [
    "# Votre code ici\n",
    "import numpy as np\n",
    "import matplotlib.pyplot as plt\n",
    "\n",
    "# Vitesse\n",
    "# ...\n",
    "\n",
    "# Temps\n",
    "# ...\n",
    "\n",
    "# Position\n",
    "# ...\n",
    "\n",
    "# Graphique\n",
    "# ..."
   ]
  },
  {
   "cell_type": "markdown",
   "id": "8c9ca631",
   "metadata": {},
   "source": [
    "### Exercice 3 : Énergie cinétique et barres d’erreur\n",
    "La formule de l'énergie cinétique est :\n",
    "$$ E_c = \\frac{1}{2} m v^2 $$\n",
    "\n",
    "Un objet de masse **m = 2.0 kg** accélère de 0 à 20 m/s.\n",
    "\n",
    "**Étapes :**\n",
    "1. Créez un tableau `v` de 0 à 20 avec un pas de 2 (`np.arange`).\n",
    "2. Calculez `Ec`.\n",
    "3. Affichez les énergies calculées.\n",
    "4. Vérifiez la valeur maximale avec `np.max(Ec)`.\n",
    "5. Affichez les **3 dernières valeurs** et la **sous-plage 2–8 m/s**.\n",
    "6. Tracez un **graphique à barres** avec **barres d’erreur** (±5%)."
   ]
  },
  {
   "cell_type": "code",
   "execution_count": null,
   "id": "a28075c4",
   "metadata": {},
   "outputs": [],
   "source": [
    "# Votre code ici\n",
    "import numpy as np\n",
    "import matplotlib.pyplot as plt\n",
    "\n",
    "# Masse\n",
    "# ...\n",
    "\n",
    "# Vitesses\n",
    "# ...\n",
    "\n",
    "# Énergie cinétique\n",
    "# ...\n",
    "\n",
    "# Graphique avec barres d’erreur\n",
    "# ..."
   ]
  },
  {
   "cell_type": "markdown",
   "id": "79e797e2",
   "metadata": {},
   "source": [
    "### Exercice 4 : Oscillations harmoniques\n",
    "La position d’un oscillateur est donnée par :\n",
    "$$ x(t) = A \\cos(\\omega t) $$\n",
    "\n",
    "avec $A = 0.1 \\, m$ et $\\omega = 2 \\pi \\, rad/s$\n",
    "\n",
    "**Étapes :**\n",
    "1. Créez un tableau `t` de 0 à 2 s avec 101 valeurs (`np.linspace`).\n",
    "2. Calculez `x`.\n",
    "3. Trouvez les valeurs extrêmes (`np.max`, `np.min`).\n",
    "4. Tracez le graphique de l’oscillation."
   ]
  },
  {
   "cell_type": "code",
   "execution_count": null,
   "id": "e8d0783b",
   "metadata": {},
   "outputs": [],
   "source": [
    "# Votre code ici\n",
    "import numpy as np\n",
    "import matplotlib.pyplot as plt\n",
    "\n",
    "# Constantes\n",
    "# ...\n",
    "\n",
    "# Tableau t\n",
    "# ...\n",
    "\n",
    "# Position x\n",
    "# ...\n",
    "\n",
    "# Graphique\n",
    "# ..."
   ]
  }
 ],
 "metadata": {
  "language_info": {
   "name": "python"
  }
 },
 "nbformat": 4,
 "nbformat_minor": 5
}
