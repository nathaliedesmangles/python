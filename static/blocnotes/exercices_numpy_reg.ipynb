{
 "cells": [
  {
   "cell_type": "markdown",
   "metadata": {},
   "source": [
    "# Exercices – NumPy, régression linéaire et barres d’erreur"
   ]
  },
  {
   "cell_type": "markdown",
   "metadata": {},
   "source": [
    "## Exercice 1 : Chute libre verticale et régression linéaire\n",
    "\n",
    "**Contexte :** Un objet est lâché d’une hauteur de 20 m sans vitesse initiale.  \n",
    "On mesure sa position $y$ en fonction du temps $t$. La loi théorique est :\n",
    "\n",
    "$$ y(t) = h - \\frac{1}{2} g t^2 $$\n",
    "\n",
    "où $g = 9.81$ m/s².  \n",
    "\n",
    "**Objectif :** Vérifier expérimentalement la relation entre $y$ et $t^2$ à l’aide d’une **régression linéaire**.\n",
    "\n",
    "---"
   ]
  },
  {
   "cell_type": "code",
   "execution_count": null,
   "metadata": {},
   "outputs": [],
   "source": [
    "# Importer les bibliothèques nécessaires\n",
    "import numpy as np\n",
    "import matplotlib.pyplot as plt\n",
    "\n",
    "# Données expérimentales (temps en secondes, hauteur en mètres)\n",
    "t = np.array([0.0, 0.5, 0.7, 1.0, 1.2, 1.4])\n",
    "y = np.array([20.0, 18.8, 17.5, 15.0, 12.8, 10.1])\n",
    "\n",
    "# Étape 1 : Calculer t²\n",
    "# (à compléter)\n",
    "\n",
    "# Étape 2 : Effectuer la régression linéaire y = a * t² + b\n",
    "# (utiliser np.polyfit)\n",
    "\n",
    "# Étape 3 : Tracer les points expérimentaux et la droite ajustée\n",
    "# (utiliser plt.scatter pour les points et plt.plot pour la droite)\n",
    "\n",
    "# Ajouter les titres et labels\n",
    "plt.title(\"Chute libre : y en fonction de t²\")\n",
    "plt.xlabel(\"t² (s²)\")\n",
    "plt.ylabel(\"y (m)\")\n",
    "plt.grid(True)\n",
    "plt.show()"
   ]
  },
  {
   "cell_type": "markdown",
   "metadata": {},
   "source": [
    "## Exercice 2 : Mouvement rectiligne uniforme et régression linéaire\n",
    "\n",
    "**Contexte :** Un chariot se déplace à vitesse constante sur une piste horizontale.  \n",
    "On mesure la position $x$ à différents temps $t$.\n",
    "\n",
    "**Objectif :** Déterminer la vitesse moyenne $v$ à partir de la pente de la droite $x = v t + x_0$.\n",
    "\n",
    "---"
   ]
  },
  {
   "cell_type": "code",
   "execution_count": null,
   "metadata": {},
   "outputs": [],
   "source": [
    "# Données expérimentales\n",
    "t = np.array([0, 1, 2, 3, 4, 5])  # secondes\n",
    "x = np.array([0.0, 1.8, 3.9, 5.8, 7.9, 9.7])  # mètres\n",
    "\n",
    "# Étape 1 : Régression linéaire x = a * t + b\n",
    "# (à compléter)\n",
    "\n",
    "# Étape 2 : Tracer les points et la droite de régression\n",
    "# (utiliser plt.scatter et plt.plot)\n",
    "\n",
    "plt.title(\"Mouvement rectiligne uniforme\")\n",
    "plt.xlabel(\"Temps (s)\")\n",
    "plt.ylabel(\"Position (m)\")\n",
    "plt.grid(True)\n",
    "plt.show()"
   ]
  },
  {
   "cell_type": "markdown",
   "metadata": {},
   "source": [
    "---\n",
    "## Exercice 3 : Énergie cinétique et barres d’erreur\n",
    "\n",
    "**Contexte :** On mesure la vitesse de billes de masses identiques avec une incertitude expérimentale.\n",
    "\n",
    "La formule de l’énergie cinétique est :\n",
    "$$ E_c = \\frac{1}{2} m v^2 $$\n",
    "\n",
    "**Objectif :** Calculer l’énergie cinétique moyenne et représenter les barres d’erreur correspondant à l’incertitude sur la vitesse.\n",
    "\n",
    "---"
   ]
  },
  {
   "cell_type": "code",
   "execution_count": null,
   "metadata": {},
   "outputs": [],
   "source": [
    "# Données expérimentales\n",
    "m = 0.05  # masse (kg)\n",
    "vitesses = np.array([1.8, 2.0, 2.2, 2.5, 2.7])\n",
    "incert_v = np.array([0.1, 0.1, 0.1, 0.1, 0.1])  # incertitudes sur v\n",
    "\n",
    "# Étape 1 : Calculer l'énergie cinétique pour chaque vitesse\n",
    "# (à compléter)\n",
    "\n",
    "# Étape 2 : Calculer l’incertitude sur E_c à partir de la propagation des erreurs\n",
    "# dE = m * v * dv\n",
    "# (à compléter)\n",
    "\n",
    "# Étape 3 : Tracer un graphique à barres avec barres d’erreur\n",
    "# (utiliser plt.bar avec yerr=...)\n",
    "\n",
    "plt.title(\"Énergie cinétique avec barres d’erreur\")\n",
    "plt.xlabel(\"Essai\")\n",
    "plt.ylabel(\"Énergie cinétique (J)\")\n",
    "plt.grid(True, axis='y')\n",
    "plt.show()"
   ]
  },
  {
   "cell_type": "markdown",
   "metadata": {},
   "source": [
    "---\n",
    "## Exercice 4 : Oscillations harmoniques\n",
    "\n",
    "**Contexte :** Un pendule oscille autour de sa position d’équilibre selon la loi :\n",
    "\n",
    "$$ y(t) = A \\cos(\\omega t + \\phi) $$\n",
    "\n",
    "où $A$ est l’amplitude et $\\omega = 2\\pi f$ la pulsation.\n",
    "\n",
    "**Objectif :** Visualiser le mouvement et observer la périodicité.\n",
    "\n",
    "---"
   ]
  },
  {
   "cell_type": "code",
   "execution_count": null,
   "metadata": {},
   "outputs": [],
   "source": [
    "# Étape 1 : Créer un tableau de temps entre 0 et 4 secondes (100 points)\n",
    "# (à compléter)\n",
    "\n",
    "# Étape 2 : Définir les constantes\n",
    "A = 0.10  # amplitude (m)\n",
    "f = 1.0   # fréquence (Hz)\n",
    "phi = 0   # phase initiale (rad)\n",
    "\n",
    "# Étape 3 : Calculer y(t)\n",
    "# (utiliser np.cos et np.pi)\n",
    "\n",
    "# Étape 4 : Tracer y(t)\n",
    "\n",
    "plt.title(\"Oscillations harmoniques\")\n",
    "plt.xlabel(\"Temps (s)\")\n",
    "plt.ylabel(\"Position (m)\")\n",
    "plt.grid(True)\n",
    "plt.show()"
   ]
  }
 ],
 "metadata": {
  "kernelspec": {
   "display_name": "Python 3",
   "language": "python",
   "name": "python3"
  },
  "language_info": {
   "name": "python",
   "version": "3.x"
  }
 },
 "nbformat": 4,
 "nbformat_minor": 5
}
