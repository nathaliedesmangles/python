{
 "cells": [
  {
   "cell_type": "code",
   "execution_count": 1,
   "metadata": {},
   "outputs": [],
   "source": [
    "# Utilisez Exécuter tout..\n",
    "import numpy as np  # importé pour toutes les cellules"
   ]
  },
  {
   "cell_type": "markdown",
   "metadata": {},
   "source": [
    "## Exercice 1 – Solubilité d’un sel"
   ]
  },
  {
   "cell_type": "code",
   "execution_count": 2,
   "id": "512d5f82",
   "metadata": {},
   "outputs": [],
   "source": [
    "# 1. Afficher le tableau sol pour visualiser les valeurs de solubilité (remarque : une valeur est manquante et représentée par np.nan).\n",
    "# 2. Calculer la moyenne des solubilités en ignorant la valeur manquante.\n",
    "# 3. Cherche dans NumPy une fonction qui calcule la moyenne en excluant les NaN.\n",
    "# Calculer l’écart type des valeurs (toujours en ignorant NaN).\n",
    "# Arrondis le résultat à 2 décimales avec round().\n",
    "# Affiche ton résultat sous la forme : Écart type : valeur.\n",
    "\n",
    "sol = np.array([32.0, 35.5, np.nan, 37.2, 39.0])"
   ]
  },
  {
   "cell_type": "markdown",
   "metadata": {},
   "source": [
    "## Exercice 2 – Températures journalières"
   ]
  },
  {
   "cell_type": "code",
   "execution_count": 3,
   "id": "5e785b97",
   "metadata": {},
   "outputs": [],
   "source": [
    "# 1. Quelle est la forme (shape) de ce tableau ?\n",
    "# Combien y a-t-il de lignes et de colonnes ? Que représentent-elles ?\n",
    "# 2. Calcule la température moyenne quotidienne pour chaque jour. (Indice : tu peux utiliser np.mean(..., axis=1))\n",
    "# 3. Calcule la température moyenne du matin (1ʳᵉ colonne du tableau).\n",
    "# Attention : il y a une donnée manquante (np.nan). Comment peux-tu l’ignorer dans ton calcul ? (Indice : utilise np.nanmean(...) sur la colonne du matin)\n",
    "\n",
    "temperatures = np.array([\n",
    "    [12.1, 17.3, 14.2],  # Jour 1\n",
    "    [11.8, 16.9, 13.9],  # Jour 2\n",
    "    [13.0, 18.1, 15.0],  # Jour 3\n",
    "    [12.5, 17.5, 14.7],  # Jour 4\n",
    "    [np.nan, 16.0, 14.0],# Jour 5 (valeur manquante le matin)\n",
    "    [13.2, 18.0, 15.2],  # Jour 6\n",
    "    [12.0, 17.0, 14.5]   # Jour 7\n",
    "])\n",
    "\n"
   ]
  },
  {
   "cell_type": "markdown",
   "metadata": {},
   "source": [
    "## Exercice 3 – Analyse d’ADN"
   ]
  },
  {
   "cell_type": "code",
   "execution_count": 4,
   "metadata": {},
   "outputs": [],
   "source": [
    "# 1. Profil combiné : additionne directement les deux tableaux ech1 et ech2 pour obtenir un nouveau tableau qui représente la somme des intensités fragment par fragment.\n",
    "# Indice : tu peux utiliser l’opérateur + avec des tableaux NumPy.\n",
    "# 2. Différences entre échantillons : calcule la différence ech1 - ech2.\n",
    "# Indice : fais attention à l’ordre, car ech1 - ech2 n’est pas la même chose que ech2 - ech1.\n",
    "# 3. Calcule la moyenne de chaque échantillon (np.mean).\n",
    "# Calcule l’écart type de chaque échantillon (np.std).\n",
    "# Arrondis les résultats à 2 décimales (round(..., 2)).\n",
    "\n",
    "ech1 = np.array([3.2, 2.8, 4.1, 3.9, 2.5])\n",
    "ech2 = np.array([2.9, 3.0, 4.2, 4.0, 2.7])"
   ]
  },
  {
   "cell_type": "markdown",
   "metadata": {},
   "source": [
    "## Exercice 4 – Pressions dans un cylindr"
   ]
  },
  {
   "cell_type": "code",
   "execution_count": 5,
   "metadata": {},
   "outputs": [],
   "source": [
    "# 1. Affichage des données\n",
    "# Affiche le tableau des hauteurs en cm.\n",
    "# Affiche le tableau des pressions en kPa.\n",
    "# 2. Variation de pression\n",
    "# Calcule la différence de pression entre deux hauteurs consécutives (chaque 10 cm).\n",
    "# Affiche le tableau des variations obtenues.\n",
    "# 3. Moyenne de la pression\n",
    "# Calcule la moyenne des valeurs de pression.\n",
    "# Affiche-la avec 2 chiffres après la virgule.\n",
    "# 4. Graphique avec régression linéaire\n",
    "# Trace un nuage de points (plt.scatter()) représentant la pression en fonction de la hauteur.\n",
    "# Ajoute la droite de régression linéaire sur le même graphique.\n",
    "# Mets un titre et des étiquettes aux axes (plt.xlabel, plt.ylabel).\n",
    "\n",
    "\n",
    "hauteur = np.linspace(0, 50, 6)  # [0, 10, 20, 30, 40, 50]\n",
    "pression = np.array([101.3, 100.0, 98.7, 97.5, 96.2, 95.0])"
   ]
  },
  {
   "cell_type": "markdown",
   "metadata": {},
   "source": [
    "## Exercice 5 – Croissance d’une plante"
   ]
  },
  {
   "cell_type": "code",
   "execution_count": 6,
   "id": "bda163c0",
   "metadata": {},
   "outputs": [],
   "source": [
    "# 1. Créer un tableau NumPy qui contient la taille de la plante chaque jour pendant 10 jours (jour 0 à jour 9).\n",
    "# Indice : utilise np.arange() ou construis le tableau à partir d’une liste.\n",
    "# 2. Afficher ce tableau pour vérifier qu’il correspond à la croissance sans engrais.\n",
    "# 3. Créer un deuxième tableau où tu ajoutes +1 cm à chaque valeur du premier tableau (effet de l’engrais).\n",
    "# 4. Calculer la moyenne des tailles de la plante :\n",
    "# une fois sans engrais,\n",
    "# une fois avec engrais.\n",
    "# Indice : utilise la fonction np.mean().\n",
    "\n"
   ]
  }
 ],
 "metadata": {
  "kernelspec": {
   "display_name": "Python 3",
   "language": "python",
   "name": "python3"
  },
  "language_info": {
   "codemirror_mode": {
    "name": "ipython",
    "version": 3
   },
   "file_extension": ".py",
   "mimetype": "text/x-python",
   "name": "python",
   "nbconvert_exporter": "python",
   "pygments_lexer": "ipython3",
   "version": "3.13.5"
  }
 },
 "nbformat": 4,
 "nbformat_minor": 5
}
