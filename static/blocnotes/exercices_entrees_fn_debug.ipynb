{
 "cells": [
  {
   "cell_type": "code",
   "execution_count": null,
   "id": "5d981669",
   "metadata": {},
   "outputs": [],
   "source": [
    "## Exercice 1 : La loi d’Ohm\n",
    "\n",
    "# Étape 1 : Demander la résistance à l'utilisateur (en ohms)\n",
    "\n",
    "\n",
    "# Étape 2 : Demander le courant à l'utilisateur (en ampères)\n",
    "\n",
    "\n",
    "# Étape 3 : Calculer la tension à l'aide de la formule U = R * I\n",
    "\n",
    "\n",
    "# Étape 4 : Afficher le résultat\n"
   ]
  },
  {
   "cell_type": "code",
   "execution_count": null,
   "id": "b6b5de6c",
   "metadata": {},
   "outputs": [],
   "source": [
    "## Exercice 2 : Élément chimique\n",
    "\n",
    "# Demander à l'utilisateur d'entrer le nom d’un élément chimique\n",
    "\n",
    "\n",
    "# Afficher le message avec l’élément choisi\n"
   ]
  },
  {
   "cell_type": "code",
   "execution_count": null,
   "id": "8e7c3408",
   "metadata": {},
   "outputs": [],
   "source": [
    "## Exercice 3 : Convertir Celsius en Kelvin\n",
    "\n",
    "# Définition de la fonction\n",
    "def convertir_C_en_K(celsius):\n",
    "   \n",
    "\n",
    "# Affichage et appel de la fonction"
   ]
  },
  {
   "cell_type": "code",
   "execution_count": null,
   "id": "21d2c312",
   "metadata": {},
   "outputs": [],
   "source": [
    "## Exercice 4 : Calculer une énergie cinétique\n",
    "\n",
    "# Définition de la fonction\n",
    "def energie_cinetique(m, v):\n",
    "\n",
    "\n",
    "# Affichage et appel de la fonction\n"
   ]
  },
  {
   "cell_type": "code",
   "execution_count": null,
   "id": "830119f7",
   "metadata": {},
   "outputs": [],
   "source": [
    "## Exercice 5 : Aire d’un cercle\n",
    "\n",
    "import math\n",
    "\n",
    "def aire_cercle():\n",
    "\n",
    "\n",
    "# Appel de la fonction\n"
   ]
  },
  {
   "cell_type": "code",
   "execution_count": null,
   "id": "097a6758",
   "metadata": {},
   "outputs": [],
   "source": [
    "## Exercice 6 : Vérifier la portée locale\n",
    "\n",
    "def tester_variable():\n",
    "    \n",
    "\n",
    "# Appel de la fonction\n",
    "\n"
   ]
  }
 ],
 "metadata": {
  "language_info": {
   "name": "python"
  }
 },
 "nbformat": 4,
 "nbformat_minor": 5
}
