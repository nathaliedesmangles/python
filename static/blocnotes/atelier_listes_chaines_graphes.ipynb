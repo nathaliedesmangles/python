{
 "cells": [
  {
   "cell_type": "code",
   "execution_count": null,
   "id": "1524f3f7",
   "metadata": {},
   "outputs": [],
   "source": [
    "# Exercice\n",
    "#1. Extraction et nettoyage des données\n",
    "#2. Calculs sur les données\n",
    "#3. Visualisation avec matplotlib\n",
    "#4. Exploration des chaînes de caractères\n",
    "\n",
    "donnees = [\n",
    "    \"12.3, 16.8, 14.0\",  # jour 1 : matin, midi, soir\n",
    "    \"11.5, 18.2, 15.4\",\n",
    "    \"10.8, 17.6, 14.9\",\n",
    "    \"13.0, 19.1, 16.3\",\n",
    "    \"14.1, 20.2, 18.5\",\n",
    "    \"12.9, 18.7, 16.2\",\n",
    "    \"11.7, 17.8, 15.0\"\n",
    "]"
   ]
  }
 ],
 "metadata": {
  "language_info": {
   "name": "python"
  }
 },
 "nbformat": 4,
 "nbformat_minor": 5
}
