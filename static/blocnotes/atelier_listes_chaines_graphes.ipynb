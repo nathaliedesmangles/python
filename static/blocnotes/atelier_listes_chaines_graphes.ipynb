{
 "cells": [
  {
   "cell_type": "code",
   "execution_count": null,
   "id": "b2b9c880",
   "metadata": {},
   "outputs": [],
   "source": [
    "import matplotlib.pyplot as plt\n",
    "\n",
    "# Données\n",
    "temperatures = [\n",
    "    [],  # Ville A\n",
    "    [],  # Ville B\n",
    "    [],         # Ville C\n",
    "    []   # Ville D\n",
    "]\n",
    "\n",
    "villes = []\n",
    "jours = []\n",
    "\n",
    "# 1. Affichage des températures\n",
    "\n",
    "# 2. Min et max\n",
    "\n",
    "# 3. Classification des températures\n",
    "\n",
    "# 4. Graphique\n"
   ]
  }
 ],
 "metadata": {
  "kernelspec": {
   "display_name": "Python 3",
   "language": "python",
   "name": "python3"
  },
  "language_info": {
   "codemirror_mode": {
    "name": "ipython",
    "version": 3
   },
   "file_extension": ".py",
   "mimetype": "text/x-python",
   "name": "python",
   "nbconvert_exporter": "python",
   "pygments_lexer": "ipython3",
   "version": "3.13.5"
  }
 },
 "nbformat": 4,
 "nbformat_minor": 5
}
