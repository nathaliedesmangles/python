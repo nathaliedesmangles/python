{
  "cells": [
    {
      "cell_type": "markdown",
      "metadata": {},
      "source": [
        "# Atelier - Dictionnaires et graphiques en physique\n",
        "## Contexte : chute libre sans frottement\n",
        "\n",
        "Complète les cellules suivantes en suivant les indications. Ne regarde pas directement les solutions : le but est de pratiquer !"
      ]
    },
    {
      "cell_type": "code",
      "execution_count": null,
      "metadata": {},
      "outputs": [],
      "source": [
        "import matplotlib.pyplot as plt\n",
        "\n",
        "# Constante gravitationnelle\n",
        "g = 9.8  \n",
        "\n",
        "# 1. Crée deux dictionnaires vides : vitesses et positions\n",
        "vitesses = {}\n",
        "positions = {}\n",
        "\n",
        "# 2. Avec une boucle for, remplis ces dictionnaires pour les temps t = 0 à 5 inclus.\n",
        "# - vitesse = g * t\n",
        "# - position = 0.5 * g * (t**2)\n",
        "\n",
        "# Ton code ici\n",
        "\n",
        "print(\"Vitesses :\", vitesses)\n",
        "print(\"Positions :\", positions)"
      ]
    },
    {
      "cell_type": "code",
      "execution_count": null,
      "metadata": {},
      "outputs": [],
      "source": [
        "# 3. Prépare les listes de données pour tracer les graphes.\n",
        "# - Crée la liste temps à partir des clés de vitesses.\n",
        "# - Crée la liste valeurs_v à partir des valeurs de vitesses.\n",
        "# - Crée la liste valeurs_y à partir des valeurs de positions.\n",
        "\n",
        "# Ton code ici\n"
      ]
    },
    {
      "cell_type": "code",
      "execution_count": null,
      "metadata": {},
      "outputs": [],
      "source": [
        "# 4. Trace deux courbes :\n",
        "# - vitesse en fonction du temps (rouge)\n",
        "# - position en fonction du temps (bleu)\n",
        "# Ajoute titre, axes, légende et grille.\n",
        "\n",
        "# Ton code ici\n"
      ]
    }
  ],
  "metadata": {
    "kernelspec": {
      "name": "python3",
      "language": "python",
      "display_name": "Python 3"
    }
  },
  "nbformat": 4,
  "nbformat_minor": 2
}