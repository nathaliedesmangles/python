{
 "cells": [
  {
   "cell_type": "markdown",
   "metadata": {},
   "source": [
    "# Atelier: Effet de la lumière sur la croissance des plantes"
   ]
  },
  {
   "cell_type": "code",
   "execution_count": null,
   "metadata": {},
   "outputs": [],
   "source": [
    "import numpy as np\n",
    "import matplotlib.pyplot as plt\n",
    "\n",
    "# Données avec valeurs manquantes\n",
    "hauteurs = np.array([\n",
    "    [12.5, 13.1, 12.9, 13.0, 12.8],\n",
    "    [11.2, 11.6, np.nan, 11.5, 11.3],\n",
    "    [10.4, 10.1, 10.2, np.nan, np.nan]\n",
    "])\n",
    "conditions = [\"Naturelle\", \"LED blanche\", \"LED rouge\"]\n",
    "\n"
   ]
  }
 ],
 "metadata": {
  "kernelspec": {
   "display_name": "Python 3",
   "language": "python",
   "name": "python3"
  },
  "language_info": {
   "name": "python",
   "version": ""
  }
 },
 "nbformat": 4,
 "nbformat_minor": 2
}
