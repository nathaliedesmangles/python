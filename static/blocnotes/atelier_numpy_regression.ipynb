{
 "cells": [
  {
   "cell_type": "markdown",
   "metadata": {},
   "source": [
    "## Atelier"
   ]
  },
  {
   "cell_type": "markdown",
   "metadata": {},
   "source": [
    "### Exercice 1 : Effet de la lumière sur la croissance des plantes"
   ]
  },
  {
   "cell_type": "code",
   "execution_count": null,
   "metadata": {},
   "outputs": [],
   "source": [
    "import numpy as np\n",
    "import matplotlib.pyplot as plt\n",
    "\n",
    "# Données avec valeurs manquantes\n",
    "hauteurs = np.array([\n",
    "    [12.5, 13.1, 12.9, 13.0, 12.8],\n",
    "    [11.2, 11.6, np.nan, 11.5, 11.3],\n",
    "    [10.4, 10.1, 10.2, np.nan, np.nan]\n",
    "])\n",
    "conditions = [\"Naturelle\", \"LED blanche\", \"LED rouge\"]\n",
    "\n"
   ]
  },
  {
   "cell_type": "markdown",
   "metadata": {},
   "source": [
    "### Exercice 2 : distance parcourue par un chariot en fonction du temps\n",
    "\n",
    "On mesure la distance parcourue par un chariot en fonction du temps.\n",
    "\n",
    "| Temps (s) | Distance (m) |\n",
    "| --------: | -----------: |\n",
    "|         0 |            0 |\n",
    "|         1 |          0.9 |\n",
    "|         2 |          1.8 |\n",
    "|         3 |          2.9 |\n",
    "|         4 |          4.1 |\n"
   ]
  },
  {
   "cell_type": "code",
   "execution_count": null,
   "metadata": {},
   "outputs": [],
   "source": [
    "# Données expérimentales\n",
    "temps = np.array()\n",
    "distance = np.array()\n",
    "\n",
    "# Régression linéaire (degré 1 = droite)\n",
    "a, b = \n",
    "\n",
    "# Calcul des valeurs prédites par la droite (y = ax + b)\n",
    "\n",
    "\n",
    "# Calcul du coefficient de détermination R^2\n",
    "\n",
    "# Tracé du graphique\n",
    "# 1. plt.scatter() --> Nuage de points\n",
    "# 2. plt.plot()  --> droite de régression"
   ]
  }
 ],
 "metadata": {
  "kernelspec": {
   "display_name": "Python 3",
   "language": "python",
   "name": "python3"
  },
  "language_info": {
   "name": "python",
   "version": ""
  }
 },
 "nbformat": 4,
 "nbformat_minor": 2
}
