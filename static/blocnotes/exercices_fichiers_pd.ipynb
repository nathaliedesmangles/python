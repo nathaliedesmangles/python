{
 "cells": [
  {
   "cell_type": "markdown",
   "metadata": {},
   "source": [
    "# Exercices sur la lecture et l'écriture de fichiers avec Pandas"
   ]
  },
  {
   "cell_type": "markdown",
   "metadata": {},
   "source": [
    "## Exercice 3\n",
    "1. Téléchargez un fichier `etudiants.csv` contenant les colonnes : `Nom,Âge,Note`.\n",
    "2. Lisez-le dans un DataFrame `df_etudiants`.\n",
    "3. Affichez les 3 premières lignes.\n",
    "4. Affichez le résumé statistique des notes."
   ]
  },
  {
   "cell_type": "code",
   "execution_count": null,
   "metadata": {},
   "outputs": [],
   "source": [
    "import pandas as pd\n",
    "\n",
    "# 1. Lire le fichier CSV\n",
    "# TODO : df_etudiants = pd.read_csv('etudiants.csv')\n",
    "\n",
    "# 2. Afficher les 3 premières lignes\n",
    "# TODO : df_etudiants.head(3)\n",
    "\n",
    "# 3. Résumé statistique des notes\n",
    "# TODO : df_etudiants['Note'].describe()\n"
   ]
  },
  {
   "cell_type": "markdown",
   "metadata": {},
   "source": [
    "## Exercice 4\n",
    "1. Ajoutez une colonne `Mention` au DataFrame en fonction de la note :\n",
    "   * `>= 70` → \"Bien\"\n",
    "   * `>= 50` → \"Passable\"\n",
    "   * `< 50` → \"Échec\"\n",
    "2. Enregistrez le DataFrame dans un fichier `etudiants_mentions.csv`."
   ]
  },
  {
   "cell_type": "code",
   "execution_count": null,
   "metadata": {},
   "outputs": [],
   "source": [
    "# TODO : ajouter la colonne Mention avec conditions (np.where)\n",
    "# TODO : enregistrer le fichier CSV avec df_etudiants.to_csv(...)\n"
   ]
  },
  {
   "cell_type": "markdown",
   "metadata": {},
   "source": [
    "## Exercice 5\n",
    "1. Ouvrez un fichier `experience.txt` séparé par des tabulations avec colonnes : `Température`, `Pression`, `Volume`.\n",
    "2. Lisez-le dans un DataFrame.\n",
    "3. Enregistrez-le sous `experience_export.txt` en conservant les tabulations."
   ]
  },
  {
   "cell_type": "code",
   "execution_count": null,
   "metadata": {},
   "outputs": [],
   "source": [
    "# TODO : df = pd.read_csv(..., sep='\\t')\n",
    "# TODO : df.to_csv('experience_export.txt', sep='\\t', index=False)\n"
   ]
  },
  {
   "cell_type": "markdown",
   "id": "84db167e",
   "metadata": {},
   "source": [
    "## Exercice 6\n",
    "1. Lire le fichier CSV\n",
    "2. Afficher la 5e ligne complète\n",
    "3. Afficher uniquement la colonne Hauteur_cm\n",
    "4. Afficher les 3 premières plantes et les 2 premières colonnes"
   ]
  },
  {
   "cell_type": "code",
   "execution_count": null,
   "id": "49d787fc",
   "metadata": {},
   "outputs": [],
   "source": [
    "import pandas as pd\n",
    "\n",
    "# 1. Lire le fichier CSV\n",
    "plantes = pd.read_csv(...) # TODO : À compléter\n",
    "\n",
    "# 2. Afficher la 5e ligne complète\n",
    "print(\"5e ligne complète :\")\n",
    "# TODO : À compléter\n",
    "print(...)\n",
    "\n",
    "# 3. Afficher uniquement la colonne Hauteur_cm\n",
    "print(\"Colonne Hauteur_cm :\")\n",
    "# TODO : À compléter\n",
    "print(... )\n",
    "\n",
    "# 4. Afficher les 3 premières plantes et les 2 premières colonnes\n",
    "print(\"3 premières plantes, 2 premières colonnes :\")\n",
    "# TODO : À compléter\n",
    "print(... )\n"
   ]
  },
  {
   "cell_type": "markdown",
   "id": "5fbf5488",
   "metadata": {},
   "source": [
    "## Exercice 7\n",
    "1. Lire le fichier solutions.csv.\n",
    "2. Convertir les deux colonnes en tableaux NumPy.\n",
    "3. Calculer la moyenne et l’écart-type de la concentration.\n",
    "4. Tracer le graphique Temp_C vs Concentration_mol_L."
   ]
  },
  {
   "cell_type": "code",
   "execution_count": null,
   "id": "c2eaf8b9",
   "metadata": {},
   "outputs": [],
   "source": [
    "import pandas as pd\n",
    "import numpy as np\n",
    "import matplotlib.pyplot as plt\n",
    "\n",
    "# 1. Lecture du fichier\n",
    "solutions = pd.read_csv(\"solutions.csv\")\n",
    "\n",
    "# 2. Conversion en tableaux NumPy\n",
    "T = ... # TODO\n",
    "C = ... # TODO\n",
    "\n",
    "# 3. Calculs statistiques\n",
    "moyenne = ... # TODO\n",
    "ecart_type = ... # TODO\n",
    "\n",
    "print(\"Concentration moyenne :\", moyenne)\n",
    "print(\"Écart-type :\", ecart_type)\n",
    "\n",
    "# 4. Graphique\n",
    "# TODO : À compléter\n",
    "plt.plot(..., ..., \"o-\", label=\"Données\")\n",
    "plt.xlabel(\"Température (°C)\")\n",
    "plt.ylabel(\"Concentration (mol/L)\")\n",
    "plt.title(\"Variation de la concentration avec la température\")\n",
    "plt.legend()\n",
    "plt.show()\n"
   ]
  },
  {
   "cell_type": "markdown",
   "id": "c7f21ccc",
   "metadata": {},
   "source": [
    "## Exercice 8\n",
    "1. Lire le fichier minéraux.csv.\n",
    "2. Parcourir le tableau avec .iterrows().\n",
    " - Si la densité < 3, ajoute \"léger\" dans la liste, sinon \"lourd\".\n",
    "3. Ajoute cette liste comme nouvelle colonne Catégorie et affiche le DataFrame final."
   ]
  },
  {
   "cell_type": "code",
   "execution_count": null,
   "id": "3fe982bc",
   "metadata": {},
   "outputs": [],
   "source": [
    "import pandas as pd\n",
    "\n",
    "# 1. Lecture du fichier\n",
    "mineraux = pd.read_csv(\"minéraux.csv\")\n",
    "\n",
    "# 2. Liste vide pour les catégories\n",
    "categories = []\n",
    "\n",
    "# 3. Parcours du DataFrame\n",
    "# TODO : à compléter\n",
    "for index, ligne in mineraux.iterrows():\n",
    "    if ...: # TODO : à compléter\n",
    "        categories.append(\"léger\")\n",
    "    else:\n",
    "        ...  # TODO : à compléter\n",
    "\n",
    "# 4. Ajout de la nouvelle colonne\n",
    "mineraux[\"Catégorie\"] = ... # TODO : à compléter\n",
    "\n",
    "# 5. Affiche le tableau final\n",
    "print(mineraux)\n"
   ]
  }
 ],
 "metadata": {
  "kernelspec": {
   "display_name": "Python 3",
   "language": "python",
   "name": "python3"
  },
  "language_info": {
   "name": "python",
   "version": "3.13.5"
  }
 },
 "nbformat": 4,
 "nbformat_minor": 5
}
