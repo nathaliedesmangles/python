{
 "cells": [
  {
   "cell_type": "markdown",
   "metadata": {},
   "source": [
    "# Semaine 9 : Manipulation de données expérimentales avec Python\n",
    "\n",
    "## Objectifs de la leçon\n",
    "\n",
    "Apprendre à :\n",
    "- Lire un fichier CSV contenant des données expérimentales.\n",
    "- Nettoyer et sauvegarder un nouveau fichier corrigé.\n",
    "- Manipuler un DataFrame Pandas (sélection, ajout, statistiques).\n",
    "- Transformer les colonnes en tableaux NumPy pour des calculs scientifiques.\n",
    "- Visualiser les données sous forme de nuage de points.\n"
   ]
  },
  {
   "cell_type": "markdown",
   "metadata": {},
   "source": [
    "## Lecture d’un fichier CSV avec `pandas.read_csv()`\n",
    "\n",
    "On importe d'abord la bibliothèque **pandas**, puis on lit un fichier CSV.  \n",
    "Les fichiers CSV européens utilisent souvent la **virgule comme séparateur** et la **virgule comme décimale**.\n",
    "\n",
    "Pour les lire correctement :\n",
    "- `delimiter` ou `sep` → définit le séparateur (`;` ou `,`)\n",
    "- `decimal` → définit le symbole décimal (`','` ou `'.'`)\n",
    "\n",
    "Exemple avec un petit jeu de données appelé `mesures.csv` :\n",
    "NB: Le fichier doit se trouver dans le même dossier que le fichier .ipynb et ce dernier doit être ouvert via VS Code (Fichier > Ouvrir > Dossier_contenant_les_deux_fichiers)"
   ]
  },
  {
   "cell_type": "code",
   "execution_count": null,
   "metadata": {},
   "outputs": [],
   "source": [
    "import pandas as pd\n",
    "\n",
    "# Lecture du fichier CSV avec des paramètres adaptés\n",
    "df = pd.read_csv(\"mesures.csv\", delimiter=\";\", decimal=\",\", encoding=\"utf-8\")\n",
    "\n",
    "# Affichage du DataFrame (NaN pour les valeurs manquantes)\n",
    "#df\n",
    "\n",
    "# Affichage des 5 premières lignes\n",
    "#df.head()\n",
    "\n",
    "# Affichage des 5 dernières lignes\n",
    "#df.tail()\n",
    "\n",
    "# Identification des valeurs manquantes\n",
    "# df.isna()"
   ]
  },
  {
   "cell_type": "markdown",
   "metadata": {},
   "source": [
    "## Exportation du fichier corrigé avec `to_csv()`\n",
    "\n",
    "On peut sauvegarder un **nouveau fichier nettoyé ou corrigé** (par exemple, après conversion ou suppression de lignes invalides)."
   ]
  },
  {
   "cell_type": "code",
   "execution_count": null,
   "metadata": {},
   "outputs": [],
   "source": [
    "# Suppression des lignes contenant des valeurs manquantes\n",
    "# df_corrige = df.dropna()\n",
    "\n",
    "# OU\n",
    "\n",
    "# Remplacement des valeurs manquantes par la moyenne de Solubilité\n",
    "moyenne = df[\"v\"].mean()\n",
    "df_corrige = df.fillna(moyenne)\n",
    "\n",
    "# Exportation du fichier nettoyé\n",
    "df_corrige.to_csv(\"mesures_corrigees.csv\", index=False)\n",
    "print(\"Fichier nettoyé enregistré sous 'mesures_corrigees.csv'\")"
   ]
  },
  {
   "cell_type": "markdown",
   "metadata": {},
   "source": [
    "## Manipulation de DataFrames (Pandas)\n",
    "\n",
    "### Sélection d’une colonne\n",
    "On peut accéder à une colonne du DataFrame à l’aide des crochets : `df[\"nom_colonne\"]`"
   ]
  },
  {
   "cell_type": "code",
   "execution_count": null,
   "metadata": {},
   "outputs": [],
   "source": [
    "# Sélection de colonnes\n",
    "x = df_corrige[\"x\"]\n",
    "v = df_corrige[\"v\"]\n",
    "\n",
    "print(x.head())\n",
    "print(v.head())"
   ]
  },
  {
   "cell_type": "markdown",
   "metadata": {},
   "source": [
    "### Création d’une nouvelle colonne\n",
    "On peut créer une nouvelle colonne à partir d’un calcul simple :"
   ]
  },
  {
   "cell_type": "code",
   "execution_count": null,
   "metadata": {},
   "outputs": [],
   "source": [
    "# Création d'une colonne énergie cinétique (E = 0.5 * m * v²)\n",
    "m = 0.25  # masse en kg\n",
    "df_corrige[\"E\"] = 0.5 * m * (df_corrige[\"v\"] ** 2)\n",
    "df_corrige.head()"
   ]
  },
  {
   "cell_type": "markdown",
   "metadata": {},
   "source": [
    "### Affichage de statistiques rapides"
   ]
  },
  {
   "cell_type": "code",
   "execution_count": null,
   "metadata": {},
   "outputs": [],
   "source": [
    "df_corrige.describe()"
   ]
  },
  {
   "cell_type": "markdown",
   "metadata": {},
   "source": [
    "## Manipulation de tableaux NumPy\n",
    "\n",
    "Il est fréquent de convertir une colonne Pandas en tableau **NumPy** pour des calculs scientifiques plus rapides."
   ]
  },
  {
   "cell_type": "code",
   "execution_count": null,
   "metadata": {},
   "outputs": [],
   "source": [
    "import numpy as np\n",
    "\n",
    "# Conversion des colonnes en tableaux NumPy\n",
    "x_np = df_corrige[\"x\"].to_numpy()\n",
    "v_np = df_corrige[\"v\"].to_numpy()\n",
    "\n",
    "print(type(x_np))\n",
    "print(x_np[:5])"
   ]
  },
  {
   "cell_type": "markdown",
   "metadata": {},
   "source": [
    "## Visualisation : Nuage de points\n",
    "\n",
    "On utilise **matplotlib.pyplot** pour visualiser les données expérimentales."
   ]
  },
  {
   "cell_type": "code",
   "execution_count": null,
   "metadata": {},
   "outputs": [],
   "source": [
    "import matplotlib.pyplot as plt\n",
    "\n",
    "plt.scatter(x_np, v_np)\n",
    "plt.xlabel('Position x (m)')\n",
    "plt.ylabel('Vitesse v (m/s)')\n",
    "plt.title('Relation entre position et vitesse')\n",
    "plt.show()"
   ]
  }
 ],
 "metadata": {
  "kernelspec": {
   "display_name": "Python 3",
   "language": "python",
   "name": "python3"
  },
  "language_info": {
   "codemirror_mode": {
    "name": "ipython",
    "version": 3
   },
   "file_extension": ".py",
   "mimetype": "text/x-python",
   "name": "python",
   "nbconvert_exporter": "python",
   "pygments_lexer": "ipython3",
   "version": "3.13.7"
  }
 },
 "nbformat": 4,
 "nbformat_minor": 5
}
