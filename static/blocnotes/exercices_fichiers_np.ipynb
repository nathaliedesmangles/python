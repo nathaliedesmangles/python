{
 "cells": [
  {
   "cell_type": "markdown",
   "metadata": {},
   "source": [
    "# Exercices sur la lecture et l'écriture de fichiers avec NumPy\n",
    "\n",
    "## Exercice 1\n",
    "À l'aide de NumPy, créez un fichier `vitesses.txt` avec les valeurs suivantes (4 valeurs par ligne, 3 lignes) :\n",
    "```\n",
    "5.2 6.1 5.8 6.0\n",
    "5.5 6.2 6.1 6.3\n",
    "5.9 6.0 5.7 6.1\n",
    "```\n",
    "* Lisez ce fichier avec NumPy.\n",
    "* Calculez la moyenne de chaque colonne.\n",
    "* Écrivez les moyennes dans un nouveau fichier `moyennes.txt`."
   ]
  },
  {
   "cell_type": "code",
   "metadata": {},
   "source": [
    "import numpy as np\n",
    "\n",
    "# 1. Créer le tableau de vitesses\n",
    "# TODO : créer un tableau NumPy contenant les données ci-dessus\n",
    "\n",
    "# 2. Sauvegarder le fichier vitesses.txt\n",
    "# TODO : sauvegarder avec np.savetxt()\n",
    "\n",
    "# 3. Lire le fichier vitesses.txt\n",
    "# TODO : lire avec np.loadtxt()\n",
    "\n",
    "# 4. Calculer la moyenne de chaque colonne\n",
    "# TODO : utiliser np.mean(..., axis=0)\n",
    "\n",
    "# 5. Sauvegarder le fichier moyennes.txt\n",
    "# TODO : np.savetxt(...)\n"
   ]
  },
  {
   "cell_type": "markdown",
   "metadata": {},
   "source": [
    "## Exercice 2\n",
    "1. Lisez le fichier CSV `temperatures.csv` avec NumPy.\n",
    "2. Transformez les températures en degrés Kelvin.\n",
    "3. Sauvegardez le nouveau fichier en CSV."
   ]
  },
  {
   "cell_type": "code",
   "metadata": {},
   "source": [
    "import numpy as np\n",
    "\n",
    "# 1. Lire le fichier CSV (températures en °C)\n",
    "# TODO : np.loadtxt(..., delimiter=',')\n",
    "\n",
    "# 2. Conversion en Kelvin (K = °C + 273.15)\n",
    "# TODO : conversion avec opérateur +\n",
    "\n",
    "# 3. Sauvegarder en CSV\n",
    "# TODO : np.savetxt(..., delimiter=',', fmt='%.2f')\n"
   ]
  }
 ],
 "metadata": {
  "kernelspec": {
   "display_name": "Python 3",
   "language": "python",
   "name": "python3"
  },
  "language_info": {
   "name": "python",
   "version": "3.x"
  }
 },
 "nbformat": 4,
 "nbformat_minor": 5
}
