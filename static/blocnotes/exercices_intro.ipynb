{
 "cells": [
  {
   "cell_type": "code",
   "execution_count": null,
   "id": "cef263e8",
   "metadata": {},
   "outputs": [],
   "source": [
    "## Exercice 1 : Conversion de température\n",
    "\n",
    "# 1. Stocker la température en degrés Celsius\n",
    "\n",
    "\n",
    "# 2. Convertir en Fahrenheit et en Kelvin\n",
    "\n",
    "\n",
    "# 3. Afficher les trois valeurs avec des messages clairs\n",
    "print(f\"Température en Celsius : {}°C\")\n",
    "print(f\"Température en Fahrenheit : {}°F\")\n",
    "print(f\"Température en Kelvin : {}K\")"
   ]
  },
  {
   "cell_type": "code",
   "execution_count": null,
   "id": "3d5a685d",
   "metadata": {},
   "outputs": [],
   "source": [
    "## Exercice 2 : Calcul de concentration molaire\n",
    "\n",
    "# Données connues\n",
    "m = 10.0   # masse du soluté en grammes\n",
    "M = 58.5   # masse molaire du soluté en g/mol (ex. NaCl)\n",
    "V = 0.25   # volume de la solution en litres\n",
    "\n",
    "# Calcul du nombre de moles\n",
    "\n",
    "\n",
    "# Calcul de la concentration molaire\n",
    "\n",
    "\n",
    "# Affichage du résultat\n",
    "print(f\"Concentration molaire : {} mol/L\")\n"
   ]
  },
  {
   "cell_type": "code",
   "execution_count": null,
   "id": "a35e9e6a",
   "metadata": {},
   "outputs": [],
   "source": [
    "## Exercice 3 : Vitesse moyenne d’une réaction\n",
    "\n",
    "# données de l'exemple\n",
    "A_initial = 0.80  # [A] initial en mol/L\n",
    "A_final   = 0.20  # [A] final en mol/L\n",
    "t_initial = 0     # temps initial en secondes (optionnel ici)\n",
    "t_final   = 120   # temps final en secondes\n",
    "\n",
    "# calcul de la vitesse moyenne\n",
    "\n",
    "\n",
    "print(f\"Vitesse moyenne = {} mol L⁻¹ s⁻¹\")"
   ]
  },
  {
   "cell_type": "code",
   "execution_count": null,
   "id": "258fa013",
   "metadata": {},
   "outputs": [],
   "source": [
    "## Exercice 4 : Distance parcourue\n",
    "\n",
    "### 1. **Écrire le programme suivant:**\n",
    "\n",
    "1. Définir la vitesse en m/s\n",
    "2. Définir le temps en minutes\n",
    "3. Convertir le temps en secondes\n",
    "4. Calculer la distance parcourue avec la formule :\n",
    "  d = v x t\n",
    "5. Afficher le résultat avec une phrase complète\n",
    "\n",
    "\n",
    "### 2. **Traduction en Python**\n",
    "# vitesse en m/s (type: float)\n",
    "\n",
    "\n",
    "# temps en minutes (type: int ou float)\n",
    "\n",
    "\n",
    "# conversion en secondes\n",
    "\n",
    "\n",
    "# calcul de la distance (type: float)\n",
    "\n",
    "\n",
    "# affichage du résultat\n",
    "print(f\"Le cycliste a parcouru {} mètres en {} minutes.\")"
   ]
  }
 ],
 "metadata": {
  "language_info": {
   "name": "python"
  }
 },
 "nbformat": 4,
 "nbformat_minor": 5
}
