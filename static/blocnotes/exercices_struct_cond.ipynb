{
 "cells": [
  {
   "cell_type": "markdown",
   "id": "78cd6d46",
   "metadata": {},
   "source": [
    "# Exercices – Structures conditionnelles et calculs\n",
    "\n",
    "Ces exercices vous aideront à pratiquer les **conditions (if)** et les **opérations mathématiques** en Python."
   ]
  },
  {
   "cell_type": "markdown",
   "id": "5c28c486",
   "metadata": {},
   "source": [
    "### Exercice 1 – Temps de demi-vie radioactive\n",
    "\n",
    "Un isotope radioactif se désintègre avec le temps. Sa masse diminue de moitié à chaque période de demi-vie.\n",
    "Un échantillon de 100 g d’un isotope a une demi-vie de 5 ans. On souhaite connaître la masse restante après un certain nombre d’années.\n",
    "\n",
    "**1. Écris un algorithme permettant de :**\n",
    "- Demander à l’utilisateur le nombre d’années écoulées.\n",
    "- Calculer le nombre de périodes de demi-vie.\n",
    "- Calculer la masse restante :\n",
    "  \n",
    "  $\\text{masse} = \\text{masse initiale} \\times \\left(\\frac{1}{2}\\right)^{\\text{nb\\_periodes}}$\n",
    "- Si la masse est inférieure à 1 g, afficher un message d’avertissement, sinon, afficher la masse restante normalement.\n",
    "\n",
    "**2. Traduis ton algorithme en Python.**"
   ]
  },
  {
   "cell_type": "markdown",
   "id": "6cb05af6",
   "metadata": {},
   "source": [
    "### Exercice 2 – Taux de croissance d’une population bactérienne\n",
    "\n",
    "Une colonie de bactéries double toutes les 3 heures si les conditions sont optimales.\n",
    "Une boîte de Pétri contient 500 bactéries. On souhaite estimer la taille de la population après un certain nombre d’heures.\n",
    "\n",
    "**1. Écris un algorithme pour :**\n",
    "- Demander à l’utilisateur le nombre d’heures écoulées.\n",
    "- Calculer le nombre de périodes de croissance (périodes de 3 heures).\n",
    "- Calculer la population après cette durée avec la formule :\n",
    "  \n",
    "  $\\text{population} = \\text{population initiale} \\times 2^{\\text{nb\\_periodes}}$\n",
    "- Afficher la population estimée.\n",
    "- Si la population dépasse 1 000 000 bactéries, afficher un message d’alerte sur la croissance excessive, sinon afficher la population normalement.\n",
    "\n",
    "**2. Traduis ton algorithme en Python.**"
   ]
  },
  {
   "cell_type": "code",
   "execution_count": null,
   "id": "42f1503f",
   "metadata": {},
   "outputs": [],
   "source": [
    "# Code ici"
   ]
  },
  {
   "cell_type": "markdown",
   "id": "f0d5d7bd",
   "metadata": {},
   "source": [
    "### Exercice 3 – Température critique d’un liquide\n",
    "\n",
    "Un liquide ne doit pas dépasser **80 °C** pour rester stable.\n",
    "Demander à l’utilisateur la température actuelle du liquide et **afficher un message** selon les cas :\n",
    "\n",
    "- Si la température est **inférieure à 80**, afficher : « Température sécuritaire. »\n",
    "- Si elle est **exactement 80**, afficher : « Limite atteinte. »\n",
    "- Si elle est **supérieure à 80**, afficher : « Attention : température critique ! »"
   ]
  },
  {
   "cell_type": "code",
   "execution_count": null,
   "id": "c999bba6",
   "metadata": {},
   "outputs": [],
   "source": [
    "# Code ici"
   ]
  },
  {
   "cell_type": "markdown",
   "id": "c4a98744",
   "metadata": {},
   "source": [
    "### Exercice 4 – Classification du pH d’une solution\n",
    "\n",
    "En chimie, le **pH** permet de savoir si une solution est acide, neutre ou basique.\n",
    "Demander à l’utilisateur le **pH** d’une solution (entre 0 et 14), puis afficher :\n",
    "\n",
    "- « Solution acide » si `pH < 7`\n",
    "- « Solution neutre » si `pH == 7`\n",
    "- « Solution basique » si `pH > 7`\n",
    "- « Valeur de pH invalide » si le pH est en dehors de l’intervalle `[0, 14]`"
   ]
  },
  {
   "cell_type": "code",
   "execution_count": null,
   "id": "b5320224",
   "metadata": {},
   "outputs": [],
   "source": [
    "# Code ici"
   ]
  },
  {
   "cell_type": "markdown",
   "id": "60cf87ee",
   "metadata": {},
   "source": [
    "### Exercice 5 – Autorisation d’une réaction chimique\n",
    "\n",
    "Une réaction chimique ne peut avoir lieu **que si** la température est **entre 25 °C et 45 °C inclusivement**, **et** si le **pH est entre 6 et 8 inclusivement**.\n",
    "\n",
    "Demander à l’utilisateur la température et le pH, puis afficher :\n",
    "\n",
    "- « Réaction possible. » si les deux conditions sont remplies,\n",
    "- « Conditions non compatibles. » sinon."
   ]
  },
  {
   "cell_type": "code",
   "execution_count": null,
   "id": "5f946417",
   "metadata": {},
   "outputs": [],
   "source": [
    "# Code ici"
   ]
  }
 ],
 "metadata": {
  "kernelspec": {
   "display_name": "Python 3",
   "language": "python",
   "name": "python3"
  },
  "language_info": {
   "name": "python",
   "version": ""
  }
 },
 "nbformat": 4,
 "nbformat_minor": 5
}
