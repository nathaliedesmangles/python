{
 "cells": [
  {
   "cell_type": "code",
   "execution_count": 2,
   "id": "b9f42716",
   "metadata": {},
   "outputs": [
    {
     "name": "stdout",
     "output_type": "stream",
     "text": [
      "Espèce : bovins\n",
      "Nombre d’individus : 12\n",
      "Masse totale : 564.3 kg\n",
      "Contrôle qualité passé : True\n"
     ]
    }
   ],
   "source": [
    "espece = \"bovins\"           # str\n",
    "nombre = 12                 # int\n",
    "masse_totale = 564.3        # float\n",
    "controle_qualite = True     # bool\n",
    "\n",
    "print(f\"Espèce : {espece}\")\n",
    "print(f\"Nombre d’individus : {nombre}\")\n",
    "print(f\"Masse totale : {masse_totale} kg\")\n",
    "print(f\"Contrôle qualité passé : {controle_qualite}\")"
   ]
  }
 ],
 "metadata": {
  "kernelspec": {
   "display_name": "Python 3",
   "language": "python",
   "name": "python3"
  },
  "language_info": {
   "codemirror_mode": {
    "name": "ipython",
    "version": 3
   },
   "file_extension": ".py",
   "mimetype": "text/x-python",
   "name": "python",
   "nbconvert_exporter": "python",
   "pygments_lexer": "ipython3",
   "version": "3.11.9"
  }
 },
 "nbformat": 4,
 "nbformat_minor": 5
}
