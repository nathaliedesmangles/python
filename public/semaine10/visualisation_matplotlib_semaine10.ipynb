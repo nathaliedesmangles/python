{
 "cells": [
  {
   "cell_type": "markdown",
   "id": "b1f26259",
   "metadata": {},
   "source": [
    "# Semaine 10 – Visualisation de données avec matplotlib (bases)\n",
    "**Objectif :** Tracer des graphiques simples avec matplotlib dans Jupyter Notebook."
   ]
  },
  {
   "cell_type": "markdown",
   "id": "11c0ab9b",
   "metadata": {},
   "source": [
    "## 1. Importation de la bibliothèque"
   ]
  },
  {
   "cell_type": "code",
   "execution_count": null,
   "id": "307e419e",
   "metadata": {},
   "outputs": [],
   "source": [
    "import matplotlib.pyplot as plt"
   ]
  },
  {
   "cell_type": "markdown",
   "id": "14ed4f77",
   "metadata": {},
   "source": [
    "## 2. Tracé simple d’une courbe"
   ]
  },
  {
   "cell_type": "code",
   "execution_count": null,
   "id": "a53bc76e",
   "metadata": {},
   "outputs": [],
   "source": [
    "x = [0, 1, 2, 3, 4]\n",
    "y = [0, 1, 4, 9, 16]\n",
    "plt.plot(x, y)\n",
    "plt.show()"
   ]
  },
  {
   "cell_type": "markdown",
   "id": "3fbfe420",
   "metadata": {},
   "source": [
    "## 3. Ajout de titres et étiquettes"
   ]
  },
  {
   "cell_type": "code",
   "execution_count": null,
   "id": "6c8d8531",
   "metadata": {},
   "outputs": [],
   "source": [
    "plt.plot(x, y)\n",
    "plt.title(\"Croissance quadratique\")\n",
    "plt.xlabel(\"Temps (s)\")\n",
    "plt.ylabel(\"Distance (m)\")\n",
    "plt.show()"
   ]
  },
  {
   "cell_type": "markdown",
   "id": "792a858f",
   "metadata": {},
   "source": [
    "## 4. Personnalisation de la courbe"
   ]
  },
  {
   "cell_type": "code",
   "execution_count": null,
   "id": "e5d8355e",
   "metadata": {},
   "outputs": [],
   "source": [
    "plt.plot(x, y, color='green', linestyle='--', marker='o')\n",
    "plt.show()"
   ]
  },
  {
   "cell_type": "markdown",
   "id": "2b178e49",
   "metadata": {},
   "source": [
    "## 5. Tracer plusieurs courbes sur un même graphique"
   ]
  },
  {
   "cell_type": "code",
   "execution_count": null,
   "id": "3f507ea2",
   "metadata": {},
   "outputs": [],
   "source": [
    "plt.plot(x, y, label=\"objet A\")\n",
    "plt.plot(x, [i**1.5 for i in x], label=\"objet B\")\n",
    "plt.legend()\n",
    "plt.show()"
   ]
  },
  {
   "cell_type": "markdown",
   "id": "cce04ecc",
   "metadata": {},
   "source": [
    "## 6. Enregistrement du graphique"
   ]
  },
  {
   "cell_type": "code",
   "execution_count": null,
   "id": "7929a0a8",
   "metadata": {},
   "outputs": [],
   "source": [
    "plt.plot(x, y)\n",
    "plt.savefig(\"mon_graphique.png\")\n",
    "plt.show()"
   ]
  },
  {
   "cell_type": "markdown",
   "id": "884fee30",
   "metadata": {},
   "source": [
    "## Exercice pratique : Température d’un liquide en fonction du temps\n",
    "**Corriger l’erreur dans les données et produire un graphique lisible.**"
   ]
  },
  {
   "cell_type": "code",
   "execution_count": null,
   "id": "eec54557",
   "metadata": {},
   "outputs": [],
   "source": [
    "# Données avec erreur volontaire\n",
    "temps = [0, 2, 4, 6, 8, 10]\n",
    "temperature = [20, 35, 50, 65, 72, 74]  # Correction appliquée\n",
    "\n",
    "# Tracé\n",
    "plt.plot(temps, temperature, color='red', linestyle='--', marker='o')\n",
    "plt.title(\"Température du liquide en fonction du temps\")\n",
    "plt.xlabel(\"Temps (min)\")\n",
    "plt.ylabel(\"Température (°C)\")\n",
    "plt.savefig(\"temperature_liquide.png\")\n",
    "plt.show()"
   ]
  }
 ],
 "metadata": {},
 "nbformat": 4,
 "nbformat_minor": 5
}
