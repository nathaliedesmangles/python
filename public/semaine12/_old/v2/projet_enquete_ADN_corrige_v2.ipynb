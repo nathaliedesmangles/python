{
 "cells": [
  {
   "cell_type": "markdown",
   "id": "05ee361c",
   "metadata": {},
   "source": [
    "### Projet : Enquête scientifique par analyse d’ADN\n",
    "#### Objectif : Identifier les suspects dont l’ADN correspond à l’échantillon prélevé sur la scène de crime"
   ]
  },
  {
   "cell_type": "code",
   "execution_count": 3,
   "id": "e2e612d6",
   "metadata": {},
   "outputs": [
    {
     "ename": "ModuleNotFoundError",
     "evalue": "No module named 'pandas'",
     "output_type": "error",
     "traceback": [
      "\u001b[31m---------------------------------------------------------------------------\u001b[39m",
      "\u001b[31mModuleNotFoundError\u001b[39m                       Traceback (most recent call last)",
      "\u001b[36mCell\u001b[39m\u001b[36m \u001b[39m\u001b[32mIn[3]\u001b[39m\u001b[32m, line 1\u001b[39m\n\u001b[32m----> \u001b[39m\u001b[32m1\u001b[39m \u001b[38;5;28;01mimport\u001b[39;00m\u001b[38;5;250m \u001b[39m\u001b[34;01mpandas\u001b[39;00m\u001b[38;5;250m \u001b[39m\u001b[38;5;28;01mas\u001b[39;00m\u001b[38;5;250m \u001b[39m\u001b[34;01mpd\u001b[39;00m\n\u001b[32m      2\u001b[39m \u001b[38;5;28;01mimport\u001b[39;00m\u001b[38;5;250m \u001b[39m\u001b[34;01mmatplotlib\u001b[39;00m\u001b[34;01m.\u001b[39;00m\u001b[34;01mpyplot\u001b[39;00m\u001b[38;5;250m \u001b[39m\u001b[38;5;28;01mas\u001b[39;00m\u001b[38;5;250m \u001b[39m\u001b[34;01mplt\u001b[39;00m\n\u001b[32m      3\u001b[39m \u001b[38;5;28;01mimport\u001b[39;00m\u001b[38;5;250m \u001b[39m\u001b[34;01mnumpy\u001b[39;00m\u001b[38;5;250m \u001b[39m\u001b[38;5;28;01mas\u001b[39;00m\u001b[38;5;250m \u001b[39m\u001b[34;01mnp\u001b[39;00m\n",
      "\u001b[31mModuleNotFoundError\u001b[39m: No module named 'pandas'"
     ]
    }
   ],
   "source": [
    "import pandas as pd\n",
    "import matplotlib.pyplot as plt\n",
    "import numpy as np\n",
    "from difflib import SequenceMatcher\n",
    "from sklearn.linear_model import LinearRegression"
   ]
  },
  {
   "cell_type": "code",
   "execution_count": null,
   "id": "99b83407",
   "metadata": {},
   "outputs": [],
   "source": [
    "# === 1. Données brutes ===\n",
    "\n",
    "# Séquences ADN (3 loci) de 4 suspects\n",
    "data = {\n",
    "    \"Suspect\": [\"S1\", \"S2\", \"S3\", \"S4\"],\n",
    "    \"Locus_1\": [\"ATCGTAC\", \"ATCCTAC\", \"ATCGTCC\", \"ATGGTAC\"],\n",
    "    \"Locus_2\": [\"GGATCGA\", \"GGATGGA\", \"GAATCGA\", \"GGATCGA\"],\n",
    "    \"Locus_3\": [\"TTAAGC\", \"TTAAGT\", \"TTCAGC\", \"TTAAGC\"]\n",
    "}\n",
    "\n",
    "# Échantillon retrouvé sur la scène (partiellement contaminé)\n",
    "echantillon = {\n",
    "    \"Locus_1\": \"ATCGTAC\",\n",
    "    \"Locus_2\": \"GGATCGA\",\n",
    "    \"Locus_3\": \"TTAAGC\"\n",
    "}\n",
    "\n",
    "df = pd.DataFrame(data)\n",
    "df.set_index(\"Suspect\", inplace=True)\n",
    "\n",
    "# === 2. Fonction de comparaison ADN ===\n",
    "\n",
    "def comparer(seq1, seq2):\n",
    "    \"\"\"Retourne le pourcentage de similarité entre deux séquences.\"\"\"\n",
    "    return round(SequenceMatcher(None, seq1, seq2).ratio() * 100, 2)\n",
    "\n",
    "# === 3. Calcul des correspondances ===\n",
    "\n",
    "correspondances = []\n",
    "\n",
    "for suspect in df.index:\n",
    "    matches = []\n",
    "    for locus in [\"Locus_1\", \"Locus_2\", \"Locus_3\"]:\n",
    "        score = comparer(df.loc[suspect, locus], echantillon[locus])\n",
    "        matches.append(score)\n",
    "    correspondances.append(matches)\n",
    "\n",
    "cor_df = pd.DataFrame(correspondances, columns=[\"Locus_1\", \"Locus_2\", \"Locus_3\"], index=df.index)\n",
    "\n",
    "# Ajout d’une colonne moyenne\n",
    "cor_df[\"Moyenne\"] = cor_df.mean(axis=1)\n",
    "cor_df.sort_values(\"Moyenne\", ascending=False, inplace=True)\n",
    "cor_df\n"
   ]
  },
  {
   "cell_type": "code",
   "execution_count": null,
   "id": "1d49bdf9",
   "metadata": {},
   "outputs": [],
   "source": [
    "# === 4. Visualisation des résultats ===\n",
    "\n",
    "cor_df[[\"Locus_1\", \"Locus_2\", \"Locus_3\"]].plot(kind='bar', figsize=(10, 6), title=\"Pourcentage de correspondance par locus\")\n",
    "plt.axhline(85, color='red', linestyle='--', label='Seuil possible d’identification')\n",
    "plt.ylabel(\"Pourcentage de correspondance (%)\")\n",
    "plt.xlabel(\"Suspect\")\n",
    "plt.legend()\n",
    "plt.tight_layout()\n",
    "plt.show()\n"
   ]
  },
  {
   "cell_type": "code",
   "execution_count": null,
   "id": "20aa0f80",
   "metadata": {},
   "outputs": [],
   "source": [
    "# === 5. Analyse statistique : régression linéaire entre loci ===\n",
    "\n",
    "# Vérifions la cohérence entre locus 1 et locus 2 par exemple\n",
    "\n",
    "x = cor_df[\"Locus_1\"].values.reshape(-1, 1)\n",
    "y = cor_df[\"Locus_2\"].values\n",
    "\n",
    "modele = LinearRegression()\n",
    "modele.fit(x, y)\n",
    "y_pred = modele.predict(x)\n",
    "\n",
    "plt.figure(figsize=(6, 4))\n",
    "plt.scatter(x, y, label='Données réelles')\n",
    "plt.plot(x, y_pred, color='orange', label='Régression linéaire')\n",
    "plt.xlabel(\"Locus 1 (%)\")\n",
    "plt.ylabel(\"Locus 2 (%)\")\n",
    "plt.title(\"Corrélation Locus 1 vs Locus 2\")\n",
    "plt.legend()\n",
    "plt.grid(True)\n",
    "plt.tight_layout()\n",
    "plt.show()\n",
    "\n",
    "print(\"Coefficient de corrélation (R²):\", round(modele.score(x, y), 3))\n"
   ]
  },
  {
   "cell_type": "code",
   "execution_count": null,
   "id": "e3e59354",
   "metadata": {},
   "outputs": [],
   "source": [
    "# === 6. Ajout d’incertitude aléatoire pour simuler du bruit biologique ===\n",
    "\n",
    "def ajouter_bruit(seq, taux_erreur=0.1):\n",
    "    \"\"\"Ajoute une petite erreur aléatoire à une séquence (simulateur de contamination)\"\"\"\n",
    "    bases = ['A', 'T', 'C', 'G']\n",
    "    nouvelle_seq = \"\"\n",
    "    for base in seq:\n",
    "        if np.random.rand() < taux_erreur:\n",
    "            nouvelle_seq += np.random.choice([b for b in bases if b != base])\n",
    "        else:\n",
    "            nouvelle_seq += base\n",
    "    return nouvelle_seq\n",
    "\n",
    "# Simulons un nouvel échantillon bruité\n",
    "np.random.seed(42)  # Pour reproductibilité\n",
    "echantillon_bruite = {k: ajouter_bruit(v, 0.1) for k, v in echantillon.items()}\n",
    "print(\"Échantillon bruité :\", echantillon_bruite)\n",
    "\n",
    "# Recalcul des correspondances\n",
    "correspondances_bruit = []\n",
    "\n",
    "for suspect in df.index:\n",
    "    matches = []\n",
    "    for locus in [\"Locus_1\", \"Locus_2\", \"Locus_3\"]:\n",
    "        score = comparer(df.loc[suspect, locus], echantillon_bruite[locus])\n",
    "        matches.append(score)\n",
    "    correspondances_bruit.append(matches)\n",
    "\n",
    "cor_bruit_df = pd.DataFrame(correspondances_bruit, columns=[\"Locus_1\", \"Locus_2\", \"Locus_3\"], index=df.index)\n",
    "cor_bruit_df[\"Moyenne\"] = cor_bruit_df.mean(axis=1)\n",
    "cor_bruit_df.sort_values(\"Moyenne\", ascending=False)\n"
   ]
  },
  {
   "cell_type": "code",
   "execution_count": null,
   "id": "9ccb82ce",
   "metadata": {},
   "outputs": [],
   "source": [
    "# === 7. Conclusion automatique ===\n",
    "\n",
    "meilleur_suspect = cor_df[\"Moyenne\"].idxmax()\n",
    "score = cor_df[\"Moyenne\"].max()\n",
    "\n",
    "if score > 85:\n",
    "    print(f\"🔍 Le suspect le plus probable est {meilleur_suspect}, avec une correspondance moyenne de {score:.2f}%.\")\n",
    "else:\n",
    "    print(\"❗Aucun suspect ne correspond suffisamment pour être identifié avec confiance.\")\n"
   ]
  },
  {
   "cell_type": "code",
   "execution_count": 4,
   "id": "367015b1",
   "metadata": {},
   "outputs": [
    {
     "name": "stdout",
     "output_type": "stream",
     "text": [
      "Valeur : 0\n",
      "Valeur : 1\n",
      "Valeur : 2\n",
      "Valeur : 3\n",
      "Valeur : 4\n"
     ]
    }
   ],
   "source": [
    "compteur = 0\n",
    "while compteur < 10:\n",
    "    if compteur == 5:\n",
    "        break\n",
    "    print(\"Valeur :\", compteur)\n",
    "    compteur += 1"
   ]
  },
  {
   "cell_type": "code",
   "execution_count": 5,
   "id": "301ddc26",
   "metadata": {},
   "outputs": [
    {
     "name": "stdout",
     "output_type": "stream",
     "text": [
      "1\n",
      "2\n",
      "4\n",
      "5\n",
      "7\n",
      "8\n",
      "10\n"
     ]
    }
   ],
   "source": [
    "for i in range(1, 11):\n",
    "    if i % 3 == 0:\n",
    "        continue  # On saute les multiples de 3\n",
    "    print(i)"
   ]
  },
  {
   "cell_type": "code",
   "execution_count": null,
   "id": "ebb8d838",
   "metadata": {},
   "outputs": [],
   "source": [
    "while True:\n",
    "    print(\"eee\")"
   ]
  },
  {
   "cell_type": "code",
   "execution_count": null,
   "id": "f0e40406",
   "metadata": {},
   "outputs": [],
   "source": [
    "grille = [\n",
    "    [\"X\", \"O\", \"X\"],\n",
    "    [\"O\", \"X\", \"O\"],\n",
    "    [\"O\", \"X\", \"X\"]\n",
    "]\n",
    "\n",
    "for ligne in grille:\n",
    "    for valeur in ligne:\n",
    "        print(valeur)"
   ]
  },
  {
   "cell_type": "code",
   "execution_count": 3,
   "id": "09264945",
   "metadata": {},
   "outputs": [
    {
     "name": "stdout",
     "output_type": "stream",
     "text": [
      "L'indice 0 contient : pomme\n",
      "L'indice 1 contient : poire\n",
      "L'indice 2 contient : cerise\n"
     ]
    }
   ],
   "source": [
    "fruits = [\"pomme\", \"poire\", \"cerise\"]\n",
    "for i in range(len(fruits)):\n",
    "    print(f\"L'indice {i} contient : {fruits[i]}\")"
   ]
  }
 ],
 "metadata": {
  "kernelspec": {
   "display_name": "Python 3",
   "language": "python",
   "name": "python3"
  },
  "language_info": {
   "codemirror_mode": {
    "name": "ipython",
    "version": 3
   },
   "file_extension": ".py",
   "mimetype": "text/x-python",
   "name": "python",
   "nbconvert_exporter": "python",
   "pygments_lexer": "ipython3",
   "version": "3.13.5"
  }
 },
 "nbformat": 4,
 "nbformat_minor": 5
}
