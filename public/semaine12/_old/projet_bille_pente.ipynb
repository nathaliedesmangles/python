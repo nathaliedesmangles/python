{
 "cells": [
  {
   "cell_type": "markdown",
   "id": "add4a0ca",
   "metadata": {},
   "source": [
    "# Projet intégrateur — Programmation en physique mécanique\n",
    "## Étude du mouvement d'une bille sur un plan incliné\n",
    "\n",
    "Ce projet vise à analyser les données expérimentales d’une bille dévalant un plan incliné. Les objectifs sont :\n",
    "- Lire les données à partir d’un fichier `.csv`\n",
    "- Calculer la vitesse moyenne et la vitesse instantanée\n",
    "- Visualiser les résultats sous forme graphique\n",
    "- Interpréter le mouvement en lien avec les lois de la physique\n"
   ]
  },
  {
   "cell_type": "code",
   "execution_count": null,
   "id": "df1524b8",
   "metadata": {},
   "outputs": [],
   "source": [
    "# Importation des bibliothèques\n",
    "import pandas as pd\n",
    "import matplotlib.pyplot as plt\n",
    "import numpy as np"
   ]
  },
  {
   "cell_type": "code",
   "execution_count": null,
   "id": "6cf7281f",
   "metadata": {},
   "outputs": [],
   "source": [
    "# Lecture des données\n",
    "donnees = pd.read_csv('donnees_bille_pente.csv')\n",
    "donnees"
   ]
  },
  {
   "cell_type": "code",
   "execution_count": null,
   "id": "a510abd3",
   "metadata": {},
   "outputs": [],
   "source": [
    "# Calcul de la vitesse moyenne entre chaque point (delta s / delta t)\n",
    "temps = donnees['Temps (s)']\n",
    "distance = donnees['Distance (m)']\n",
    "vitesse_moyenne = np.diff(distance) / np.diff(temps)\n",
    "temps_milieu = (temps[:-1] + temps[1:]) / 2\n",
    "\n",
    "# Création d’un DataFrame pour les vitesses\n",
    "vitesses = pd.DataFrame({\n",
    "    'Temps (s)': temps_milieu,\n",
    "    'Vitesse moyenne (m/s)': vitesse_moyenne\n",
    "})\n",
    "vitesses"
   ]
  },
  {
   "cell_type": "code",
   "execution_count": null,
   "id": "48a63e9f",
   "metadata": {},
   "outputs": [],
   "source": [
    "# Tracé des graphiques\n",
    "plt.figure(figsize=(10, 5))\n",
    "plt.subplot(1, 2, 1)\n",
    "plt.plot(temps, distance, 'o-', color='blue')\n",
    "plt.xlabel('Temps (s)')\n",
    "plt.ylabel('Distance (m)')\n",
    "plt.title('Distance en fonction du temps')\n",
    "\n",
    "plt.subplot(1, 2, 2)\n",
    "plt.plot(temps_milieu, vitesse_moyenne, 'o-', color='green')\n",
    "plt.xlabel('Temps (s)')\n",
    "plt.ylabel('Vitesse (m/s)')\n",
    "plt.title('Vitesse moyenne en fonction du temps')\n",
    "plt.tight_layout()\n",
    "plt.show()"
   ]
  },
  {
   "cell_type": "markdown",
   "id": "7cd4b25f",
   "metadata": {},
   "source": [
    "## Interprétation\n",
    "Les résultats montrent que la vitesse augmente avec le temps, ce qui est caractéristique d’un mouvement uniformément accéléré.\n",
    "La pente du graphique distance-temps suggère une courbe quadratique, et le graphique de la vitesse est approximativement linéaire.\n",
    "\n",
    "**Question :** En utilisant une régression linéaire, pouvez-vous estimer l’accélération de la bille sur le plan incliné ?\n",
    "\n",
    "Complétez l’analyse et discutez de l’influence possible de l’angle, du frottement et de la précision des mesures."
   ]
  }
 ],
 "metadata": {},
 "nbformat": 4,
 "nbformat_minor": 5
}
