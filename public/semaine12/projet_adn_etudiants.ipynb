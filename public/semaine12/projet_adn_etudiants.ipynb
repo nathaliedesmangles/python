{
 "cells": [
  {
   "cell_type": "markdown",
   "id": "46754eef",
   "metadata": {},
   "source": [
    "\n",
    "# 🧬 Projet intégrateur – Analyse d'ADN\n",
    "\n",
    "Dans ce projet, vous allez analyser des séquences d'ADN provenant de différentes espèces. Vous utiliserez vos compétences en Python pour :\n",
    "- Charger et explorer les données.\n",
    "- Comparer des séquences ADN.\n",
    "- Visualiser les similarités ou différences entre espèces.\n",
    "\n",
    "---\n"
   ]
  },
  {
   "cell_type": "code",
   "execution_count": null,
   "id": "034ba869",
   "metadata": {},
   "outputs": [],
   "source": []
  },
  {
   "cell_type": "markdown",
   "id": "50cbe9d0",
   "metadata": {},
   "source": [
    "## 🔹 Étape 1 – Chargement des données"
   ]
  },
  {
   "cell_type": "code",
   "execution_count": 1,
   "id": "942f6e69",
   "metadata": {},
   "outputs": [
    {
     "ename": "ModuleNotFoundError",
     "evalue": "No module named 'pandas'",
     "output_type": "error",
     "traceback": [
      "\u001b[1;31m---------------------------------------------------------------------------\u001b[0m",
      "\u001b[1;31mModuleNotFoundError\u001b[0m                       Traceback (most recent call last)",
      "Cell \u001b[1;32mIn[1], line 1\u001b[0m\n\u001b[1;32m----> 1\u001b[0m \u001b[38;5;28;01mimport\u001b[39;00m \u001b[38;5;21;01mpandas\u001b[39;00m \u001b[38;5;28;01mas\u001b[39;00m \u001b[38;5;21;01mpd\u001b[39;00m\n\u001b[0;32m      3\u001b[0m \u001b[38;5;66;03m# Charger le fichier CSV\u001b[39;00m\n\u001b[0;32m      4\u001b[0m df \u001b[38;5;241m=\u001b[39m pd\u001b[38;5;241m.\u001b[39mread_csv(\u001b[38;5;124m\"\u001b[39m\u001b[38;5;124msequences_adn.csv\u001b[39m\u001b[38;5;124m\"\u001b[39m)\n",
      "\u001b[1;31mModuleNotFoundError\u001b[0m: No module named 'pandas'"
     ]
    }
   ],
   "source": [
    "\n",
    "import pandas as pd\n",
    "\n",
    "# Charger le fichier CSV\n",
    "df = pd.read_csv(\"sequences_adn.csv\")\n",
    "\n",
    "# Afficher les 5 premières lignes\n",
    "df.head()\n"
   ]
  },
  {
   "cell_type": "markdown",
   "id": "1d320a63",
   "metadata": {},
   "source": [
    "## 🔹 Étape 2 – Longueur des séquences"
   ]
  },
  {
   "cell_type": "code",
   "execution_count": null,
   "id": "1399d7b7",
   "metadata": {},
   "outputs": [],
   "source": [
    "\n",
    "# Ajouter une colonne 'Longueur' qui contient la longueur de chaque séquence\n",
    "df[\"Longueur\"] = df[\"Sequence\"].apply(len)\n",
    "df\n"
   ]
  },
  {
   "cell_type": "markdown",
   "id": "22bbd18d",
   "metadata": {},
   "source": [
    "## 🔹 Étape 3 – Comparaison de séquences"
   ]
  },
  {
   "cell_type": "code",
   "execution_count": null,
   "id": "4d815574",
   "metadata": {},
   "outputs": [],
   "source": [
    "\n",
    "# Fonction pour comparer deux séquences et retourner le pourcentage d'identité\n",
    "def comparer_sequences(seq1, seq2):\n",
    "    longueur = min(len(seq1), len(seq2))\n",
    "    identiques = sum([1 for i in range(longueur) if seq1[i] == seq2[i]])\n",
    "    return identiques / longueur * 100\n",
    "\n",
    "# Exemple de comparaison\n",
    "comparer_sequences(df.loc[0, \"Sequence\"], df.loc[1, \"Sequence\"])\n"
   ]
  },
  {
   "cell_type": "markdown",
   "id": "338e8edb",
   "metadata": {},
   "source": [
    "## 🔹 Étape 4 – Matrice de similarité"
   ]
  },
  {
   "cell_type": "code",
   "execution_count": null,
   "id": "e310a913",
   "metadata": {},
   "outputs": [],
   "source": [
    "\n",
    "# Calcul d'une matrice de similarité pair à pair\n",
    "import numpy as np\n",
    "\n",
    "n = len(df)\n",
    "matrice = np.zeros((n, n))\n",
    "\n",
    "for i in range(n):\n",
    "    for j in range(n):\n",
    "        matrice[i, j] = comparer_sequences(df.loc[i, \"Sequence\"], df.loc[j, \"Sequence\"])\n",
    "\n",
    "similarite_df = pd.DataFrame(matrice, index=df[\"ID\"], columns=df[\"ID\"])\n",
    "similarite_df\n"
   ]
  },
  {
   "cell_type": "markdown",
   "id": "761afb34",
   "metadata": {},
   "source": [
    "## 🔹 Étape 5 – Visualisation"
   ]
  },
  {
   "cell_type": "code",
   "execution_count": null,
   "id": "63bb89ea",
   "metadata": {},
   "outputs": [],
   "source": [
    "\n",
    "import seaborn as sns\n",
    "import matplotlib.pyplot as plt\n",
    "\n",
    "plt.figure(figsize=(8, 6))\n",
    "sns.heatmap(similarite_df, annot=True, cmap=\"viridis\")\n",
    "plt.title(\"Pourcentage de similarité entre séquences ADN\")\n",
    "plt.show()\n"
   ]
  },
  {
   "cell_type": "markdown",
   "id": "d6724b23",
   "metadata": {},
   "source": [
    "\n",
    "## 🔹 Étape 6 – Analyse\n",
    "\n",
    "- Quelles espèces ont les séquences les plus proches ?\n",
    "- Celles qui sont les plus éloignées ?\n",
    "- À quoi cela pourrait-il être lié (évolution, classification, etc.) ?\n",
    "\n",
    "✍️ Écrivez votre analyse ci-dessous :\n"
   ]
  },
  {
   "cell_type": "markdown",
   "id": "e8fbaebf",
   "metadata": {},
   "source": [
    "_(Votre réponse ici...)_"
   ]
  },
  {
   "cell_type": "markdown",
   "id": "52bb7d6c",
   "metadata": {},
   "source": [
    "\n",
    "## 🔹 Étape 7 – Conclusion\n",
    "\n",
    "Faites un résumé de vos découvertes dans ce projet. Qu’avez-vous appris ?\n",
    "\n",
    "✍️ Écrivez votre conclusion ci-dessous :\n"
   ]
  },
  {
   "cell_type": "markdown",
   "id": "dc93d16e",
   "metadata": {},
   "source": [
    "_(Votre conclusion ici...)_"
   ]
  }
 ],
 "metadata": {
  "kernelspec": {
   "display_name": "Python 3",
   "language": "python",
   "name": "python3"
  },
  "language_info": {
   "codemirror_mode": {
    "name": "ipython",
    "version": 3
   },
   "file_extension": ".py",
   "mimetype": "text/x-python",
   "name": "python",
   "nbconvert_exporter": "python",
   "pygments_lexer": "ipython3",
   "version": "3.11.9"
  }
 },
 "nbformat": 4,
 "nbformat_minor": 5
}
