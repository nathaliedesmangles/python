{
 "cells": [
  {
   "cell_type": "code",
   "execution_count": null,
   "id": "b3be3359",
   "metadata": {},
   "outputs": [],
   "source": [
    "import math\n",
    "\n",
    "def surface_cone(rayon, hauteur):\n",
    "    aire_base = math.pi * rayon ** 2\n",
    "    aire_lateral = math.pi * rayon * math.sqrt(rayon**2 + hauteur)\n",
    "    surface = aire_base + aire_latérale\n",
    "    return surface\n",
    "\n",
    "r = input(\"Entrez le rayon du cône: \")\n",
    "h = input(\"Entrez la hauteur du cône: \")\n",
    "\n",
    "print(\"Rayon saisi:\", r)\n",
    "print(\"Hauteur saisie:\", h)\n",
    "\n",
    "resultat = surface_cone(r, h)\n",
    "\n",
    "print(\"La surface totale du cône est de\", resultat \"cm²\")\n"
   ]
  },
  {
   "cell_type": "code",
   "execution_count": 1,
   "id": "c4efe787",
   "metadata": {},
   "outputs": [
    {
     "name": "stdout",
     "output_type": "stream",
     "text": [
      "Rayon saisi: 3.0\n",
      "Hauteur saisie: 10.0\n",
      "La surface totale du cône est de 126.6719045711654 cm²\n"
     ]
    }
   ],
   "source": [
    "import math\n",
    "\n",
    "def surface_cone(rayon, hauteur):\n",
    "    aire_base = math.pi * rayon ** 2\n",
    "    aire_lateral = math.pi * rayon * math.sqrt(rayon**2 + hauteur**2)\n",
    "    surface = aire_base + aire_lateral\n",
    "    return surface\n",
    "\n",
    "r = float(input(\"Entrez le rayon du cône: \"))\n",
    "h = float(input(\"Entrez la hauteur du cône: \"))\n",
    "\n",
    "print(\"Rayon saisi:\", r)\n",
    "print(\"Hauteur saisie:\", h)\n",
    "\n",
    "resultat = surface_cone(r, h)\n",
    "\n",
    "print(\"La surface totale du cône est de\", resultat, \"cm²\")\n"
   ]
  }
 ],
 "metadata": {
  "kernelspec": {
   "display_name": "Python 3",
   "language": "python",
   "name": "python3"
  },
  "language_info": {
   "codemirror_mode": {
    "name": "ipython",
    "version": 3
   },
   "file_extension": ".py",
   "mimetype": "text/x-python",
   "name": "python",
   "nbconvert_exporter": "python",
   "pygments_lexer": "ipython3",
   "version": "3.11.9"
  }
 },
 "nbformat": 4,
 "nbformat_minor": 5
}
