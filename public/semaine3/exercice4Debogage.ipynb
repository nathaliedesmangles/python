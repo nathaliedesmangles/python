{
 "cells": [
  {
   "cell_type": "code",
   "execution_count": 2,
   "id": "b3be3359",
   "metadata": {},
   "outputs": [
    {
     "ename": "SyntaxError",
     "evalue": "invalid syntax (1637916194.py, line 17)",
     "output_type": "error",
     "traceback": [
      "\u001b[1;36m  Cell \u001b[1;32mIn[2], line 17\u001b[1;36m\u001b[0m\n\u001b[1;33m    print(\"La surface totale du cône est de\", resultat \"cm²\")\u001b[0m\n\u001b[1;37m                                                       ^\u001b[0m\n\u001b[1;31mSyntaxError\u001b[0m\u001b[1;31m:\u001b[0m invalid syntax\n"
     ]
    }
   ],
   "source": [
    "import math\n",
    "\n",
    "def surface_cone(rayon, hauteur):\n",
    "    aire_base = math.pi * rayon ** 2\n",
    "    aire_lateral = math.pi * rayon * math.sqrt(rayon**2 + hauteur)\n",
    "    surface = aire_base + aire_latérale\n",
    "    return surface\n",
    "\n",
    "r = input(\"Entrez le rayon du cône: \")\n",
    "h = input(\"Entrez la hauteur du cône: \")\n",
    "\n",
    "print(\"Rayon saisi:\", r)\n",
    "print(\"Hauteur saisie:\", h)\n",
    "\n",
    "resultat = surface_cone(r, h)\n",
    "\n",
    "print(\"La surface totale du cône est de\", resultat \"cm²\")\n"
   ]
  },
  {
   "cell_type": "code",
   "execution_count": 1,
   "id": "c4efe787",
   "metadata": {},
   "outputs": [
    {
     "name": "stdout",
     "output_type": "stream",
     "text": [
      "Rayon saisi: 3.0\n",
      "Hauteur saisie: 10.0\n",
      "La surface totale du cône est de 126.6719045711654 cm²\n"
     ]
    }
   ],
   "source": [
    "import math\n",
    "\n",
    "def surface_cone(rayon, hauteur):\n",
    "    aire_base = math.pi * rayon ** 2\n",
    "    aire_lateral = math.pi * rayon * math.sqrt(rayon**2 + hauteur**2)\n",
    "    surface = aire_base + aire_lateral\n",
    "    return surface\n",
    "\n",
    "r = float(input(\"Entrez le rayon du cône: \"))\n",
    "h = float(input(\"Entrez la hauteur du cône: \"))\n",
    "\n",
    "print(\"Rayon saisi:\", r)\n",
    "print(\"Hauteur saisie:\", h)\n",
    "\n",
    "resultat = surface_cone(r, h)\n",
    "\n",
    "print(\"La surface totale du cône est de\", resultat, \"cm²\")\n"
   ]
  },
  {
   "cell_type": "code",
   "execution_count": 3,
   "id": "3e353a66",
   "metadata": {},
   "outputs": [
    {
     "name": "stdout",
     "output_type": "stream",
     "text": [
      "Le cycliste a parcouru 4680.0 mètres en 12 minutes.\n"
     ]
    }
   ],
   "source": [
    "# vitesse en m/s (type: float)\n",
    "vitesse = 6.5\n",
    "\n",
    "# temps en minutes (type: int ou float)\n",
    "temps_minutes = 12\n",
    "\n",
    "# conversion en secondes\n",
    "temps_secondes = temps_minutes * 60  # type: int\n",
    "\n",
    "# calcul de la distance (type: float)\n",
    "distance = vitesse * temps_secondes\n",
    "\n",
    "# affichage du résultat\n",
    "print(f\"Le cycliste a parcouru {distance} mètres en {temps_minutes} minutes.\")"
   ]
  },
  {
   "cell_type": "code",
   "execution_count": 4,
   "id": "0b22d655",
   "metadata": {},
   "outputs": [
    {
     "name": "stdout",
     "output_type": "stream",
     "text": [
      "Quantité restante après 10.25 minutes : 143.75 mL\n"
     ]
    }
   ],
   "source": [
    "# Constantes\n",
    "Q0 = 400         # volume initial en mL\n",
    "V = 25           # vitesse d'évaporation en mL/min\n",
    "\n",
    "# Temps écoulé\n",
    "t_min = 10       # minutes\n",
    "t_sec = 15       # secondes\n",
    "t = t_min + t_sec / 60  # conversion en minutes\n",
    "\n",
    "# Calcul\n",
    "q = Q0 - V * t\n",
    "\n",
    "# Affichage\n",
    "print(f\"Quantité restante après {t} minutes : {q} mL\")"
   ]
  },
  {
   "cell_type": "code",
   "execution_count": 6,
   "id": "683c5543",
   "metadata": {},
   "outputs": [
    {
     "name": "stdout",
     "output_type": "stream",
     "text": [
      "Montant : 134.87 $\n",
      "Montant :     134.87 $\n",
      "Montant : 134.87     $\n",
      "Montant :     134.87 $\n",
      "Montant :   134.87   $\n"
     ]
    }
   ],
   "source": [
    "montant = 134.8678\n",
    "print(f\"Montant : {montant:.2f} $\")        # → Montant : 134.87 $\n",
    "print(f\"Montant : {montant:10.2f} $\")      # → Montant :     134.87 $\n",
    "print(f\"Montant : {montant:<10.2f} $\")     # → Montant : 134.87    $ \n",
    "print(f\"Montant : {montant:>10.2f} $\")     # → Montant : 134.87     $\n",
    "print(f\"Montant : {montant:^10.2f} $\")"
   ]
  },
  {
   "cell_type": "code",
   "execution_count": 7,
   "id": "efdeba2d",
   "metadata": {},
   "outputs": [
    {
     "name": "stdout",
     "output_type": "stream",
     "text": [
      "L'aire du rectangle est : 10\n"
     ]
    }
   ],
   "source": [
    "def aire_rectangle(longueur, largeur):\n",
    "    aire = longueur * largeur\n",
    "    return aire\n",
    "\n",
    "print(f\"L'aire du rectangle est : {aire_rectangle(5, 2)}\")"
   ]
  },
  {
   "cell_type": "code",
   "execution_count": 12,
   "id": "7ed25a86",
   "metadata": {},
   "outputs": [
    {
     "name": "stdout",
     "output_type": "stream",
     "text": [
      "Une température de 30°C équivaut à 303.15K\n"
     ]
    }
   ],
   "source": [
    "def convertir_C_en_K(celsius):\n",
    "    kelvin = celsius + 273.15\n",
    "    return kelvin\n",
    "\n",
    "print(f\"Une température de 30°C équivaut à {convertir_C_en_K(30)}K\")  # 303.15"
   ]
  },
  {
   "cell_type": "code",
   "execution_count": 13,
   "id": "92b1a532",
   "metadata": {},
   "outputs": [
    {
     "name": "stdout",
     "output_type": "stream",
     "text": [
      "L'énergie cinétique est de : 9.0\n"
     ]
    }
   ],
   "source": [
    "def energie_cinetique(m, v):\n",
    "    return 0.5 * m * v**2\n",
    "\n",
    "print(f\"L'énergie cinétique est de : {energie_cinetique(2.0, 3.0)}\")  # 9.0"
   ]
  },
  {
   "cell_type": "code",
   "execution_count": 15,
   "id": "17d84468",
   "metadata": {},
   "outputs": [
    {
     "name": "stdout",
     "output_type": "stream",
     "text": [
      "L'énergie cinétique est de l'objet est de 9.0 joules\n"
     ]
    }
   ],
   "source": [
    "def energie_cinetique(m, v):\n",
    "    return 0.5 * m * v**2\n",
    "\n",
    "print(f\"L'énergie cinétique est de l'objet est de {energie_cinetique(2.0, 3.0)} joules\")"
   ]
  },
  {
   "cell_type": "code",
   "execution_count": 16,
   "id": "6d30b719",
   "metadata": {},
   "outputs": [
    {
     "name": "stdout",
     "output_type": "stream",
     "text": [
      "Dans la fonction tu t'appelles : Nathalie\n"
     ]
    },
    {
     "ename": "NameError",
     "evalue": "name 'prenom' is not defined",
     "output_type": "error",
     "traceback": [
      "\u001b[1;31m---------------------------------------------------------------------------\u001b[0m",
      "\u001b[1;31mNameError\u001b[0m                                 Traceback (most recent call last)",
      "Cell \u001b[1;32mIn[16], line 6\u001b[0m\n\u001b[0;32m      3\u001b[0m     \u001b[38;5;28mprint\u001b[39m(\u001b[38;5;124mf\u001b[39m\u001b[38;5;124m\"\u001b[39m\u001b[38;5;124mDans la fonction tu t\u001b[39m\u001b[38;5;124m'\u001b[39m\u001b[38;5;124mappelles : \u001b[39m\u001b[38;5;132;01m{\u001b[39;00mprenom\u001b[38;5;132;01m}\u001b[39;00m\u001b[38;5;124m\"\u001b[39m)\n\u001b[0;32m      5\u001b[0m tester_variable()\n\u001b[1;32m----> 6\u001b[0m \u001b[38;5;28mprint\u001b[39m(\u001b[38;5;124mf\u001b[39m\u001b[38;5;124m\"\u001b[39m\u001b[38;5;124mÀ l\u001b[39m\u001b[38;5;124m'\u001b[39m\u001b[38;5;124mexterieur de la fonction tu t\u001b[39m\u001b[38;5;124m'\u001b[39m\u001b[38;5;124mappelles : \u001b[39m\u001b[38;5;132;01m{\u001b[39;00m\u001b[43mprenom\u001b[49m\u001b[38;5;132;01m}\u001b[39;00m\u001b[38;5;124m\"\u001b[39m) \n",
      "\u001b[1;31mNameError\u001b[0m: name 'prenom' is not defined"
     ]
    }
   ],
   "source": [
    "def tester_variable():\n",
    "    prenom = \"Nathalie\"\n",
    "    print(f\"Dans la fonction tu t'appelles : {prenom}\")\n",
    "\n",
    "tester_variable()\n",
    "print(f\"À l'exterieur de la fonction tu t'appelles : {prenom}\") "
   ]
  },
  {
   "cell_type": "code",
   "execution_count": 18,
   "id": "1a3b41ac",
   "metadata": {},
   "outputs": [
    {
     "ename": "IndentationError",
     "evalue": "expected an indented block after function definition on line 3 (2445855830.py, line 4)",
     "output_type": "error",
     "traceback": [
      "\u001b[1;36m  Cell \u001b[1;32mIn[18], line 4\u001b[1;36m\u001b[0m\n\u001b[1;33m    aire_base = math.pi * rayon ** 2\u001b[0m\n\u001b[1;37m    ^\u001b[0m\n\u001b[1;31mIndentationError\u001b[0m\u001b[1;31m:\u001b[0m expected an indented block after function definition on line 3\n"
     ]
    }
   ],
   "source": [
    "import math\n",
    "\n",
    "def surface_cone(rayon, hauteur):\n",
    "aire_base = math.pi * rayon ** 2\n",
    "    aire_lateral = math.pi * rayon * math.sqrt(rayon**2 + hauteur)\n",
    "    surface = aire_base + aire_latérale\n",
    "    return surface\n",
    "\n",
    "r = input(\"Entrez le rayon du cône: \")\n",
    "h = input(\"Entrez la hauteur du cône: \")\n",
    "\n",
    "print(\"Rayon saisi:\", r)\n",
    "print(\"Hauteur saisie:\", h)\n",
    "\n",
    "resultat = surface_cone(r, h)\n",
    "\n",
    "print(\"La surface totale du cône est de {resultat} cm²\")"
   ]
  }
 ],
 "metadata": {
  "kernelspec": {
   "display_name": "Python 3",
   "language": "python",
   "name": "python3"
  },
  "language_info": {
   "codemirror_mode": {
    "name": "ipython",
    "version": 3
   },
   "file_extension": ".py",
   "mimetype": "text/x-python",
   "name": "python",
   "nbconvert_exporter": "python",
   "pygments_lexer": "ipython3",
   "version": "3.11.9"
  }
 },
 "nbformat": 4,
 "nbformat_minor": 5
}
