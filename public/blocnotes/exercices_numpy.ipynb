{
 "cells": [
  {
   "cell_type": "markdown",
   "metadata": {},
   "source": [
    "# Exercices pratiques – NumPy\n",
    "\n",
    "Complète les exercices ci-dessous en remplissant les cellules de code."
   ]
  },
  {
   "cell_type": "code",
   "execution_count": null,
   "metadata": {},
   "outputs": [],
   "source": [
    "import numpy as np"
   ]
  },
  {
   "cell_type": "markdown",
   "metadata": {},
   "source": [
    "## Exercice 1 – Solubilité d’un sel\n",
    "\n",
    "Une solution a été testée à différentes températures. Voici les résultats (en g/100 mL) :"
   ]
  },
  {
   "cell_type": "code",
   "execution_count": null,
   "metadata": {},
   "outputs": [],
   "source": [
    "sol = np.array([32.0, 35.5, np.nan, 37.2, 39.0])"
   ]
  },
  {
   "cell_type": "markdown",
   "metadata": {},
   "source": [
    "1. Affiche les valeurs de solubilité.\n",
    "\n",
    "2. Calcule et affiche la moyenne **en ignorant la valeur manquante**.\n",
    "\n",
    "3. Calcule et affiche l’écart type."
   ]
  },
  {
   "cell_type": "markdown",
   "metadata": {},
   "source": [
    "## Exercice 2 – Températures journalières\n",
    "\n",
    "Un thermomètre enregistre la température trois fois par jour pendant 7 jours :"
   ]
  },
  {
   "cell_type": "code",
   "execution_count": null,
   "metadata": {},
   "outputs": [],
   "source": [
    "temperatures = np.array([\n",
    "    [12.1, 17.3, 14.2],\n",
    "    [11.8, 16.9, 13.9],\n",
    "    [13.0, 18.1, 15.0],\n",
    "    [12.5, 17.5, 14.7],\n",
    "    [np.nan, 16.0, 14.0],\n",
    "    [13.2, 18.0, 15.2],\n",
    "    [12.0, 17.0, 14.5]\n",
    "])"
   ]
  },
  {
   "cell_type": "markdown",
   "metadata": {},
   "source": [
    "1. Quelle est la forme (shape) du tableau ?\n",
    "\n",
    "2. Calcule la **moyenne journalière** pour chaque jour.\n",
    "\n",
    "3. Calcule la **température moyenne du matin** (1re colonne), en ignorant les données manquantes."
   ]
  },
  {
   "cell_type": "markdown",
   "metadata": {},
   "source": [
    "## Exercice 3 – Analyse d’ADN\n",
    "\n",
    "Un test mesure l’intensité de 5 fragments ADN pour deux échantillons :"
   ]
  },
  {
   "cell_type": "code",
   "execution_count": null,
   "metadata": {},
   "outputs": [],
   "source": [
    "ech1 = np.array([3.2, 2.8, 4.1, 3.9, 2.5])\n",
    "ech2 = np.array([2.9, 3.0, 4.2, 4.0, 2.7])"
   ]
  },
  {
   "cell_type": "markdown",
   "metadata": {},
   "source": [
    "1. Additionne les deux tableaux pour obtenir un profil combiné.\n",
    "\n",
    "2. Calcule la différence entre les deux échantillons.\n",
    "\n",
    "3. Calcule la moyenne et l’écart type pour chacun des deux."
   ]
  },
  {
   "cell_type": "markdown",
   "metadata": {},
   "source": [
    "## Exercice 4 – Pressions dans un cylindre\n",
    "\n",
    "On mesure la pression (en kPa) à différentes hauteurs (en cm) :"
   ]
  },
  {
   "cell_type": "code",
   "execution_count": null,
   "metadata": {},
   "outputs": [],
   "source": [
    "hauteur = np.linspace(0, 50, 6)\n",
    "pression = np.array([101.3, 100.0, 98.7, 97.5, 96.2, 95.0])"
   ]
  },
  {
   "cell_type": "markdown",
   "metadata": {},
   "source": [
    "1. Affiche les hauteurs et les pressions.\n",
    "\n",
    "2. Calcule la variation de pression par tranche de 10 cm.\n",
    "\n",
    "3. Calcule la moyenne de pression."
   ]
  },
  {
   "cell_type": "markdown",
   "metadata": {},
   "source": [
    "## Exercice 5 – Croissance d’une plante\n",
    "\n",
    "Une plante pousse de 2 cm par jour à partir de 5 cm."
   ]
  },
  {
   "cell_type": "markdown",
   "metadata": {},
   "source": [
    "1. Crée un tableau contenant la taille de la plante pendant 10 jours.\n",
    "\n",
    "2. Ajoute 1 cm à chaque valeur pour simuler un apport d’engrais.\n",
    "\n",
    "3. Calcule la moyenne de croissance avec et sans engrais."
   ]
  }
 ],
 "metadata": {
  "kernelspec": {
   "display_name": "Python 3",
   "language": "python",
   "name": "python3"
  },
  "language_info": {
   "name": "python",
   "version": ""
  }
 },
 "nbformat": 4,
 "nbformat_minor": 5
}
