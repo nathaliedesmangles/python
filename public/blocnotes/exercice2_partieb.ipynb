{
 "cells": [
  {
   "cell_type": "code",
   "execution_count": null,
   "id": "1b2f53b6",
   "metadata": {},
   "outputs": [],
   "source": [
    "def hauteur_maximale(vitesse):\n",
    "    G = 9,81\n",
    "    h = vitesse^2 / 2*G\n",
    "    return h\n",
    "\n",
    "v = input(\"Vitesse de départ : \")\n",
    "\n",
    "hauteur = hauteur_maximale(v)\n",
    "\n",
    "print(\"Hauteur maximale : \" + hauteur + \" m\")\n",
    "print(\"Arrondi à deux décimales :\", round(hmax, 2), \"m\")"
   ]
  }
 ],
 "metadata": {
  "language_info": {
   "name": "python"
  }
 },
 "nbformat": 4,
 "nbformat_minor": 5
}
