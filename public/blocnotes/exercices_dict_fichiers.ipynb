{
 "cells": [
  {
   "cell_type": "markdown",
   "metadata": {},
   "source": [
    "# Exercices – Dictionnaires et Fichiers CSV\n",
    "\n",
    "---\n",
    "\n",
    "## Exercice 1 – Densités\n",
    "\n",
    "Crée un dictionnaire `densites` qui contient la densité (en g/mL) de l’eau, de l’éthanol et du mercure :\n",
    "\n",
    "```python\n",
    "densites = {\n",
    "    \"eau\": ...,\n",
    "    \"éthanol\": ...,\n",
    "    \"mercure\": ...\n",
    "}\n",
    "```\n",
    "\n",
    "**Puis :**\n",
    "1. Affiche la densité du mercure.\n",
    "2. Ajoute la densité de l’huile (0.91 g/mL).\n",
    "3. Affiche toutes les substances et leur densité.\n"
   ]
  },
  {
   "cell_type": "code",
   "execution_count": null,
   "metadata": {},
   "outputs": [],
   "source": [
    "# Ton code ici\n"
   ]
  },
  {
   "cell_type": "markdown",
   "metadata": {},
   "source": [
    "## Exercice 2 – Chargement et exploration\n",
    "\n",
    "**Fichier requis :** `solubilite.csv`\n",
    "\n",
    "1. Charge le fichier `solubilite.csv`.\n",
    "2. Affiche les premières lignes.\n",
    "3. Affiche les noms de colonnes.\n",
    "4. Affiche toutes les températures pour le composé `\"NaCl\"`.\n"
   ]
  },
  {
   "cell_type": "code",
   "execution_count": null,
   "metadata": {},
   "outputs": [],
   "source": [
    "# Ton code ici\n"
   ]
  },
  {
   "cell_type": "markdown",
   "metadata": {},
   "source": [
    "## Exercice 3 – Moyenne de solubilité\n",
    "\n",
    "1. Calcule la moyenne de solubilité pour `\"KNO3\"`.\n",
    "2. Fais de même pour `\"NaCl\"`.\n",
    "3. Compare les deux valeurs avec des f-strings.\n"
   ]
  },
  {
   "cell_type": "code",
   "execution_count": null,
   "metadata": {},
   "outputs": [],
   "source": [
    "# Ton code ici\n"
   ]
  },
  {
   "cell_type": "markdown",
   "metadata": {},
   "source": [
    "## Exercice 4 – Boucle sur les composés\n",
    "\n",
    "1. Affiche la moyenne de solubilité pour chaque composé du fichier.\n",
    "2. Indique pour chacun si elle est supérieure à 80 g/100mL.\n"
   ]
  },
  {
   "cell_type": "code",
   "execution_count": null,
   "metadata": {},
   "outputs": [],
   "source": [
    "# Ton code ici\n"
   ]
  },
  {
   "cell_type": "markdown",
   "metadata": {},
   "source": [
    "## Exercice 5 – Ajout d’une colonne\n",
    "\n",
    "1. Crée une colonne `Tendance` qui vaut `\"Haute\"` si la solubilité est > 80 et `\"Faible\"` sinon.\n",
    "2. Affiche les 10 premières lignes du tableau mis à jour.\n"
   ]
  },
  {
   "cell_type": "code",
   "execution_count": null,
   "metadata": {},
   "outputs": [],
   "source": [
    "# Ton code ici\n"
   ]
  }
 ],
 "metadata": {
  "kernelspec": {
   "display_name": "Python 3",
   "language": "python",
   "name": "python3"
  },
  "language_info": {
   "name": "python",
   "version": "3.10"
  }
 },
 "nbformat": 4,
 "nbformat_minor": 5
}
