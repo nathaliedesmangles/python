{
 "cells": [
  {
   "cell_type": "markdown",
   "metadata": {},
   "source": [
    "# Exercices – Dictionnaires et Fichiers CSV\n"
   ]
  },
  {
   "cell_type": "code",
   "execution_count": null,
   "metadata": {},
   "outputs": [],
   "source": [
    "# Exercice 1 – Densités\n",
    "\n",
    "# Crée le dictionnaire `densites` qui contient la densité (en g/mL) de l’eau, de l’éthanol et du mercure :\n",
    "\n",
    "densites = \n",
    "\n",
    "#2.Affichez uniquement la densité du mercure. (Indice : utilise la clé \"mercure\" dans le dictionnaire.)\n",
    "#3.Ajoutez une nouvelle entrée au dictionnaire pour l’huile, avec une densité de 0.91. (Indice : utilise la clé \"huile\" dans le dictionnaire.)\n",
    "#4.Affichez ensuite toutes les substances et leur densité à l’aide d’une boucle for et de densites.items().\n"
   ]
  },
  {
   "cell_type": "markdown",
   "metadata": {},
   "source": [
    "# Exercice 2 – Chargement et exploration\n"
   ]
  },
  {
   "cell_type": "code",
   "execution_count": null,
   "metadata": {},
   "outputs": [],
   "source": [
    "# 1. Charger le fichier CSV\n",
    "# Utilisez la fonction pd.read_csv(\"solubilite.csv\") pour importer les données dans un DataFrame nommé df.\n",
    "# Explorer rapidement les données\n",
    "\n",
    "# 2. Affichez les 5 premières lignes du DataFrame avec la méthode .head().\n",
    "# Affichez les 10 premières lignes du DataFrame avec la méthode .head(10).\n",
    "\n",
    "# 3. Identifier la structure du tableau\n",
    "# Affichez la liste des noms de colonnes avec l’attribut .columns.\n",
    "\n",
    "# 4.Filtrer les données pour un composé précis\n",
    "# Sélectionnez toutes les températures correspondant au composé \"NaCl\".\n",
    "# Indice : commence par isoler les lignes où la colonne \"Composé\" vaut \"NaCl\", puis affiche uniquement la colonne \"Température\".\n",
    "\n",
    "\n"
   ]
  },
  {
   "cell_type": "markdown",
   "metadata": {},
   "source": [
    "# Exercice 3 – Moyenne de solubilité"
   ]
  },
  {
   "cell_type": "code",
   "execution_count": null,
   "metadata": {},
   "outputs": [],
   "source": [
    "#1. Sélectionne uniquement les valeurs de solubilité correspondant au sel \"KNO3\". Utilise df[df[“Compose”] == “KNO3”\n",
    "#2. Calcule la moyenne de ces valeurs à l’aide de mean(). Utilise le résultat de la question 1. avec un filtre sur la colonne “Solubilité”.\n",
    "#3. Répète la même opération pour le sel \"NaCl\".\n",
    "#4. Affiche un message contenant les deux moyennes.\n"
   ]
  },
  {
   "cell_type": "markdown",
   "metadata": {},
   "source": [
    "# Exercice 4 – Boucle sur les composés"
   ]
  },
  {
   "cell_type": "code",
   "execution_count": null,
   "metadata": {},
   "outputs": [],
   "source": [
    "#1. Calculez la moyenne de solubilité de chaque composé à partir des valeurs disponibles.\n",
    "# Utilisez .unique() pour pouvoir cibler tous les composé présents. Astuce : pense à utiliser une boucle pour traiter chaque composé du fichier.\n",
    "#2 Affichez le nom du composé suivi de sa moyenne de solubilité. Utilisez .mean().\n",
    "#3. Indiquez également si cette moyenne est supérieure à 80 g/100 mL ou non. *Utilisez if/else pour traiter le cas.\n"
   ]
  },
  {
   "cell_type": "markdown",
   "metadata": {},
   "source": [
    "## Exercice 5 – Ajout d’une colonne"
   ]
  },
  {
   "cell_type": "code",
   "execution_count": null,
   "metadata": {},
   "outputs": [],
   "source": [
    "#1. Crée une colonne Tendance qui vaut \"Haute\" si la solubilité est > 80 et \"Faible\" sinon.\n",
    "# Utilise np.where(condition, valeur_si_vrai, valauer_si_faux).\n",
    "#2. Affiche les 10 premières lignes du tableau mis à jour avec .head(10).\n",
    "#3. Refaites l’exercice, mais en utilisant df.loc au lieu de np.where() et assurez vous que les deux résultats sont les mêmes."
   ]
  }
 ],
 "metadata": {
  "kernelspec": {
   "display_name": "Python 3",
   "language": "python",
   "name": "python3"
  },
  "language_info": {
   "name": "python",
   "version": "3.10"
  }
 },
 "nbformat": 4,
 "nbformat_minor": 5
}
