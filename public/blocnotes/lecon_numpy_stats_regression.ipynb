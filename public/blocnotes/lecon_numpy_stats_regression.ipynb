{
 "cells": [
  {
   "cell_type": "markdown",
   "id": "d4c0ad54",
   "metadata": {},
   "source": [
    "# 📘 Leçon – Tableaux NumPy, masquage, statistiques de base et régression linéaire avec Matplotlib"
   ]
  },
  {
   "cell_type": "markdown",
   "id": "b66122e6",
   "metadata": {},
   "source": [
    "\n",
    "## 🎯 Objectifs\n",
    "À la fin de cette leçon, tu sauras :\n",
    "- créer et manipuler des tableaux NumPy,\n",
    "- effectuer des opérations vectorisées sur les données,\n",
    "- appliquer du **masquage** (filtrage conditionnel),\n",
    "- calculer des statistiques de base,\n",
    "- tracer une **droite de régression linéaire** avec `matplotlib.pyplot`.\n"
   ]
  },
  {
   "cell_type": "markdown",
   "id": "62c17632",
   "metadata": {},
   "source": [
    "## 🔢 1. Introduction à NumPy"
   ]
  },
  {
   "cell_type": "code",
   "execution_count": null,
   "id": "2d114c44",
   "metadata": {},
   "outputs": [],
   "source": [
    "import numpy as np\n",
    "\n",
    "# Création de tableaux à partir de listes\n",
    "x = np.array([1, 2, 3, 4])\n",
    "y = np.array([2, 4, 6, 8])\n",
    "\n",
    "print(x)\n",
    "print(type(x))"
   ]
  },
  {
   "cell_type": "markdown",
   "id": "ecf67d14",
   "metadata": {},
   "source": [
    "## ➕ 2. Opérations sur les tableaux"
   ]
  },
  {
   "cell_type": "code",
   "execution_count": null,
   "id": "4feddf5e",
   "metadata": {},
   "outputs": [],
   "source": [
    "# Opérations élément par élément\n",
    "print(x + 10)       # Ajoute 10 à chaque élément\n",
    "print(x * 2)        # Multiplie chaque élément par 2\n",
    "print(x ** 2)       # Met au carré chaque élément"
   ]
  },
  {
   "cell_type": "markdown",
   "id": "eecbc7d9",
   "metadata": {},
   "source": [
    "## 🎯 3. Masquage (filtrage conditionnel)"
   ]
  },
  {
   "cell_type": "code",
   "execution_count": null,
   "id": "920a979c",
   "metadata": {},
   "outputs": [],
   "source": [
    "# Masque : éléments de y supérieurs à 5\n",
    "print(y > 5)\n",
    "\n",
    "# Appliquer le masque\n",
    "grands = y[y > 5]\n",
    "print(\"Valeurs supérieures à 5 :\", grands)"
   ]
  },
  {
   "cell_type": "markdown",
   "id": "c5c547e0",
   "metadata": {},
   "source": [
    "## 📊 4. Statistiques de base"
   ]
  },
  {
   "cell_type": "code",
   "execution_count": null,
   "id": "6d0e6536",
   "metadata": {},
   "outputs": [],
   "source": [
    "print(\"Moyenne :\", np.mean(y))\n",
    "print(\"Écart-type :\", np.std(y))\n",
    "print(\"Valeur minimale :\", np.min(y))\n",
    "print(\"Valeur maximale :\", np.max(y))"
   ]
  },
  {
   "cell_type": "markdown",
   "id": "c2b06a37",
   "metadata": {},
   "source": [
    "## 📈 5. Régression linéaire (approximation droite)"
   ]
  },
  {
   "cell_type": "code",
   "execution_count": null,
   "id": "9789b6f2",
   "metadata": {},
   "outputs": [],
   "source": [
    "import matplotlib.pyplot as plt\n",
    "\n",
    "# Exemple : masse vs volume pour différents liquides\n",
    "volume = np.array([10, 20, 30, 40])\n",
    "masse = np.array([9.8, 19.6, 29.4, 39.1])  # légèrement bruité\n",
    "\n",
    "# Calcul des coefficients de régression\n",
    "a, b = np.polyfit(volume, masse, deg=1)  # y = ax + b\n",
    "\n",
    "# Affichage\n",
    "plt.scatter(volume, masse, label=\"Données expérimentales\")\n",
    "plt.plot(volume, a * volume + b, color='red', label=f\"Régression : y = {a:.2f}x + {b:.2f}\")\n",
    "plt.xlabel(\"Volume (mL)\")\n",
    "plt.ylabel(\"Masse (g)\")\n",
    "plt.title(\"Relation masse-volume\")\n",
    "plt.legend()\n",
    "plt.grid()\n",
    "plt.show()"
   ]
  },
  {
   "cell_type": "markdown",
   "id": "26955d74",
   "metadata": {},
   "source": [
    "# ✏️ Exercices – À faire **avant le cours**"
   ]
  },
  {
   "cell_type": "markdown",
   "id": "e38508f7",
   "metadata": {},
   "source": [
    "### 🔬 Exercice 1 – Énergie cinétique"
   ]
  },
  {
   "cell_type": "code",
   "execution_count": null,
   "id": "55b8d9dc",
   "metadata": {},
   "outputs": [],
   "source": [
    "# Crée un tableau de vitesses en m/s\n",
    "v = np.array([1.5, 2.0, 2.5, 3.0])\n",
    "\n",
    "# Masse fixe (ex : 2 kg)\n",
    "m = 2.0\n",
    "\n",
    "# Calcule l’énergie cinétique : Ec = 0.5 * m * v²\n",
    "Ec = 0.5 * m * v**2\n",
    "print(\"Énergies cinétiques :\", Ec)"
   ]
  },
  {
   "cell_type": "markdown",
   "id": "e9cdbc97",
   "metadata": {},
   "source": [
    "### 🔬 Exercice 2 – Températures à filtrer"
   ]
  },
  {
   "cell_type": "code",
   "execution_count": null,
   "id": "19d78882",
   "metadata": {},
   "outputs": [],
   "source": [
    "T = np.array([36.2, 37.1, 38.4, 39.0, 36.8])\n",
    "\n",
    "# Trouve les températures supérieures à 37.5\n",
    "fievre = T[T > 37.5]\n",
    "print(\"Températures en fièvre :\", fievre)"
   ]
  },
  {
   "cell_type": "markdown",
   "id": "a3597380",
   "metadata": {},
   "source": [
    "### 🔬 Exercice 3 – Droite de régression"
   ]
  },
  {
   "cell_type": "code",
   "execution_count": null,
   "id": "fe8b3b46",
   "metadata": {},
   "outputs": [],
   "source": [
    "temps = np.array([0, 1, 2, 3, 4])\n",
    "temp_ext = np.array([22.0, 22.8, 23.6, 24.4, 25.2])\n",
    "\n",
    "# Ajuste une droite : température extérieure vs temps\n",
    "a, b = np.polyfit(temps, temp_ext, deg=1)\n",
    "\n",
    "# Affiche les données et la droite\n",
    "plt.scatter(temps, temp_ext)\n",
    "plt.plot(temps, a * temps + b, color='orange')\n",
    "plt.title(\"Température extérieure vs temps\")\n",
    "plt.xlabel(\"Temps (h)\")\n",
    "plt.ylabel(\"Température (°C)\")\n",
    "plt.grid()\n",
    "plt.show()"
   ]
  }
 ],
 "metadata": {},
 "nbformat": 4,
 "nbformat_minor": 5
}
