```json
{
 "cells": [
  {
   "cell_type": "markdown",
   "metadata": {},
   "source": [
    "# 🌡️ Analyse de températures sur 7 jours\n",
    "\n",
    "Une station météorologique t’a envoyé un fichier `.csv` contenant les relevés bruts de températures (en °C) prises 3 fois par jour (matin, midi, soir) pendant 7 jours.\n",
    "\n",
    "Tu disposes déjà de la variable `donnees` ci-dessous. Suis les étapes pour analyser les données."
   ]
  },
  {
   "cell_type": "code",
   "execution_count": null,
   "metadata": {},
   "outputs": [],
   "source": [
    "donnees = [\n",
    "    \"12.3, 16.8, 14.0\",\n",
    "    \"11.5, 18.2, 15.4\",\n",
    "    \"10.8, 17.6, 14.9\",\n",
    "    \"13.0, 19.1, 16.3\",\n",
    "    \"14.1, 20.2, 18.5\",\n",
    "    \"12.9, 18.7, 16.2\",\n",
    "    \"11.7, 17.8, 15.0\"\n",
    "]"
   ]
  },
  {
   "cell_type": "markdown",
   "metadata": {},
   "source": [
    "## Étape 1 – Extraction et nettoyage des données\n",
    "\n",
    "Transforme chaque chaîne en une sous-liste de 3 nombres décimaux (float), et stocke le tout dans `temperatures`."
   ]
  },
  {
   "cell_type": "code",
   "execution_count": null,
   "metadata": {},
   "outputs": [],
   "source": [
    "temperatures = []\n",
    "\n",
    "# À COMPLÉTER : transformer les chaînes en listes de floats\n",
    "for ligne in donnees:\n",
    "    pass  # Remplace pass par ton code\n",
    "\n",
    "print(\"Liste des températures (liste imbriquée) :\")\n",
    "print(temperatures)"
   ]
  },
  {
   "cell_type": "markdown",
   "metadata": {},
   "source": [
    "## Étape 2 – Calculs sur les données"
   ]
  },
  {
   "cell_type": "code",
   "execution_count": null,
   "metadata": {},
   "outputs": [],
   "source": [
    "# Températures moyennes par jour\n",
    "moyennes_journalières = []\n",
    "\n",
    "# À COMPLÉTER : calculer la moyenne pour chaque jour\n",
    "\n",
    "print(\"Températures moyennes par jour :\")\n",
    "print(moyennes_journalières)"
   ]
  },
  {
   "cell_type": "code",
   "execution_count": null,
   "metadata": {},
   "outputs": [],
   "source": [
    "# Température maximale et jour associé\n",
    "temp_max = -1000\n",
    "jour_max = -1\n",
    "\n",
    "# À COMPLÉTER\n",
    "\n",
    "print(f\"Température maximale : {temp_max}°C (Jour {jour_max})\")"
   ]
  },
  {
   "cell_type": "code",
   "execution_count": null,
   "metadata": {},
   "outputs": [],
   "source": [
    "# Température moyenne générale\n",
    "total = 0\n",
    "n = 0\n",
    "\n",
    "# À COMPLÉTER\n",
    "\n",
    "moyenne_generale = 0  # Remplacer par le calcul réel\n",
    "print(f\"Température moyenne de la semaine : {moyenne_generale:.2f}°C\")"
   ]
  },
  {
   "cell_type": "markdown",
   "metadata": {},
   "source": [
    "## Étape 3 – Visualisation avec matplotlib"
   ]
  },
  {
   "cell_type": "code",
   "execution_count": null,
   "metadata": {},
   "outputs": [],
   "source": [
    "import matplotlib.pyplot as plt\n",
    "\n",
    "jours = [1, 2, 3, 4, 5, 6, 7]\n",
    "\n",
    "# À COMPLÉTER : tracer le graphique\n",
    "\n",
    "# plt.plot(...)\n",
    "# plt.title(...)\n",
    "# plt.xlabel(...)\n",
    "# plt.ylabel(...)\n",
    "# plt.grid()\n",
    "# plt.savefig(\"graphique_temperature.png\")\n",
    "# plt.show()"
   ]
  },
  {
   "cell_type": "markdown",
   "metadata": {},
   "source": [
    "## Étape 4 – Exploration des chaînes de caractères"
   ]
  },
  {
   "cell_type": "code",
   "execution_count": null,
   "metadata": {},
   "outputs": [],
   "source": [
    "compteur_midi_supra_18 = 0\n",
    "\n",
    "# À COMPLÉTER : extraire les températures de midi\n",
    "\n",
    "print(f\"Nombre de jours où la température de midi a dépassé 18°C : {compteur_midi_supra_18}\")"
   ]
  },
  {
   "cell_type": "markdown",
   "metadata": {},
   "source": [
    "---\n",
    "🧰 **Boîte à outils**\n",
    "- `float()`\n",
    "- `.split(',')`\n",
    "- `.append()`\n",
    "- `sum()`, `len()`\n",
    "- `plt.plot()` et cie"
   ]
  }
 ],
 "metadata": {
  "kernelspec": {
   "display_name": "Python 3",
   "language": "python",
   "name": "python3"
  },
  "language_info": {
   "name": "python",
   "version": ""
  }
 },
 "nbformat": 4,
 "nbformat_minor": 2
}
```
