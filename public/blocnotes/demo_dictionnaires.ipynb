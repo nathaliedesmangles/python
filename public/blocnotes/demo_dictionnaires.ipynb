{
 "cells": [
  {
   "cell_type": "markdown",
   "id": "23a5cad2",
   "metadata": {},
   "source": [
    "### Créations de dictionnaires"
   ]
  },
  {
   "cell_type": "code",
   "execution_count": null,
   "id": "00ed45c6",
   "metadata": {},
   "outputs": [],
   "source": [
    "# Clés des entiers\n",
    "concentrations = {1: 0.10, 2: 0.15, 3: 0.20}\n",
    "print(concentrations)"
   ]
  },
  {
   "cell_type": "code",
   "execution_count": null,
   "id": "836ee97b",
   "metadata": {},
   "outputs": [],
   "source": [
    "# Clés des chaines de caractères\n",
    "capitales = {\n",
    "    \"Canada\": \"Ottawa\",\n",
    "    \"France\": \"Marseille\",\t# Erreur volontaire\n",
    "    \"Japon\": \"Tokyo\"\n",
    "}"
   ]
  },
  {
   "cell_type": "markdown",
   "id": "a2d2f4e6",
   "metadata": {},
   "source": [
    "### Accès"
   ]
  },
  {
   "cell_type": "code",
   "execution_count": null,
   "id": "d9460f5a",
   "metadata": {},
   "outputs": [],
   "source": [
    "print(capitales[\"Canada\"])   # Ottawa"
   ]
  },
  {
   "cell_type": "code",
   "execution_count": null,
   "id": "109b3762",
   "metadata": {},
   "outputs": [],
   "source": [
    "#print(capitales[\"USA\"])"
   ]
  },
  {
   "cell_type": "code",
   "execution_count": null,
   "id": "c84c7613",
   "metadata": {},
   "outputs": [],
   "source": [
    "print(capitales.get(\"USA\", \"Inconnu\"))   # Inconnu"
   ]
  },
  {
   "cell_type": "markdown",
   "id": "c96e42e4",
   "metadata": {},
   "source": [
    "### Ajout et modification"
   ]
  },
  {
   "cell_type": "code",
   "execution_count": null,
   "id": "2fc52770",
   "metadata": {},
   "outputs": [],
   "source": [
    "capitales[\"Mexique\"] = \"Mexico\"   # ajout\n",
    "capitales[\"France\"] = \"Paris\" # modification\n",
    "print(capitales)"
   ]
  },
  {
   "cell_type": "markdown",
   "id": "a83801de",
   "metadata": {},
   "source": [
    "### Suppression"
   ]
  },
  {
   "cell_type": "code",
   "execution_count": null,
   "id": "b317ad3d",
   "metadata": {},
   "outputs": [],
   "source": [
    "del capitales[\"France\"]\n",
    "print(capitales)"
   ]
  },
  {
   "cell_type": "markdown",
   "id": "6a872904",
   "metadata": {},
   "source": [
    "### Parcours - Clés et Valeurs"
   ]
  },
  {
   "cell_type": "code",
   "execution_count": null,
   "id": "9386059f",
   "metadata": {},
   "outputs": [],
   "source": [
    "for pays, capitale in capitales.items():\n",
    "    print(pays, \"→\", capitale)"
   ]
  },
  {
   "cell_type": "markdown",
   "id": "06785607",
   "metadata": {},
   "source": [
    "### Parcours avec la boucle for"
   ]
  },
  {
   "cell_type": "markdown",
   "id": "baf8d6bf",
   "metadata": {},
   "source": [
    "#### Parcours des clés seulement"
   ]
  },
  {
   "cell_type": "code",
   "execution_count": null,
   "id": "9f2c1525",
   "metadata": {},
   "outputs": [],
   "source": [
    "for pays in capitales.keys():\n",
    "    print(pays)"
   ]
  },
  {
   "cell_type": "markdown",
   "id": "c96ae632",
   "metadata": {},
   "source": [
    "#### Parcours des valeurs seulement"
   ]
  },
  {
   "cell_type": "code",
   "execution_count": null,
   "id": "f1d2e8a9",
   "metadata": {},
   "outputs": [],
   "source": [
    "for capitale in capitales.values():\n",
    "    print(capitale)"
   ]
  },
  {
   "cell_type": "markdown",
   "id": "365b05fe",
   "metadata": {},
   "source": [
    "### Parcours SANS boucle - Clés, Valeurs"
   ]
  },
  {
   "cell_type": "code",
   "execution_count": null,
   "id": "9bdf83c7",
   "metadata": {},
   "outputs": [],
   "source": [
    "print(\"Clés:\", list(capitales.keys()))\n",
    "print(\"Valeurs :\", list(capitales.values()))"
   ]
  },
  {
   "cell_type": "markdown",
   "id": "7045bc58",
   "metadata": {},
   "source": [
    "### Construire un dictionnaire avec une boucle"
   ]
  },
  {
   "cell_type": "code",
   "execution_count": null,
   "id": "b42e30a8",
   "metadata": {},
   "outputs": [],
   "source": [
    "cubes = {}  # Dictionnaire vide\n",
    "\n",
    "for n in range(1, 6):\n",
    "    cubes[n] = n**3\n",
    "    \n",
    "print(\"Dictionnaire des cubes :\", cubes)\n"
   ]
  },
  {
   "cell_type": "markdown",
   "id": "929af630",
   "metadata": {},
   "source": [
    "#### Exemple 1 - Calcul de la moyenne des 3 tests de 2 étudiants"
   ]
  },
  {
   "cell_type": "code",
   "execution_count": null,
   "id": "2b380b3e",
   "metadata": {},
   "outputs": [],
   "source": [
    "resultats = {\n",
    "    \"Hervé\": [0.50, 0.88, 0.92],\n",
    "    \"Annie\": [0.45, 0.77, 0.86]\n",
    "}\n",
    "for etudiant, notes in resultats.items():\n",
    "    moyenne = sum(notes) / len(notes)\n",
    "    print(etudiant, \"→\", round(moyenne * 100,2), \"%\")\n"
   ]
  },
  {
   "cell_type": "markdown",
   "id": "758bcc0d",
   "metadata": {},
   "source": [
    "#### Exemple 2 - Graphique des résultats des 2 étudiants\n",
    "##### (Avec une boucle for)"
   ]
  },
  {
   "cell_type": "code",
   "execution_count": null,
   "id": "9117a7c8",
   "metadata": {},
   "outputs": [],
   "source": [
    "import matplotlib.pyplot as plt\n",
    "\n",
    "# Dictionnaire des résultats\n",
    "resultats = {\n",
    "    \"Hervé\": [0.50, 0.88, 0.92],\n",
    "    \"Annie\": [0.45, 0.77, 0.86]\n",
    "}\n",
    "\n",
    "# Créer une liste des numéros d'évaluations (1, 2, 3)\n",
    "evaluations = range(1, len(resultats[\"Hervé\"]) + 1) # +1, car premier index =0\n",
    "\n",
    "# Tracer une courbe pour chaque étudiant\n",
    "# x --> evaluations; y --> notes\n",
    "for etudiant, notes in resultats.items():\n",
    "    plt.plot(evaluations, notes, marker=\"o\", label=etudiant)\n",
    "\n",
    "# Ajouter titres et légende\n",
    "plt.title(\"Évolution des notes\")\n",
    "plt.xlabel(\"Évaluations\")\n",
    "plt.ylabel(\"Notes\")\n",
    "plt.legend()\n",
    "plt.grid(True)\n",
    "\n",
    "# Afficher le graphique\n",
    "plt.show()\n"
   ]
  },
  {
   "cell_type": "markdown",
   "id": "b2a2509e",
   "metadata": {},
   "source": [
    "#### Exemple 2 - Graphique des résultats des 2 étudiants\n",
    "##### (SANS boucle)"
   ]
  },
  {
   "cell_type": "code",
   "execution_count": null,
   "id": "c1f39d31",
   "metadata": {},
   "outputs": [],
   "source": [
    "import matplotlib.pyplot as plt\n",
    "\n",
    "resultats = {\n",
    "    \"Hervé\": [0.50, 0.88, 0.92],\n",
    "    \"Annie\": [0.45, 0.77, 0.86]\n",
    "}\n",
    "\n",
    "# Extraire les noms et les notes\n",
    "# liste des clés = liste des noms\n",
    "noms = list(resultats.keys())   \n",
    "# print(noms)   # Affiche ['Hervé', 'Annie']\n",
    "\n",
    "# liste des valeurs = une liste de listes\n",
    "notes = list(resultats.values())   \n",
    "# print(notes)  # Affiche [[0.5, 0.88, 0.92], [0.45, 0.77, 0.86]]\n",
    "\n",
    "\n",
    "evaluations = range(1, len(notes[0]) + 1)\n",
    "\n",
    "# Tracés séparés sans boucle\n",
    "# notes[0] --> Notes de Hervé\n",
    "# notes[1] --> Notes d'Annie\n",
    "# x --> evaluations; y --> notes\n",
    "\n",
    "plt.plot(evaluations, notes[0], marker=\"o\", label=noms[0])\n",
    "plt.plot(evaluations, notes[1], marker=\"o\", label=noms[1])\n",
    "\n",
    "plt.title(\"Évolution des notes\")\n",
    "plt.xlabel(\"Évaluations\")\n",
    "plt.ylabel(\"Notes\")\n",
    "plt.legend()\n",
    "plt.grid(True)\n",
    "plt.show()\n"
   ]
  }
 ],
 "metadata": {
  "kernelspec": {
   "display_name": "Python 3",
   "language": "python",
   "name": "python3"
  },
  "language_info": {
   "codemirror_mode": {
    "name": "ipython",
    "version": 3
   },
   "file_extension": ".py",
   "mimetype": "text/x-python",
   "name": "python",
   "nbconvert_exporter": "python",
   "pygments_lexer": "ipython3",
   "version": "3.13.5"
  }
 },
 "nbformat": 4,
 "nbformat_minor": 5
}
