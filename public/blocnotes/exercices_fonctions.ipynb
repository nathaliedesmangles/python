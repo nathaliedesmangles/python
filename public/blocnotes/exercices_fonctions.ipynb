{
 "cells": [
  {
   "cell_type": "markdown",
   "id": "c84fa28e",
   "metadata": {},
   "source": [
    "```markdown\n",
    "{{% notice style=\"magenta\" title=\"Appel de fonction\" groupid=\"notice-toggle\" expanded=\"false\" %}}\n",
    "Pour les exercices #2 à #5, utilisez (appelez) la fonction créée.\n",
    "{{% /notice %}}\n",
    "\n",
    "[Bloc-notes de départ](https://python-a25.netlify.app/blocnotes/exercices_entrees_fn_debug.ipynb)\n",
    "```\n"
   ]
  },
  {
   "cell_type": "markdown",
   "id": "3338ce0d",
   "metadata": {},
   "source": [
    "## Exercice 1 : La loi d'Ohm\n",
    "\n",
    "Un technicien de laboratoire vous demande d'écrire un programme Python pour calculer la tension (U) en volts selon la loi d’Ohm. Il voudrait pouvoir entrer la valeur de la résistance (en ohms) et la valeur du courant (en ampères), puis obtenir la tension.\n",
    "\n",
    "```math\n",
    "Loi d’Ohm : $ U = R × I $\n",
    "```\n",
    "\n",
    "Le technicien souhaiterait pouvoir réutiliser le programme plus facilement et dans d'autres situations. Pour ce faire, il vous demande d'écrire une fonction qui : \n",
    "\n",
    "1. Demande à l'utilisateur d'entrer la valeur de la résistance (en ohms).\n",
    "2. Demande à l'utilisateur d'entrer la valeur du courant (en ampères).\n",
    "3. Calcule et affiche la tension à l'aide d'une phrase.\n",
    "\n",
    "**NB** : Ajoutez des explications en commentaire dans le code.\n",
    "\n",
    "**Résultat attendu** :\n",
    "```\n",
    "Entrer la résistance en ohms : 10\n",
    "Entrer le courant en ampères : 2\n",
    "La tension est de 20.0 V\n",
    "```"
   ]
  },
  {
   "cell_type": "markdown",
   "id": "178d3035",
   "metadata": {},
   "source": [
    "### Exercice 2 : Élément chimique\n",
    "\n",
    "Écrire une fonction `element_chm(elt)` qui :\n",
    "* Prend en paramètre le nom d’un élément chimique.\n",
    "* Affiche un message disant \"L’élément choisi est [nom]\"\n",
    "\n",
    "**Exemple d'affichage attendu (élément oxygène)** :\n",
    "```python\n",
    "L’élément choisi est : oxygène\n",
    "```"
   ]
  },
  {
   "cell_type": "markdown",
   "id": "6c71cc1a",
   "metadata": {},
   "source": [
    "### Exercice 3 : Convertir Celsius en Kelvin\n",
    "\n",
    "Crée une fonction nommée `convertir_C_en_K` qui :\n",
    "* prend une température en °C en paramètre\n",
    "* retourne la température en Kelvin (formule : K = C + 273.15)\n",
    "\n",
    "**Exemple d'affichage attendu (30°C)** :\n",
    "```python\n",
    "Une température de 30°C équivaut à 303.15 K.\n",
    "```"
   ]
  },
  {
   "cell_type": "markdown",
   "id": "810b9f51",
   "metadata": {},
   "source": [
    "### Exercice 4 : Calculer une énergie cinétique\n",
    "\n",
    "Créez une fonction `energie_cinetique(m, v)` qui calcule et retourne la valeur de l'énergie cinétique d'un objet en joules:\n",
    "\n",
    "```math\n",
    "$E_c = \\frac{1}{2} \\cdot m \\cdot v^2$\n",
    "```\n",
    "\n",
    "où\n",
    "* m  : La masse de l'objet en kilogrammes.\n",
    "* v  : La vitesse de l'objet en mètres par seconde.\n",
    "\n",
    "**Exemple d'affichage attendu avec `masse=2.0 kg` et `vitesse=3.0 m/s`** :\n",
    "```python\n",
    "L'énergie cinétique de l'objet est de 9.0 joules.\n",
    "```"
   ]
  },
  {
   "cell_type": "markdown",
   "id": "b750f860",
   "metadata": {},
   "source": [
    "### Exercice 5 : Aire d'un cercle\n",
    "\n",
    "Écrire une fonction `aire_cercle()` qui :\n",
    "* Demande à l'utilisateur d'entrer le rayon du cercle (en cm).\n",
    "* Calcule l'aire du cercle (utilisez le **module math** pour PI et le rayon².)\n",
    "* Affiche l'aire du cercle, arrondie à 2 décimales (utilisez la fonction `round`).\n",
    "\n",
    "**Exemple d'affichage attendu (rayon de 5 cm)** :\n",
    "```python\n",
    "Aire du cercle de rayon 5 cm : 78.54 cm²\n",
    "```"
   ]
  },
  {
   "cell_type": "markdown",
   "id": "c4ad1908",
   "metadata": {},
   "source": [
    "### Exercice 6 : Vérifier la portée locale\n",
    "\n",
    "Crée une fonction `tester_variable()` qui crée une variable `prenom = \"votre prénom\"` et l’affiche dans la fonction avec un `print`.\n",
    "Essaye ensuite d’afficher la valeur de `prenom` **à l’extérieur de la fonction**.\n",
    "\n",
    "**Exemple d'affichage attendu** :\n",
    "```python\n",
    "NameError                                 Traceback (most recent call last)\n",
    "Cell In[16], line 6\n",
    "      3     print(f\"Dans la fonction tu t'appelles : {prenom}\")\n",
    "      5 tester_variable()\n",
    "----> 6 print(f\"À l'exterieur de la fonction tu t'appelles : {prenom}\") \n",
    "\n",
    "NameError: name 'prenom' is not defined\n",
    "```"
   ]
  }
 ],
 "metadata": {},
 "nbformat": 4,
 "nbformat_minor": 5
}
