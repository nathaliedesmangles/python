{
 "cells": [
  {
   "cell_type": "markdown",
   "id": "c40c707b",
   "metadata": {},
   "source": [
    "# Analyse de la croissance des algues\n",
    "\n",
    "Dans cet exercice, tu analyseras la relation entre la température de l’eau et la croissance d’algues (mesurée en taux de croissance journalier) pour deux espèces : *Cladophora* et *Spirogyra*.\n",
    "\n",
    "Les données sont contenues dans un fichier CSV."
   ]
  },
  {
   "cell_type": "code",
   "execution_count": null,
   "id": "f6efb07a",
   "metadata": {},
   "outputs": [],
   "source": [
    "# Importation des bibliothèques permises\n",
    "import ___ as pd\n",
    "import ___ as np\n",
    "import ___ as plt"
   ]
  },
  {
   "cell_type": "code",
   "execution_count": null,
   "id": "8d370535",
   "metadata": {},
   "outputs": [],
   "source": [
    "# Étape 1 - Lecture\n",
    "df = pd.read_csv() # À compléter\n",
    "\n",
    "# Vérifier les NaN\n",
    "# À compléter\n",
    "\n",
    "# Conversion NumPy des températures et des taux\n",
    "# À compléter"
   ]
  },
  {
   "cell_type": "code",
   "execution_count": null,
   "id": "959c3abf",
   "metadata": {},
   "outputs": [],
   "source": [
    "# Étape 2 - Analyse par espèce\n",
    "donnees_par_espece = {}\n",
    "\n",
    "# À compléter, utiliser une boucle for\n",
    "\n",
    "\n",
    "resume = {}\n",
    "# À compléter, utiliser une boucle for\n",
    "\n",
    "\n",
    "print(\"Résumé par espèce :\")\n",
    "# À compléter, utiliser une boucle for"
   ]
  },
  {
   "cell_type": "code",
   "execution_count": null,
   "id": "4111d54c",
   "metadata": {},
   "outputs": [],
   "source": [
    "# Étape 3 - Graphique\n",
    "plt.figure(figsize=(8,6))\n",
    "\n",
    "especes = df[\"Espèce\"].unique()\n",
    "# À compléter, utiliser une boucle for\n",
    "\n",
    "    # Régression linéaire\n",
    "    # À compléter\n",
    "    coeffs = ___\n",
    "    y_pred = ___\n",
    "    plt.plot()\n",
    "    \n",
    "# Graphique\n",
    "# À compléter (titre, étiquettes, légende, grille, sauvegarde)\n"
   ]
  },
  {
   "cell_type": "code",
   "execution_count": null,
   "id": "0e1e05a8",
   "metadata": {},
   "outputs": [],
   "source": [
    "# Étape 4 - Recherche capteur\n",
    "nom_capteur = input(\"Entrez le nom du capteur : \")\n",
    "filtre = ___ # À compléter\n",
    "\n",
    "if filtre.empty:\n",
    "    print(\"Aucune donnée pour ce capteur.\")\n",
    "else:\n",
    "    print(\"Mesures associées :\")\n",
    "    # À compléter, utiliser une boucle for"
   ]
  }
 ],
 "metadata": {
  "language_info": {
   "name": "python"
  }
 },
 "nbformat": 4,
 "nbformat_minor": 5
}
