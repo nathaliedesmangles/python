{
 "cells": [
  {
   "cell_type": "markdown",
   "id": "4c285087",
   "metadata": {},
   "source": [
    "# 🧪 Atelier : Boucles sans listes ni tableaux\n",
    "\n",
    "Cet atelier te permet de pratiquer les boucles `for` et `while` dans un contexte scientifique authentique, sans utiliser de listes ni de tableaux.\n",
    "\n",
    "**Tu peux utiliser :**\n",
    "- Variables (`a = 3`, etc.)\n",
    "- `input()`, `print()`\n",
    "- `if`, `for`, `while`\n",
    "- `int()` et `float()`"
   ]
  },
  {
   "cell_type": "markdown",
   "id": "692c1d78",
   "metadata": {},
   "source": [
    "## ⚗️ Exercice 1 – Réaction chimique : combien de fois?\n",
    "**Contexte :** Une réaction a lieu entre deux réactifs A et B. À chaque cycle, 1 mL de A réagit avec 2 mL de B.\n",
    "\n",
    "**But :** Demande à l’utilisateur combien de mL il a de A et B. Ensuite, affiche combien de fois la réaction peut avoir lieu en entier et combien il reste de mL après.\n",
    "\n",
    "**Consignes :**\n",
    "- Utilise une boucle `while`\n",
    "- À chaque itération, soustrais 1 mL de A et 2 mL de B\n",
    "- Arrête quand l’un des deux réactifs est insuffisant\n",
    "\n",
    "**Exemple attendu :**\n",
    "```\n",
    "Quantité de A disponible (en mL) : 10\n",
    "Quantité de B disponible (en mL) : 25\n",
    "\n",
    "La réaction a eu lieu 5 fois.\n",
    "Il reste 0 mL de A et 15 mL de B.\n",
    "```"
   ]
  },
  {
   "cell_type": "code",
   "execution_count": null,
   "id": "192f16f9",
   "metadata": {},
   "outputs": [],
   "source": [
    "# Ton code ici\n"
   ]
  },
  {
   "cell_type": "markdown",
   "id": "95516321",
   "metadata": {},
   "source": [
    "## 🧬 Exercice 2 – Détection de mutation\n",
    "**Contexte :** Tu analyses des échantillons. Chaque échantillon est soit sain (`0`), soit muté (`1`).\n",
    "\n",
    "**But :** Demande combien d’échantillons seront analysés. Ensuite, demande un à un le résultat (`0` ou `1`). À la fin, affiche le nombre et le pourcentage d’échantillons mutés.\n",
    "\n",
    "**Consignes :**\n",
    "- Utilise une boucle `for`\n",
    "- Compte les réponses valant `1`\n",
    "- Calcule et affiche le pourcentage\n",
    "\n",
    "**Exemple attendu :**\n",
    "```\n",
    "Combien d’échantillons vas-tu analyser? 4\n",
    "Échantillon 1 : sain (0) ou muté (1)? 0\n",
    "Échantillon 2 : sain (0) ou muté (1)? 1\n",
    "Échantillon 3 : sain (0) ou muté (1)? 1\n",
    "Échantillon 4 : sain (0) ou muté (1)? 0\n",
    "\n",
    "2/4 échantillons sont mutés.\n",
    "Pourcentage de mutation : 50.0 %\n",
    "```"
   ]
  },
  {
   "cell_type": "code",
   "execution_count": null,
   "id": "06dffaf4",
   "metadata": {},
   "outputs": [],
   "source": [
    "# Ton code ici\n"
   ]
  }
 ],
 "metadata": {},
 "nbformat": 4,
 "nbformat_minor": 5
}
