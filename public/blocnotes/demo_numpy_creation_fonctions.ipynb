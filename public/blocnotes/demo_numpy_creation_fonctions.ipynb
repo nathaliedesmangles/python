{
 "cells": [
  {
   "cell_type": "markdown",
   "metadata": {},
   "source": [
    "# Demo NumPy - Bloc-notes 1 : Création et Fonctions\n"
   ]
  },
  {
   "cell_type": "code",
   "execution_count": null,
   "metadata": {},
   "outputs": [],
   "source": [
    "import numpy as np"
   ]
  },
  {
   "cell_type": "markdown",
   "metadata": {},
   "source": [
    "## Création de tableaux\n",
    "- Avec np.array()\n",
    "- Avec np.arange()\n",
    "- Avec np.linspace()\n",
    "- Avec np.ones(n)\n",
    "- Avec np.zeros(n)"
   ]
  },
  {
   "cell_type": "code",
   "execution_count": null,
   "metadata": {},
   "outputs": [],
   "source": [
    "liste = [2, 4, 6]\n",
    "t = np.array(liste)\n",
    "print(t)\n",
    "t = np.arange(0, 5, 1)\n",
    "print(t)\n",
    "t = np.linspace(0, 10, 5)\n",
    "print(t)\n",
    "t = np.ones(4)\n",
    "print(t)\n",
    "t = np.zeros(3)\n",
    "print(t)"
   ]
  },
  {
   "cell_type": "markdown",
   "metadata": {},
   "source": [
    "## Fonctions mathématiques\n",
    "- np.sqrt, np.cbrt, np.exp, np.log, np.log2, np.log10"
   ]
  },
  {
   "cell_type": "code",
   "execution_count": null,
   "metadata": {},
   "outputs": [],
   "source": [
    "t = np.array([4, 9, 16])\n",
    "print(np.sqrt(t))\n",
    "t = np.array([27, 64, 216])\n",
    "print(np.cbrt(t))\n",
    "t = np.array([0, 1, 2])\n",
    "print(np.exp(t))\n",
    "t = np.array([1, np.e, np.e**2])\n",
    "print(np.log(t))\n",
    "t = np.array([1, 2, 4, 8])\n",
    "print(np.log2(t))\n",
    "t = np.array([1, 10, 100, 0.1])\n",
    "print(np.log10(t))"
   ]
  },
  {
   "cell_type": "markdown",
   "metadata": {},
   "source": [
    "## Fonctions statistiques\n",
    "- np.sum, np.prod, np.max, np.min, np.mean, np.median, np.var, np.std"
   ]
  },
  {
   "cell_type": "code",
   "execution_count": null,
   "metadata": {},
   "outputs": [],
   "source": [
    "t = np.array([3, 7, 2, 9])\n",
    "print(np.sum(t))\n",
    "print(np.prod(t))\n",
    "print(np.max(t))\n",
    "print(np.min(t))\n",
    "t = np.array([80, 90, 100])\n",
    "print(np.mean(t))\n",
    "t = np.array([1, 2, 3, 4])\n",
    "print(np.median(t))\n",
    "print(np.var(t))\n",
    "print(np.std(t))"
   ]
  },
  {
   "cell_type": "markdown",
   "metadata": {},
   "source": [
    "## Fonctions trigonométriques\n",
    "- np.sin, np.cos, np.tan, np.arcsin, np.arccos, np.arctan, np.deg2rad, np.rad2deg"
   ]
  },
  {
   "cell_type": "code",
   "execution_count": null,
   "metadata": {},
   "outputs": [],
   "source": [
    "angles = np.array([0, np.pi/2, np.pi])\n",
    "print(np.sin(angles))\n",
    "print(np.cos(angles))\n",
    "print(np.tan(angles))\n",
    "t = np.array([1, -1, 0.1])\n",
    "print(np.arcsin(t))\n",
    "print(np.arccos(t))\n",
    "print(np.arctan(t))\n",
    "t = np.array([90, 180, 270, 360])\n",
    "print(np.deg2rad(t))\n",
    "t = np.array([np.pi/2, np.pi, 1.5*np.pi, 2*np.pi])\n",
    "print(np.rad2deg(t))"
   ]
  },
  {
   "cell_type": "markdown",
   "metadata": {},
   "source": [
    "## Différences consécutives\n",
    "- np.diff()"
   ]
  },
  {
   "cell_type": "code",
   "execution_count": null,
   "metadata": {},
   "outputs": [],
   "source": [
    "t = np.array([0, 5, 15])\n",
    "print(np.diff(t))"
   ]
  },
  {
   "cell_type": "markdown",
   "metadata": {},
   "source": [
    "## Opérations vectorisées et arithmétiques élément par élément"
   ]
  },
  {
   "cell_type": "code",
   "execution_count": null,
   "metadata": {},
   "outputs": [],
   "source": [
    "t = np.array([0, 1, 2])\n",
    "x = 3 * t**2\n",
    "print(x)\n",
    "a = np.array([1, 2, 3, 4])\n",
    "b = np.array([10, 20, 30, 40])\n",
    "print(a+b)\n",
    "print(a-b)\n",
    "print(a*b)\n",
    "print(a/b)\n",
    "print(a**2)\n",
    "print(np.abs([-3, -5]))"
   ]
  }
 ],
 "metadata": {
  "kernelspec": {
   "display_name": "Python 3",
   "language": "python",
   "name": "python3"
  },
  "language_info": {
   "name": "python",
   "version": "3.11"
  }
 },
 "nbformat": 4,
 "nbformat_minor": 5
}
