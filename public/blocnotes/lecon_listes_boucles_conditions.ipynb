{
 "cells": [
  {
   "cell_type": "markdown",
   "id": "e1d39cb4",
   "metadata": {},
   "source": [
    "# 📘 Leçon – Listes, chaînes de caractères, boucles `for`, conditions"
   ]
  },
  {
   "cell_type": "markdown",
   "id": "f8e83d76",
   "metadata": {},
   "source": [
    "\n",
    "## 🎯 Objectifs\n",
    "À la fin de cette leçon, tu sauras :\n",
    "- créer et manipuler une **liste** (séquence d’éléments),\n",
    "- parcourir une liste avec une **boucle `for`**,\n",
    "- manipuler des **chaînes de caractères** (`str`),\n",
    "- utiliser des **conditions (`if`, `else`)** pour prendre des décisions.\n"
   ]
  },
  {
   "cell_type": "markdown",
   "id": "6dbdd5b3",
   "metadata": {},
   "source": [
    "## 🧺 1. Les listes"
   ]
  },
  {
   "cell_type": "code",
   "execution_count": null,
   "id": "d5bcaa97",
   "metadata": {},
   "outputs": [],
   "source": [
    "mesures = [23.1, 24.8, 22.6, 25.0]\n",
    "noms = [\"eau\", \"éthanol\", \"acétone\"]"
   ]
  },
  {
   "cell_type": "markdown",
   "id": "02cd215e",
   "metadata": {},
   "source": [
    "### 🔍 Accéder à un élément"
   ]
  },
  {
   "cell_type": "code",
   "execution_count": null,
   "id": "a74d24f2",
   "metadata": {},
   "outputs": [],
   "source": [
    "print(mesures[0])   # 23.1\n",
    "print(noms[2])      # \"acétone\""
   ]
  },
  {
   "cell_type": "markdown",
   "id": "37211458",
   "metadata": {},
   "source": [
    "### ✍️ Modifier un élément"
   ]
  },
  {
   "cell_type": "code",
   "execution_count": null,
   "id": "6f509d7d",
   "metadata": {},
   "outputs": [],
   "source": [
    "noms[1] = \"méthanol\""
   ]
  },
  {
   "cell_type": "markdown",
   "id": "f2cb783c",
   "metadata": {},
   "source": [
    "### ➕ Ajouter un élément"
   ]
  },
  {
   "cell_type": "code",
   "execution_count": null,
   "id": "cd19f38d",
   "metadata": {},
   "outputs": [],
   "source": [
    "noms.append(\"chloroforme\")"
   ]
  },
  {
   "cell_type": "markdown",
   "id": "d066f35e",
   "metadata": {},
   "source": [
    "### 🔁 Parcourir une liste avec une boucle `for`"
   ]
  },
  {
   "cell_type": "code",
   "execution_count": null,
   "id": "55c31b75",
   "metadata": {},
   "outputs": [],
   "source": [
    "for nom in noms:\n",
    "    print(\"Substance :\", nom)"
   ]
  },
  {
   "cell_type": "markdown",
   "id": "55632870",
   "metadata": {},
   "source": [
    "## 📜 2. Chaînes de caractères (`str`)"
   ]
  },
  {
   "cell_type": "code",
   "execution_count": null,
   "id": "4e09f5a8",
   "metadata": {},
   "outputs": [],
   "source": [
    "adn = \"ATGCGTTA\"\n",
    "print(adn[0])     # A\n",
    "print(adn[-1])    # A"
   ]
  },
  {
   "cell_type": "markdown",
   "id": "b32c7841",
   "metadata": {},
   "source": [
    "### 🧪 Parcourir une séquence ADN"
   ]
  },
  {
   "cell_type": "code",
   "execution_count": null,
   "id": "096ebd9e",
   "metadata": {},
   "outputs": [],
   "source": [
    "for base in adn:\n",
    "    print(base)"
   ]
  },
  {
   "cell_type": "markdown",
   "id": "fb08eb8d",
   "metadata": {},
   "source": [
    "### 🔧 Fonctions utiles"
   ]
  },
  {
   "cell_type": "code",
   "execution_count": null,
   "id": "ebee6be2",
   "metadata": {},
   "outputs": [],
   "source": [
    "texte = \"Éthanol\"\n",
    "print(len(texte))\n",
    "print(texte.lower())\n",
    "print(texte.upper())"
   ]
  },
  {
   "cell_type": "markdown",
   "id": "41b39326",
   "metadata": {},
   "source": [
    "## 🔁 3. Boucles `for` avec `range()`"
   ]
  },
  {
   "cell_type": "code",
   "execution_count": null,
   "id": "1282200c",
   "metadata": {},
   "outputs": [],
   "source": [
    "for i in range(4):\n",
    "    print(\"Mesure\", i)"
   ]
  },
  {
   "cell_type": "markdown",
   "id": "05b62518",
   "metadata": {},
   "source": [
    "## ❓ 4. Conditions : `if`, `elif`, `else`"
   ]
  },
  {
   "cell_type": "code",
   "execution_count": null,
   "id": "88971d9c",
   "metadata": {},
   "outputs": [],
   "source": [
    "temp = 37\n",
    "if temp > 38:\n",
    "    print(\"Fièvre\")\n",
    "elif temp < 36:\n",
    "    print(\"Hypothermie\")\n",
    "else:\n",
    "    print(\"Température normale\")"
   ]
  },
  {
   "cell_type": "markdown",
   "id": "19cb32b5",
   "metadata": {},
   "source": [
    "# ✏️ Exercices – À faire **avant le cours**"
   ]
  },
  {
   "cell_type": "markdown",
   "id": "b4d450ba",
   "metadata": {},
   "source": [
    "### 🔬 Exercice 1 – Analyse d’une séquence d’ADN"
   ]
  },
  {
   "cell_type": "code",
   "execution_count": null,
   "id": "9cba20d8",
   "metadata": {},
   "outputs": [],
   "source": [
    "adn = \"ATGCGTTA\"\n",
    "\n",
    "# Afficher chaque base\n",
    "for base in adn:\n",
    "    print(base)\n",
    "\n",
    "# Compter le nombre de G\n",
    "nb_g = 0\n",
    "for base in adn:\n",
    "    if base == \"G\":\n",
    "        nb_g += 1\n",
    "\n",
    "print(\"Nombre de G :\", nb_g)"
   ]
  },
  {
   "cell_type": "markdown",
   "id": "b6eb5f9b",
   "metadata": {},
   "source": [
    "### 🔬 Exercice 2 – Températures expérimentales"
   ]
  },
  {
   "cell_type": "code",
   "execution_count": null,
   "id": "2e63f4a2",
   "metadata": {},
   "outputs": [],
   "source": [
    "temperatures = [36.7, 37.2, 38.5, 35.8, 36.9]\n",
    "\n",
    "for t in temperatures:\n",
    "    if t > 37.5:\n",
    "        print(t, \": fièvre\")\n",
    "    elif t < 36:\n",
    "        print(t, \": hypothermie\")\n",
    "    else:\n",
    "        print(t, \": normale\")"
   ]
  },
  {
   "cell_type": "markdown",
   "id": "ad54cd13",
   "metadata": {},
   "source": [
    "### 🔬 Exercice 3 – Masse des échantillons"
   ]
  },
  {
   "cell_type": "code",
   "execution_count": null,
   "id": "1bb7b66f",
   "metadata": {},
   "outputs": [],
   "source": [
    "masses = []\n",
    "for i in range(3):\n",
    "    masse = float(input(\"Entrez une masse (g) : \"))\n",
    "    masses.append(masse)\n",
    "\n",
    "# Calcul de la moyenne\n",
    "moyenne = sum(masses) / len(masses)\n",
    "print(\"Masse moyenne :\", moyenne)\n",
    "\n",
    "# Vérifier si une masse dépasse 10 g\n",
    "for m in masses:\n",
    "    if m > 10.0:\n",
    "        print(m, \"g dépasse 10 g\")"
   ]
  },
  {
   "cell_type": "markdown",
   "id": "7665244c",
   "metadata": {},
   "source": [
    "### 🔬 Exercice 4 – Longueur de mots scientifiques"
   ]
  },
  {
   "cell_type": "code",
   "execution_count": null,
   "id": "42e1ede9",
   "metadata": {},
   "outputs": [],
   "source": [
    "mots = [\"glucose\", \"éthanol\", \"acide\", \"phosphate\"]\n",
    "\n",
    "for mot in mots:\n",
    "    print(mot, \":\", len(mot), \"lettres\")\n",
    "    if len(mot) > 6:\n",
    "        print(\"-->\", mot, \"est un mot long\")"
   ]
  }
 ],
 "metadata": {},
 "nbformat": 4,
 "nbformat_minor": 5
}
