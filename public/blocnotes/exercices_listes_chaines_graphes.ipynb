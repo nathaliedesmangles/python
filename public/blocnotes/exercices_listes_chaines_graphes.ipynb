{
 "cells": [
  {
   "cell_type": "markdown",
   "id": "886d2ce9",
   "metadata": {},
   "source": [
    "## Listes"
   ]
  },
  {
   "cell_type": "code",
   "execution_count": 10,
   "id": "a55a0b61",
   "metadata": {},
   "outputs": [],
   "source": [
    "# Exercice 1\n",
    "# Crée une liste contenant 5 animaux. Affiche chaque animal avec une phrase du type :\n",
    "# Voici un/une <animal>\n"
   ]
  },
  {
   "cell_type": "code",
   "execution_count": 11,
   "id": "b806426d",
   "metadata": {},
   "outputs": [],
   "source": [
    "# Exercice 2 :\n",
    "# Crée une grille de 5 lignes et 4 colonnes (liste de listes) contenant des chiffres.\n",
    "\n",
    "# Affiche tous les chiffres un par un.\n"
   ]
  },
  {
   "cell_type": "code",
   "execution_count": 12,
   "id": "aad40c0c",
   "metadata": {},
   "outputs": [],
   "source": [
    "# Exercice 3 :\n",
    "# Demande à l’utilisateur d’entrer 3 noms et stocke-les dans une liste.\n",
    "\n",
    "# Affiche chaque animal en ordre alphabétique croissant.\n",
    "\n",
    "# Affiche chaque animal en ordre alphabétique décroissant."
   ]
  },
  {
   "cell_type": "code",
   "execution_count": 13,
   "id": "5dc35be3",
   "metadata": {},
   "outputs": [],
   "source": [
    "# Exercice 4\n",
    "# Crée une liste de séquences :\n",
    "suspects = [\n",
    "    [\"A\", \"T\", \"C\", \"G\"],\n",
    "    [\"G\", \"A\", \"T\", \"G\"],\n",
    "    [\"A\", \"T\", \"T\", \"G\"]\n",
    "]\n",
    "\n",
    "# Affiche la 2e base de la 1re séquence.\n",
    "\n",
    "# Affiche la dernière base de la 3e séquence."
   ]
  },
  {
   "cell_type": "markdown",
   "id": "01ee713b",
   "metadata": {},
   "source": [
    "## Chaines de caractères"
   ]
  },
  {
   "cell_type": "code",
   "execution_count": 14,
   "id": "83fe62ce",
   "metadata": {},
   "outputs": [],
   "source": [
    "# Exercice 5 - Créer une liste de nombres à partir d’une liste de mots\n",
    "# Utiliser une boucle pour obtenir le nombre de lettres de chaque mot\n",
    "\n",
    "# Pour chacun des mots, ajouter son nombre de lettres dans la liste nb_lettres."
   ]
  },
  {
   "cell_type": "code",
   "execution_count": 15,
   "id": "6a2227ba",
   "metadata": {},
   "outputs": [],
   "source": [
    "# Exercice 6 - Convertir en ARN\n",
    "# Une séquence d’ADN est “ATGCT”.\n",
    "\n",
    "# Mets-la en minuscules.\n",
    "\n",
    "# Remplace les “t” par “u”."
   ]
  },
  {
   "cell_type": "markdown",
   "id": "6b644946",
   "metadata": {},
   "source": [
    "## Graphiques"
   ]
  },
  {
   "cell_type": "code",
   "execution_count": 16,
   "id": "117943b9",
   "metadata": {},
   "outputs": [],
   "source": [
    "# Exercice 7 – Température dans une journée\n",
    "# Crée un graphique de température en fonction de l’heure.\n",
    "\n",
    "# Ajoute :\n",
    "#- Un titre \"Température en fonction de l’heure\"\n",
    "#- Les étiquettes \"Heure (h)\" et \"Température (°C)\"\n",
    "#- Une grille\n",
    "\n",
    "heures = [0, 4, 8, 12, 16, 20, 24]\n",
    "temperatures = [-5, -2, 3, 7, 6, 1, -2]"
   ]
  },
  {
   "cell_type": "code",
   "execution_count": 17,
   "id": "c61a136c",
   "metadata": {},
   "outputs": [],
   "source": [
    "# Exercice 8 - Comparaison des valeurs mesurées et attendues\n",
    "\n",
    "temp = [10, 20, 30, 40, 50]\n",
    "attendu = [2.1, 3.8, 5.6, 7.3, 9.0]\n",
    "mesure =  [2.0, 3.9, 5.2, 7.5, 8.8]\n",
    "\n",
    "# Affiche les valeurs attendues avec plt.plot(...) (ligne noire avec des ronds).\n",
    "\n",
    "# Affiche les valeurs mesurées avec plt.bar(...) (barres bleues légèrement transparentes).\n",
    "\n",
    "# Ajoute un titre, une légende, les étiquettes d’axes et une grille."
   ]
  }
 ],
 "metadata": {
  "kernelspec": {
   "display_name": "Python 3",
   "language": "python",
   "name": "python3"
  },
  "language_info": {
   "codemirror_mode": {
    "name": "ipython",
    "version": 3
   },
   "file_extension": ".py",
   "mimetype": "text/x-python",
   "name": "python",
   "nbconvert_exporter": "python",
   "pygments_lexer": "ipython3",
   "version": "3.13.5"
  }
 },
 "nbformat": 4,
 "nbformat_minor": 5
}
