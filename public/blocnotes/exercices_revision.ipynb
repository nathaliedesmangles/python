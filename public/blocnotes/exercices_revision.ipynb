{
 "cells": [
  {
   "cell_type": "markdown",
   "id": "0702b11d",
   "metadata": {},
   "source": [
    "\n",
    "# Révision finale — Programmation et sciences de la nature\n",
    "\n",
    "Ce carnet regroupe **5 exercices authentiques** liés à la chimie et à la physique, permettant de réviser les principales notions vues dans le cours. \n",
    "\n",
    "> ⚠️ Les exercices utilisent des **fonctions, boucles, conditions, listes, dictionnaires, fichiers CSV, tableaux NumPy, graphiques avec matplotlib**, etc.\n",
    "\n",
    "Chaque exercice est indépendant. N'hésitez pas à utiliser des `print()` pour valider votre raisonnement.\n",
    "\n",
    "---\n"
   ]
  },
  {
   "cell_type": "markdown",
   "id": "d9a4dc3f",
   "metadata": {},
   "source": [
    "\n",
    "## 🔬 Exercice 1 : Neutralisation acide-base\n",
    "\n",
    "Un technicien doit ajuster progressivement le volume d’une base versée dans une solution acide pour atteindre un pH proche de 7.\n",
    "\n",
    "### Tâches :\n",
    "1. Simule l’ajout progressif de base (en mL) par pas de 0.5 mL.\n",
    "2. Utilise une fonction `ph(volume_base)` qui retourne un pH fictif selon une loi simplifiée :\n",
    "\n",
    "```python\n",
    "def ph(volume_base):\n",
    "    return 3 + 4 * (1 - 2.718**(-0.8 * volume_base))\n",
    "```\n",
    "\n",
    "3. Affiche les volumes testés et les pH obtenus.\n",
    "4. Arrête la boucle quand le pH est entre 6.8 et 7.2.\n",
    "\n",
    "> Variante : Tracer la courbe `volume vs pH` avec matplotlib.\n"
   ]
  },
  {
   "cell_type": "code",
   "execution_count": null,
   "id": "88986206",
   "metadata": {},
   "outputs": [],
   "source": [
    "# Ton code ici"
   ]
  },
  {
   "cell_type": "markdown",
   "id": "7de05dcd",
   "metadata": {},
   "source": [
    "\n",
    "## ⚛️ Exercice 2 : Désintégration radioactive\n",
    "\n",
    "On veut modéliser la désintégration d’un isotope radioactif avec une demi-vie donnée.\n",
    "\n",
    "### Tâches :\n",
    "1. Crée une fonction `quantite_restante(q0, t, demivie)` qui retourne la quantité restante après t secondes.\n",
    "2. Calcule cette quantité pour chaque 5 secondes jusqu'à 60 s.\n",
    "3. Affiche les quantités sous forme de liste.\n",
    "4. Trace la courbe avec matplotlib.\n",
    "\n",
    "> Formule : $q = q_0 \\times 0.5^{t / \\text{demivie}}$\n"
   ]
  },
  {
   "cell_type": "code",
   "execution_count": null,
   "id": "319454bf",
   "metadata": {},
   "outputs": [],
   "source": [
    "# Ton code ici"
   ]
  },
  {
   "cell_type": "markdown",
   "id": "cd507534",
   "metadata": {},
   "source": [
    "\n",
    "## 💧 Exercice 3 : Titrage par conductimétrie\n",
    "\n",
    "Un fichier `conductivite.csv` contient deux colonnes : `volume` (en mL) et `conductivite` (en µS).\n",
    "\n",
    "### Tâches :\n",
    "1. Lis le fichier avec `csv` ou `pandas`.\n",
    "2. Affiche les données.\n",
    "3. Trace le graphique volume vs conductivité.\n",
    "4. Estime le point d’équivalence (là où la conductivité change de tendance).\n",
    "\n",
    "> Bonus : Estime ce point par une interpolation.\n"
   ]
  },
  {
   "cell_type": "code",
   "execution_count": null,
   "id": "ccd17622",
   "metadata": {},
   "outputs": [],
   "source": [
    "# Ton code ici"
   ]
  },
  {
   "cell_type": "markdown",
   "id": "1beda4a5",
   "metadata": {},
   "source": [
    "\n",
    "## 🧪 Exercice 4 : Absorbance et concentration\n",
    "\n",
    "On suit l’absorbance d’un indicateur pour différentes concentrations selon la loi de Beer-Lambert.\n",
    "\n",
    "### Tâches :\n",
    "1. Stocke les concentrations (mol/L) et absorbances dans deux tableaux.\n",
    "2. Trace le nuage de points.\n",
    "3. Calcule la droite de régression (pente + ordonnée).\n",
    "4. Estime la concentration d’une solution inconnue à absorbance = 0.55.\n",
    "\n",
    "> Bonus : Ajoute des barres d’erreur sur les points.\n"
   ]
  },
  {
   "cell_type": "code",
   "execution_count": null,
   "id": "c44a2f17",
   "metadata": {},
   "outputs": [],
   "source": [
    "# Ton code ici"
   ]
  },
  {
   "cell_type": "markdown",
   "id": "37722dd6",
   "metadata": {},
   "source": [
    "\n",
    "## ⚙️ Exercice 5 : Rampe inclinée avec friction\n",
    "\n",
    "Un objet glisse sur une rampe inclinée. Tu dois calculer sa position chaque 0.1 s pendant 10 s.\n",
    "\n",
    "### Tâches :\n",
    "1. Demande à l’utilisateur :\n",
    "   - l’angle (degrés)\n",
    "   - la masse (kg)\n",
    "   - le coefficient de friction µ\n",
    "2. Calcule l’accélération nette.\n",
    "3. Simule la position chaque 0.1 s.\n",
    "4. Affiche la courbe position vs temps.\n",
    "\n",
    "> Formules utiles : \n",
    "- $F_{\\text{pente}} = mg \\sin(\\theta)$\n",
    "- $F_{\\text{friction}} = \\mu mg \\cos(\\theta)$\n",
    "- $a = (F_{\\text{résultante}})/m$\n"
   ]
  },
  {
   "cell_type": "code",
   "execution_count": null,
   "id": "d558108a",
   "metadata": {},
   "outputs": [],
   "source": [
    "# Ton code ici"
   ]
  }
 ],
 "metadata": {},
 "nbformat": 4,
 "nbformat_minor": 5
}
