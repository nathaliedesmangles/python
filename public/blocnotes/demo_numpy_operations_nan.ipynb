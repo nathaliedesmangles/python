{
 "cells": [
  {
   "cell_type": "markdown",
   "metadata": {},
   "source": [
    "# Demo NumPy - Bloc-notes 2 : Gestion des données et filtrage\n"
   ]
  },
  {
   "cell_type": "code",
   "execution_count": null,
   "metadata": {},
   "outputs": [],
   "source": [
    "import numpy as np"
   ]
  },
  {
   "cell_type": "markdown",
   "metadata": {},
   "source": [
    "## Gestion des valeurs manquantes\n",
    "- np.nan représente une valeur manquante\n",
    "- np.nanmean, np.nansum, np.nanmedian, np.nanstd permettent d'ignorer les NaN"
   ]
  },
  {
   "cell_type": "code",
   "execution_count": null,
   "metadata": {},
   "outputs": [],
   "source": [
    "sol = np.array([32.0, np.nan, 37.2])\n",
    "moy = np.nanmean(sol)\n",
    "print(f\"Moyenne (sans valeur manquante) : {moy:.2f} g/100mL\")"
   ]
  },
  {
   "cell_type": "markdown",
   "metadata": {},
   "source": [
    "## Découpage et slicing\n",
    "Exemples de sélection de tranches dans un tableau 1D."
   ]
  },
  {
   "cell_type": "code",
   "execution_count": null,
   "metadata": {},
   "outputs": [],
   "source": [
    "t = np.array([10, 20, 30, 40, 50])\n",
    "print(t[1:4])  # indices 1 à 3\n",
    "print(t[0:5:2])  # un élément sur deux\n",
    "print(t[:3])\n",
    "print(t[2:])\n",
    "print(t[:])"
   ]
  },
  {
   "cell_type": "markdown",
   "metadata": {},
   "source": [
    "## Filtrage de données\n",
    "Créer un masque booléen pour filtrer les éléments selon une condition."
   ]
  },
  {
   "cell_type": "code",
   "execution_count": null,
   "metadata": {},
   "outputs": [],
   "source": [
    "tableau = np.array([2, 5, 7, 1, 8, 3])\n",
    "masque = tableau > 5\n",
    "print(f\"Masque booléen : {masque}\")\n",
    "valeurs_filtrees = tableau[masque]\n",
    "print(f\"Valeurs supérieures à 5 : {valeurs_filtrees}\")"
   ]
  },
  {
   "cell_type": "markdown",
   "metadata": {},
   "source": [
    "## Comptage conditionnel\n",
    "Combien de valeurs dépassent un seuil ?"
   ]
  },
  {
   "cell_type": "code",
   "execution_count": null,
   "metadata": {},
   "outputs": [],
   "source": [
    "tableau = np.array([3, 7, 4, 6, 2, 9, 5])\n",
    "seuil = 5\n",
    "nb_valeurs = np.sum(tableau > seuil)\n",
    "print(f\"Nombre de valeurs supérieures à {seuil} : {nb_valeurs}\")"
   ]
  },
  {
   "cell_type": "markdown",
   "metadata": {},
   "source": [
    "## Filtrage conditionnel avec np.where()\n",
    "Créer un tableau de labels selon une condition."
   ]
  },
  {
   "cell_type": "code",
   "execution_count": null,
   "metadata": {},
   "outputs": [],
   "source": [
    "import pandas as pd\n",
    "df = pd.DataFrame({'Note':[55, 72, 61, 48, 90]})\n",
    "df['Tendance'] = np.where(df['Note'] >= 60, 'Réussi', 'Échoué')\n",
    "print(df)"
   ]
  }
 ],
 "metadata": {
  "kernelspec": {
   "display_name": "Python 3",
   "language": "python",
   "name": "python3"
  },
  "language_info": {
   "name": "python",
   "version": "3.11"
  }
 },
 "nbformat": 4,
 "nbformat_minor": 5
}
