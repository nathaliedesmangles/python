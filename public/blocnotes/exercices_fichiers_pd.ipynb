{
 "cells": [
  {
   "cell_type": "markdown",
   "metadata": {},
   "source": [
    "# Exercices sur la lecture et l'écriture de fichiers avec Pandas"
   ]
  },
  {
   "cell_type": "markdown",
   "metadata": {},
   "source": [
    "## Exercice 3\n",
    "1. Téléchargez un fichier `students.csv` contenant les colonnes : `Nom,Âge,Note`.\n",
    "2. Lisez-le dans un DataFrame `df_etudiants`.\n",
    "3. Affichez les 3 premières lignes.\n",
    "4. Affichez le résumé statistique des notes."
   ]
  },
  {
   "cell_type": "code",
   "metadata": {},
   "source": [
    "import pandas as pd\n",
    "\n",
    "# 1. Lire le fichier CSV\n",
    "# TODO : df_etudiants = pd.read_csv('students.csv')\n",
    "\n",
    "# 2. Afficher les 3 premières lignes\n",
    "# TODO : df_etudiants.head(3)\n",
    "\n",
    "# 3. Résumé statistique des notes\n",
    "# TODO : df_etudiants['Note'].describe()\n"
   ]
  },
  {
   "cell_type": "markdown",
   "metadata": {},
   "source": [
    "## Exercice 4\n",
    "1. Ajoutez une colonne `Mention` au DataFrame en fonction de la note :\n",
    "   * `>= 70` → \"Bien\"\n",
    "   * `>= 50` → \"Passable\"\n",
    "   * `< 50` → \"Échec\"\n",
    "2. Enregistrez le DataFrame dans un fichier `etudiants_mentions.csv`."
   ]
  },
  {
   "cell_type": "code",
   "metadata": {},
   "source": [
    "# TODO : ajouter la colonne Mention avec conditions (pd.cut ou np.where)\n",
    "# TODO : enregistrer le fichier CSV avec df_etudiants.to_csv(...)\n"
   ]
  },
  {
   "cell_type": "markdown",
   "metadata": {},
   "source": [
    "## Exercice 5\n",
    "1. Ouvrez un fichier `experiment.txt` séparé par des tabulations avec colonnes : `Température`, `Pression`, `Volume`.\n",
    "2. Lisez-le dans un DataFrame.\n",
    "3. Enregistrez-le sous `experiment_export.txt` en conservant les tabulations."
   ]
  },
  {
   "cell_type": "code",
   "metadata": {},
   "source": [
    "# TODO : df = pd.read_csv(..., sep='\\t')\n",
    "# TODO : df.to_csv('experiment_export.txt', sep='\\t', index=False)\n"
   ]
  }
 ],
 "metadata": {
  "kernelspec": {
   "display_name": "Python 3",
   "language": "python",
   "name": "python3"
  },
  "language_info": {
   "name": "python",
   "version": "3.x"
  }
 },
 "nbformat": 4,
 "nbformat_minor": 5
}
