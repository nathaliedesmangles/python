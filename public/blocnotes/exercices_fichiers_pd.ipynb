{
 "cells": [
  {
   "cell_type": "markdown",
   "metadata": {},
   "source": [
    "# Manipulation de donnnées dans un fichier avec Pandas"
   ]
  },
  {
   "cell_type": "markdown",
   "metadata": {},
   "source": [
    "## Exercice 3\n",
    "1. Téléchargez un fichier `etudiants.csv` contenant les colonnes : `Nom,Âge,Note`.\n",
    "2. Lisez-le dans un DataFrame `df_etudiants`.\n",
    "3. Affichez les 3 premières lignes.\n",
    "4. Affichez le résumé statistique des notes."
   ]
  },
  {
   "cell_type": "code",
   "execution_count": null,
   "metadata": {},
   "outputs": [],
   "source": [
    "import pandas as pd\n",
    "\n",
    "# 1. Lire le fichier CSV\n",
    "# TODO : \n",
    "\n",
    "# 2. Afficher les 3 premières lignes\n",
    "# TODO : \n",
    "\n",
    "# 3. Résumé statistique des notes\n",
    "# TODO : \n"
   ]
  },
  {
   "cell_type": "markdown",
   "metadata": {},
   "source": [
    "## Exercice 4\n",
    "1. Ajoutez une colonne `Mention` au DataFrame en fonction de la note :\n",
    "   * `>= 70` → \"Bien\"\n",
    "   * `>= 50` → \"Passable\"\n",
    "   * `< 50` → \"Échec\"\n",
    "2. Enregistrez le DataFrame dans un fichier `etudiants_mentions.csv`."
   ]
  },
  {
   "cell_type": "code",
   "execution_count": null,
   "metadata": {},
   "outputs": [],
   "source": [
    "# TODO : ajouter la colonne Mention avec conditions (np.where)\n",
    "# TODO : enregistrer le fichier CSV avec df_etudiants.to_csv(...)\n"
   ]
  },
  {
   "cell_type": "markdown",
   "metadata": {},
   "source": [
    "## Exercice 5\n",
    "1. Ouvrez un fichier `experience.txt` séparé par des tabulations avec colonnes : `Température`, `Pression`, `Volume`.\n",
    "2. Lisez-le dans un DataFrame.\n",
    "3. Enregistrez-le sous `experience_export.txt` en conservant les tabulations."
   ]
  },
  {
   "cell_type": "code",
   "execution_count": null,
   "metadata": {},
   "outputs": [],
   "source": [
    "# TODO : df = pd.read_csv(..., sep='\\t')\n",
    "# TODO : df.to_csv(\"\", sep='\\t', index=False)\n"
   ]
  },
  {
   "cell_type": "markdown",
   "id": "84db167e",
   "metadata": {},
   "source": [
    "## Exercice 6\n",
    "1. Lire le fichier `solubilite_sel.csv` à l’aide de pandas et afficher son contenu.\n",
    "2. Vérifier la présence de valeurs manquantes. \n",
    "3. Compter le nombre total de valeurs manquantes dans le tableau (`df.isna().sum().sum()`).\n",
    "4. Remplacer les valeurs manquantes par la moyenne des autres valeurs mesurées. \n",
    "5. Afficher le nouveau tableau et vérifier qu’il ne contient plus de valeurs manquantes.\n",
    "6. Tracer un graphique (plot()) de la solubilité en fonction de la température pour visualiser le résultat."
   ]
  },
  {
   "cell_type": "code",
   "execution_count": null,
   "id": "49d787fc",
   "metadata": {},
   "outputs": [],
   "source": [
    "import pandas as pd\n",
    "\n",
    "# 1. Lire le fichier CSV\n",
    "df = pd.read_csv(...) # TODO : À compléter\n",
    "\n",
    "# 2. Vérification des valeurs manquantes\n",
    "print(\"Valeurs manquantes :\")\n",
    "print(...) # TODO : À compléter\n",
    "\n",
    "# 3. Nombre total de valeurs manquantes\n",
    "print(\"Nombre total de NaN :\", ...) # TODO : À compléter\n",
    "\n",
    "# 4. Remplacement des NaN par la moyenne\n",
    "moyenne = df[...].mean()    # TODO : À compléter\n",
    "df[...] = df[...].fillna(...) # TODO : À compléter\n",
    "\n",
    "# 5. Vérification après remplacement\n",
    "print()\n",
    "print(\"Données après traitement :\")\n",
    "# TODO : À compléter\n",
    "\n",
    "# 6. Visualisation\n",
    "plt.plot(..., ..., marker='o') # TODO : À compléter\n",
    "plt.xlabel(\"Température (°C)\")\n",
    "plt.ylabel(\"Solubilité (g/100 mL)\")\n",
    "plt.title(\"Solubilité d’un sel en fonction de la température\")\n",
    "plt.show()\n"
   ]
  },
  {
   "cell_type": "markdown",
   "id": "5fbf5488",
   "metadata": {},
   "source": [
    "## Exercice 8\n",
    "1. Lire le fichier solutions.csv.\n",
    "2. Convertir les deux colonnes en tableaux NumPy.\n",
    "3. Calculer la moyenne et l’écart-type de la concentration.\n",
    "4. Tracer le graphique Temp_C vs Concentration_mol_L."
   ]
  },
  {
   "cell_type": "code",
   "execution_count": null,
   "id": "c2eaf8b9",
   "metadata": {},
   "outputs": [],
   "source": [
    "import pandas as pd\n",
    "import numpy as np\n",
    "import matplotlib.pyplot as plt\n",
    "\n",
    "# 1. Lecture du fichier\n",
    "solutions = pd.read_csv(\"solutions.csv\")\n",
    "\n",
    "# 2. Conversion en tableaux NumPy\n",
    "T = ... # TODO\n",
    "C = ... # TODO\n",
    "\n",
    "# 3. Calculs statistiques\n",
    "moyenne = ... # TODO\n",
    "ecart_type = ... # TODO\n",
    "\n",
    "print(\"Concentration moyenne :\", moyenne)\n",
    "print(\"Écart-type :\", ecart_type)\n",
    "\n",
    "# 4. Graphique\n",
    "# TODO : À compléter\n",
    "plt.plot(..., ..., \"o-\", label=\"Données\")\n",
    "plt.xlabel(\"Température (°C)\")\n",
    "plt.ylabel(\"Concentration (mol/L)\")\n",
    "plt.title(\"Variation de la concentration avec la température\")\n",
    "plt.legend()\n",
    "plt.show()\n"
   ]
  }
 ],
 "metadata": {
  "kernelspec": {
   "display_name": "Python 3",
   "language": "python",
   "name": "python3"
  },
  "language_info": {
   "name": "python",
   "version": "3.13.5"
  }
 },
 "nbformat": 4,
 "nbformat_minor": 5
}
