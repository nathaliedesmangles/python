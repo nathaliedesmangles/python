{
 "cells": [
  {
   "cell_type": "code",
   "execution_count": null,
   "id": "745c9012",
   "metadata": {},
   "outputs": [],
   "source": [
    "# Importation de la bibliothèque NumPy\n",
    "import numpy as np  # Alias np"
   ]
  },
  {
   "cell_type": "code",
   "execution_count": null,
   "id": "9ae0c2b6",
   "metadata": {},
   "outputs": [],
   "source": [
    "# Création de tableaux NumPy\n",
    "\n",
    "# 1. À partir d’une liste\n",
    "t1 = np.array([2, 4, 6])    # [2 4 6]\n",
    "print(t1)\n",
    "\n",
    "# 2. Tableau de valeurs espacées régulièrement\n",
    "t2 = np.arange(0, 10, 2)    # valeurs de 0 à 10 exclus, bond de 2\n",
    "print(t2)   # [0 2 4 6 8]\n",
    "\n",
    "# 3. Tableau d'un nombre fixe de valeurs\n",
    "t3 = np.linspace(0, 1, 5)   # 5 valeurs entre 0 et 1\n",
    "print(t3)   # [0.   0.25 0.5  0.75 1.  ]\n",
    "\n",
    "# 4. Tableaux spéciaux\n",
    "# Tableau de 0\n",
    "t4a = np.zeros(3)   # [0. 0. 0.]\n",
    "print(t4a)\n",
    "\n",
    "# Tableau de 1\n",
    "t4b = np.ones(4)    # [1. 1. 1. 1.]\n",
    "print(t4b)"
   ]
  },
  {
   "cell_type": "code",
   "execution_count": null,
   "id": "8e646ea2",
   "metadata": {},
   "outputs": [],
   "source": [
    "# Opérations élément par élément SANS boucle\n",
    "\n",
    "t = np.array([0, 10, 20, 30])\n",
    "print(t + 5)"
   ]
  },
  {
   "cell_type": "code",
   "execution_count": null,
   "id": "d5430636",
   "metadata": {},
   "outputs": [],
   "source": [
    "# Fonctions mathématiques et statistiques (sans boucles)\n",
    "\n",
    "# 1. Mathématiques de base\n",
    "\n",
    "x = np.array([4, 9, 16])\n",
    "print(np.sqrt(x))   # racine carrée\n",
    "print(np.log10(x))  # log base 10\n",
    "\n",
    "\n",
    "# 2. Statistiques simples\n",
    "\n",
    "d = np.array([2, 4, 6, 8])\n",
    "print(\"Moyenne :\", np.mean(d))\n",
    "print(\"Écart-type :\", np.std(d))\n",
    "\n",
    "# 3. Trigonométriques simples\n"
   ]
  },
  {
   "cell_type": "code",
   "execution_count": null,
   "id": "12df66ed",
   "metadata": {},
   "outputs": [],
   "source": [
    "## Régression linéaire avec NumPy\n",
    "\n",
    "import matplotlib.pyplot as plt\n",
    "\n",
    "# On mesure la distance parcourue d’un mobile en fonction du temps.\n",
    "\n",
    "# Données expérimentales\n",
    "x = np.array([0, 1, 2, 3, 4, 5])    # temps\n",
    "y = np.array([0.1, 1.2, 2.0, 2.9, 4.1, 5.0])    # distance\n",
    "\n",
    "# Calcul de la droite de régression\n",
    "# a) Détermination de la pente (a) et de l'ordonnée à l'origine (b)\n",
    "a, b = np.polyfit(x, y, 1)  # 1, car 1er degré\n",
    "y_pred = a * x + b  # équation de la droite f(x) = ax + b\n",
    "\n",
    "print(\"Pente a =\", round(a, 2))\n",
    "print(\"Ordonnée à l’origine b =\", round(b, 2))\n",
    "\n",
    "# Tracé\n",
    "plt.scatter(x, y, label=\"Mesures\", color=\"blue\")\n",
    "plt.plot(x, y_pred, label=\"Régression\", color=\"red\")\n",
    "plt.xlabel(\"Temps (s)\")\n",
    "plt.ylabel(\"Distance (m)\")\n",
    "plt.legend()\n",
    "plt.show()\n",
    "\n",
    "# Calcul du coefficient de corrélation R²\n",
    "\n",
    "r2 = 1 - np.sum((y - y_pred)**2) / np.sum((y - np.mean(y))**2)\n",
    "print(\"R² =\", round(r2, 3))\n",
    "\n",
    "\n",
    "## Pour aller plus loin\n",
    "\n",
    "# Modifier les données et observer comment la pente change\n",
    "# Tester np.polyfit(x, y, 2) pour une courbe quadratique\n",
    "# Utiliser np.diff() pour estimer la vitesse à partir d’une position"
   ]
  }
 ],
 "metadata": {
  "kernelspec": {
   "display_name": "Python 3",
   "language": "python",
   "name": "python3"
  },
  "language_info": {
   "codemirror_mode": {
    "name": "ipython",
    "version": 3
   },
   "file_extension": ".py",
   "mimetype": "text/x-python",
   "name": "python",
   "nbconvert_exporter": "python",
   "pygments_lexer": "ipython3",
   "version": "3.13.5"
  }
 },
 "nbformat": 4,
 "nbformat_minor": 5
}
