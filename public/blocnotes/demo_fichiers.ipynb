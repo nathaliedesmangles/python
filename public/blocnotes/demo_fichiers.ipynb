{
 "cells": [
  {
   "cell_type": "markdown",
   "metadata": {},
   "source": [
    "# Démonstration : Lecture et écriture de fichiers avec NumPy et Pandas\n",
    "\n",
    "Objectifs :\n",
    "1. Lire et écrire des fichiers avec NumPy et Pandas\n",
    "2. Détecter et gérer les valeurs manquantes\n",
    "3. Sélectionner et manipuler des données\n",
    "4. Parcourir un DataFrame ligne par ligne"
   ]
  },
  {
   "cell_type": "code",
   "execution_count": null,
   "metadata": {},
   "outputs": [],
   "source": [
    "# Import des bibliothèques\n",
    "import numpy as np\n",
    "import pandas as pd"
   ]
  },
  {
   "cell_type": "markdown",
   "metadata": {},
   "source": [
    "## NumPy : Lecture et écriture de fichiers"
   ]
  },
  {
   "cell_type": "code",
   "execution_count": null,
   "metadata": {},
   "outputs": [],
   "source": [
    "# Création d'un fichier texte simple pour l'exemple\n",
    "np.savetxt(\"mesures.txt\", np.array([[20.1, 21.3, 19.8, 22.0],\n",
    "                                    [21.0, 22.2, 20.5, 23.1]]))\n",
    "\n",
    "# Lecture du fichier\n",
    "donnees = np.loadtxt(\"mesures.txt\")\n",
    "print(\"Données lues avec np.loadtxt :\\n\", donnees)  # \\n = saut de ligne\n",
    "print(\"Type :\", type(donnees))"
   ]
  },
  {
   "cell_type": "code",
   "execution_count": null,
   "metadata": {},
   "outputs": [],
   "source": [
    "# Lecture d'un CSV avec NumPy\n",
    "np.savetxt(\"mesures.csv\", donnees, delimiter=\",\")\n",
    "donnees_csv = np.loadtxt(\"mesures.csv\", delimiter=\",\")\n",
    "print(\"\\nLecture CSV :\\n\", donnees_csv)"
   ]
  },
  {
   "cell_type": "code",
   "execution_count": null,
   "metadata": {},
   "outputs": [],
   "source": [
    "# Lecture robuste avec np.genfromtxt (valeurs manquantes)\n",
    "with open(\"temperatures.csv\", \"w\") as f:\n",
    "    f.write(\"timestamp,temperature\\n\")\n",
    "    f.write(\"2021-01-01 00:00:00,20.1\\n\")\n",
    "    f.write(\"2021-01-01 01:00:00,21.3\\n\")\n",
    "    f.write(\"2021-01-01 02:00:00,\\n\")\n",
    "\n",
    "temperatures = np.genfromtxt(\"temperatures.csv\", delimiter=\",\", skip_header=1, usecols=1)\n",
    "print(\"Températures lues :\", temperatures)\n",
    "\n",
    "# Remplacement des NaN par la moyenne\n",
    "mean_temp = np.nanmean(temperatures)\n",
    "temperatures = np.where(np.isnan(temperatures), mean_temp, temperatures)\n",
    "print(\"Températures corrigées :\", temperatures)\n",
    "\n",
    "# Sauvegarde\n",
    "np.savetxt(\"temperatures_corrigees.csv\", temperatures, delimiter=\",\", fmt=\"%.2f\")"
   ]
  },
  {
   "cell_type": "markdown",
   "metadata": {},
   "source": [
    "## Pandas : Lecture et écriture de fichiers"
   ]
  },
  {
   "cell_type": "code",
   "execution_count": null,
   "metadata": {},
   "outputs": [],
   "source": [
    "# Création d'un DataFrame\n",
    "df = pd.DataFrame({\n",
    "    \"Nom\": [\"Alice\", \"Bob\", \"Charlie\"],\n",
    "    \"Âge\": [20, 22, 19],\n",
    "    \"Poids\": [55, 70, 65]\n",
    "})\n",
    "df"
   ]
  },
  {
   "cell_type": "code",
   "execution_count": null,
   "metadata": {},
   "outputs": [],
   "source": [
    "# Écriture dans un fichier CSV et TXT\n",
    "df.to_csv(\"data_export.csv\", index=False)\n",
    "df.to_csv(\"data_export.txt\", sep=\"\\t\", index=False)"
   ]
  },
  {
   "cell_type": "markdown",
   "metadata": {},
   "source": [
    "### 2.1 Exploration rapide des données"
   ]
  },
  {
   "cell_type": "code",
   "execution_count": null,
   "metadata": {},
   "outputs": [],
   "source": [
    "print(df.head())\n",
    "print(df.describe())\n",
    "print(df.info())"
   ]
  },
  {
   "cell_type": "markdown",
   "metadata": {},
   "source": [
    "## Gestion des valeurs manquantes"
   ]
  },
  {
   "cell_type": "code",
   "execution_count": null,
   "metadata": {},
   "outputs": [],
   "source": [
    "df_nan = pd.DataFrame({\n",
    "    'temp': [0, 10, 20, 30],\n",
    "    'solubilite': [32.0, 34.1, None, 37.5]\n",
    "})\n",
    "\n",
    "# Détection\n",
    "print(df_nan.isna())\n",
    "print(df_nan.isna().sum())\n",
    "print(df_nan.isna().sum().sum())\n",
    "\n",
    "# Remplacement par la moyenne\n",
    "df_nan['solubilite'] = df_nan['solubilite'].fillna(df_nan['solubilite'].mean())\n",
    "df_nan"
   ]
  },
  {
   "cell_type": "markdown",
   "metadata": {},
   "source": [
    "## Sélection et manipulation"
   ]
  },
  {
   "cell_type": "code",
   "execution_count": null,
   "metadata": {},
   "outputs": [],
   "source": [
    "poissons = pd.DataFrame({\n",
    "    \"Espèce\": [\"Truite\", \"Saumon\", \"Perchaude\", \"Brochet\"],\n",
    "    \"Longueur_cm\": [35, 52, 27, 61],\n",
    "    \"Masse_g\": [450, 1500, 320, 2200]\n",
    "})\n",
    "\n",
    "# Sélection avec iloc\n",
    "print(poissons.iloc[1])      # 2e ligne\n",
    "print(poissons.iloc[:, 0])   # 1ère colonne\n",
    "print(poissons.iloc[0:2,0:2])# sous-tableau"
   ]
  },
  {
   "cell_type": "code",
   "execution_count": null,
   "metadata": {},
   "outputs": [],
   "source": [
    "# Conversion en NumPy\n",
    "t = poissons[\"Longueur_cm\"].to_numpy()\n",
    "m = poissons[\"Masse_g\"].to_numpy()\n",
    "print(\"Tableau NumPy Longueur :\", t)\n",
    "print(\"Tableau NumPy Masse :\", m)"
   ]
  },
  {
   "cell_type": "code",
   "execution_count": null,
   "metadata": {},
   "outputs": [],
   "source": [
    "# Parcourir les lignes avec iterrows\n",
    "for index, ligne in poissons.iterrows():\n",
    "    if ligne[\"Masse_g\"] > 1000:\n",
    "        print(f\"{ligne['Espèce']} : grosse masse\")\n",
    "    else:\n",
    "        print(f\"{ligne['Espèce']} : masse normale\")"
   ]
  },
  {
   "cell_type": "markdown",
   "metadata": {},
   "source": [
    "## Exercices rapides\n",
    "1. Lire un CSV avec des valeurs manquantes et afficher le nombre de NaN.\n",
    "2. Remplacer les NaN par la moyenne d’une colonne.\n",
    "3. Extraire la 2ᵉ colonne avec `iloc` et convertir en tableau NumPy.\n",
    "4. Parcourir le DataFrame ligne par ligne avec `.iterrows()` et afficher un message selon une condition.\n",
    "5. Sauvegarder le DataFrame modifié dans un nouveau fichier CSV."
   ]
  }
 ],
 "metadata": {
  "kernelspec": {
   "display_name": "Python 3",
   "language": "python",
   "name": "python3"
  },
  "language_info": {
   "name": "python",
   "version": "3.11"
  }
 },
 "nbformat": 4,
 "nbformat_minor": 5
}
