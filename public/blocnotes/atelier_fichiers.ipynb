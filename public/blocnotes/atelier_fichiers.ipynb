{
 "cells": [
  {
   "cell_type": "markdown",
   "id": "c424a1e5",
   "metadata": {},
   "source": [
    "\n",
    "# Atelier : Analyse de la qualité de l’eau d’une rivière"
   ]
  },
  {
   "cell_type": "markdown",
   "id": "4e719c12",
   "metadata": {},
   "source": [
    "### PARTIE 1 - NUMPY"
   ]
  },
  {
   "cell_type": "markdown",
   "id": "13e2740a",
   "metadata": {},
   "source": [
    "import numpy as np\n",
    "\n",
    "# Lecture du fichier texte\n",
    "donnees = np.loadtxt(\"eau.txt\", ..., ...)   # À compléter \n",
    "print(\"Données brutes :\")\n",
    "print(donnees)\n",
    "\n",
    "# Calculer la moyenne de chaque colonne\n",
    "moyennes = np.mean(..., ...)   # À compléter\n",
    "print()\n",
    "print(\"Moyennes (Température, pH, Oxygène) :\")\n",
    "print(moyennes)\n",
    "\n",
    "# Sauvegarder dans un fichier texte\n",
    "# À compléter \n",
    "np.savetxt(\"moyennes_eau.txt\", ...)\n"
   ]
  },
  {
   "cell_type": "markdown",
   "id": "966f4e6b",
   "metadata": {},
   "source": [
    "### PARTIE 2 - PANDAS"
   ]
  },
  {
   "cell_type": "code",
   "execution_count": null,
   "id": "f7f3c338",
   "metadata": {},
   "outputs": [],
   "source": [
    "import pandas as pd\n",
    "\n",
    "# Lecture du fichier CSV\n",
    "df = pd.read_csv(\"eau_riviere.csv\")\n",
    "print(\"Données initiales :\")\n",
    "print(df)\n",
    "\n",
    "# Vérifier les valeurs manquantes\n",
    "print()\n",
    "print(\"Valeurs manquantes :\")\n",
    "print(df....) # À compléter\n",
    "\n",
    "# Remplacer les valeurs manquantes par la moyenne\n",
    "# À compléter pour chaque colonne\n",
    "# df[\"Temperature\"] = ...\n",
    "# df[\"pH\"] = ...\n",
    "# df[\"Oxygene\"] = ...\n",
    "\n",
    "# Ajouter une colonne Qualité selon la colonne Oxygène\n",
    "# Utilisez np.where()\n",
    "import numpy as np\n",
    "df[\"Qualite\"] =  ... # À compléter\n",
    "\n",
    "# Ajout de la colonne Alerte\n",
    "# À compléter\n",
    "# df[\"Alerte\"] = np.where(...)\n",
    "\n",
    "\n",
    "# Afficher le résultat final\n",
    "print()\n",
    "print(\"Données nettoyées et enrichies :\")\n",
    "print(df)\n",
    "\n",
    "# Sauvegarder dans un nouveau fichier CSV\n",
    "# À compléter\n",
    "# df.to_csv(\"eau_riviere_nettoyee.csv\", index=False)\n"
   ]
  },
  {
   "cell_type": "markdown",
   "id": "7688bfd8",
   "metadata": {},
   "source": [
    "### PARTIE 3 - Visualisation graphique (optionnel)"
   ]
  },
  {
   "cell_type": "code",
   "execution_count": null,
   "id": "3d0621b0",
   "metadata": {},
   "outputs": [],
   "source": [
    "import matplotlib.pyplot as plt\n",
    "\n",
    "# Définir une incertitude (barres d’erreur)\n",
    "erreur = ...\n",
    "\n",
    "# Couleurs selon la qualité\n",
    "couleurs = df[\"Qualite\"].map({\n",
    "    \"Bonne\": \"skyblue\",\n",
    "    \"Moyenne\": \"gold\",\n",
    "    \"Faible\": \"salmon\"\n",
    "})\n",
    "\n",
    "# Tracer le graphique\n",
    "plt.bar(..., ..., yerr=erreur, capsize=5, color=couleurs)\n",
    "\n",
    "plt.title(\"Concentration en oxygène dissous dans la rivière\")\n",
    "plt.xlabel(\"Site d'échantillonnage\")\n",
    "plt.ylabel(\"Oxygène (mg/L)\")\n",
    "plt.grid(axis=\"y\", linestyle=\"--\", alpha=0.7)\n",
    "plt.show()"
   ]
  }
 ],
 "metadata": {
  "language_info": {
   "name": "python"
  }
 },
 "nbformat": 4,
 "nbformat_minor": 5
}
