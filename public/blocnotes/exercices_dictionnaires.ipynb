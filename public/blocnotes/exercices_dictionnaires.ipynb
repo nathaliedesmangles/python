{
 "cells": [
  {
   "cell_type": "markdown",
   "id": "d5a8db41",
   "metadata": {},
   "source": [
    "# Atelier : Les dictionnaires"
   ]
  },
  {
   "cell_type": "markdown",
   "id": "3554dbb1",
   "metadata": {},
   "source": [
    "### Exercice 1 – Création d’un dictionnaire\n",
    "\n",
    "1. Crée un dictionnaire vide nommé `cubes`.\n",
    "2. Ajoute les entiers de 1 à 5 comme clés, et leur cube comme valeur.\n",
    "3. Affiche le dictionnaire."
   ]
  },
  {
   "cell_type": "code",
   "execution_count": null,
   "id": "625da7e4",
   "metadata": {},
   "outputs": [],
   "source": []
  },
  {
   "cell_type": "markdown",
   "id": "8b6f4f28",
   "metadata": {},
   "source": [
    "### Exercice 2 : Extraire clés et valeurs\n",
    "\n",
    "1. Crée une liste `cles` contenant toutes les clés de cubes.\n",
    "2. Crée une liste `valeurs` contenant toutes les valeurs de cubes.\n",
    "3. Affiche les deux listes."
   ]
  },
  {
   "cell_type": "code",
   "execution_count": null,
   "id": "c50cce75",
   "metadata": {},
   "outputs": [],
   "source": []
  },
  {
   "cell_type": "markdown",
   "id": "b511d18f",
   "metadata": {},
   "source": [
    "### Exercice 3 : Parcourir items()\n",
    "\n",
    "Utilise une boucle `for` pour afficher chaque clé et sa valeur sous la forme : \"Le cube de 2 est 8\""
   ]
  },
  {
   "cell_type": "code",
   "execution_count": null,
   "id": "87b68a51",
   "metadata": {},
   "outputs": [],
   "source": []
  },
  {
   "cell_type": "markdown",
   "id": "28406142",
   "metadata": {},
   "source": [
    "### Exercice 4 : Modifier et supprimer\n",
    "\n",
    "1. Ajoute une nouvelle paire (6: 216).\n",
    "2. Modifie la valeur de la clé 3 pour qu’elle devienne 30.\n",
    "3. Supprime la clé 1 du dictionnaire.\n",
    "4. Affiche le dictionnaire final."
   ]
  },
  {
   "cell_type": "code",
   "execution_count": null,
   "id": "c18a02ce",
   "metadata": {},
   "outputs": [],
   "source": []
  }
 ],
 "metadata": {
  "language_info": {
   "name": "python"
  }
 },
 "nbformat": 4,
 "nbformat_minor": 5
}
