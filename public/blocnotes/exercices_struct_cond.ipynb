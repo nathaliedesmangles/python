{
 "cells": [
  {
   "cell_type": "code",
   "execution_count": null,
   "id": "93adf9e3",
   "metadata": {},
   "outputs": [],
   "source": [
    "# Partie 1 – Opérateurs de comparaison\n",
    "\n",
    "# 1.1 Quelle sera la sortie ?\n",
    "a = 10\n",
    "b = 7\n",
    "print(a > b)\n",
    "print(a == 7)\n",
    "\n",
    "# 1.2 Complète mentalement ou sur papier :\n",
    "# 5 != 3     → ?\n",
    "# 8 <= 8     → ?\n",
    "# 4 > 10     → ?\n",
    "# 3 == 3     → ?"
   ]
  },
  {
   "cell_type": "code",
   "execution_count": null,
   "id": "8ff3aad7",
   "metadata": {},
   "outputs": [],
   "source": [
    "# Partie 2 – Opérateurs logiques\n",
    "\n",
    "# 2.1 Que vaudra chaque expression ?\n",
    "# (5 > 2) and (7 < 10)     → ?\n",
    "# (3 != 3) or (6 >= 6)     → ?\n",
    "# not (2 < 5)              → ?\n",
    "\n",
    "# 2.2 Dans quel cas cette condition sera-t-elle vraie ?\n",
    "# (temperature > 30) and (humidite < 50)"
   ]
  },
  {
   "cell_type": "code",
   "execution_count": null,
   "id": "a3df2ff2",
   "metadata": {},
   "outputs": [],
   "source": [
    "# Partie 3 – Lire et corriger des conditions\n",
    "\n",
    "# 3.1 Que va afficher ce code si temp = 10 ?\n",
    "temp = 10\n",
    "if temp > 25:\n",
    "    print(\"Il fait chaud.\")\n",
    "elif temp > 15:\n",
    "    print(\"Il fait confortable.\")\n",
    "else:\n",
    "    print(\"Il fait frais.\")\n",
    "\n",
    "# 3.2 Trouve et corrige l'erreur :\n",
    "# if vitesse > 80\n",
    "#     print(\"Trop vite !\")\n"
   ]
  },
  {
   "cell_type": "code",
   "execution_count": null,
   "id": "d73343f8",
   "metadata": {},
   "outputs": [],
   "source": [
    "# Partie 4 – Écrire ses propres conditions\n",
    "\n",
    "# 4.1 Complète ce code :\n",
    "ph = 6.4\n",
    "\n",
    "# ton code ici\n",
    "\n",
    "\n",
    "# 4.2 Écris une condition qui affiche \"Attention, danger\"\n",
    "# seulement si la température dépasse 100 et que la pression est supérieure à 1.5 atm\n",
    "\n",
    "temperature = 110\n",
    "pression = 1.6\n",
    "\n",
    "# ton code ici\n"
   ]
  }
 ],
 "metadata": {
  "language_info": {
   "name": "python"
  }
 },
 "nbformat": 4,
 "nbformat_minor": 5
}
