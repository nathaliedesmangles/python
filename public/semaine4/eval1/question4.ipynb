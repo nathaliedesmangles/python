{
 "cells": [
  {
   "cell_type": "code",
   "execution_count": 1,
   "id": "21afa3fc",
   "metadata": {},
   "outputs": [
    {
     "name": "stdout",
     "output_type": "stream",
     "text": [
      "L’indice de consommation alimentaire (ICA) est : 0.6\n"
     ]
    }
   ],
   "source": [
    "# Définition de la fonction\n",
    "def indice_consommation(nourriture, gain):\n",
    "    return nourriture / gain\n",
    "\n",
    "# Entrées utilisateur\n",
    "n = float(input(\"Quantité de nourriture consommée (kg) : \"))\n",
    "g = float(input(\"Gain de poids de l’animal (kg) : \"))\n",
    "\n",
    "# Appel de la fonction\n",
    "ica = indice_consommation(n, g)\n",
    "\n",
    "# Affichage\n",
    "print(f\"L’indice de consommation alimentaire (ICA) est : {ica}\")"
   ]
  }
 ],
 "metadata": {
  "kernelspec": {
   "display_name": "Python 3",
   "language": "python",
   "name": "python3"
  },
  "language_info": {
   "codemirror_mode": {
    "name": "ipython",
    "version": 3
   },
   "file_extension": ".py",
   "mimetype": "text/x-python",
   "name": "python",
   "nbconvert_exporter": "python",
   "pygments_lexer": "ipython3",
   "version": "3.11.9"
  }
 },
 "nbformat": 4,
 "nbformat_minor": 5
}
