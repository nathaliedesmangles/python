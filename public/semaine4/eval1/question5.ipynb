{
 "cells": [
  {
   "cell_type": "code",
   "execution_count": 1,
   "id": "f7950768",
   "metadata": {},
   "outputs": [
    {
     "name": "stdout",
     "output_type": "stream",
     "text": [
      "Masse totale : 20.0 kg\n"
     ]
    }
   ],
   "source": [
    "# Correction 1 : oubli des deux-points à la fin de la ligne def\n",
    "def masse_totale(nbr_animaux, masse_individuelle):\n",
    "    # Correction 2 : ok ici\n",
    "    total = nbr_animaux * masse_individuelle\n",
    "    return total\n",
    "\n",
    "# Correction 3 : convertir les entrées en float\n",
    "nbr = int(input(\"Nombre d'animaux : \"))\n",
    "masse = float(input(\"Masse de chaque animal (kg) : \"))\n",
    "\n",
    "# Correction 4 : appel correct\n",
    "resultat = masse_totale(nbr, masse)\n",
    "\n",
    "# Correction 5 : print avec parenthèses (Python 3)\n",
    "print(\"Masse totale :\", resultat, \"kg\")"
   ]
  }
 ],
 "metadata": {
  "kernelspec": {
   "display_name": "Python 3",
   "language": "python",
   "name": "python3"
  },
  "language_info": {
   "codemirror_mode": {
    "name": "ipython",
    "version": 3
   },
   "file_extension": ".py",
   "mimetype": "text/x-python",
   "name": "python",
   "nbconvert_exporter": "python",
   "pygments_lexer": "ipython3",
   "version": "3.11.9"
  }
 },
 "nbformat": 4,
 "nbformat_minor": 5
}
