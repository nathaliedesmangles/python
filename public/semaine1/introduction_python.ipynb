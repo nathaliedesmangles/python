{
 "cells": [
  {
   "cell_type": "markdown",
   "id": "19c437a5",
   "metadata": {},
   "source": [
    "# Mini-lab 1 : Découverte de Python avec Jupyter\n",
    "**Travail \"individuel\" en équipe de 2 ou 3**\n",
    "\n",
    "## Objectifs :\n",
    "- Découvrir l'environnement Jupyter Notebook\n",
    "- Manipuler des variables et des expressions mathématiques\n",
    "- Effectuer des calculs simples liés aux sciences\n"
   ]
  },
  {
   "cell_type": "code",
   "execution_count": null,
   "id": "a64ac35b",
   "metadata": {},
   "outputs": [],
   "source": [
    "# Affiche ton nom et ton programme d’études\n",
    "print(\"Nom : _______ - Programme : Sciences de la nature\")"
   ]
  },
  {
   "cell_type": "code",
   "execution_count": null,
   "id": "5ec9ce3d",
   "metadata": {},
   "outputs": [],
   "source": [
    "# Déclare une variable pour ta masse (en kg) et une pour la gravité (9.8 m/s^2)\n",
    "masse = ___  # Remplacez les ___ par une valeur réelle\n",
    "gravite = 9.8"
   ]
  },
  {
   "cell_type": "code",
   "execution_count": null,
   "id": "98522689",
   "metadata": {},
   "outputs": [],
   "source": [
    "# Calcule ton poids en Newton\n",
    "poids = masse * gravite\n",
    "print(\"Ton poids sur Terre est :\", poids, \"N\")"
   ]
  },
  {
   "cell_type": "code",
   "execution_count": null,
   "id": "b444198b",
   "metadata": {},
   "outputs": [],
   "source": [
    "# Calcule l’énergie cinétique pour une vitesse donnée\n",
    "vitesse = 3.0  # m/s\n",
    "energie = 0.5 * masse * vitesse ** 2\n",
    "print(\"Énergie cinétique :\", energie, \"J\")"
   ]
  },
  {
   "cell_type": "markdown",
   "id": "ac0c62df",
   "metadata": {},
   "source": [
    "## Pour aller plus loin (facultatif)\n",
    "- Change la valeur de la gravité pour simuler une autre planète (voir le tableau dans la cellule suivante)\n",
    "- Ajoute une nouvelle cellule pour convertir l’énergie en kilojoules\n",
    "- Ajoute un commentaire dans chaque cellule pour expliquer ton raisonnement\n"
   ]
  },
  {
   "cell_type": "markdown",
   "id": "b864a340",
   "metadata": {},
   "source": [
    "## Liste des gravités\n",
    "| Planète  | Gravité (m/s²) |\n",
    "|----------|----------------|\n",
    "| Terre    | 9,807          |\n",
    "| Jupiter  | 24,79          |\n",
    "| Neptune  | 11,15          |\n",
    "| Mars     | 3,73           |\n",
    "| Uranus   | 8,69           |\n",
    "| Mercure  | 3,7            |\n",
    "| Saturne  | 10,44          |\n",
    "| Vénus    | 8,87           |\n"
   ]
  }
 ],
 "metadata": {
  "language_info": {
   "name": "python"
  }
 },
 "nbformat": 4,
 "nbformat_minor": 5
}
