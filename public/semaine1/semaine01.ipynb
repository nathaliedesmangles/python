{
 "cells": [
  {
   "cell_type": "code",
   "execution_count": null,
   "id": "4d2bbb92",
   "metadata": {},
   "outputs": [],
   "source": [
    "# Je suis un commentaire, Python ne m'affiche pas\n",
    "print(\"bonjour, bienvenus dans le cours 'Programmation en sciences'!\")"
   ]
  }
 ],
 "metadata": {
  "language_info": {
   "name": "python"
  }
 },
 "nbformat": 4,
 "nbformat_minor": 5
}
