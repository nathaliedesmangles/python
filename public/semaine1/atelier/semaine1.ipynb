{
  "cells": [
    {
      "cell_type": "markdown",
      "id": "0e80fee1",
      "metadata": {},
      "source": [
        "# Calcul de l’IMC d’une population étudiante\n",
        "\n",
        "**Contexte scientifique :** L’indice de masse corporelle (IMC) est un indicateur simple permettant d’estimer la corpulence d’un individu à partir de sa taille et de son poids.\n",
        "\n",
        "**Formule :**  \n",
        "IMC = poids (kg) / (taille (m))²\n",
        "\n",
        "**Objectifs du notebook :**\n",
        "- Utiliser des variables en Python\n",
        "- Faire des calculs mathématiques\n",
        "- Lire des données saisies par l’utilisateur\n",
        "- Afficher un résultat\n",
        "- Interpréter une formule scientifique en code"
      ]
    },
    {
      "cell_type": "code",
      "execution_count": 1,
      "id": "92343593",
      "metadata": {},
      "outputs": [
        {
          "name": "stdout",
          "output_type": "stream",
          "text": [
            "L’IMC est : 22.86\n"
          ]
        }
      ],
      "source": [
        "# Exemple simple avec des valeurs données\n",
        "poids = 70  # en kilogrammes\n",
        "taille = 1.75  # en mètres\n",
        "imc = poids / (taille ** 2)\n",
        "print(\"L’IMC est :\", round(imc, 2))"
      ]
    },
    {
      "cell_type": "markdown",
      "id": "18939d35",
      "metadata": {},
      "source": [
        "## Entrée utilisateur\n",
        "\n",
        "On peut rendre le programme interactif en demandant les valeurs à l’utilisateur."
      ]
    },
    {
      "cell_type": "code",
      "execution_count": 2,
      "id": "e9a83249",
      "metadata": {},
      "outputs": [
        {
          "name": "stdout",
          "output_type": "stream",
          "text": [
            "Votre IMC est : 68.0\n"
          ]
        }
      ],
      "source": [
        "poids = float(input(\"Entrez votre poids en kg : \"))\n",
        "taille = float(input(\"Entrez votre taille en mètres : \"))\n",
        "imc = poids / (taille ** 2)\n",
        "print(\"Votre IMC est :\", round(imc, 2))"
      ]
    },
    {
      "cell_type": "markdown",
      "id": "e167c752",
      "metadata": {},
      "source": [
        "## Calcul de plusieurs IMC\n",
        "\n",
        "Voici un exemple où on calcule l’IMC de 3 personnes."
      ]
    },
    {
      "cell_type": "code",
      "execution_count": 3,
      "id": "ec494a81",
      "metadata": {},
      "outputs": [
        {
          "name": "stdout",
          "output_type": "stream",
          "text": [
            "Calcul de l’IMC de 3 étudiants\n",
            "\n",
            "Étudiant 1\n",
            "IMC = 0.0\n",
            "\n",
            "Étudiant 2\n",
            "IMC = 0.01\n",
            "\n",
            "Étudiant 3\n",
            "IMC = 0.14\n"
          ]
        }
      ],
      "source": [
        "print(\"Calcul de l’IMC de 3 étudiants\")\n",
        "for i in range(3):\n",
        "    print(\"\\nÉtudiant\", i+1)\n",
        "    poids = float(input(\"Poids (kg) : \"))\n",
        "    taille = float(input(\"Taille (m) : \"))\n",
        "    imc = poids / (taille ** 2)\n",
        "    print(\"IMC =\", round(imc, 2))"
      ]
    },
    {
      "cell_type": "markdown",
      "id": "d06b1bc3",
      "metadata": {},
      "source": [
        "## Catégorisation de l’IMC (bonus)\n",
        "\n",
        "On peut ajouter une interprétation des résultats :"
      ]
    },
    {
      "cell_type": "code",
      "execution_count": 4,
      "id": "6bf4a45e",
      "metadata": {},
      "outputs": [
        {
          "name": "stdout",
          "output_type": "stream",
          "text": [
            "Vous êtes en insuffisance pondérale.\n"
          ]
        }
      ],
      "source": [
        "if imc < 18.5:\n",
        "    print(\"Vous êtes en insuffisance pondérale.\")\n",
        "elif imc < 25:\n",
        "    print(\"Votre poids est considéré comme normal.\")\n",
        "elif imc < 30:\n",
        "    print(\"Vous êtes en surpoids.\")\n",
        "else:\n",
        "    print(\"Vous êtes en situation d’obésité.\")"
      ]
    },
    {
      "cell_type": "markdown",
      "id": "e66a9baf",
      "metadata": {},
      "source": [
        "## Questions de réflexion\n",
        "- Que se passerait-il si la taille était entrée en centimètres?\n",
        "- Pourquoi utilise-t-on `float()` dans les entrées utilisateur?\n",
        "- Que se passe-t-il si la taille vaut zéro?\n",
        "- Peut-on se fier à l’IMC comme seul indicateur de santé?\n",
        "- Quel est le type de données retourné par `input()`?"
      ]
    }
  ],
  "metadata": {
    "kernelspec": {
      "display_name": "base",
      "language": "python",
      "name": "python3"
    },
    "language_info": {
      "codemirror_mode": {
        "name": "ipython",
        "version": 3
      },
      "file_extension": ".py",
      "mimetype": "text/x-python",
      "name": "python",
      "nbconvert_exporter": "python",
      "pygments_lexer": "ipython3",
      "version": "3.9.13"
    }
  },
  "nbformat": 4,
  "nbformat_minor": 5
}
