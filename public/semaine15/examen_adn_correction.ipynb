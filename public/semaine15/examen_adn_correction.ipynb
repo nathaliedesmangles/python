{
 "cells": [
  {
   "cell_type": "markdown",
   "id": "3cd585c2",
   "metadata": {},
   "source": [
    "# ✅ Correction – Examen pratique : Analyse d’ADN"
   ]
  },
  {
   "cell_type": "markdown",
   "id": "ed99961b",
   "metadata": {},
   "source": [
    "## 🔹 Partie 1 – Lecture et structures de données"
   ]
  },
  {
   "cell_type": "code",
   "execution_count": null,
   "id": "cfc50502",
   "metadata": {},
   "outputs": [],
   "source": [
    "# 1.1\n",
    "adn_crime = {}\n",
    "with open(\"adn_crime.csv\", \"r\") as f:\n",
    "    lignes = f.readlines()[1:]\n",
    "    for ligne in lignes:\n",
    "        locus, allele = ligne.strip().split(\",\")\n",
    "        adn_crime[locus] = int(allele)\n",
    "print(adn_crime)"
   ]
  },
  {
   "cell_type": "code",
   "execution_count": null,
   "id": "659478b7",
   "metadata": {},
   "outputs": [],
   "source": [
    "# 1.2\n",
    "adn_suspects = {}\n",
    "with open(\"adn_suspects.csv\", \"r\") as f:\n",
    "    lignes = f.readlines()[1:]\n",
    "    for ligne in lignes:\n",
    "        nom, locus, allele = ligne.strip().split(\",\")\n",
    "        if nom not in adn_suspects:\n",
    "            adn_suspects[nom] = {}\n",
    "        adn_suspects[nom][locus] = int(allele)\n",
    "print(adn_suspects)"
   ]
  },
  {
   "cell_type": "code",
   "execution_count": null,
   "id": "6e2b6457",
   "metadata": {},
   "outputs": [],
   "source": [
    "# 1.3\n",
    "for nom in adn_suspects:\n",
    "    match = 0\n",
    "    for locus in adn_crime:\n",
    "        if adn_crime[locus] == adn_suspects[nom].get(locus, -1):\n",
    "            match += 1\n",
    "    print(f\"{nom} : {match} correspondances\")"
   ]
  },
  {
   "cell_type": "markdown",
   "id": "89665475",
   "metadata": {},
   "source": [
    "## 🔹 Partie 2 – Fonctions et logique"
   ]
  },
  {
   "cell_type": "code",
   "execution_count": null,
   "id": "d2ea6d79",
   "metadata": {},
   "outputs": [],
   "source": [
    "# 2.1\n",
    "def comparer_adn(adn1, adn2):\n",
    "    count = 0\n",
    "    for locus in adn1:\n",
    "        if adn1[locus] == adn2.get(locus, -1):\n",
    "            count += 1\n",
    "    return count"
   ]
  },
  {
   "cell_type": "code",
   "execution_count": null,
   "id": "21d2ceab",
   "metadata": {},
   "outputs": [],
   "source": [
    "# 2.2\n",
    "resultats = {}\n",
    "for nom in adn_suspects:\n",
    "    n_match = comparer_adn(adn_crime, adn_suspects[nom])\n",
    "    proportion = n_match / len(adn_crime)\n",
    "    resultats[nom] = {\"match\": n_match, \"proportion\": proportion}\n",
    "print(resultats)"
   ]
  },
  {
   "cell_type": "code",
   "execution_count": null,
   "id": "a50292ad",
   "metadata": {},
   "outputs": [],
   "source": [
    "# 2.3\n",
    "max_match = max(resultats[n][\"match\"] for n in resultats)\n",
    "candidats = [n for n in resultats if resultats[n][\"match\"] == max_match]\n",
    "print(\"Suspect(s) probable(s) :\", \", \".join(candidats))"
   ]
  },
  {
   "cell_type": "markdown",
   "id": "9fdc1884",
   "metadata": {},
   "source": [
    "## 🔹 Partie 3 – Visualisation"
   ]
  },
  {
   "cell_type": "code",
   "execution_count": null,
   "id": "a1017692",
   "metadata": {},
   "outputs": [],
   "source": [
    "import matplotlib.pyplot as plt\n",
    "import numpy as np\n",
    "\n",
    "noms = list(resultats.keys())\n",
    "valeurs = [resultats[n][\"match\"] for n in noms]\n",
    "erreurs = [0.5 for _ in noms]\n",
    "\n",
    "plt.bar(noms, valeurs, yerr=erreurs, capsize=5, color='skyblue')\n",
    "plt.ylabel(\"Nombre de correspondances\")\n",
    "plt.title(\"Correspondances ADN par suspect\")\n",
    "for i, val in enumerate(valeurs):\n",
    "    plt.text(i, val + 0.1, str(val), ha='center')\n",
    "plt.grid(axis='y')\n",
    "plt.show()"
   ]
  },
  {
   "cell_type": "markdown",
   "id": "e9d19093",
   "metadata": {},
   "source": [
    "## 🔹 Partie 4 – Régression linéaire"
   ]
  },
  {
   "cell_type": "code",
   "execution_count": null,
   "id": "6f00ec98",
   "metadata": {},
   "outputs": [],
   "source": [
    "X = np.array([resultats[n][\"match\"] for n in noms])\n",
    "Y = np.array([0.3, 0.95, 0.1])  # Probabilités fictives pour l'exercice\n",
    "\n",
    "a, b = np.polyfit(X, Y, deg=1)\n",
    "\n",
    "plt.scatter(X, Y, label=\"Données\")\n",
    "plt.plot(X, a*X + b, color='red', label=f\"Régression: y = {a:.2f}x + {b:.2f}\")\n",
    "plt.xlabel(\"Nombre de correspondances\")\n",
    "plt.ylabel(\"Proba de culpabilité (fictive)\")\n",
    "plt.title(\"Régression linéaire\")\n",
    "plt.legend()\n",
    "plt.grid()\n",
    "plt.show()"
   ]
  }
 ],
 "metadata": {},
 "nbformat": 4,
 "nbformat_minor": 5
}
