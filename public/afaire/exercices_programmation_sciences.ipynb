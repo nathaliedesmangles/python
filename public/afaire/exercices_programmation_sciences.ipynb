{
 "cells": [
  {
   "cell_type": "markdown",
   "id": "221d6ce2",
   "metadata": {},
   "source": [
    "### 📝 Conversion de température\n",
    "\n",
    "Convertir des degrés Celsius en Fahrenheit et Kelvin.\n",
    "Créer une fonction `convertir_temperature(celsius)`."
   ]
  },
  {
   "cell_type": "code",
   "execution_count": null,
   "id": "ba182887",
   "metadata": {},
   "outputs": [],
   "source": [
    "# 🧪 À vous de jouer !\n"
   ]
  },
  {
   "cell_type": "markdown",
   "id": "7759f811",
   "metadata": {},
   "source": [
    "#### ✅ Solution"
   ]
  },
  {
   "cell_type": "code",
   "execution_count": null,
   "id": "bff47bcd",
   "metadata": {},
   "outputs": [],
   "source": [
    "def convertir_temperature(celsius):\n",
    "    fahrenheit = celsius * 9/5 + 32\n",
    "    kelvin = celsius + 273.15\n",
    "    return fahrenheit, kelvin\n",
    "\n",
    "# Exemple d'utilisation\n",
    "convertir_temperature(25)"
   ]
  },
  {
   "cell_type": "markdown",
   "id": "b981ab07",
   "metadata": {},
   "source": [
    "### 📝 Énergie cinétique\n",
    "\n",
    "Demander la masse et la vitesse, puis calculer l'énergie cinétique : `E = 0.5 * m * v**2`."
   ]
  },
  {
   "cell_type": "code",
   "execution_count": null,
   "id": "79c681ef",
   "metadata": {},
   "outputs": [],
   "source": [
    "# 🧪 À vous de jouer !\n"
   ]
  },
  {
   "cell_type": "markdown",
   "id": "d2e7929d",
   "metadata": {},
   "source": [
    "#### ✅ Solution"
   ]
  },
  {
   "cell_type": "code",
   "execution_count": null,
   "id": "ee5a3012",
   "metadata": {},
   "outputs": [],
   "source": [
    "masse = float(input(\"Entrez la masse (kg) : \"))\n",
    "vitesse = float(input(\"Entrez la vitesse (m/s) : \"))\n",
    "energie = 0.5 * masse * vitesse**2\n",
    "print(\"Énergie cinétique :\", energie, \"J\")"
   ]
  },
  {
   "cell_type": "markdown",
   "id": "645f2426",
   "metadata": {},
   "source": [
    "### 📝 Liste de températures\n",
    "\n",
    "Créer une liste de températures, afficher la température minimale, maximale et moyenne."
   ]
  },
  {
   "cell_type": "code",
   "execution_count": null,
   "id": "ad8b4a46",
   "metadata": {},
   "outputs": [],
   "source": [
    "# 🧪 À vous de jouer !\n"
   ]
  },
  {
   "cell_type": "markdown",
   "id": "2da1b11c",
   "metadata": {},
   "source": [
    "#### ✅ Solution"
   ]
  },
  {
   "cell_type": "code",
   "execution_count": null,
   "id": "f8c88872",
   "metadata": {},
   "outputs": [],
   "source": [
    "temperatures = [22.5, 23.0, 21.8, 24.1, 22.9]\n",
    "print(\"Min:\", min(temperatures))\n",
    "print(\"Max:\", max(temperatures))\n",
    "print(\"Moyenne:\", sum(temperatures)/len(temperatures))"
   ]
  },
  {
   "cell_type": "markdown",
   "id": "9973e3cb",
   "metadata": {},
   "source": [
    "### 📝 Graphique température vs temps\n",
    "\n",
    "Tracer une courbe de température en fonction du temps avec matplotlib."
   ]
  },
  {
   "cell_type": "code",
   "execution_count": null,
   "id": "847edbb6",
   "metadata": {},
   "outputs": [],
   "source": [
    "# 🧪 À vous de jouer !\n"
   ]
  },
  {
   "cell_type": "markdown",
   "id": "6b75b466",
   "metadata": {},
   "source": [
    "#### ✅ Solution"
   ]
  },
  {
   "cell_type": "code",
   "execution_count": null,
   "id": "39eb8432",
   "metadata": {},
   "outputs": [],
   "source": [
    "import matplotlib.pyplot as plt\n",
    "\n",
    "temps = [0, 1, 2, 3, 4]\n",
    "temperature = [22.1, 22.8, 23.3, 23.0, 22.7]\n",
    "\n",
    "plt.plot(temps, temperature, marker='o')\n",
    "plt.title(\"Température vs Temps\")\n",
    "plt.xlabel(\"Temps (min)\")\n",
    "plt.ylabel(\"Température (°C)\")\n",
    "plt.grid()\n",
    "plt.show()"
   ]
  },
  {
   "cell_type": "markdown",
   "id": "19d5cf92",
   "metadata": {},
   "source": [
    "### 📝 Calculs vectorisés avec numpy\n",
    "\n",
    "Créer deux tableaux numpy : `masses` et `vitesses`, puis calculer l’énergie cinétique pour chaque objet."
   ]
  },
  {
   "cell_type": "code",
   "execution_count": null,
   "id": "3cb3a55c",
   "metadata": {},
   "outputs": [],
   "source": [
    "# 🧪 À vous de jouer !\n"
   ]
  },
  {
   "cell_type": "markdown",
   "id": "0be8f40b",
   "metadata": {},
   "source": [
    "#### ✅ Solution"
   ]
  },
  {
   "cell_type": "code",
   "execution_count": null,
   "id": "025817a9",
   "metadata": {},
   "outputs": [],
   "source": [
    "import numpy as np\n",
    "\n",
    "masses = np.array([1.0, 2.0, 3.0])  # en kg\n",
    "vitesses = np.array([3.0, 4.0, 5.0])  # en m/s\n",
    "\n",
    "energies = 0.5 * masses * vitesses**2\n",
    "print(\"Énergies cinétiques:\", energies)"
   ]
  },
  {
   "cell_type": "markdown",
   "id": "6ad63493",
   "metadata": {},
   "source": [
    "### 📝 Lecture d’un fichier CSV avec pandas\n",
    "\n",
    "Lire un fichier CSV nommé `mesures.csv` et afficher les 5 premières lignes."
   ]
  },
  {
   "cell_type": "code",
   "execution_count": null,
   "id": "24430c67",
   "metadata": {},
   "outputs": [],
   "source": [
    "# 🧪 À vous de jouer !\n"
   ]
  },
  {
   "cell_type": "markdown",
   "id": "e82c9f99",
   "metadata": {},
   "source": [
    "#### ✅ Solution"
   ]
  },
  {
   "cell_type": "code",
   "execution_count": null,
   "id": "0dbc85bf",
   "metadata": {},
   "outputs": [],
   "source": [
    "import pandas as pd\n",
    "\n",
    "df = pd.read_csv(\"mesures.csv\")\n",
    "print(df.head())"
   ]
  }
 ],
 "metadata": {},
 "nbformat": 4,
 "nbformat_minor": 5
}