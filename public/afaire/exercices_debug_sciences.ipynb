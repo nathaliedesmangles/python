{
 "cells": [
  {
   "cell_type": "markdown",
   "id": "416164cc",
   "metadata": {},
   "source": [
    "### 🐞 Énergie cinétique - TypeError avec input\n",
    "Corrigez le code suivant :"
   ]
  },
  {
   "cell_type": "code",
   "execution_count": 1,
   "id": "c1f20252",
   "metadata": {},
   "outputs": [
    {
     "ename": "TypeError",
     "evalue": "can't multiply sequence by non-int of type 'float'",
     "output_type": "error",
     "traceback": [
      "\u001b[31m---------------------------------------------------------------------------\u001b[39m",
      "\u001b[31mTypeError\u001b[39m                                 Traceback (most recent call last)",
      "\u001b[36mCell\u001b[39m\u001b[36m \u001b[39m\u001b[32mIn[1]\u001b[39m\u001b[32m, line 3\u001b[39m\n\u001b[32m      1\u001b[39m masse = \u001b[38;5;28minput\u001b[39m(\u001b[33m\"\u001b[39m\u001b[33mEntrez la masse en kg: \u001b[39m\u001b[33m\"\u001b[39m)\n\u001b[32m      2\u001b[39m vitesse = \u001b[38;5;28minput\u001b[39m(\u001b[33m\"\u001b[39m\u001b[33mEntrez la vitesse en m/s: \u001b[39m\u001b[33m\"\u001b[39m)\n\u001b[32m----> \u001b[39m\u001b[32m3\u001b[39m energie = \u001b[32;43m0.5\u001b[39;49m\u001b[43m \u001b[49m\u001b[43m*\u001b[49m\u001b[43m \u001b[49m\u001b[43mmasse\u001b[49m * vitesse**\u001b[32m2\u001b[39m\n\u001b[32m      4\u001b[39m \u001b[38;5;28mprint\u001b[39m(\u001b[33m\"\u001b[39m\u001b[33mL\u001b[39m\u001b[33m'\u001b[39m\u001b[33ménergie est:\u001b[39m\u001b[33m\"\u001b[39m, energie)\n",
      "\u001b[31mTypeError\u001b[39m: can't multiply sequence by non-int of type 'float'"
     ]
    }
   ],
   "source": [
    "masse = input(\"Entrez la masse en kg: \")\n",
    "vitesse = input(\"Entrez la vitesse en m/s: \")\n",
    "energie = 0.5 * masse * vitesse**2\n",
    "print(\"L'énergie est:\", energie)"
   ]
  },
  {
   "cell_type": "markdown",
   "id": "8f6d9851",
   "metadata": {},
   "source": [
    "#### ✅ Correction"
   ]
  },
  {
   "cell_type": "code",
   "execution_count": null,
   "id": "79697948",
   "metadata": {},
   "outputs": [],
   "source": [
    "masse = float(input(\"Entrez la masse en kg: \"))\n",
    "vitesse = float(input(\"Entrez la vitesse en m/s: \"))\n",
    "energie = 0.5 * masse * vitesse**2\n",
    "print(\"L'énergie est:\", energie)"
   ]
  },
  {
   "cell_type": "markdown",
   "id": "fa96f52d",
   "metadata": {},
   "source": [
    "### 🐞 Conversion de température - SyntaxError\n",
    "Corrigez le code suivant :"
   ]
  },
  {
   "cell_type": "code",
   "execution_count": null,
   "id": "9ca2788e",
   "metadata": {},
   "outputs": [],
   "source": [
    "temp = 25\n",
    "fahrenheit = temp * 9/5 + 32\n",
    "print(\"Température en F:\" fahrenheit)"
   ]
  },
  {
   "cell_type": "markdown",
   "id": "20c8da97",
   "metadata": {},
   "source": [
    "#### ✅ Correction"
   ]
  },
  {
   "cell_type": "code",
   "execution_count": null,
   "id": "a9667e1e",
   "metadata": {},
   "outputs": [],
   "source": [
    "temp = 25\n",
    "fahrenheit = temp * 9/5 + 32\n",
    "print(\"Température en F:\", fahrenheit)"
   ]
  },
  {
   "cell_type": "markdown",
   "id": "3509d2e1",
   "metadata": {},
   "source": [
    "### 🐞 Filtrage de vitesses - SyntaxError dans if\n",
    "Corrigez le code suivant :"
   ]
  },
  {
   "cell_type": "code",
   "execution_count": null,
   "id": "f8583a1d",
   "metadata": {},
   "outputs": [],
   "source": [
    "vitesses = [12.3, 9.5, 14.8, 7.9]\n",
    "for i in range(0, len(vitesses)):\n",
    "    if vitesses[i] > 10\n",
    "        print(vitesses[i])"
   ]
  },
  {
   "cell_type": "markdown",
   "id": "493e5d9a",
   "metadata": {},
   "source": [
    "#### ✅ Correction"
   ]
  },
  {
   "cell_type": "code",
   "execution_count": null,
   "id": "da1d84da",
   "metadata": {},
   "outputs": [],
   "source": [
    "vitesses = [12.3, 9.5, 14.8, 7.9]\n",
    "for i in range(0, len(vitesses)):\n",
    "    if vitesses[i] > 10:\n",
    "        print(vitesses[i])"
   ]
  },
  {
   "cell_type": "markdown",
   "id": "d1a8fb0a",
   "metadata": {},
   "source": [
    "### 🐞 Liste de pH - mauvaise variable\n",
    "Corrigez le code suivant :"
   ]
  },
  {
   "cell_type": "code",
   "execution_count": null,
   "id": "a28972f5",
   "metadata": {},
   "outputs": [],
   "source": [
    "ph_solutions = [6.5, 7.2, 5.1, 8.3]\n",
    "acides = 0\n",
    "for ph in ph_solutions:\n",
    "    if ph < 7:\n",
    "        acide += 1\n",
    "print(acides)"
   ]
  },
  {
   "cell_type": "markdown",
   "id": "a9a6ef18",
   "metadata": {},
   "source": [
    "#### ✅ Correction"
   ]
  },
  {
   "cell_type": "code",
   "execution_count": null,
   "id": "85218692",
   "metadata": {},
   "outputs": [],
   "source": [
    "ph_solutions = [6.5, 7.2, 5.1, 8.3]\n",
    "acides = 0\n",
    "for ph in ph_solutions:\n",
    "    if ph < 7:\n",
    "        acides += 1\n",
    "print(acides)"
   ]
  },
  {
   "cell_type": "markdown",
   "id": "47ea99ef",
   "metadata": {},
   "source": [
    "### 🐞 numpy - liste non convertie\n",
    "Corrigez le code suivant :"
   ]
  },
  {
   "cell_type": "code",
   "execution_count": null,
   "id": "933dd7ef",
   "metadata": {},
   "outputs": [],
   "source": [
    "import numpy as np\n",
    "masses = np.array([1.0, 2.0, 3.0])\n",
    "vitesses = [3.0, 4.0, 5.0]\n",
    "energie = 0.5 * masses * vitesses\n",
    "print(energie)"
   ]
  },
  {
   "cell_type": "markdown",
   "id": "7ce281e5",
   "metadata": {},
   "source": [
    "#### ✅ Correction"
   ]
  },
  {
   "cell_type": "code",
   "execution_count": null,
   "id": "a636993c",
   "metadata": {},
   "outputs": [],
   "source": [
    "import numpy as np\n",
    "masses = np.array([1.0, 2.0, 3.0])\n",
    "vitesses = np.array([3.0, 4.0, 5.0])\n",
    "energie = 0.5 * masses * vitesses**2\n",
    "print(energie)"
   ]
  },
  {
   "cell_type": "markdown",
   "id": "a7853f23",
   "metadata": {},
   "source": [
    "### 🐞 pandas - colonne non entre guillemets\n",
    "Corrigez le code suivant :"
   ]
  },
  {
   "cell_type": "code",
   "execution_count": null,
   "id": "862db7a2",
   "metadata": {},
   "outputs": [],
   "source": [
    "import pandas as pd\n",
    "df = pd.read_csv(\"mesures.csv\")\n",
    "print(df[temperature])"
   ]
  },
  {
   "cell_type": "markdown",
   "id": "66e3f3d1",
   "metadata": {},
   "source": [
    "#### ✅ Correction"
   ]
  },
  {
   "cell_type": "code",
   "execution_count": null,
   "id": "fc79f1c1",
   "metadata": {},
   "outputs": [],
   "source": [
    "import pandas as pd\n",
    "df = pd.read_csv(\"mesures.csv\")\n",
    "print(df[\"temperature\"])"
   ]
  },
  {
   "cell_type": "markdown",
   "id": "b74bc6f1",
   "metadata": {},
   "source": [
    "### 🐞 pandas - méthode sans parenthèses\n",
    "Corrigez le code suivant :"
   ]
  },
  {
   "cell_type": "code",
   "execution_count": null,
   "id": "96e9047b",
   "metadata": {},
   "outputs": [],
   "source": [
    "import pandas as pd\n",
    "df = pd.read_csv(\"data.csv\")\n",
    "moyenne = df.mean\n",
    "print(\"Moyenne :\", moyenne)"
   ]
  },
  {
   "cell_type": "markdown",
   "id": "9e359574",
   "metadata": {},
   "source": [
    "#### ✅ Correction"
   ]
  },
  {
   "cell_type": "code",
   "execution_count": null,
   "id": "d43658c2",
   "metadata": {},
   "outputs": [],
   "source": [
    "import pandas as pd\n",
    "df = pd.read_csv(\"data.csv\")\n",
    "moyenne = df.mean()\n",
    "print(\"Moyenne :\", moyenne)"
   ]
  }
 ],
 "metadata": {
  "kernelspec": {
   "display_name": "Python 3",
   "language": "python",
   "name": "python3"
  },
  "language_info": {
   "codemirror_mode": {
    "name": "ipython",
    "version": 3
   },
   "file_extension": ".py",
   "mimetype": "text/x-python",
   "name": "python",
   "nbconvert_exporter": "python",
   "pygments_lexer": "ipython3",
   "version": "3.13.5"
  }
 },
 "nbformat": 4,
 "nbformat_minor": 5
}
