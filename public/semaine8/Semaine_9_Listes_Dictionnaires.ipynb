{
 "cells": [
  {
   "cell_type": "markdown",
   "id": "704c6a8f",
   "metadata": {},
   "source": [
    "# Semaine 9 – Structures de données : listes et dictionnaires"
   ]
  },
  {
   "cell_type": "markdown",
   "id": "8016cd67",
   "metadata": {},
   "source": [
    "## Objectifs\n",
    "- Créer et manipuler une **liste** pour stocker des données ordonnées\n",
    "- Créer et utiliser un **dictionnaire** pour représenter des paires clé-valeur\n",
    "- Combiner les structures pour organiser des données scientifiques"
   ]
  },
  {
   "cell_type": "markdown",
   "id": "78a8af54",
   "metadata": {},
   "source": [
    "## Listes"
   ]
  },
  {
   "cell_type": "code",
   "execution_count": null,
   "id": "821043c7",
   "metadata": {},
   "outputs": [],
   "source": [
    "temperatures = [22.1, 23.5, 21.8]"
   ]
  },
  {
   "cell_type": "code",
   "execution_count": null,
   "id": "4958407c",
   "metadata": {},
   "outputs": [],
   "source": [
    "print(temperatures[0])  # Accès au premier élément"
   ]
  },
  {
   "cell_type": "code",
   "execution_count": null,
   "id": "989ead31",
   "metadata": {},
   "outputs": [],
   "source": [
    "temperatures.append(24.0)  # Ajout"
   ]
  },
  {
   "cell_type": "code",
   "execution_count": null,
   "id": "91c69318",
   "metadata": {},
   "outputs": [],
   "source": [
    "temperatures[1] = 23.0     # Modification"
   ]
  },
  {
   "cell_type": "code",
   "execution_count": null,
   "id": "1f4210d6",
   "metadata": {},
   "outputs": [],
   "source": [
    "del temperatures[0]        # Suppression"
   ]
  },
  {
   "cell_type": "markdown",
   "id": "e0a29d50",
   "metadata": {},
   "source": [
    "## Dictionnaires"
   ]
  },
  {
   "cell_type": "code",
   "execution_count": null,
   "id": "f721ed52",
   "metadata": {},
   "outputs": [],
   "source": [
    "element = {\n",
    "    \"symbole\": \"O\",\n",
    "    \"nom\": \"Oxygène\",\n",
    "    \"masse\": 15.999\n",
    "}"
   ]
  },
  {
   "cell_type": "code",
   "execution_count": null,
   "id": "648f5f83",
   "metadata": {},
   "outputs": [],
   "source": [
    "print(element[\"nom\"])  # Affiche le nom de l'élément"
   ]
  },
  {
   "cell_type": "code",
   "execution_count": null,
   "id": "9840b9bb",
   "metadata": {},
   "outputs": [],
   "source": [
    "element[\"etat\"] = \"gaz\"  # Ajout d'une nouvelle clé"
   ]
  },
  {
   "cell_type": "code",
   "execution_count": null,
   "id": "b43f0c88",
   "metadata": {},
   "outputs": [],
   "source": [
    "for cle in element:\n",
    "    print(cle, \":\", element[cle])"
   ]
  },
  {
   "cell_type": "markdown",
   "id": "dc4ea1be",
   "metadata": {},
   "source": [
    "## Combinaisons utiles"
   ]
  },
  {
   "cell_type": "code",
   "execution_count": null,
   "id": "7a56ebcf",
   "metadata": {},
   "outputs": [],
   "source": [
    "especes = [\n",
    "    {\"nom\": \"Grenouille\", \"taille\": 9},\n",
    "    {\"nom\": \"Salamandre\", \"taille\": 15}\n",
    "]"
   ]
  },
  {
   "cell_type": "code",
   "execution_count": null,
   "id": "457b9221",
   "metadata": {},
   "outputs": [],
   "source": [
    "for espece in especes:\n",
    "    print(f\"{espece['nom']} mesure environ {espece['taille']} cm\")"
   ]
  },
  {
   "cell_type": "code",
   "execution_count": null,
   "id": "64308a14",
   "metadata": {},
   "outputs": [],
   "source": [
    "mesures = {\n",
    "    \"2023-01-01\": {\"temperature\": 22.1, \"pression\": 101.3},\n",
    "    \"2023-01-02\": {\"temperature\": 21.8, \"pression\": 101.1}\n",
    "}"
   ]
  },
  {
   "cell_type": "code",
   "execution_count": null,
   "id": "3511610d",
   "metadata": {},
   "outputs": [],
   "source": [
    "for date, data in mesures.items():\n",
    "    print(f\"{date} : Température = {data['temperature']} °C, Pression = {data['pression']} kPa\")"
   ]
  },
  {
   "cell_type": "markdown",
   "id": "5a5f5681",
   "metadata": {},
   "source": [
    "## Exercice proposé\n",
    "- Créer une liste de 5 températures mesurées dans une journée\n",
    "- Créer un dictionnaire pour un élément du tableau périodique\n",
    "- Créer une liste de dictionnaires représentant 3 espèces animales avec leur taille et habitat"
   ]
  }
 ],
 "metadata": {},
 "nbformat": 4,
 "nbformat_minor": 5
}
