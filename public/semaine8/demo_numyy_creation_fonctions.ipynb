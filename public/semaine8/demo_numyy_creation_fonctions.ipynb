 {
  "cells": [
    {
      "cell_type": "markdown",
      "metadata": {},
      "source": [
        "# Demo NumPy - Carnet 1 : Création et Fonctions\n",
        "\n",
        "Ce carnet montre comment créer des tableaux NumPy et utiliser les fonctions mathématiques, statistiques et trigonométriques de base."
      ]
    },
    {
      "cell_type": "code",
      "metadata": {},
      "source": [
        "import numpy as np" 
      ]
    },
    {
      "cell_type": "markdown",
      "metadata": {},
      "source": [
        "## Création de tableaux\n",
        "- Avec np.array()\n",
        "- Avec np.arange()\n",
        "- Avec np.linspace()\n",
        "- Avec np.ones(n)\n",
        "- Avec np.zeros(n)"
      ]
    },
    {
      "cell_type": "code",
      "metadata": {},
      "source": [
        "liste = [2, 4, 6]",
        "t = np.array(liste)
print(t)
",
        "t = np.arange(0, 5, 1)
print(t)
",
        "t = np.linspace(0, 10, 5)
print(t)
",
        "t = np.ones(4)
print(t)
",
        "t = np.zeros(3)
print(t)"
      ]
    },
    {
      "cell_type": "markdown",
      "metadata": {},
      "source": [
        "## Fonctions mathématiques\n",
        "- np.sqrt, np.cbrt, np.exp, np.log, np.log2, np.log10"
      ]
    },
    {
      "cell_type": "code",
      "metadata": {},
      "source": [
        "t = np.array([4, 9, 16])
print(np.sqrt(t))
",
        "t = np.array([27, 64, 216])
print(np.cbrt(t))
",
        "t = np.array([0, 1, 2])
print(np.exp(t))
",
        "t = np.array([1, np.e, np.e**2])
print(np.log(t))
",
        "t = np.array([1, 2, 4, 8])
print(np.log2(t))
",
        "t = np.array([1, 10, 100, 0.1])
print(np.log10(t))"
      ]
    },
    {
      "cell_type": "markdown",
      "metadata": {},
      "source": [
        "## Fonctions statistiques\n",
        "- np.sum, np.prod, np.max, np.min, np.mean, np.median, np.var, np.std"
      ]
    },
    {
      "cell_type": "code",
      "metadata": {},
      "source": [
        "t = np.array([3, 7, 2, 9])
print(np.sum(t))
print(np.prod(t))
print(np.max(t))
print(np.min(t))
",
        "t = np.array([80, 90, 100])
print(np.mean(t))
",
        "t = np.array([1, 2, 3, 4])
print(np.median(t))
print(np.var(t))
print(np.std(t))"
      ]
    },
    {
      "cell_type": "markdown",
      "metadata": {},
      "source": [
        "## Fonctions trigonométriques\n",
        "- np.sin, np.cos, np.tan, np.arcsin, np.arccos, np.arctan, np.deg2rad, np.rad2deg"
      ]
    },
    {
      "cell_type": "code",
      "metadata": {},
      "source": [
        "angles = np.array([0, np.pi/2, np.pi])
print(np.sin(angles))
print(np.cos(angles))
print(np.tan(angles))
",
        "t = np.array([1, -1, 0.1])
print(np.arcsin(t))
print(np.arccos(t))
print(np.arctan(t))
",
        "t = np.array([90, 180, 270, 360])
print(np.deg2rad(t))
",
        "t = np.array([np.pi/2, np.pi, 1.5*np.pi, 2*np.pi])
print(np.rad2deg(t))"
      ]
    },
    {
      "cell_type": "markdown",
      "metadata": {},
      "source": [
        "## Différences consécutives\n",
        "- np.diff()"
      ]
    },
    {
      "cell_type": "code",
      "metadata": {},
      "source": [
        "t = np.array([0, 5, 15])
print(np.diff(t))"]
    },
    {
      "cell_type": "markdown",
      "metadata": {},
      "source": [
        "## Opérations vectorisées et arithmétiques élément par élément"
      ]
    },
    {
      "cell_type": "code",
      "metadata": {},
      "source": [
        "t = np.array([0, 1, 2])
x = 3 * t**2
print(x)
",
        "a = np.array([1, 2, 3, 4])
b = np.array([10, 20, 30, 40])
print(a+b)
print(a-b)
print(a*b)
print(a/b)
print(a**2)
print(np.abs([-3, -5]))"]
    }
  ],
  "metadata": {"kernelspec": {"display_name": "Python 3", "language": "python", "name": "python3"}, "language_info": {"name": "python", "version": "3.11"}},
  "nbformat": 4,
  "nbformat_minor": 5
}
