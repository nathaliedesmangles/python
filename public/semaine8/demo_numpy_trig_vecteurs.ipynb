{
 "cells": [
  {
   "cell_type": "markdown",
   "id": "af0940c5",
   "metadata": {},
   "source": [
    "# Démonstration NumPy – Trigonométrie, différences, opérations vectorisées\n",
    "\n",
    "Dans ce carnet, nous allons explorer :\n",
    "- Fonctions trigonométriques\n",
    "- Différences consécutives\n",
    "- Opérations vectorisées\n",
    "- Gestion des valeurs manquantes (`np.nan`)"
   ]
  },
  {
   "cell_type": "markdown",
   "id": "1ae6ccd6",
   "metadata": {},
   "source": [
    "## 1. Fonctions trigonométriques\n",
    "NumPy permet de calculer facilement sinus, cosinus, tangente et leurs inverses, ainsi que de convertir entre degrés et radians."
   ]
  },
  {
   "cell_type": "code",
   "execution_count": null,
   "id": "ba1885ec",
   "metadata": {},
   "outputs": [],
   "source": [
    "import numpy as np\n",
    "\n",
    "# Angles\n",
    "angles = np.array([0, np.pi/2, np.pi])\n",
    "print(\"sin:\", np.sin(angles))\n",
    "print(\"cos:\", np.cos(angles))\n",
    "print(\"tan:\", np.tan(angles))\n",
    "\n",
    "# Inverses\n",
    "t = np.array([1, -1, 0.1])\n",
    "print(\"arcsin:\", np.arcsin(t))\n",
    "print(\"arccos:\", np.arccos(t))\n",
    "print(\"arctan:\", np.arctan(t))\n",
    "\n",
    "# Conversion degrés ↔ radians\n",
    "deg = np.array([90, 180, 270, 360])\n",
    "rad = np.array([np.pi/2, np.pi, 1.5*np.pi, 2*np.pi])\n",
    "print(\"deg -> rad:\", np.deg2rad(deg))\n",
    "print(\"rad -> deg:\", np.rad2deg(rad))"
   ]
  },
  {
   "cell_type": "markdown",
   "id": "006f99bb",
   "metadata": {},
   "source": [
    "## 2. Différences consécutives\n",
    "\n",
    "`np.diff()` calcule la différence entre chaque élément consécutif d'un tableau, utile par exemple pour calculer une vitesse à partir d'une position."
   ]
  },
  {
   "cell_type": "code",
   "execution_count": null,
   "id": "ab07b757",
   "metadata": {},
   "outputs": [],
   "source": [
    "positions = np.array([0, 5, 15])\n",
    "differences = np.diff(positions)\n",
    "print(\"Différences consécutives :\", differences)"
   ]
  },
  {
   "cell_type": "markdown",
   "id": "93eb5c4d",
   "metadata": {},
   "source": [
    "## 3. Opérations vectorisées\n",
    "Lorsque l’on effectue une opération entre deux tableaux de même forme, l’opération s’applique automatiquement élément par élément."
   ]
  },
  {
   "cell_type": "code",
   "execution_count": null,
   "id": "99e09a9c",
   "metadata": {},
   "outputs": [],
   "source": [
    "a = np.array([1, 2, 3, 4])\n",
    "b = np.array([10, 20, 30, 40])\n",
    "\n",
    "print(\"Addition :\", a + b)\n",
    "print(\"Soustraction :\", a - b)\n",
    "print(\"Multiplication :\", a * b)\n",
    "print(\"Division :\", a / b)\n",
    "print(\"Puissance a^2 :\", a ** 2)\n",
    "print(\"Valeur absolue :\", np.abs([-3, -5]))"
   ]
  },
  {
   "cell_type": "markdown",
   "id": "bc64e4be",
   "metadata": {},
   "source": [
    "## 4. Gestion des valeurs manquantes (`np.nan`)\n",
    "\n",
    "Parfois une valeur est manquante. On peut l'indiquer par `np.nan` et utiliser des fonctions spéciales comme `np.nanmean()` pour l’ignorer."
   ]
  },
  {
   "cell_type": "code",
   "execution_count": null,
   "id": "c6c6edcb",
   "metadata": {},
   "outputs": [],
   "source": [
    "sol = np.array([32.0, np.nan, 37.2])\n",
    "moy = np.nanmean(sol)\n",
    "print(f\"Moyenne (sans valeur manquante) : {moy:.2f} g/100mL\")"
   ]
  },
  {
   "cell_type": "markdown",
   "id": "6004aec8",
   "metadata": {},
   "source": [
    "> **Petit exercice:**\n",
    ">\n",
    "> 1. Créez un tableau `temps = [0, 2, 4, 6, 8]` et calculez la racine carrée de chaque élément.\n",
    "> 2. Créez un tableau `valeurs = [1, np.nan, 3, 4, np.nan, 6]` et calculez la moyenne en ignorant les NaN.\n",
    "> 3. Créez deux tableaux `x = [1,2,3]` et `y = [4,5,6]` et multipliez-les élément par élément."
   ]
  }
 ],
 "metadata": {
  "kernelspec": {
   "display_name": "Python 3",
   "language": "python",
   "name": "python3"
  },
  "language_info": {
   "name": "python",
   "version": "3.11"
  }
 },
 "nbformat": 4,
 "nbformat_minor": 5
}
