{
 "cells": [
  {
   "cell_type": "markdown",
   "id": "683ff3c9",
   "metadata": {},
   "source": [
    "\n",
    "# 🧮 Demo NumPy – Carnet 2 (version étudiante)\n",
    "## Manipulation et filtrage de données\n",
    "Ce carnet te permettra de pratiquer :\n",
    "- la gestion des valeurs manquantes (`np.nan`),\n",
    "- le découpage (slicing) de tableaux,\n",
    "- le filtrage de données avec masques booléens et `np.where()`.\n"
   ]
  },
  {
   "cell_type": "markdown",
   "id": "bddb03d6",
   "metadata": {},
   "source": [
    "\n",
    "## 1. Gestion des valeurs manquantes (`np.nan`)\n",
    "En sciences, certaines mesures peuvent être manquantes.  \n",
    "Dans NumPy, on utilise `np.nan` pour représenter une valeur manquante.\n"
   ]
  },
  {
   "cell_type": "code",
   "execution_count": null,
   "id": "e03a10bc",
   "metadata": {},
   "outputs": [],
   "source": [
    "\n",
    "import numpy as np\n",
    "\n",
    "# Exemple avec une valeur manquante\n",
    "mesures = np.array([32.0, np.nan, 37.2, 35.5])\n",
    "print(\"Tableau :\", mesures)\n",
    "\n",
    "# Moyenne sans valeur manquante\n",
    "moy = np.nanmean(mesures)\n",
    "print(f\"Moyenne (sans valeurs manquantes) : {moy:.2f} °C\")\n"
   ]
  },
  {
   "cell_type": "markdown",
   "id": "8faf3a43",
   "metadata": {},
   "source": [
    "\n",
    "💡 **Astuce :**  \n",
    "- `np.nanmean()` ignore les valeurs `np.nan`.  \n",
    "- Il existe aussi `np.nanmedian()`, `np.nanstd()`, etc.\n"
   ]
  },
  {
   "cell_type": "code",
   "execution_count": null,
   "id": "dce2ca08",
   "metadata": {},
   "outputs": [],
   "source": [
    "\n",
    "# 🔧 À toi de jouer :\n",
    "# Calcule la médiane et l'écart-type en ignorant les valeurs manquantes.\n",
    "\n",
    "# Ton code ici ↓\n",
    "\n",
    "\n",
    "\n"
   ]
  },
  {
   "cell_type": "markdown",
   "id": "0bf29d87",
   "metadata": {},
   "source": [
    "\n",
    "## 2. Découpage de tableaux (slicing)\n",
    "Le découpage permet d’accéder à une partie d’un tableau.  \n",
    "Syntaxe : `tableau[start:end]`  \n",
    "Exemple : `a[1:4]` → éléments 1, 2, 3\n"
   ]
  },
  {
   "cell_type": "code",
   "execution_count": null,
   "id": "fedf0d8f",
   "metadata": {},
   "outputs": [],
   "source": [
    "\n",
    "a = np.array([10, 20, 30, 40, 50, 60])\n",
    "print(\"Tableau :\", a)\n",
    "print(\"De l’indice 1 à 4 :\", a[1:4])\n",
    "print(\"Les trois derniers éléments :\", a[-3:])\n"
   ]
  },
  {
   "cell_type": "code",
   "execution_count": null,
   "id": "2610abc6",
   "metadata": {},
   "outputs": [],
   "source": [
    "\n",
    "# 🧠 Exercice : extrais du tableau suivant les valeurs du 2e au 5e élément inclus.\n",
    "\n",
    "b = np.array([2, 4, 6, 8, 10, 12, 14])\n",
    "\n",
    "# Ton code ici ↓\n",
    "\n",
    "\n",
    "\n"
   ]
  },
  {
   "cell_type": "markdown",
   "id": "c4b299fb",
   "metadata": {},
   "source": [
    "\n",
    "## 3. Filtrage de données (masques booléens)\n",
    "Un **masque booléen** permet de sélectionner les valeurs qui respectent une condition.\n"
   ]
  },
  {
   "cell_type": "code",
   "execution_count": null,
   "id": "faa2f5b8",
   "metadata": {},
   "outputs": [],
   "source": [
    "\n",
    "temp = np.array([18.5, 21.0, 25.3, 19.8, 27.2])\n",
    "print(\"Températures :\", temp)\n",
    "\n",
    "# Créer un masque pour les valeurs supérieures à 20°C\n",
    "masque = temp > 20\n",
    "print(\"Masque :\", masque)\n",
    "\n",
    "# Appliquer le masque\n",
    "print(\"Valeurs filtrées :\", temp[masque])\n"
   ]
  },
  {
   "cell_type": "code",
   "execution_count": null,
   "id": "820ddcff",
   "metadata": {},
   "outputs": [],
   "source": [
    "\n",
    "# 🔍 Exercice : crée un masque pour afficher uniquement les valeurs inférieures à 25°C\n",
    "\n",
    "# Ton code ici ↓\n",
    "\n",
    "\n",
    "\n"
   ]
  },
  {
   "cell_type": "markdown",
   "id": "de810e49",
   "metadata": {},
   "source": [
    "\n",
    "## 4. Comptage conditionnel\n",
    "On peut compter le nombre de valeurs respectant une condition avec `np.sum()` sur un masque booléen.\n"
   ]
  },
  {
   "cell_type": "code",
   "execution_count": null,
   "id": "43450cf9",
   "metadata": {},
   "outputs": [],
   "source": [
    "\n",
    "masque_chaud = temp > 25\n",
    "nb_chaud = np.sum(masque_chaud)\n",
    "print(f\"Nombre de jours > 25°C : {nb_chaud}\")\n"
   ]
  },
  {
   "cell_type": "code",
   "execution_count": null,
   "id": "524f5593",
   "metadata": {},
   "outputs": [],
   "source": [
    "\n",
    "# 🧮 Exercice : compte le nombre de jours où la température est entre 18°C et 24°C inclusivement.\n",
    "\n",
    "# Ton code ici ↓\n",
    "\n",
    "\n",
    "\n"
   ]
  },
  {
   "cell_type": "markdown",
   "id": "faaa6480",
   "metadata": {},
   "source": [
    "\n",
    "## 5. Filtrage avec `np.where()`\n",
    "`np.where()` permet d’appliquer une **condition** et de choisir une **valeur alternative**.\n"
   ]
  },
  {
   "cell_type": "code",
   "execution_count": null,
   "id": "bec62eb3",
   "metadata": {},
   "outputs": [],
   "source": [
    "\n",
    "# Exemple : remplacer les valeurs supérieures à 25 par 25\n",
    "temp_limitee = np.where(temp > 25, 25, temp)\n",
    "print(\"Températures originales :\", temp)\n",
    "print(\"Températures limitées à 25°C :\", temp_limitee)\n"
   ]
  },
  {
   "cell_type": "code",
   "execution_count": null,
   "id": "58d0922a",
   "metadata": {},
   "outputs": [],
   "source": [
    "\n",
    "# 🧩 Exercice :\n",
    "# Remplace les valeurs inférieures à 20°C par 20°C dans le tableau temp.\n",
    "\n",
    "# Ton code ici ↓\n",
    "\n",
    "\n",
    "\n"
   ]
  }
 ],
 "metadata": {},
 "nbformat": 4,
 "nbformat_minor": 5
}