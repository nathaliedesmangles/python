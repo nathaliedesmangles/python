{
 "cells": [
  {
   "cell_type": "markdown",
   "id": "d961241e",
   "metadata": {},
   "source": [
    "# Semaine 9 – Activité : Données scientifiques structurées\n",
    "## Objectif\n",
    "Manipuler des structures de données Python (listes et dictionnaires) en lien avec le tableau périodique, les molécules et des données biologiques."
   ]
  },
  {
   "cell_type": "markdown",
   "id": "61d86088",
   "metadata": {},
   "source": [
    "### Partie 1 – Le tableau périodique\n",
    "**Instructions :**\n",
    "1. Crée un dictionnaire pour représenter un élément chimique (nom, symbole, numéro atomique, masse atomique).\n",
    "2. Crée une liste de 3 éléments différents.\n",
    "3. Affiche le symbole et la masse atomique de chaque élément."
   ]
  },
  {
   "cell_type": "code",
   "execution_count": null,
   "id": "6003d761",
   "metadata": {},
   "outputs": [],
   "source": [
    "# Exemple de dictionnaire pour un élément\n",
    "element1 = {\"nom\": \"Hydrogène\", \"symbole\": \"H\", \"numero\": 1, \"masse\": 1.008}\n",
    "element2 = {\"nom\": \"Carbone\", \"symbole\": \"C\", \"numero\": 6, \"masse\": 12.011}\n",
    "element3 = {\"nom\": \"Oxygène\", \"symbole\": \"O\", \"numero\": 8, \"masse\": 15.999}\n",
    "\n",
    "elements = [element1, element2, element3]\n",
    "\n",
    "for e in elements:\n",
    "    print(f\"{e['symbole']} : {e['masse']} u\")"
   ]
  },
  {
   "cell_type": "markdown",
   "id": "e381a20c",
   "metadata": {},
   "source": [
    "### Partie 2 – Molécule\n",
    "**Instructions :**\n",
    "1. Crée une liste contenant les symboles des éléments dans une molécule (ex. : H₂O).\n",
    "2. Calcule sa masse moléculaire en utilisant les données du tableau périodique."
   ]
  },
  {
   "cell_type": "code",
   "execution_count": null,
   "id": "297e911d",
   "metadata": {},
   "outputs": [],
   "source": [
    "# Molécule d'eau : H2O\n",
    "molecule = [\"H\", \"H\", \"O\"]\n",
    "\n",
    "# Dictionnaire de masses\n",
    "masses = {\"H\": 1.008, \"O\": 15.999}\n",
    "\n",
    "masse_totale = 0\n",
    "for atome in molecule:\n",
    "    masse_totale += masses[atome]\n",
    "\n",
    "print(f\"Masse moléculaire de H2O : {masse_totale} u\")"
   ]
  },
  {
   "cell_type": "markdown",
   "id": "75569390",
   "metadata": {},
   "source": [
    "### Partie 3 – Données biologiques\n",
    "**Instructions :**\n",
    "1. Crée une liste de dictionnaires représentant différentes espèces.\n",
    "2. Chaque dictionnaire contient : le nom de l'espèce, sa taille moyenne (cm), son habitat.\n",
    "3. Affiche un résumé de ces données."
   ]
  },
  {
   "cell_type": "code",
   "execution_count": null,
   "id": "cc6dff6d",
   "metadata": {},
   "outputs": [],
   "source": [
    "especes = [\n",
    "    {\"nom\": \"Grenouille verte\", \"taille_cm\": 9, \"habitat\": \"étang\"},\n",
    "    {\"nom\": \"Truite mouchetée\", \"taille_cm\": 30, \"habitat\": \"lac\"},\n",
    "    {\"nom\": \"Geai bleu\", \"taille_cm\": 25, \"habitat\": \"forêt\"}\n",
    "]\n",
    "\n",
    "for espece in especes:\n",
    "    print(f\"{espece['nom']} vit dans un(e) {espece['habitat']} et mesure environ {espece['taille_cm']} cm.\")"
   ]
  },
  {
   "cell_type": "markdown",
   "id": "781781da",
   "metadata": {},
   "source": [
    "### Bonus\n",
    "Crée une fonction `resume_espece` qui prend un dictionnaire d'espèce et affiche une phrase descriptive."
   ]
  },
  {
   "cell_type": "code",
   "execution_count": null,
   "id": "8bd058e4",
   "metadata": {},
   "outputs": [],
   "source": [
    "def resume_espece(e):\n",
    "    print(f\"{e['nom']} vit dans un(e) {e['habitat']} et mesure environ {e['taille_cm']} cm.\")\n",
    "\n",
    "resume_espece(especes[0])"
   ]
  }
 ],
 "metadata": {},
 "nbformat": 4,
 "nbformat_minor": 5
}
