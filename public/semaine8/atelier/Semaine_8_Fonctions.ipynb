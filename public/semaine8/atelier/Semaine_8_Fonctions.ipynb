{
 "cells": [
  {
   "cell_type": "markdown",
   "id": "99e0fdff",
   "metadata": {},
   "source": [
    "# Semaine 7 – Fonctions simples et paramètres"
   ]
  },
  {
   "cell_type": "markdown",
   "id": "6ccfe2ee",
   "metadata": {},
   "source": [
    "## Objectifs\n",
    "- Comprendre le rôle des fonctions\n",
    "- Définir et utiliser des fonctions avec ou sans paramètres\n",
    "- Retourner des valeurs avec `return`\n",
    "- Distinguer les variables locales et globales"
   ]
  },
  {
   "cell_type": "markdown",
   "id": "fa1acf62",
   "metadata": {},
   "source": [
    "## Définir une fonction simple"
   ]
  },
  {
   "cell_type": "code",
   "execution_count": null,
   "id": "33af364e",
   "metadata": {},
   "outputs": [],
   "source": [
    "def bonjour():\n",
    "    print(\"Bonjour!\")"
   ]
  },
  {
   "cell_type": "code",
   "execution_count": null,
   "id": "be99e399",
   "metadata": {},
   "outputs": [],
   "source": [
    "bonjour()"
   ]
  },
  {
   "cell_type": "markdown",
   "id": "82201515",
   "metadata": {},
   "source": [
    "## Fonctions avec paramètre"
   ]
  },
  {
   "cell_type": "code",
   "execution_count": null,
   "id": "16b7cacb",
   "metadata": {},
   "outputs": [],
   "source": [
    "def saluer(nom):\n",
    "    print(f\"Bonjour, {nom}!\")"
   ]
  },
  {
   "cell_type": "code",
   "execution_count": null,
   "id": "d093098b",
   "metadata": {},
   "outputs": [],
   "source": [
    "saluer(\"Marie\")\n",
    "saluer(\"Alex\")"
   ]
  },
  {
   "cell_type": "markdown",
   "id": "e2de2c7b",
   "metadata": {},
   "source": [
    "## Fonction avec plusieurs paramètres"
   ]
  },
  {
   "cell_type": "code",
   "execution_count": null,
   "id": "e7b653db",
   "metadata": {},
   "outputs": [],
   "source": [
    "def calculer_tension(resistance, courant):\n",
    "    print(f\"La tension est de {resistance * courant} V\")"
   ]
  },
  {
   "cell_type": "code",
   "execution_count": null,
   "id": "a7ecfad5",
   "metadata": {},
   "outputs": [],
   "source": [
    "calculer_tension(10, 2)"
   ]
  },
  {
   "cell_type": "markdown",
   "id": "7e3ebed4",
   "metadata": {},
   "source": [
    "## Retourner une valeur avec `return`"
   ]
  },
  {
   "cell_type": "code",
   "execution_count": null,
   "id": "8895d062",
   "metadata": {},
   "outputs": [],
   "source": [
    "def calculer_tension(resistance, courant):\n",
    "    return resistance * courant"
   ]
  },
  {
   "cell_type": "code",
   "execution_count": null,
   "id": "bd239763",
   "metadata": {},
   "outputs": [],
   "source": [
    "u = calculer_tension(10, 2)\n",
    "print(f\"Tension : {u} V\")"
   ]
  },
  {
   "cell_type": "markdown",
   "id": "fa126537",
   "metadata": {},
   "source": [
    "## Variables locales et globales"
   ]
  },
  {
   "cell_type": "code",
   "execution_count": null,
   "id": "b12d785e",
   "metadata": {},
   "outputs": [],
   "source": [
    "def exemple():\n",
    "    x = 5\n",
    "    print(x)"
   ]
  },
  {
   "cell_type": "code",
   "execution_count": null,
   "id": "27b6bba4",
   "metadata": {},
   "outputs": [],
   "source": [
    "exemple()"
   ]
  },
  {
   "cell_type": "markdown",
   "id": "6574842b",
   "metadata": {},
   "source": [
    "## Exercice à faire\n",
    "- Créer une fonction `aire_rectangle(longueur, largeur)` qui retourne l’aire\n",
    "- Créer une fonction `convertir_celsius_en_fahrenheit(c)` qui retourne la température en °F"
   ]
  }
 ],
 "metadata": {},
 "nbformat": 4,
 "nbformat_minor": 5
}
