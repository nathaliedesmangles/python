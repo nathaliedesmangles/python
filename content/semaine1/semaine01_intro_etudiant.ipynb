{
 "cells": [
  {
   "cell_type": "markdown",
   "id": "42c34a42",
   "metadata": {},
   "source": [
    "# Semaine 1 – Introduction à Python\n",
    "\n",
    "## Objectifs d'apprentissage\n",
    "\n",
    "- Effectuer des calculs simples\n",
    "- Ajouter des commentaires et des titres avec Markdown\n",
    "- Comprendre la structure d’un bloc-notes Jupyter\n",
    "\n",
    "---\n",
    "\n",
    "## Théorie\n",
    "\n",
    "Python est un langage de programmation accessible, très utilisé en sciences.\n",
    "\n",
    "Les bloc-notes Jupyter permettent d’alterner texte explicatif et code exécutable.\n",
    "\n",
    "---\n",
    "\n",
    "## Code de démonstration"
   ]
  },
  {
   "cell_type": "code",
   "execution_count": 3,
   "id": "973d6fff",
   "metadata": {},
   "outputs": [
    {
     "name": "stdout",
     "output_type": "stream",
     "text": [
      "Volume du cylindre : 196.34999999999997 cm³\n"
     ]
    }
   ],
   "source": [
    "# Exemple : calcul du volume d’un cylindre (V = πr²h)\n",
    "rayon = 2.5  # en cm\n",
    "hauteur = 10  # en cm\n",
    "volume = 3.1416 * rayon**2 * hauteur\n",
    "print(\"Volume du cylindre :\", volume, \"cm³\")"
   ]
  },
  {
   "cell_type": "markdown",
   "id": "5ff84ff5",
   "metadata": {},
   "source": [
    "---\n",
    "\n",
    "## Exercices guidés\n",
    "\n",
    "### Exercice 1 – Conversion de température\n",
    "\n",
    "Convertir 23 °C en Kelvin. (K = °C + 273.15)"
   ]
  },
  {
   "cell_type": "code",
   "execution_count": null,
   "id": "afece94f",
   "metadata": {},
   "outputs": [],
   "source": [
    "celsius = 23\n",
    "kelvin = celsius + 273.15\n",
    "print(\"Température en K :\", kelvin)"
   ]
  },
  {
   "cell_type": "markdown",
   "id": "ef6bb445",
   "metadata": {},
   "source": [
    "---\n",
    "\n",
    "### Exercice 2 – Calcul de concentration\n",
    "\n",
    "Une solution contient 0,4 mole de NaCl dissous dans 0,250 L d’eau.\n",
    "\n",
    "Calculer la concentration (C = n / V)."
   ]
  },
  {
   "cell_type": "code",
   "execution_count": null,
   "id": "66e2d23c",
   "metadata": {},
   "outputs": [],
   "source": [
    "n_mol = 0.4  # moles\n",
    "volume_L = 0.250  # litres\n",
    "concentration = n_mol / volume_L\n",
    "print(\"Concentration :\", concentration, \"mol/L\")"
   ]
  },
  {
   "cell_type": "markdown",
   "id": "16b2f2f7",
   "metadata": {},
   "source": [
    "---\n",
    "\n",
    "## Interprétation\n",
    "\n",
    "Ces calculs simples sont très fréquents en laboratoire.\n",
    "\n",
    "---\n",
    "\n",
    "## À retenir\n",
    "\n",
    "| Élément | Exemple |\n",
    "|--------|---------|\n",
    "| Commentaire dans le code | `# Ceci est un commentaire` |\n",
    "| Markdown titre | `# Titre` |\n",
    "| Opération mathématique | `x ** 2`, `x * y`, `x + y` |"
   ]
  }
 ],
 "metadata": {
  "kernelspec": {
   "display_name": "Python 3",
   "language": "python",
   "name": "python3"
  },
  "language_info": {
   "codemirror_mode": {
    "name": "ipython",
    "version": 3
   },
   "file_extension": ".py",
   "mimetype": "text/x-python",
   "name": "python",
   "nbconvert_exporter": "python",
   "pygments_lexer": "ipython3",
   "version": "3.11.9"
  }
 },
 "nbformat": 4,
 "nbformat_minor": 5
}
