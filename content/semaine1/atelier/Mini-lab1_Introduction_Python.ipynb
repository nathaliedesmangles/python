{
 "cells": [
  {
   "cell_type": "markdown",
   "id": "19c437a5",
   "metadata": {},
   "source": [
    "# Mini-lab 1 : Découverte de Python avec Jupyter\n",
    "**Cours : Programmation en sciences avec Python**\n",
    "\n",
    "Travail en équipe de 2 ou 3\n",
    "\n",
    "## Objectifs :\n",
    "- Découvrir l'environnement Jupyter Notebook\n",
    "- Manipuler des variables et des expressions mathématiques\n",
    "- Effectuer des calculs simples liés aux sciences\n"
   ]
  },
  {
   "cell_type": "code",
   "execution_count": null,
   "id": "a64ac35b",
   "metadata": {},
   "outputs": [],
   "source": [
    "# Affiche ton nom et ton programme d’études\n",
    "print(\"Nom : _______ - Programme : Sciences de la nature\")"
   ]
  },
  {
   "cell_type": "code",
   "execution_count": null,
   "id": "5ec9ce3d",
   "metadata": {},
   "outputs": [],
   "source": [
    "# Déclare une variable pour ta masse (en kg) et une pour la gravité (9.8 m/s^2)\n",
    "masse = ___  # Remplacez les ___ par une valeur réelle\n",
    "gravite = 9.8"
   ]
  },
  {
   "cell_type": "code",
   "execution_count": null,
   "id": "98522689",
   "metadata": {},
   "outputs": [],
   "source": [
    "# Calcule ton poids en Newton\n",
    "poids = masse * gravite\n",
    "print(\"Ton poids sur Terre est :\", poids, \"N\")"
   ]
  },
  {
   "cell_type": "code",
   "execution_count": null,
   "id": "b444198b",
   "metadata": {},
   "outputs": [],
   "source": [
    "# Calcule l’énergie cinétique pour une vitesse donnée\n",
    "vitesse = 3.0  # m/s\n",
    "energie = 0.5 * masse * vitesse ** 2\n",
    "print(\"Énergie cinétique :\", energie, \"J\")"
   ]
  },
  {
   "cell_type": "markdown",
   "id": "ac0c62df",
   "metadata": {},
   "source": [
    "## Pour aller plus loin (facultatif)\n",
    "- Change la valeur de la gravité pour simuler une autre planète\n",
    "- Ajoute une nouvelle cellule pour convertir l’énergie en kilojoules\n",
    "- Ajoute un commentaire dans chaque cellule pour expliquer ton raisonnement\n"
   ]
  }
 ],
 "metadata": {},
 "nbformat": 4,
 "nbformat_minor": 5
}
