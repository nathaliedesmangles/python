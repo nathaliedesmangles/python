{
 "cells": [
  {
   "cell_type": "code",
   "execution_count": 1,
   "id": "43285c48",
   "metadata": {},
   "outputs": [
    {
     "name": "stdout",
     "output_type": "stream",
     "text": [
      "La force de balle de 2.5 est de 24.50 N.\n"
     ]
    }
   ],
   "source": [
    "# Demande du nom de l'objet (chaîne de caractères)\n",
    "nom_objet = input(\"Entrez le nom de l'objet : \")\n",
    "\n",
    "# Demande de la masse (nombre décimal)\n",
    "masse = float(input(\"Entrez la masse de l'objet en kg : \"))\n",
    "\n",
    "# Déclaration de la constante d'accélération gravitationnelle (en m/s²)\n",
    "ACCELERATION_GRAVITATIONNELLE = 9.8  # constante en majuscules\n",
    "\n",
    "# Calcul de la force\n",
    "force = masse * ACCELERATION_GRAVITATIONNELLE\n",
    "\n",
    "# Affichage du résultat\n",
    "print(f\"La force de {nom_objet} de {masse:.1f} est de {force:.2f} N.\")"
   ]
  }
 ],
 "metadata": {
  "kernelspec": {
   "display_name": "Python 3",
   "language": "python",
   "name": "python3"
  },
  "language_info": {
   "codemirror_mode": {
    "name": "ipython",
    "version": 3
   },
   "file_extension": ".py",
   "mimetype": "text/x-python",
   "name": "python",
   "nbconvert_exporter": "python",
   "pygments_lexer": "ipython3",
   "version": "3.11.9"
  }
 },
 "nbformat": 4,
 "nbformat_minor": 5
}
