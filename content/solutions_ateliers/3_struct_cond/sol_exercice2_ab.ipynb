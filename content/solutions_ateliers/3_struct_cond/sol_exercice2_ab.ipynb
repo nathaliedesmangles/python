{
 "cells": [
  {
   "cell_type": "code",
   "execution_count": 1,
   "id": "1fbf097b",
   "metadata": {},
   "outputs": [
    {
     "name": "stdout",
     "output_type": "stream",
     "text": [
      "Hauteur maximale : 1.27420998980632 m\n",
      "Hauteur maximale (arrondie) : 1.27 m\n"
     ]
    }
   ],
   "source": [
    "# Définition de la fonction pour calculer la hauteur maximale\n",
    "def hauteur_maximale(vitesse):\n",
    "    g = 9.81  # accélération gravitationnelle en m/s²\n",
    "    h = vitesse ** 2 / (2 * g)\n",
    "    return h\n",
    "\n",
    "# Saisie de la vitesse initiale (avec conversion en float)\n",
    "v = float(input(\"Entrez la vitesse de départ (en m/s) : \"))\n",
    "\n",
    "# Appel de la fonction\n",
    "hauteur = hauteur_maximale(v)\n",
    "\n",
    "# Affichage du résultat\n",
    "print(f\"Hauteur maximale : {hauteur} m\")\n",
    "\n",
    "# Affichage arrondi à deux décimales\n",
    "print(f\"Hauteur maximale (arrondie) : {round(hauteur, 2)} m\")"
   ]
  }
 ],
 "metadata": {
  "kernelspec": {
   "display_name": "Python 3",
   "language": "python",
   "name": "python3"
  },
  "language_info": {
   "codemirror_mode": {
    "name": "ipython",
    "version": 3
   },
   "file_extension": ".py",
   "mimetype": "text/x-python",
   "name": "python",
   "nbconvert_exporter": "python",
   "pygments_lexer": "ipython3",
   "version": "3.11.9"
  }
 },
 "nbformat": 4,
 "nbformat_minor": 5
}
