{
 "cells": [
  {
   "cell_type": "markdown",
   "id": "a3c48ea5",
   "metadata": {},
   "source": [
    "# Démonstration NumPy — Cours d’introduction"
   ]
  },
  {
   "cell_type": "code",
   "execution_count": null,
   "id": "92b8e751",
   "metadata": {},
   "outputs": [],
   "source": [
    "\n",
    "import numpy as np\n"
   ]
  },
  {
   "cell_type": "markdown",
   "id": "4f6785bf",
   "metadata": {},
   "source": [
    "## Création de tableaux"
   ]
  },
  {
   "cell_type": "code",
   "execution_count": null,
   "id": "c7f091cc",
   "metadata": {},
   "outputs": [],
   "source": [
    "\n",
    "liste = [2, 4, 6]\n",
    "t = np.array(liste)\n",
    "print(t)\n"
   ]
  },
  {
   "cell_type": "code",
   "execution_count": null,
   "id": "325832ad",
   "metadata": {},
   "outputs": [],
   "source": [
    "\n",
    "t = np.arange(0, 5, 1)\n",
    "print(t)\n"
   ]
  },
  {
   "cell_type": "code",
   "execution_count": null,
   "id": "617c40eb",
   "metadata": {},
   "outputs": [],
   "source": [
    "\n",
    "t = np.linspace(0, 10, 5)\n",
    "print(t)\n"
   ]
  },
  {
   "cell_type": "code",
   "execution_count": null,
   "id": "289c9271",
   "metadata": {},
   "outputs": [],
   "source": [
    "\n",
    "t = np.ones(4)\n",
    "print(t)\n",
    "\n",
    "t = np.zeros(3)\n",
    "print(t)\n"
   ]
  },
  {
   "cell_type": "markdown",
   "id": "904b70be",
   "metadata": {},
   "source": [
    "## Fonctions mathématiques"
   ]
  },
  {
   "cell_type": "code",
   "execution_count": null,
   "id": "4680a692",
   "metadata": {},
   "outputs": [],
   "source": [
    "\n",
    "t = np.array([4, 9, 16])\n",
    "print(np.sqrt(t))\n",
    "print(np.cbrt([27, 64, 216]))\n",
    "print(np.exp([0, 1, 2]))\n",
    "print(np.log([1, np.e, np.e**2]))\n",
    "print(np.log2([1, 2, 4, 8]))\n",
    "print(np.log10([1, 10, 100, 0.1]))\n"
   ]
  },
  {
   "cell_type": "markdown",
   "id": "9b65979e",
   "metadata": {},
   "source": [
    "## Fonctions statistiques"
   ]
  },
  {
   "cell_type": "code",
   "execution_count": null,
   "id": "0d9902cc",
   "metadata": {},
   "outputs": [],
   "source": [
    "\n",
    "t = np.array([3, 7, 2, 9])\n",
    "print(np.sum(t))\n",
    "print(np.prod(t))\n",
    "print(np.max(t), np.min(t))\n",
    "print(np.mean([80, 90, 100]))\n",
    "print(np.median([1, 2, 3, 4]))\n",
    "print(np.var([1, 2, 3, 4]))\n",
    "print(np.std([1, 2, 3, 4]))\n"
   ]
  },
  {
   "cell_type": "markdown",
   "id": "c2faa57c",
   "metadata": {},
   "source": [
    "## Fonctions trigonométriques"
   ]
  },
  {
   "cell_type": "code",
   "execution_count": null,
   "id": "d1c31e5e",
   "metadata": {},
   "outputs": [],
   "source": [
    "\n",
    "angles = np.array([0, np.pi/2, np.pi])\n",
    "print(np.sin(angles))\n",
    "print(np.cos(angles))\n",
    "print(np.tan(angles))\n",
    "\n",
    "t = np.array([1, -1, 0.1])\n",
    "print(np.arcsin(t))\n",
    "print(np.arccos(t))\n",
    "print(np.arctan(t))\n",
    "\n",
    "print(np.deg2rad([90, 180, 270, 360]))\n",
    "print(np.rad2deg([np.pi/2, np.pi, 1.5*np.pi, 2*np.pi]))\n"
   ]
  },
  {
   "cell_type": "markdown",
   "id": "0ee7bb78",
   "metadata": {},
   "source": [
    "## Différences consécutives"
   ]
  },
  {
   "cell_type": "code",
   "execution_count": null,
   "id": "84c08375",
   "metadata": {},
   "outputs": [],
   "source": [
    "\n",
    "t = np.array([0, 5, 15])\n",
    "print(np.diff(t))\n"
   ]
  },
  {
   "cell_type": "markdown",
   "id": "7c73111f",
   "metadata": {},
   "source": [
    "## Opérations vectorisées"
   ]
  },
  {
   "cell_type": "code",
   "execution_count": null,
   "id": "ca93ed3a",
   "metadata": {},
   "outputs": [],
   "source": [
    "\n",
    "a = np.array([1, 2, 3, 4])\n",
    "b = np.array([10, 20, 30, 40])\n",
    "\n",
    "print(a + b)\n",
    "print(a - b)\n",
    "print(a * b)\n",
    "print(a / b)\n",
    "print(a ** 2)\n",
    "print(np.abs([-3, -5]))\n"
   ]
  },
  {
   "cell_type": "markdown",
   "id": "a9474ba0",
   "metadata": {},
   "source": [
    "## Ignorer des valeurs manquantes"
   ]
  },
  {
   "cell_type": "code",
   "execution_count": null,
   "id": "a655fc67",
   "metadata": {},
   "outputs": [],
   "source": [
    "\n",
    "sol = np.array([32.0, np.nan, 37.2])\n",
    "moy = np.nanmean(sol)\n",
    "print(f\"Moyenne (sans valeur manquante) : {moy:.2f} g/100mL\")\n"
   ]
  },
  {
   "cell_type": "markdown",
   "id": "bc102c49",
   "metadata": {},
   "source": [
    "## Filtrage de données"
   ]
  },
  {
   "cell_type": "code",
   "execution_count": null,
   "id": "672494a4",
   "metadata": {},
   "outputs": [],
   "source": [
    "\n",
    "tableau = np.array([2, 5, 7, 1, 8, 3])\n",
    "masque = tableau > 5\n",
    "print(masque)\n",
    "valeurs_filtrees = tableau[masque]\n",
    "print(valeurs_filtrees)\n"
   ]
  },
  {
   "cell_type": "code",
   "execution_count": null,
   "id": "77d3096c",
   "metadata": {},
   "outputs": [],
   "source": [
    "\n",
    "tableau = np.array([3, 7, 4, 6, 2, 9, 5])\n",
    "seuil = 5\n",
    "nb_valeurs = np.sum(tableau > seuil)\n",
    "print(f\"Nombre de valeurs supérieures à {seuil} : {nb_valeurs}\")\n"
   ]
  },
  {
   "cell_type": "markdown",
   "id": "8a1104ae",
   "metadata": {},
   "source": [
    "## Régression linéaire avec NumPy"
   ]
  },
  {
   "cell_type": "code",
   "execution_count": null,
   "id": "3469605d",
   "metadata": {},
   "outputs": [],
   "source": [
    "\n",
    "import matplotlib.pyplot as plt\n",
    "\n",
    "x = np.array([0, 1, 2, 3, 4, 5])\n",
    "y = np.array([0.1, 1.2, 2.0, 2.9, 4.1, 5.0])\n",
    "\n",
    "a, b = np.polyfit(x, y, 1)\n",
    "print(\"Pente a =\", round(a,2))\n",
    "print(\"Ordonnée à l’origine b =\", round(b,2))\n",
    "\n",
    "y_pred = a * x + b\n",
    "\n",
    "plt.scatter(x, y, color='blue', label='Données expérimentales')\n",
    "plt.plot(x, y_pred, color='red', label='Droite de régression')\n",
    "plt.xlabel(\"x (variable indépendante)\")\n",
    "plt.ylabel(\"y (variable dépendante)\")\n",
    "plt.legend()\n",
    "plt.show()\n"
   ]
  }
 ],
 "metadata": {},
 "nbformat": 4,
 "nbformat_minor": 5
}
