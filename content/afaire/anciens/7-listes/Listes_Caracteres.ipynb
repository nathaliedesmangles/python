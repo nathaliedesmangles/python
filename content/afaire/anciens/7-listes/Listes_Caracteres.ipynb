{
 "cells": [
  {
   "cell_type": "markdown",
   "id": "bcbb1d5a",
   "metadata": {},
   "source": [
    "# 🧪 Semaine 5 – Listes et chaînes de caractères\n",
    "### Objectifs\n",
    "- Manipuler des listes en Python\n",
    "- Utiliser les chaînes de caractères\n",
    "- Appliquer ces concepts à des données scientifiques simples"
   ]
  },
  {
   "cell_type": "markdown",
   "id": "0031dc14",
   "metadata": {},
   "source": [
    "## 1. Les listes\n",
    "Une **liste** est une collection ordonnée et modifiable.\n"
   ]
  },
  {
   "cell_type": "code",
   "execution_count": null,
   "id": "54e1ce4b",
   "metadata": {},
   "outputs": [],
   "source": [
    "mesures = [12.1, 13.0, 12.8, 13.5]\n",
    "print(mesures[0])     # Premier élément\n",
    "print(mesures[-1])    # Dernier élément"
   ]
  },
  {
   "cell_type": "code",
   "execution_count": null,
   "id": "7459f09e",
   "metadata": {},
   "outputs": [],
   "source": [
    "mesures[1] = 13.2   # Modification d'un élément\n",
    "mesures.append(14.0)  # Ajouter un élément\n",
    "mesures.remove(12.8)  # Retirer une valeur\n",
    "print(mesures)"
   ]
  },
  {
   "cell_type": "code",
   "execution_count": null,
   "id": "fd588761",
   "metadata": {},
   "outputs": [],
   "source": [
    "print(\"Longueur de la liste:\", len(mesures))"
   ]
  },
  {
   "cell_type": "markdown",
   "id": "038ac6f9",
   "metadata": {},
   "source": [
    "## 2. Les chaînes de caractères\n",
    "Les chaînes sont aussi des séquences, mais **non modifiables**."
   ]
  },
  {
   "cell_type": "code",
   "execution_count": null,
   "id": "5d25c2c8",
   "metadata": {},
   "outputs": [],
   "source": [
    "mot = \"science\"\n",
    "print(mot[0])\n",
    "print(mot[-1])\n",
    "print(len(mot))"
   ]
  },
  {
   "cell_type": "code",
   "execution_count": null,
   "id": "81266adf",
   "metadata": {},
   "outputs": [],
   "source": [
    "print(mot.upper())\n",
    "print(mot.lower())\n",
    "print(mot.replace(\"c\", \"k\"))"
   ]
  },
  {
   "cell_type": "markdown",
   "id": "241e8702",
   "metadata": {},
   "source": [
    "## 3. Parcourir une séquence avec une boucle"
   ]
  },
  {
   "cell_type": "code",
   "execution_count": null,
   "id": "e5207f87",
   "metadata": {},
   "outputs": [],
   "source": [
    "for valeur in mesures:\n",
    "    print(valeur)"
   ]
  },
  {
   "cell_type": "code",
   "execution_count": null,
   "id": "39c807ea",
   "metadata": {},
   "outputs": [],
   "source": [
    "for lettre in mot:\n",
    "    print(lettre)"
   ]
  },
  {
   "cell_type": "markdown",
   "id": "b072d672",
   "metadata": {},
   "source": [
    "## 4. Activité en équipe\n",
    "Liste de croissance bactérienne :"
   ]
  },
  {
   "cell_type": "code",
   "execution_count": null,
   "id": "6a6ff935",
   "metadata": {},
   "outputs": [],
   "source": [
    "croissance = [0.8, 1.1, 1.5, 2.2, 2.9]"
   ]
  },
  {
   "cell_type": "markdown",
   "id": "6348707d",
   "metadata": {},
   "source": [
    "### Tâches :\n",
    "1. Afficher la croissance moyenne\n",
    "2. Trouver le jour où elle dépasse 2.0\n",
    "3. Identifier les augmentations par rapport à la veille\n",
    "4. Ajouter une valeur pour le jour 6\n",
    "5. (Bonus) Nouvelle liste avec valeurs > 1.5"
   ]
  },
  {
   "cell_type": "markdown",
   "id": "7597c7ea",
   "metadata": {},
   "source": [
    "## 5. Défi individuel\n",
    "Demande à l’utilisateur d’entrer une phrase, puis :\n",
    "- Compter le nombre de mots\n",
    "- Afficher le mot le plus long"
   ]
  },
  {
   "cell_type": "code",
   "execution_count": null,
   "id": "7646af56",
   "metadata": {},
   "outputs": [],
   "source": [
    "phrase = input(\"Entrez une phrase : \")\n",
    "mots = phrase.split()\n",
    "print(\"Nombre de mots :\", len(mots))\n",
    "mot_plus_long = max(mots, key=len)\n",
    "print(\"Mot le plus long :\", mot_plus_long)"
   ]
  }
 ],
 "metadata": {
  "language_info": {
   "name": "python"
  }
 },
 "nbformat": 4,
 "nbformat_minor": 5
}
