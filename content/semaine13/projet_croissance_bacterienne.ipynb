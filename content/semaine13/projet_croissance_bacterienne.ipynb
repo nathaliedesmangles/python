{
 "cells": [
  {
   "cell_type": "markdown",
   "metadata": {},
   "source": [
    "# Projet final : Analyse de la croissance bactérienne\n",
    "Ce projet vise à étudier la croissance d'une population bactérienne à partir de données expérimentales.\n",
    "\n",
    "**Fichier à analyser** : `problematique_1_croissance.csv`\n",
    "\n",
    "**Objectifs** :\n",
    "- Charger et visualiser les données\n",
    "- Calculer le taux de croissance\n",
    "- Modéliser la croissance\n",
    "- Conclure sur le modèle de croissance"
   ]
  },
  {
   "cell_type": "code",
   "execution_count": null,
   "metadata": {},
   "outputs": [],
   "source": [
    "# Importation des bibliothèques\n",
    "import pandas as pd\n",
    "import numpy as np\n",
    "import matplotlib.pyplot as plt"
   ]
  },
  {
   "cell_type": "code",
   "execution_count": null,
   "metadata": {},
   "outputs": [],
   "source": [
    "# Lecture du fichier CSV\n",
    "df = pd.read_csv('problematique_1_croissance.csv')\n",
    "df.head()"
   ]
  },
  {
   "cell_type": "markdown",
   "metadata": {},
   "source": [
    "## Calcul du taux de croissance\n",
    "Taux = (valeur_t - valeur_t-1) / valeur_t-1"
   ]
  },
  {
   "cell_type": "code",
   "execution_count": null,
   "metadata": {},
   "outputs": [],
   "source": [
    "# Taux de croissance\n",
    "df['Taux de croissance'] = df['Concentration (cfu/mL)'].pct_change()\n",
    "df.head()"
   ]
  },
  {
   "cell_type": "markdown",
   "metadata": {},
   "source": [
    "## Visualisation de la croissance"
   ]
  },
  {
   "cell_type": "code",
   "execution_count": null,
   "metadata": {},
   "outputs": [],
   "source": [
    "# Courbe de croissance\n",
    "plt.figure(figsize=(8,5))\n",
    "plt.plot(df['Temps (h)'], df['Concentration (cfu/mL)'], marker='o')\n",
    "plt.xlabel('Temps (h)')\n",
    "plt.ylabel('Concentration (cfu/mL)')\n",
    "plt.title('Croissance bactérienne')\n",
    "plt.grid(True)\n",
    "plt.show()"
   ]
  },
  {
   "cell_type": "markdown",
   "metadata": {},
   "source": [
    "## À compléter par l'étudiant :\n",
    "- Ajouter une fonction pour estimer un modèle de croissance (exponentiel ou logistique)\n",
    "- Comparer les prédictions avec les données réelles\n",
    "- Exporter un fichier CSV contenant les résultats\n",
    "- Rédiger une conclusion scientifique"
   ]
  }
 ],
 "metadata": {
  "kernelspec": {
   "display_name": "Python 3",
   "language": "python",
   "name": "python3"
  },
  "language_info": {
   "name": "python",
   "version": ""
  }
 },
 "nbformat": 4,
 "nbformat_minor": 2
}