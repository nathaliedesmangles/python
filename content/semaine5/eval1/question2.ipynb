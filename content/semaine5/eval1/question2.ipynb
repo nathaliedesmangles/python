{
 "cells": [
  {
   "cell_type": "code",
   "execution_count": 1,
   "id": "84293182",
   "metadata": {},
   "outputs": [
    {
     "name": "stdout",
     "output_type": "stream",
     "text": [
      "Longueur : 200.0 cm = 2.0 m\n"
     ]
    }
   ],
   "source": [
    "# Entrée\n",
    "longueur_cm = float(input(\"Entrez la longueur de l’intestin (en cm) : \"))\n",
    "\n",
    "# Conversion\n",
    "longueur_m = longueur_cm / 100\n",
    "\n",
    "# Affichage\n",
    "print(f\"Longueur : {longueur_cm} cm = {longueur_m} m\")"
   ]
  }
 ],
 "metadata": {
  "kernelspec": {
   "display_name": "Python 3",
   "language": "python",
   "name": "python3"
  },
  "language_info": {
   "codemirror_mode": {
    "name": "ipython",
    "version": 3
   },
   "file_extension": ".py",
   "mimetype": "text/x-python",
   "name": "python",
   "nbconvert_exporter": "python",
   "pygments_lexer": "ipython3",
   "version": "3.11.9"
  }
 },
 "nbformat": 4,
 "nbformat_minor": 5
}
