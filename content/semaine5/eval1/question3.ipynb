{
 "cells": [
  {
   "cell_type": "code",
   "execution_count": 2,
   "id": "5577ad42",
   "metadata": {},
   "outputs": [
    {
     "name": "stdout",
     "output_type": "stream",
     "text": [
      "Masse initiale : 8.26 kg\n",
      "Masse arrondie : 8.3 kg\n"
     ]
    }
   ],
   "source": [
    "# Entrée\n",
    "masse = float(input(\"Entrez une masse en kg : \"))\n",
    "\n",
    "# Arrondi\n",
    "masse_arrondie = round(masse, 1)\n",
    "\n",
    "# Affichage\n",
    "print(f\"Masse initiale : {masse} kg\")\n",
    "print(f\"Masse arrondie : {masse_arrondie} kg\")"
   ]
  }
 ],
 "metadata": {
  "kernelspec": {
   "display_name": "Python 3",
   "language": "python",
   "name": "python3"
  },
  "language_info": {
   "codemirror_mode": {
    "name": "ipython",
    "version": 3
   },
   "file_extension": ".py",
   "mimetype": "text/x-python",
   "name": "python",
   "nbconvert_exporter": "python",
   "pygments_lexer": "ipython3",
   "version": "3.11.9"
  }
 },
 "nbformat": 4,
 "nbformat_minor": 5
}
