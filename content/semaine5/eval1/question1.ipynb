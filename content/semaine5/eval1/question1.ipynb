{
 "cells": [
  {
   "cell_type": "code",
   "execution_count": 1,
   "id": "81fbfc44",
   "metadata": {},
   "outputs": [
    {
     "name": "stdout",
     "output_type": "stream",
     "text": [
      "L'animal a reçu 12.0 kg de nourriture au total.\n"
     ]
    }
   ],
   "source": [
    "# Masse quotidienne en kg\n",
    "ration = 2.4\n",
    "\n",
    "# Entrée\n",
    "jours = int(input(\"Entrez le nombre de jours d'alimentation : \"))\n",
    "\n",
    "# Calcul\n",
    "masse_totale = jours * ration\n",
    "\n",
    "# Affichage\n",
    "print(f\"L'animal a reçu {masse_totale} kg de nourriture au total.\")"
   ]
  }
 ],
 "metadata": {
  "kernelspec": {
   "display_name": "Python 3",
   "language": "python",
   "name": "python3"
  },
  "language_info": {
   "codemirror_mode": {
    "name": "ipython",
    "version": 3
   },
   "file_extension": ".py",
   "mimetype": "text/x-python",
   "name": "python",
   "nbconvert_exporter": "python",
   "pygments_lexer": "ipython3",
   "version": "3.11.9"
  }
 },
 "nbformat": 4,
 "nbformat_minor": 5
}
