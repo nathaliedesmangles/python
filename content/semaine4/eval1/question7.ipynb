{
 "cells": [
  {
   "cell_type": "code",
   "execution_count": 1,
   "id": "0bb3427a",
   "metadata": {},
   "outputs": [
    {
     "name": "stdout",
     "output_type": "stream",
     "text": [
      "La masse humide est de 16.666666666666668 kg.\n"
     ]
    }
   ],
   "source": [
    "# Entrées\n",
    "masse_seche = float(input(\"Entrez la masse sèche (kg) : \"))\n",
    "taux_humidite = float(input(\"Entrez le taux d’humidité (%) : \"))\n",
    "\n",
    "# Calcul\n",
    "masse_humide = masse_seche / (1 - taux_humidite / 100)\n",
    "\n",
    "# Affichage\n",
    "print(f\"La masse humide est de {masse_humide} kg.\")"
   ]
  }
 ],
 "metadata": {
  "kernelspec": {
   "display_name": "Python 3",
   "language": "python",
   "name": "python3"
  },
  "language_info": {
   "codemirror_mode": {
    "name": "ipython",
    "version": 3
   },
   "file_extension": ".py",
   "mimetype": "text/x-python",
   "name": "python",
   "nbconvert_exporter": "python",
   "pygments_lexer": "ipython3",
   "version": "3.11.9"
  }
 },
 "nbformat": 4,
 "nbformat_minor": 5
}
