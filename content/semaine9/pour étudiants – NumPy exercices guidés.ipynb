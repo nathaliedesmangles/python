{
 "cells": [
  {
   "cell_type": "markdown",
   "id": "261f8be3",
   "metadata": {},
   "source": [
    "# 🧪 NumPy – Exercices guidés"
   ]
  },
  {
   "cell_type": "code",
   "execution_count": null,
   "id": "48036496",
   "metadata": {},
   "outputs": [],
   "source": [
    "import numpy as np"
   ]
  },
  {
   "cell_type": "markdown",
   "id": "bddd3b9b",
   "metadata": {},
   "source": [
    "## 🔢 Exercice 1 – Créer un tableau"
   ]
  },
  {
   "cell_type": "code",
   "execution_count": null,
   "id": "4a0dff39",
   "metadata": {},
   "outputs": [],
   "source": [
    "# Crée un tableau nommé `temperatures` contenant les valeurs :\n",
    "# [21.1, 19.5, 22.3, 20.7, 23.0] et affiche-le.\n"
   ]
  },
  {
   "cell_type": "markdown",
   "id": "6e6e4479",
   "metadata": {},
   "source": [
    "## 🧮 Exercice 2 – Moyenne et écart-type"
   ]
  },
  {
   "cell_type": "code",
   "execution_count": null,
   "id": "6da83dfd",
   "metadata": {},
   "outputs": [],
   "source": [
    "# Utilise le tableau `temperatures` pour :\n",
    "# - Calculer la moyenne\n",
    "# - Calculer l’écart-type\n"
   ]
  },
  {
   "cell_type": "markdown",
   "id": "aebcb585",
   "metadata": {},
   "source": [
    "## 🧮 Exercice 3 – np.full"
   ]
  },
  {
   "cell_type": "code",
   "execution_count": null,
   "id": "68d9ac46",
   "metadata": {},
   "outputs": [],
   "source": [
    "# Crée un tableau `barres_d_erreur` rempli de 0.5, de même longueur que `temperatures`.\n"
   ]
  },
  {
   "cell_type": "markdown",
   "id": "00edc5cd",
   "metadata": {},
   "source": [
    "## 🧮 Exercice 4 – np.linspace"
   ]
  },
  {
   "cell_type": "code",
   "execution_count": null,
   "id": "13509d55",
   "metadata": {},
   "outputs": [],
   "source": [
    "# Crée un tableau de 6 valeurs également espacées entre 0 et 100, nommé `x_positions`.\n"
   ]
  },
  {
   "cell_type": "markdown",
   "id": "d5cca7fe",
   "metadata": {},
   "source": [
    "## ➗ Exercice 5 – Décalage des températures"
   ]
  },
  {
   "cell_type": "code",
   "execution_count": null,
   "id": "a2446bb2",
   "metadata": {},
   "outputs": [],
   "source": [
    "# Crée un tableau `decalage = temperatures - 20`\n",
    "# Que signifie ce tableau ?\n"
   ]
  },
  {
   "cell_type": "markdown",
   "id": "aeeae877",
   "metadata": {},
   "source": [
    "## ➗ Exercice 6 – Conversion en Fahrenheit"
   ]
  },
  {
   "cell_type": "code",
   "execution_count": null,
   "id": "400acf59",
   "metadata": {},
   "outputs": [],
   "source": [
    "# Multiplie chaque valeur de `temperatures` par 1.8 et ajoute 32 pour convertir en Fahrenheit.\n"
   ]
  },
  {
   "cell_type": "markdown",
   "id": "b7b6145e",
   "metadata": {},
   "source": [
    "## ➗ Exercice 7 – Révision des opérations"
   ]
  },
  {
   "cell_type": "code",
   "execution_count": null,
   "id": "4230ec13",
   "metadata": {},
   "outputs": [],
   "source": [
    "# Crée deux tableaux `a = [1, 3, 5, 7]` et `b = [2, 4, 6, 8]`\n",
    "# Fais les opérations suivantes : addition, soustraction, multiplication par 2\n"
   ]
  }
 ],
 "metadata": {},
 "nbformat": 4,
 "nbformat_minor": 5
}