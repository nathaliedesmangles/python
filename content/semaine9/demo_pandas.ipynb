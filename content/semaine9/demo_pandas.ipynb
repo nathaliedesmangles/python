{
 "cells": [
  {
   "cell_type": "markdown",
   "metadata": {},
   "source": [
    "# Semaine 9 : Manipulation de données expérimentales avec Python\n",
    "\n",
    "## Objectifs de la leçon\n",
    "\n",
    "Apprendre à :\n",
    "- Lire un fichier CSV contenant des données expérimentales.\n",
    "- Nettoyer et sauvegarder un nouveau fichier corrigé.\n",
    "- Manipuler un DataFrame Pandas (sélection, ajout, statistiques).\n",
    "- Transformer les colonnes en tableaux NumPy pour des calculs scientifiques.\n",
    "- Visualiser les données sous forme de nuage de points.\n"
   ]
  },
  {
   "cell_type": "markdown",
   "metadata": {},
   "source": [
    "## Lecture d’un fichier CSV avec `pandas.read_csv()`\n",
    "\n",
    "On importe d'abord la bibliothèque **pandas**, puis on lit un fichier CSV.  \n",
    "Les fichiers CSV européens utilisent souvent la **virgule comme séparateur** et la **virgule comme décimale**.\n",
    "\n",
    "Pour les lire correctement :\n",
    "- `delimiter` ou `sep` → définit le séparateur (`;` ou `,`)\n",
    "- `decimal` → définit le symbole décimal (`','` ou `'.'`)\n",
    "\n",
    "Exemple avec un petit jeu de données appelé `mesures.csv` :\n",
    "NB: Le fichier doit se trouver dans le même dossier que le fichier .ipynb et ce dernier doit être ouvert via VS Code (Fichier > Ouvrir > Dossier_contenant_les_deux_fichiers)"
   ]
  },
  {
   "cell_type": "code",
   "execution_count": 33,
   "metadata": {},
   "outputs": [],
   "source": [
    "import pandas as pd\n",
    "\n",
    "# Lecture du fichier CSV avec des paramètres adaptés\n",
    "df = pd.read_csv(\"mesures.csv\", delimiter=\";\", decimal=\",\", encoding=\"utf-8\")\n",
    "\n",
    "# Affichage du DataFrame (NaN pour les valeurs manquantes)\n",
    "#df\n",
    "\n",
    "# Affichage des 5 premières lignes\n",
    "#df.head()\n",
    "\n",
    "# Affichage des 5 dernières lignes\n",
    "#df.tail()\n",
    "\n",
    "# Identification des valeurs manquantes\n",
    "# df.isna()"
   ]
  },
  {
   "cell_type": "markdown",
   "metadata": {},
   "source": [
    "## Exportation du fichier corrigé avec `to_csv()`\n",
    "\n",
    "On peut sauvegarder un **nouveau fichier nettoyé ou corrigé** (par exemple, après conversion ou suppression de lignes invalides)."
   ]
  },
  {
   "cell_type": "code",
   "execution_count": 34,
   "metadata": {},
   "outputs": [
    {
     "name": "stdout",
     "output_type": "stream",
     "text": [
      "Fichier nettoyé enregistré sous 'mesures_corrigees.csv'\n"
     ]
    }
   ],
   "source": [
    "# Suppression des lignes contenant des valeurs manquantes\n",
    "# df_corrige = df.dropna()\n",
    "\n",
    "# OU\n",
    "\n",
    "# Remplacement des valeurs manquantes par la moyenne de Solubilité\n",
    "moyenne = df[\"v\"].mean()\n",
    "df_corrige = df.fillna(moyenne)\n",
    "\n",
    "# Exportation du fichier nettoyé\n",
    "df_corrige.to_csv(\"mesures_corrigees.csv\", index=False)\n",
    "print(\"Fichier nettoyé enregistré sous 'mesures_corrigees.csv'\")"
   ]
  },
  {
   "cell_type": "markdown",
   "metadata": {},
   "source": [
    "## Manipulation de DataFrames (Pandas)\n",
    "\n",
    "### Sélection d’une colonne\n",
    "On peut accéder à une colonne du DataFrame à l’aide des crochets : `df[\"nom_colonne\"]`"
   ]
  },
  {
   "cell_type": "code",
   "execution_count": 35,
   "metadata": {},
   "outputs": [
    {
     "name": "stdout",
     "output_type": "stream",
     "text": [
      "0    0.00\n",
      "1    0.02\n",
      "2    0.04\n",
      "3    0.06\n",
      "4    0.08\n",
      "Name: x, dtype: float64\n",
      "0    0.000000\n",
      "1    0.976667\n",
      "2    0.600000\n",
      "3    0.820000\n",
      "4    0.960000\n",
      "Name: v, dtype: float64\n"
     ]
    }
   ],
   "source": [
    "# Sélection de colonnes\n",
    "x = df_corrige[\"x\"]\n",
    "v = df_corrige[\"v\"]\n",
    "\n",
    "print(x.head())\n",
    "print(v.head())"
   ]
  },
  {
   "cell_type": "markdown",
   "metadata": {},
   "source": [
    "### Création d’une nouvelle colonne\n",
    "On peut créer une nouvelle colonne à partir d’un calcul simple :"
   ]
  },
  {
   "cell_type": "code",
   "execution_count": 36,
   "metadata": {},
   "outputs": [
    {
     "data": {
      "application/vnd.microsoft.datawrangler.viewer.v0+json": {
       "columns": [
        {
         "name": "index",
         "rawType": "int64",
         "type": "integer"
        },
        {
         "name": "x",
         "rawType": "float64",
         "type": "float"
        },
        {
         "name": "v",
         "rawType": "float64",
         "type": "float"
        },
        {
         "name": "E",
         "rawType": "float64",
         "type": "float"
        }
       ],
       "ref": "b736f026-0605-44af-9fbd-e8bc2a5aef72",
       "rows": [
        [
         "0",
         "0.0",
         "0.0",
         "0.0"
        ],
        [
         "1",
         "0.02",
         "0.9766666666666666",
         "0.1192347222222222"
        ],
        [
         "2",
         "0.04",
         "0.6",
         "0.045"
        ],
        [
         "3",
         "0.06",
         "0.82",
         "0.08404999999999999"
        ],
        [
         "4",
         "0.08",
         "0.96",
         "0.1152"
        ]
       ],
       "shape": {
        "columns": 3,
        "rows": 5
       }
      },
      "text/html": [
       "<div>\n",
       "<style scoped>\n",
       "    .dataframe tbody tr th:only-of-type {\n",
       "        vertical-align: middle;\n",
       "    }\n",
       "\n",
       "    .dataframe tbody tr th {\n",
       "        vertical-align: top;\n",
       "    }\n",
       "\n",
       "    .dataframe thead th {\n",
       "        text-align: right;\n",
       "    }\n",
       "</style>\n",
       "<table border=\"1\" class=\"dataframe\">\n",
       "  <thead>\n",
       "    <tr style=\"text-align: right;\">\n",
       "      <th></th>\n",
       "      <th>x</th>\n",
       "      <th>v</th>\n",
       "      <th>E</th>\n",
       "    </tr>\n",
       "  </thead>\n",
       "  <tbody>\n",
       "    <tr>\n",
       "      <th>0</th>\n",
       "      <td>0.00</td>\n",
       "      <td>0.000000</td>\n",
       "      <td>0.000000</td>\n",
       "    </tr>\n",
       "    <tr>\n",
       "      <th>1</th>\n",
       "      <td>0.02</td>\n",
       "      <td>0.976667</td>\n",
       "      <td>0.119235</td>\n",
       "    </tr>\n",
       "    <tr>\n",
       "      <th>2</th>\n",
       "      <td>0.04</td>\n",
       "      <td>0.600000</td>\n",
       "      <td>0.045000</td>\n",
       "    </tr>\n",
       "    <tr>\n",
       "      <th>3</th>\n",
       "      <td>0.06</td>\n",
       "      <td>0.820000</td>\n",
       "      <td>0.084050</td>\n",
       "    </tr>\n",
       "    <tr>\n",
       "      <th>4</th>\n",
       "      <td>0.08</td>\n",
       "      <td>0.960000</td>\n",
       "      <td>0.115200</td>\n",
       "    </tr>\n",
       "  </tbody>\n",
       "</table>\n",
       "</div>"
      ],
      "text/plain": [
       "      x         v         E\n",
       "0  0.00  0.000000  0.000000\n",
       "1  0.02  0.976667  0.119235\n",
       "2  0.04  0.600000  0.045000\n",
       "3  0.06  0.820000  0.084050\n",
       "4  0.08  0.960000  0.115200"
      ]
     },
     "execution_count": 36,
     "metadata": {},
     "output_type": "execute_result"
    }
   ],
   "source": [
    "# Création d'une colonne énergie cinétique (E = 0.5 * m * v²)\n",
    "m = 0.25  # masse en kg\n",
    "df_corrige[\"E\"] = 0.5 * m * (df_corrige[\"v\"] ** 2)\n",
    "df_corrige.head()"
   ]
  },
  {
   "cell_type": "markdown",
   "metadata": {},
   "source": [
    "### Affichage de statistiques rapides"
   ]
  },
  {
   "cell_type": "code",
   "execution_count": 37,
   "metadata": {},
   "outputs": [
    {
     "data": {
      "application/vnd.microsoft.datawrangler.viewer.v0+json": {
       "columns": [
        {
         "name": "index",
         "rawType": "object",
         "type": "string"
        },
        {
         "name": "x",
         "rawType": "float64",
         "type": "float"
        },
        {
         "name": "v",
         "rawType": "float64",
         "type": "float"
        },
        {
         "name": "E",
         "rawType": "float64",
         "type": "float"
        }
       ],
       "ref": "1671e240-5870-44a1-91e7-c0e45bc7bb9e",
       "rows": [
        [
         "count",
         "11.0",
         "11.0",
         "11.0"
        ],
        [
         "mean",
         "0.1",
         "0.9766666666666666",
         "0.13875744949494948"
        ],
        [
         "std",
         "0.066332495807108",
         "0.4144876355212541",
         "0.08384700825270568"
        ],
        [
         "min",
         "0.0",
         "0.0",
         "0.0"
        ],
        [
         "25%",
         "0.05",
         "0.8899999999999999",
         "0.09962499999999999"
        ],
        [
         "50%",
         "0.1",
         "0.9766666666666666",
         "0.1192347222222222"
        ],
        [
         "75%",
         "0.15000000000000002",
         "1.22",
         "0.18625"
        ],
        [
         "max",
         "0.2",
         "1.5",
         "0.28125"
        ]
       ],
       "shape": {
        "columns": 3,
        "rows": 8
       }
      },
      "text/html": [
       "<div>\n",
       "<style scoped>\n",
       "    .dataframe tbody tr th:only-of-type {\n",
       "        vertical-align: middle;\n",
       "    }\n",
       "\n",
       "    .dataframe tbody tr th {\n",
       "        vertical-align: top;\n",
       "    }\n",
       "\n",
       "    .dataframe thead th {\n",
       "        text-align: right;\n",
       "    }\n",
       "</style>\n",
       "<table border=\"1\" class=\"dataframe\">\n",
       "  <thead>\n",
       "    <tr style=\"text-align: right;\">\n",
       "      <th></th>\n",
       "      <th>x</th>\n",
       "      <th>v</th>\n",
       "      <th>E</th>\n",
       "    </tr>\n",
       "  </thead>\n",
       "  <tbody>\n",
       "    <tr>\n",
       "      <th>count</th>\n",
       "      <td>11.000000</td>\n",
       "      <td>11.000000</td>\n",
       "      <td>11.000000</td>\n",
       "    </tr>\n",
       "    <tr>\n",
       "      <th>mean</th>\n",
       "      <td>0.100000</td>\n",
       "      <td>0.976667</td>\n",
       "      <td>0.138757</td>\n",
       "    </tr>\n",
       "    <tr>\n",
       "      <th>std</th>\n",
       "      <td>0.066332</td>\n",
       "      <td>0.414488</td>\n",
       "      <td>0.083847</td>\n",
       "    </tr>\n",
       "    <tr>\n",
       "      <th>min</th>\n",
       "      <td>0.000000</td>\n",
       "      <td>0.000000</td>\n",
       "      <td>0.000000</td>\n",
       "    </tr>\n",
       "    <tr>\n",
       "      <th>25%</th>\n",
       "      <td>0.050000</td>\n",
       "      <td>0.890000</td>\n",
       "      <td>0.099625</td>\n",
       "    </tr>\n",
       "    <tr>\n",
       "      <th>50%</th>\n",
       "      <td>0.100000</td>\n",
       "      <td>0.976667</td>\n",
       "      <td>0.119235</td>\n",
       "    </tr>\n",
       "    <tr>\n",
       "      <th>75%</th>\n",
       "      <td>0.150000</td>\n",
       "      <td>1.220000</td>\n",
       "      <td>0.186250</td>\n",
       "    </tr>\n",
       "    <tr>\n",
       "      <th>max</th>\n",
       "      <td>0.200000</td>\n",
       "      <td>1.500000</td>\n",
       "      <td>0.281250</td>\n",
       "    </tr>\n",
       "  </tbody>\n",
       "</table>\n",
       "</div>"
      ],
      "text/plain": [
       "               x          v          E\n",
       "count  11.000000  11.000000  11.000000\n",
       "mean    0.100000   0.976667   0.138757\n",
       "std     0.066332   0.414488   0.083847\n",
       "min     0.000000   0.000000   0.000000\n",
       "25%     0.050000   0.890000   0.099625\n",
       "50%     0.100000   0.976667   0.119235\n",
       "75%     0.150000   1.220000   0.186250\n",
       "max     0.200000   1.500000   0.281250"
      ]
     },
     "execution_count": 37,
     "metadata": {},
     "output_type": "execute_result"
    }
   ],
   "source": [
    "df_corrige.describe()"
   ]
  },
  {
   "cell_type": "markdown",
   "metadata": {},
   "source": [
    "## Manipulation de tableaux NumPy\n",
    "\n",
    "Il est fréquent de convertir une colonne Pandas en tableau **NumPy** pour des calculs scientifiques plus rapides."
   ]
  },
  {
   "cell_type": "code",
   "execution_count": 38,
   "metadata": {},
   "outputs": [
    {
     "name": "stdout",
     "output_type": "stream",
     "text": [
      "<class 'numpy.ndarray'>\n",
      "[0.   0.02 0.04 0.06 0.08]\n"
     ]
    }
   ],
   "source": [
    "import numpy as np\n",
    "\n",
    "# Conversion des colonnes en tableaux NumPy\n",
    "x_np = df_corrige[\"x\"].to_numpy()\n",
    "v_np = df_corrige[\"v\"].to_numpy()\n",
    "\n",
    "print(type(x_np))\n",
    "print(x_np[:5])"
   ]
  },
  {
   "cell_type": "markdown",
   "metadata": {},
   "source": [
    "## Visualisation : Nuage de points\n",
    "\n",
    "On utilise **matplotlib.pyplot** pour visualiser les données expérimentales."
   ]
  },
  {
   "cell_type": "code",
   "execution_count": 39,
   "metadata": {},
   "outputs": [
    {
     "data": {
      "image/png": "[encoded data removed]",
      "text/plain": [
       "<Figure size 640x480 with 1 Axes>"
      ]
     },
     "metadata": {},
     "output_type": "display_data"
    }
   ],
   "source": [
    "import matplotlib.pyplot as plt\n",
    "\n",
    "plt.scatter(x_np, v_np)\n",
    "plt.xlabel('Position x (m)')\n",
    "plt.ylabel('Vitesse v (m/s)')\n",
    "plt.title('Relation entre position et vitesse')\n",
    "plt.show()"
   ]
  }
 ],
 "metadata": {
  "kernelspec": {
   "display_name": "Python 3",
   "language": "python",
   "name": "python3"
  },
  "language_info": {
   "codemirror_mode": {
    "name": "ipython",
    "version": 3
   },
   "file_extension": ".py",
   "mimetype": "text/x-python",
   "name": "python",
   "nbconvert_exporter": "python",
   "pygments_lexer": "ipython3",
   "version": "3.13.7"
  }
 },
 "nbformat": 4,
 "nbformat_minor": 5
}
