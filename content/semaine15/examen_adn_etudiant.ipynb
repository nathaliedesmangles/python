{
 "cells": [
  {
   "cell_type": "markdown",
   "id": "0ef2751b",
   "metadata": {},
   "source": [
    "# 🧪 Examen pratique – Analyse d’ADN"
   ]
  },
  {
   "cell_type": "markdown",
   "id": "b62cee76",
   "metadata": {},
   "source": [
    "**Durée** : 2h &nbsp;&nbsp;&nbsp;&nbsp; **Documents permis** : 1 feuille de notes recto verso, `.ipynb` du projet (si permis)"
   ]
  },
  {
   "cell_type": "markdown",
   "id": "f0f3158e",
   "metadata": {},
   "source": [
    "## 🔹 Partie 1 – Lecture et structures de données (25 pts)"
   ]
  },
  {
   "cell_type": "markdown",
   "id": "8e200cc7",
   "metadata": {},
   "source": [
    "### 1.1 (5 pts)"
   ]
  },
  {
   "cell_type": "code",
   "execution_count": null,
   "id": "d89dc505",
   "metadata": {},
   "outputs": [],
   "source": [
    "# Lire le fichier adn_crime.csv et créer un dictionnaire adn_crime\n"
   ]
  },
  {
   "cell_type": "markdown",
   "id": "a5e5e24e",
   "metadata": {},
   "source": [
    "### 1.2 (10 pts)"
   ]
  },
  {
   "cell_type": "code",
   "execution_count": null,
   "id": "3fd10241",
   "metadata": {},
   "outputs": [],
   "source": [
    "# Lire le fichier adn_suspects.csv et créer le dictionnaire adn_suspects\n"
   ]
  },
  {
   "cell_type": "markdown",
   "id": "07131a4c",
   "metadata": {},
   "source": [
    "### 1.3 (10 pts)"
   ]
  },
  {
   "cell_type": "code",
   "execution_count": null,
   "id": "a78065fe",
   "metadata": {},
   "outputs": [],
   "source": [
    "# Afficher le nombre de loci identiques pour chaque suspect\n"
   ]
  },
  {
   "cell_type": "markdown",
   "id": "b8c0c639",
   "metadata": {},
   "source": [
    "## 🔹 Partie 2 – Fonctions, logique et analyse (30 pts)"
   ]
  },
  {
   "cell_type": "markdown",
   "id": "83d1e753",
   "metadata": {},
   "source": [
    "### 2.1 (10 pts)"
   ]
  },
  {
   "cell_type": "code",
   "execution_count": null,
   "id": "58cb4bb3",
   "metadata": {},
   "outputs": [],
   "source": [
    "# Fonction compare_adn(crime, suspect)\n"
   ]
  },
  {
   "cell_type": "markdown",
   "id": "5d526f49",
   "metadata": {},
   "source": [
    "### 2.2 (10 pts)"
   ]
  },
  {
   "cell_type": "code",
   "execution_count": null,
   "id": "4264d7fc",
   "metadata": {},
   "outputs": [],
   "source": [
    "# Calculer la proportion de loci correspondants pour chaque suspect\n"
   ]
  },
  {
   "cell_type": "markdown",
   "id": "11c5cd22",
   "metadata": {},
   "source": [
    "### 2.3 (10 pts)"
   ]
  },
  {
   "cell_type": "code",
   "execution_count": null,
   "id": "b40f0baf",
   "metadata": {},
   "outputs": [],
   "source": [
    "# Afficher le(s) nom(s) du(des) suspect(s) le(s) plus probable(s)\n"
   ]
  },
  {
   "cell_type": "markdown",
   "id": "df8854f4",
   "metadata": {},
   "source": [
    "## 🔹 Partie 3 – Visualisation (25 pts)"
   ]
  },
  {
   "cell_type": "code",
   "execution_count": null,
   "id": "2a1723ef",
   "metadata": {},
   "outputs": [],
   "source": [
    "# Tracer un graphique en barres avec barres d’erreur (±0.5)\n"
   ]
  },
  {
   "cell_type": "markdown",
   "id": "bd804af4",
   "metadata": {},
   "source": [
    "## 🔹 Partie 4 – Régression linéaire (20 pts)"
   ]
  },
  {
   "cell_type": "code",
   "execution_count": null,
   "id": "21f00c32",
   "metadata": {},
   "outputs": [],
   "source": [
    "# Régression entre correspondances et proba fictives\n"
   ]
  },
  {
   "cell_type": "markdown",
   "id": "c0f2b696",
   "metadata": {},
   "source": [
    "## 🔸 Bonus – Discussion rapide (5 pts)"
   ]
  },
  {
   "cell_type": "markdown",
   "id": "47613d7c",
   "metadata": {},
   "source": [
    "*Répondre dans une cellule Markdown.*"
   ]
  }
 ],
 "metadata": {},
 "nbformat": 4,
 "nbformat_minor": 5
}
