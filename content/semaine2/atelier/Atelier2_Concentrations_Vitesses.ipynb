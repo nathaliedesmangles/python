{
 "cells": [
  {
   "cell_type": "markdown",
   "id": "cae55afd",
   "metadata": {},
   "source": [
    "# Activité pratique – Semaine 2\n",
    "\n",
    "**Titre :** Calculs de concentrations et vitesses de réaction\n",
    "\n",
    "**Objectifs :**\n",
    "- Utiliser des variables et des opérations arithmétiques en Python\n",
    "- Résoudre des problèmes scientifiques simples\n",
    "- Travailler en équipe pour discuter et valider les solutions"
   ]
  },
  {
   "cell_type": "markdown",
   "id": "035aed3e",
   "metadata": {},
   "source": [
    "## Exercice 1 : Calcul de concentration molaire\n",
    "\n",
    "Un technicien prépare une solution en dissolvant une masse donnée de soluté dans un certain volume de solvant.\n",
    "\n",
    "Écrire un programme qui calcule la concentration molaire (mol/L) selon la formule :\n",
    "\n",
    "\\[ C = \\frac{n}{V} \\quad \\text{où} \\quad n = \\frac{m}{M} \\]\n",
    "\n",
    "- `m` : masse du soluté (en grammes)\n",
    "- `M` : masse molaire du soluté (en g/mol)\n",
    "- `V` : volume de la solution (en litres)"
   ]
  },
  {
   "cell_type": "code",
   "execution_count": null,
   "id": "8eea5dc1",
   "metadata": {},
   "outputs": [],
   "source": [
    "# Entrer les données\n",
    "masse = float(input(\"Masse du soluté (g) : \"))\n",
    "masse_molaire = float(input(\"Masse molaire (g/mol) : \"))\n",
    "volume = float(input(\"Volume de solution (L) : \"))\n",
    "\n",
    "# Calcul\n",
    "n = masse / masse_molaire\n",
    "if volume != 0:\n",
    "    concentration = n / volume\n",
    "    print(f\"Concentration : {concentration:.3f} mol/L\")\n",
    "else:\n",
    "    print(\"Erreur : le volume ne peut pas être zéro.\")\n"
   ]
  },
  {
   "cell_type": "markdown",
   "id": "a7b04894",
   "metadata": {},
   "source": [
    "## Exercice 2 : Vitesse moyenne d’une réaction\n",
    "\n",
    "Lors d’une expérience, on mesure la variation de la concentration d’un réactif au cours du temps.\n",
    "\n",
    "Écrire un programme qui calcule la vitesse moyenne de disparition :\n",
    "\n",
    "\\[ v = \\frac{\\Delta [A]}{\\Delta t} \\]\n",
    "\n",
    "Exemple : [A] passe de 0.80 mol/L à 0.20 mol/L en 120 secondes."
   ]
  },
  {
   "cell_type": "code",
   "execution_count": null,
   "id": "1ecadaf4",
   "metadata": {},
   "outputs": [],
   "source": [
    "# Entrer les données\n",
    "concentration_initiale = float(input(\"Concentration initiale (mol/L) : \"))\n",
    "concentration_finale = float(input(\"Concentration finale (mol/L) : \"))\n",
    "temps = float(input(\"Temps écoulé (s) : \"))\n",
    "\n",
    "# Calcul\n",
    "variation_concentration = concentration_initiale - concentration_finale\n",
    "if temps != 0:\n",
    "    vitesse = variation_concentration / temps\n",
    "    print(f\"Vitesse moyenne : {vitesse:.5f} mol/(L·s)\")\n",
    "else:\n",
    "    print(\"Erreur : le temps ne peut pas être zéro.\")\n"
   ]
  },
  {
   "cell_type": "markdown",
   "id": "bcd215ed",
   "metadata": {},
   "source": [
    "## Évaluation formative en équipe\n",
    "\n",
    "**Travail en équipes de 2 ou 3.**\n",
    "- Chaque membre doit entrer les données, faire fonctionner les scripts et valider les résultats.\n",
    "- Discutez ensemble des erreurs possibles et testez des cas limites (ex. volume = 0).\n",
    "- Vous devez soumettre une **copie fonctionnelle** par équipe sur Moodle (ou autre plateforme).\n",
    "- Une **courte autoévaluation** sera demandée à la fin de la séance :\n",
    "  - Qu’avez-vous bien compris?\n",
    "  - Que reste-t-il à clarifier?\n",
    "  - Avez-vous rencontré des erreurs? Lesquelles?"
   ]
  }
 ],
 "metadata": {},
 "nbformat": 4,
 "nbformat_minor": 5
}
