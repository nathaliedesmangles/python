{
 "cells": [
  {
   "cell_type": "markdown",
   "id": "fe3079cb",
   "metadata": {},
   "source": [
    "# Leçon – Semaine 2 : Opérations arithmétiques, entrées/sorties, erreurs courantes\n",
    "\n",
    "**Objectifs :**\n",
    "- Utiliser Python comme calculatrice scientifique\n",
    "- Lire des données entrées par l’utilisateur\n",
    "- Afficher les résultats clairement\n",
    "- Identifier et corriger les erreurs fréquentes"
   ]
  },
  {
   "cell_type": "markdown",
   "id": "d97a2c2f",
   "metadata": {},
   "source": [
    "## 1. Opérations arithmétiques\n",
    "\n",
    "| Opération | Symbole | Exemple | Résultat |\n",
    "|-----------|---------|---------|----------|\n",
    "| Addition | `+` | `2 + 3` | `5` |\n",
    "| Soustraction | `-` | `7 - 2` | `5` |\n",
    "| Multiplication | `*` | `4 * 5` | `20` |\n",
    "| Division | `/` | `10 / 4` | `2.5` |\n",
    "| Division entière | `//` | `10 // 4` | `2` |\n",
    "| Modulo | `%` | `10 % 4` | `2` |\n",
    "| Puissance | `**` | `2 ** 3` | `8` |\n",
    "\n",
    "Utilisez des parenthèses pour contrôler l'ordre des opérations."
   ]
  },
  {
   "cell_type": "code",
   "execution_count": null,
   "id": "ecd91972",
   "metadata": {},
   "outputs": [],
   "source": [
    "# Exemple d'opérations\n",
    "a = 10\n",
    "b = 3\n",
    "print(\"a + b =\", a + b)\n",
    "print(\"a - b =\", a - b)\n",
    "print(\"a * b =\", a * b)\n",
    "print(\"a / b =\", a / b)\n",
    "print(\"a // b =\", a // b)\n",
    "print(\"a % b =\", a % b)\n",
    "print(\"a ** b =\", a ** b)\n"
   ]
  },
  {
   "cell_type": "markdown",
   "id": "79fc2f1d",
   "metadata": {},
   "source": [
    "## 2. Entrées de l’utilisateur\n",
    "\n",
    "Utilisez `input()` pour demander une valeur, et convertissez-la si nécessaire :"
   ]
  },
  {
   "cell_type": "code",
   "execution_count": null,
   "id": "fe1aa982",
   "metadata": {},
   "outputs": [],
   "source": [
    "# Saisie et conversion\n",
    "masse = float(input(\"Entrer la masse (g) : \"))\n",
    "masse_molaire = float(input(\"Entrer la masse molaire (g/mol) : \"))\n",
    "print(\"Vous avez entré :\", masse, \"g et\", masse_molaire, \"g/mol\")\n"
   ]
  },
  {
   "cell_type": "markdown",
   "id": "8f31c300",
   "metadata": {},
   "source": [
    "## 3. Affichage formaté\n",
    "\n",
    "Utilisez `print()` avec f-string pour un affichage plus clair :"
   ]
  },
  {
   "cell_type": "code",
   "execution_count": null,
   "id": "c1156c36",
   "metadata": {},
   "outputs": [],
   "source": [
    "# Exemple d'affichage formaté\n",
    "concentration = masse / masse_molaire\n",
    "print(f\"La concentration est de {concentration:.2f} mol/L\")\n"
   ]
  },
  {
   "cell_type": "markdown",
   "id": "6c05f844",
   "metadata": {},
   "source": [
    "## 4. Erreurs courantes\n",
    "\n",
    "| Type d’erreur | Exemple | Cause |\n",
    "|---------------|---------|-------|\n",
    "| `SyntaxError` | `print(\"Bonjour\"` | Parenthèse fermante manquante |\n",
    "| `TypeError` | `'masse' + 10` | Texte + nombre |\n",
    "| `ZeroDivisionError` | `10 / 0` | Division par zéro |\n",
    "| `ValueError` | `float(\"abc\")` | Texte non convertible |\n",
    "| `NameError` | `print(x)` sans définir `x` | Variable inconnue |"
   ]
  },
  {
   "cell_type": "code",
   "execution_count": null,
   "id": "d6ab060c",
   "metadata": {},
   "outputs": [],
   "source": [
    "# Exemples d’erreurs à tester (décommentez une à la fois)\n",
    "\n",
    "# SyntaxError\n",
    "# print(\"Oups\"\n",
    "\n",
    "# TypeError\n",
    "# print(\"Masse: \" + 10)\n",
    "\n",
    "# ZeroDivisionError\n",
    "# print(5 / 0)\n",
    "\n",
    "# ValueError\n",
    "# x = float(\"abc\")\n",
    "\n",
    "# NameError\n",
    "# print(resultat)\n"
   ]
  },
  {
   "cell_type": "markdown",
   "id": "2be2368f",
   "metadata": {},
   "source": [
    "**Conseil :** Les erreurs sont normales. Lisez les messages attentivement : Python vous aide à comprendre ce qui ne va pas."
   ]
  }
 ],
 "metadata": {},
 "nbformat": 4,
 "nbformat_minor": 5
}
