{
 "cells": [
  {
   "cell_type": "markdown",
   "id": "26fe4b2e",
   "metadata": {},
   "source": [
    "## Exercice 1\n",
    "a. Afficher les nombres de 1 à 10  \n",
    "Boucle recommandée :   \n",
    "Pourquoi ? :  \n",
    "    \n",
    "b. Compter jusqu’à 100 par bonds de 10  \n",
    "Boucle recommandée :   \n",
    "Pourquoi ? :  \n",
    "\n",
    "c. Simuler la chute d’un objet de 100 m (baisse de 10 m/s)  \n",
    "Boucle recommandée :   \n",
    "Pourquoi ? :   \n",
    "    \n",
    "d. Lire une température jusqu’à ce qu’elle soit < 0 (entrée utilisateur)  \n",
    "Boucle recommandée :   \n",
    "Pourquoi ? :   \n",
    "    \n",
    "e. Menu interactif : prénom ou quitter  \n",
    "Boucle recommandée :   \n",
    "Pourquoi ? :  "
   ]
  },
  {
   "cell_type": "code",
   "execution_count": 3,
   "id": "3aa1c5a3",
   "metadata": {},
   "outputs": [],
   "source": [
    "## Exercice 2\n",
    "# But : utiliser une boucle while pour augmenter la température jusqu’à 30 °C\n",
    "\n",
    "temp = 20  # température initiale"
   ]
  },
  {
   "cell_type": "code",
   "execution_count": 4,
   "id": "78440479",
   "metadata": {},
   "outputs": [],
   "source": [
    "## Exercice 3\n",
    "# But : afficher les numéros des échantillons de 1 à 10"
   ]
  }
 ],
 "metadata": {
  "kernelspec": {
   "display_name": "Python 3",
   "language": "python",
   "name": "python3"
  },
  "language_info": {
   "codemirror_mode": {
    "name": "ipython",
    "version": 3
   },
   "file_extension": ".py",
   "mimetype": "text/x-python",
   "name": "python",
   "nbconvert_exporter": "python",
   "pygments_lexer": "ipython3",
   "version": "3.13.5"
  }
 },
 "nbformat": 4,
 "nbformat_minor": 5
}
