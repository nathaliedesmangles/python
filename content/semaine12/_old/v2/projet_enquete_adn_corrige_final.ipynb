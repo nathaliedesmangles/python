{
 "cells": [
  {
   "cell_type": "markdown",
   "id": "7d94c50d",
   "metadata": {},
   "source": [
    "# 🔬 Projet corrigé : Enquête scientifique par analyse d’ADN\n",
    "\n",
    "Ce carnet contient une solution possible à l'enquête ADN avec des exemples de fonctions, d'analyses et de visualisations.\n"
   ]
  },
  {
   "cell_type": "markdown",
   "id": "de152005",
   "metadata": {},
   "source": [
    "## 🧭 1. Planification\n",
    "\n",
    "Étapes prévues :\n",
    "1. Charger et explorer les données\n",
    "2. Créer une fonction pour comparer deux séquences malgré les `?`\n",
    "3. Calculer les pourcentages de correspondance pour chaque suspect et chaque locus\n",
    "4. Créer un tableau synthèse\n",
    "5. Générer un diagramme à barres avec barres d’erreur\n",
    "6. Effectuer une régression linéaire entre deux loci\n",
    "7. Interpréter les résultats\n"
   ]
  },
  {
   "cell_type": "markdown",
   "id": "8d98a7de",
   "metadata": {},
   "source": [
    "## 🧼 2. Chargement et nettoyage des données"
   ]
  },
  {
   "cell_type": "code",
   "execution_count": null,
   "id": "19c22a77",
   "metadata": {},
   "outputs": [],
   "source": [
    "import pandas as pd\n",
    "import numpy as np\n",
    "import matplotlib.pyplot as plt\n",
    "from scipy import stats\n",
    "\n",
    "df = pd.read_csv(\"suspects.csv\")\n",
    "df.head()"
   ]
  },
  {
   "cell_type": "markdown",
   "id": "3df7a115",
   "metadata": {},
   "source": [
    "## 🧮 3. Calculs de correspondance"
   ]
  },
  {
   "cell_type": "code",
   "execution_count": null,
   "id": "8b999670",
   "metadata": {},
   "outputs": [],
   "source": [
    "def comparer_sequences(seq1, seq2):\n",
    "    correspondances = 0\n",
    "    valides = 0\n",
    "    for a, b in zip(seq1, seq2):\n",
    "        if a != '?' and b != '?':\n",
    "            valides += 1\n",
    "            if a == b:\n",
    "                correspondances += 1\n",
    "    if valides == 0:\n",
    "        return np.nan\n",
    "    return (correspondances / valides) * 100\n"
   ]
  },
  {
   "cell_type": "code",
   "execution_count": null,
   "id": "b1a0156f",
   "metadata": {},
   "outputs": [],
   "source": [
    "def analyser_suspects(df):\n",
    "    loci = ['Locus_1', 'Locus_2', 'Locus_3']\n",
    "    reference = df[df[\"Nom\"] == \"Crime\"].iloc[0]\n",
    "    resultats = []\n",
    "\n",
    "    for i, row in df.iterrows():\n",
    "        if row[\"Nom\"] == \"Crime\":\n",
    "            continue\n",
    "        scores = []\n",
    "        for locus in loci:\n",
    "            score = comparer_sequences(row[locus], reference[locus])\n",
    "            scores.append(score)\n",
    "        moyenne = np.nanmean(scores)\n",
    "        resultats.append({\n",
    "            \"Nom\": row[\"Nom\"],\n",
    "            \"Locus_1\": scores[0],\n",
    "            \"Locus_2\": scores[1],\n",
    "            \"Locus_3\": scores[2],\n",
    "            \"Moyenne\": moyenne\n",
    "        })\n",
    "    return pd.DataFrame(resultats)\n",
    "\n",
    "df_scores = analyser_suspects(df)\n",
    "df_scores"
   ]
  },
  {
   "cell_type": "markdown",
   "id": "a095e597",
   "metadata": {},
   "source": [
    "## 📊 4. Visualisation des résultats"
   ]
  },
  {
   "cell_type": "code",
   "execution_count": null,
   "id": "b3f30c3d",
   "metadata": {},
   "outputs": [],
   "source": [
    "def graphique_correspondances(df_scores):\n",
    "    labels = df_scores[\"Nom\"]\n",
    "    x = np.arange(len(labels))\n",
    "    width = 0.2\n",
    "\n",
    "    fig, ax = plt.subplots(figsize=(10, 6))\n",
    "    ax.bar(x - width, df_scores[\"Locus_1\"], width, label=\"Locus 1\")\n",
    "    ax.bar(x, df_scores[\"Locus_2\"], width, label=\"Locus 2\")\n",
    "    ax.bar(x + width, df_scores[\"Locus_3\"], width, label=\"Locus 3\")\n",
    "\n",
    "    for i in range(len(labels)):\n",
    "        for j, col in enumerate([\"Locus_1\", \"Locus_2\", \"Locus_3\"]):\n",
    "            ax.errorbar(x[i] + (j - 1) * width, df_scores[col][i], yerr=5, fmt='none', ecolor='black')\n",
    "\n",
    "    ax.set_ylabel('Pourcentage de correspondance')\n",
    "    ax.set_title('Correspondance ADN par locus')\n",
    "    ax.set_xticks(x)\n",
    "    ax.set_xticklabels(labels)\n",
    "    ax.legend()\n",
    "    plt.tight_layout()\n",
    "    plt.show()\n",
    "\n",
    "graphique_correspondances(df_scores)"
   ]
  },
  {
   "cell_type": "markdown",
   "id": "8ffda52e",
   "metadata": {},
   "source": [
    "## 📈 5. Régression linéaire"
   ]
  },
  {
   "cell_type": "code",
   "execution_count": null,
   "id": "44dcf42e",
   "metadata": {},
   "outputs": [],
   "source": [
    "x = df_scores[\"Locus_1\"]\n",
    "y = df_scores[\"Locus_2\"]\n",
    "res = stats.linregress(x, y)\n",
    "\n",
    "plt.figure(figsize=(6, 5))\n",
    "plt.scatter(x, y)\n",
    "plt.plot(x, res.intercept + res.slope * x, 'r', label=f'y={res.slope:.2f}x+{res.intercept:.2f}')\n",
    "plt.xlabel(\"Locus 1\")\n",
    "plt.ylabel(\"Locus 2\")\n",
    "plt.title(\"Régression linéaire entre Locus 1 et Locus 2\")\n",
    "plt.legend()\n",
    "plt.grid()\n",
    "plt.show()\n",
    "\n",
    "print(f\"Pente : {res.slope:.2f} ± {res.stderr:.2f}\")\n",
    "print(f\"R² : {res.rvalue**2:.2f}\")"
   ]
  },
  {
   "cell_type": "markdown",
   "id": "ec43d434",
   "metadata": {},
   "source": [
    "## 🧠 6. Interprétation\n",
    "\n",
    "- Le ou les suspects avec les taux les plus élevés sont les plus probables.\n",
    "- L’analyse montre une corrélation modérée entre les loci 1 et 2.\n",
    "- Les incertitudes biologiques (caractères manquants) diminuent la précision.\n",
    "- On pourrait améliorer l’analyse avec plus de loci ou d’outils bioinformatiques.\n"
   ]
  },
  {
   "cell_type": "markdown",
   "id": "426a6a57",
   "metadata": {},
   "source": [
    "## 🧪 Bonus : Limites biologiques\n",
    "\n",
    "- Les mutations naturelles ou les erreurs de séquençage peuvent fausser les résultats.\n",
    "- La contamination ou la dégradation des échantillons sont des facteurs à considérer.\n"
   ]
  }
 ],
 "metadata": {},
 "nbformat": 4,
 "nbformat_minor": 5
}