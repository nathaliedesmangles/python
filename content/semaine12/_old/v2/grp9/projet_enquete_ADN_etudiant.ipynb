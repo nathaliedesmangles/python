{
  "nbformat": 4,
  "nbformat_minor": 0,
  "metadata": {
    "colab": {
      "provenance": []
    },
    "kernelspec": {
      "name": "python3",
      "display_name": "Python 3"
    },
    "language_info": {
      "name": "python"
    }
  },
  "cells": [
    {
      "cell_type": "markdown",
      "source": [
        "# Projet : Enquête scientifique par analyse d’ADN\n",
        "# Objectif : Identifier les suspects dont l’ADN correspond à l’échantillon prélevé sur la scène de crime"
      ],
      "metadata": {
        "id": "vn_2ZV_ZOhKZ"
      }
    },
    {
      "cell_type": "code",
      "execution_count": null,
      "metadata": {
        "id": "GKu4r5NxOUgc"
      },
      "outputs": [],
      "source": [
        "import pandas as pd\n",
        "import matplotlib.pyplot as plt\n",
        "import numpy as np\n",
        "from difflib import SequenceMatcher\n",
        "from sklearn.linear_model import LinearRegression\n",
        "\n",
        "# === 1. Données ADN ===\n",
        "\n",
        "# Complète les séquences pour chaque suspect (3 loci)\n",
        "data = {\n",
        "    \"Suspect\": [\"S1\", \"S2\", \"S3\", \"S4\", \"S5\", \"S6\"],\n",
        "    \"Locus_1\": [\"ATCGTAC\", \"ATCCTAC\", \"ATCGTCC\", \"ATGGTAC\", \"AACGTAC\", \"ATCGTGC\"],\n",
        "    \"Locus_2\": [\"GGATCGA\", \"GGATGGA\", \"GAATCGA\", \"GGATCGA\", \"GGATCCA\", \"GGATCGT\"],\n",
        "    \"Locus_3\": [\"TTAAGC\", \"TTAAGT\", \"TTCAGC\", \"TTAAGC\", \"TTAAGG\", \"TTAAGC\"]\n",
        "}\n",
        "\n",
        "# Échantillon trouvé sur la scène de crime\n",
        "echantillon = {\n",
        "    \"Locus_1\": \"ATCGTAC\",\n",
        "    \"Locus_2\": \"GGATCGA\",\n",
        "    \"Locus_3\": \"TTAAGC\"\n",
        "}\n",
        "\n",
        "df = pd.DataFrame(data)\n",
        "df.set_index(\"Suspect\", inplace=True)\n",
        "\n",
        "df\n"
      ]
    },
    {
      "cell_type": "code",
      "source": [
        "# === 2. Fonction de comparaison ===\n",
        "\n",
        "# Définis une fonction \"comparer\" qui retourne le pourcentage de similarité entre deux séquences\n",
        "\n",
        "def comparer(seq1, seq2):\n",
        "    # À compléter\n",
        "    pass\n"
      ],
      "metadata": {
        "id": "cWDJeqTHOqf2"
      },
      "execution_count": null,
      "outputs": []
    },
    {
      "cell_type": "code",
      "source": [
        "# === 3. Calculer les pourcentages de correspondance par suspect ===\n",
        "\n",
        "# Pour chaque suspect, comparer chaque locus avec l'échantillon\n",
        "# Enregistre les résultats dans une liste de listes, puis crée un DataFrame\n",
        "\n",
        "correspondances = []\n",
        "\n",
        "for suspect in df.index:\n",
        "    matches = []\n",
        "    for locus in [\"Locus_1\", \"Locus_2\", \"Locus_3\"]:\n",
        "        # Utilise la fonction comparer()\n",
        "        pass  # à remplacer\n",
        "    correspondances.append(matches)\n",
        "\n",
        "# Crée le DataFrame des scores\n",
        "cor_df = pd.DataFrame(correspondances, columns=[\"Locus_1\", \"Locus_2\", \"Locus_3\"], index=df.index)\n",
        "\n",
        "# Calcule la moyenne des 3 loci\n",
        "# Trie les suspects du plus au moins probable\n",
        "\n",
        "# À compléter ici\n",
        "cor_df\n"
      ],
      "metadata": {
        "id": "BJRbyN6NOwBF"
      },
      "execution_count": null,
      "outputs": []
    },
    {
      "cell_type": "code",
      "source": [
        "# === 4. Visualisation ===\n",
        "\n",
        "# Affiche un graphique à barres des correspondances par locus\n",
        "\n",
        "# À compléter\n"
      ],
      "metadata": {
        "id": "vR7jZF3RO1jC"
      },
      "execution_count": null,
      "outputs": []
    },
    {
      "cell_type": "code",
      "source": [
        "# === 5. Régression linéaire ===\n",
        "\n",
        "# Vérifie la relation entre deux loci (ex. : locus 1 et locus 2)\n",
        "\n",
        "# Étapes :\n",
        "# - extraire les colonnes comme x et y\n",
        "# - créer un modèle\n",
        "# - ajuster le modèle\n",
        "# - afficher le graphique avec les données et la droite de régression\n",
        "\n",
        "# À compléter\n"
      ],
      "metadata": {
        "id": "rErZzmmaO94F"
      },
      "execution_count": null,
      "outputs": []
    },
    {
      "cell_type": "code",
      "source": [
        "# === 6. Simulation d’un échantillon bruité ===\n",
        "\n",
        "# Crée une fonction qui ajoute de petites erreurs (substitution de base) à une séquence\n",
        "\n",
        "def ajouter_bruit(seq, taux_erreur=0.1):\n",
        "    # À compléter\n",
        "    pass\n",
        "\n",
        "# Simule un nouvel échantillon bruité (utilise np.random.seed pour reproductibilité)\n",
        "# Puis recalcule les correspondances avec ce nouvel échantillon\n",
        "\n",
        "# À compléter\n"
      ],
      "metadata": {
        "id": "zAlUGqoxPCkw"
      },
      "execution_count": null,
      "outputs": []
    },
    {
      "cell_type": "code",
      "source": [
        "# === 7. Conclusion ===\n",
        "\n",
        "# Imprime un message pour indiquer le suspect le plus probable\n",
        "# Utilise une condition : si la moyenne est supérieure à un seuil (ex. : 85 %), affiche une conclusion\n",
        "\n",
        "# À compléter\n"
      ],
      "metadata": {
        "id": "F_tNauk9PHPc"
      },
      "execution_count": null,
      "outputs": []
    },
    {
      "cell_type": "markdown",
      "source": [],
      "metadata": {
        "id": "D2W2-3msOf4O"
      }
    }
  ]
}