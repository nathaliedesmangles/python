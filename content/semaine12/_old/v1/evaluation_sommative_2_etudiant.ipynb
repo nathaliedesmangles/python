{
 "cells": [
  {
   "cell_type": "markdown",
   "metadata": {},
   "source": [
    "# Évaluation sommative 2 – Programmation scientifique avec Python\n",
    "**Durée : 2 h 40** – **Valeur : 30 %**\n\n",
    "**Contexte :** Étude de la production de CO₂ pendant une fermentation.\n",
    "Utilisez le fichier `fermentation_co2.csv` fourni avec cette évaluation.\n"
   ]
  },
  {
   "cell_type": "markdown",
   "metadata": {},
   "source": [
    "## Partie 1 – Lecture et traitement des données (30 %)"
   ]
  },
  {
   "cell_type": "code",
   "execution_count": null,
   "metadata": {},
   "outputs": [],
   "source": [
    "# 1. Lire le fichier CSV avec pandas\n",
    "import pandas as pd\n",
    "import numpy as np\n",
    "\n",
    "# Code ici..."
   ]
  },
  {
   "cell_type": "markdown",
   "metadata": {},
   "source": [
    "## Partie 2 – Fonctions personnalisées (25 %)"
   ]
  },
  {
   "cell_type": "code",
   "execution_count": null,
   "metadata": {},
   "outputs": [],
   "source": [
    "# 1. Fonction variation(co2)\n",
    "def variation(co2):\n",
    "    pass  # À compléter\n",
    "\n",
    "# 2. Fonction alerte_variation(var, seuil)\n",
    "def alerte_variation(var, seuil):\n",
    "    pass  # À compléter"
   ]
  },
  {
   "cell_type": "markdown",
   "metadata": {},
   "source": [
    "## Partie 3 – Visualisation des données (20 %)"
   ]
  },
  {
   "cell_type": "code",
   "execution_count": null,
   "metadata": {},
   "outputs": [],
   "source": [
    "# Tracer le graphique avec matplotlib\n",
    "import matplotlib.pyplot as plt\n",
    "\n",
    "# Code ici..."
   ]
  },
  {
   "cell_type": "markdown",
   "metadata": {},
   "source": [
    "## Partie 4 – Exportation des résultats (15 %)"
   ]
  },
  {
   "cell_type": "code",
   "execution_count": null,
   "metadata": {},
   "outputs": [],
   "source": [
    "# Ajouter la colonne Variation_CO2 et exporter\n",
    "# Code ici..."
   ]
  },
  {
   "cell_type": "markdown",
   "metadata": {},
   "source": [
    "## Partie 5 – Interprétation et conclusion (10 %)"
   ]
  },
  {
   "cell_type": "markdown",
   "metadata": {},
   "source": [
    "_Écrivez ici votre interprétation (4-5 lignes)._\n"
   ]
  }
 ],
 "metadata": {
  "kernelspec": {
   "display_name": "Python 3",
   "language": "python",
   "name": "python3"
  },
  "language_info": {
   "name": "python",
   "version": "3.x"
  }
 },
 "nbformat": 4,
 "nbformat_minor": 2
}
