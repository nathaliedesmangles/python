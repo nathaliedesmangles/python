{
 "cells": [
  {
   "cell_type": "markdown",
   "metadata": {},
   "source": [
    "# Évaluation sommative 2 – Programmation scientifique avec Python\n",
    "**Durée : 2 h 40** – **Valeur : 30 %**\n\n",
    "**Contexte :** Étude de la production de CO₂ pendant une fermentation.\n",
    "Utilisez le fichier `fermentation_co2.csv` fourni avec cette évaluation.\n"
   ]
  },
  {
   "cell_type": "markdown",
   "metadata": {},
   "source": [
    "## Partie 1 – Lecture et traitement des données (30 %)"
   ]
  },
  {
   "cell_type": "code",
   "execution_count": null,
   "metadata": {},
   "outputs": [],
   "source": [
    "import pandas as pd\n",
    "import numpy as np\n",
    "df = pd.read_csv('fermentation_co2.csv')\n",
    "co2 = df['CO2 (mg/L)'].values\n",
    "moyenne = np.mean(co2)\n",
    "ecart_type = np.std(co2)\n",
    "variations = np.abs(np.diff(co2))\n",
    "variation_max = np.max(variations)\n",
    "dico_variation = {df['Temps (min)'][i+1]: variations[i] for i in range(len(variations))}\n",
    "print(f\"Moyenne: {moyenne}, Écart-type: {ecart_type}, Variation max: {variation_max}\")"
   ]
  },
  {
   "cell_type": "markdown",
   "metadata": {},
   "source": [
    "## Partie 2 – Fonctions personnalisées (25 %)"
   ]
  },
  {
   "cell_type": "code",
   "execution_count": null,
   "metadata": {},
   "outputs": [],
   "source": [
    "def variation(co2):\n",
    "    return [abs(co2[i] - co2[i-1]) for i in range(1, len(co2))]\n",
    "\n",
    "def alerte_variation(var, seuil):\n",
    "    return [i for i, v in enumerate(var) if v > seuil]\n",
    "\n",
    "variations = variation(co2)\n",
    "alertes = alerte_variation(variations, 5)\n",
    "print(\"Indices d'alerte:\", alertes)"
   ]
  },
  {
   "cell_type": "markdown",
   "metadata": {},
   "source": [
    "## Partie 3 – Visualisation des données (20 %)"
   ]
  },
  {
   "cell_type": "code",
   "execution_count": null,
   "metadata": {},
   "outputs": [],
   "source": [
    "import matplotlib.pyplot as plt\n",
    "temps = df['Temps (min)']\n",
    "plt.plot(temps, co2, marker='o', label='CO₂ (mg/L)')\n",
    "plt.axhline(moyenne, color='red', linestyle='--', label='Moyenne')\n",
    "i_max = np.argmax(variations)\n",
    "plt.annotate('Variation max', xy=(temps[i_max+1], co2[i_max+1]),\n",
    "             xytext=(temps[i_max+1]+10, co2[i_max+1]+2),\n",
    "             arrowprops=dict(facecolor='black'))\n",
    "plt.xlabel('Temps (min)')\n",
    "plt.ylabel('CO₂ (mg/L)')\n",
    "plt.legend()\n",
    "plt.title('Production de CO₂ pendant la fermentation')\n",
    "plt.grid(True)\n",
    "plt.show()"
   ]
  },
  {
   "cell_type": "markdown",
   "metadata": {},
   "source": [
    "## Partie 4 – Exportation des résultats (15 %)"
   ]
  },
  {
   "cell_type": "code",
   "execution_count": null,
   "metadata": {},
   "outputs": [],
   "source": [
    "variation_co2 = [0] + list(variations)\n",
    "df['Variation_CO2'] = variation_co2\n",
    "df.to_csv('fermentation_analyse.csv', index=False)\n",
    "df.head()"
   ]
  },
  {
   "cell_type": "markdown",
   "metadata": {},
   "source": [
    "## Partie 5 – Interprétation et conclusion (10 %)"
   ]
  },
  {
   "cell_type": "markdown",
   "metadata": {},
   "source": [
    "La production de CO₂ augmente rapidement au début, signe d’une forte activité fermentaire.\n",
    "Le taux de production ralentit autour de 80-90 minutes, puis se stabilise à un plateau vers 50 mg/L.\n",
    "Cela suggère un épuisement du sucre ou une saturation du milieu.\n",
    "La phase exponentielle est clairement visible jusqu’à 60-70 minutes."
   ]
  }
 ],
 "metadata": {
  "kernelspec": {
   "display_name": "Python 3",
   "language": "python",
   "name": "python3"
  },
  "language_info": {
   "name": "python",
   "version": "3.x"
  }
 },
 "nbformat": 4,
 "nbformat_minor": 2
}
