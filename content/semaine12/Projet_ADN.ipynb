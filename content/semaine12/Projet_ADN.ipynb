{
  "cells": [
    {
      "cell_type": "markdown",
      "metadata": {},
      "source": [
        "# Projet : Enquête ADN — Identifier le coupable\n",
        "## Contexte\n",
        "Une scène de crime a été trouvée dans un laboratoire. Un fragment d'ADN a été prélevé et séquencé sur 3 loci (L1, L2, L3).\n",
        "Vous disposez des profils ADN de 10 suspects (fichier `adn_suspects.csv`) et du profil trouvé sur la scène (`adn_scene.csv`).\n",
        "Votre objectif : nettoyer les données, comparer les profils, visualiser les résultats et produire une conclusion courte.\n"
      ]
    },
    {
      "cell_type": "markdown",
      "metadata": {},
      "source": [
        "---\n",
        "### Étape 1 — Lecture des données\n",
        "Lisez les fichiers fournis et affichez les premières lignes.\n"
      ]
    },
    {
      "cell_type": "code",
      "execution_count": null,
      "metadata": {},
      "outputs": [],
      "source": [
        "# TODO : Charger les fichiers adn_suspects.csv et adn_scene.csv avec pandas\n",
        "import pandas as pd\n",
        "suspects = pd.read_csv('Projet_ADN/adn_suspects.csv')\n",
        "scene = pd.read_csv('Projet_ADN/adn_scene.csv')\n",
        "display(suspects.head())\n",
        "display(scene.head())\n"
      ]
    },
    {
      "cell_type": "markdown",
      "metadata": {},
      "source": [
        "---\n",
        "### Étape 2 — Nettoyage des données\n",
        "Repérez les valeurs manquantes et remplacez-les par la moyenne de chaque colonne (moyenne des loci).\n"
      ]
    },
    {
      "cell_type": "code",
      "execution_count": null,
      "metadata": {},
      "outputs": [],
      "source": [
        "# TODO : Détecter les NaN et compléter par la moyenne de chaque locus\n",
        "import numpy as np\n",
        "print('Valeurs manquantes par colonne :')\n",
        "print(suspects.isna().sum())\n",
        "# Remplir les NaN par la moyenne (colonne par colonne)\n",
        "suspects_clean = suspects.fillna(suspects.mean(numeric_only=True))\n",
        "display(suspects_clean)\n"
      ]
    },
    {
      "cell_type": "markdown",
      "metadata": {},
      "source": [
        "---\n",
        "### Étape 3a — Analyse comparative\n",
        "Calculez la différence absolue moyenne entre chaque suspect et l'échantillon trouvé.\n"
      ]
    },
    {
      "cell_type": "code",
      "execution_count": null,
      "metadata": {},
      "outputs": [],
      "source": [
        "# TODO : Calculer les scores de similarité (différence absolue moyenne)\n",
        "scene_vals = scene.iloc[0,1:].to_numpy(dtype=float)\n",
        "scores = {}\n",
        "for i, row in suspects_clean.iterrows():\n",
        "    vals = row[['L1','L2','L3']].to_numpy(dtype=float)\n",
        "    diff = np.abs(vals - scene_vals)\n",
        "    scores[row['Nom']] = diff.mean()\n",
        "scores_sorted = dict(sorted(scores.items(), key=lambda x: x[1]))\n",
        "print('Scores (de la plus petite à la plus grande) :')\n",
        "print(scores_sorted)\n"
      ]
    },
    {
      "cell_type": "markdown",
      "id": "7b252ebb",
      "metadata": {},
      "source": [
        "## Étape 3b — Analyse statistique des loci\n",
        "\n",
        "Avant de comparer les suspects à l’ADN trouvé sur la scène, analysons l'**incertitude des données ADN** observée chez les 10 suspects.\n",
        "\n",
        "Cette analyse nous permettra de savoir :\n",
        "- Quels loci sont les plus stables ?\n",
        "- Quels loci montrent le plus d'incertitude ?\n",
        "\n",
        "On utilisera des fonctions NumPy pour calculer :\n",
        "- la **moyenne** (`np.mean()`)\n",
        "- l’**écart-type** (`np.std()`)\n",
        "\n",
        "Ces valeurs serviront à créer un graphique à **barres avec barres d’erreur**.\n"
      ]
    },
    {
      "cell_type": "code",
      "execution_count": null,
      "id": "a31b0330",
      "metadata": {},
      "outputs": [],
      "source": [
        "# TODO : Calculer la moyenne et l'écart-type pour chaque locus\n",
        "# Indice : utilisez np.mean() et np.std() sur les colonnes du tableau des suspects\n",
        "\n",
        "# moyennes = ...\n",
        "# ecarts = ...\n",
        "\n",
        "# TODO : Afficher ces valeurs\n",
        "# print(\"Moyennes :\", moyennes)\n",
        "# print(\"Écarts-types :\", ecarts)\n"
      ]
    },
    {
      "cell_type": "code",
      "execution_count": null,
      "id": "10e50085",
      "metadata": {},
      "outputs": [],
      "source": [
        "# TODO : Tracer un graphique avec barres d’erreur\n",
        "# Indice : plt.bar(x, moyennes, yerr=ecarts, capsize=5, color='lightblue')\n",
        "\n",
        "# locus = ...\n",
        "# plt.bar(...)\n",
        "# plt.xlabel(...)\n",
        "# plt.ylabel(...)\n",
        "# plt.title(\"Incertitude des loci chez les suspects\")\n",
        "# plt.show()\n"
      ]
    },
    {
      "cell_type": "markdown",
      "id": "0e8d91a2",
      "metadata": {},
      "source": [
        "**Interprétation**\n",
        "- Quel locus semble le plus stable (petit écart-type) ?\n",
        "- Quel locus montre une grande variabilité (grand écart-type) ?\n",
        "- Que signifie cette variabilité dans le contexte de l’enquête ?\n"
      ]
    },
    {
      "cell_type": "markdown",
      "metadata": {},
      "source": [
        "---\n",
        "### Étape 4 — Visualisation\n",
        "Tracez un graphique comparant les loci du suspect le plus probable et de l'échantillon. Ajoutez des barres d'erreur (±2 pb) et une régression linéaire.\n"
      ]
    },
    {
      "cell_type": "code",
      "execution_count": null,
      "metadata": {},
      "outputs": [],
      "source": [
        "# TODO : Visualiser (barres + erreurs) et tracer une régression linéaire\n",
        "import matplotlib.pyplot as plt\n",
        "coupable = list(scores_sorted.keys())[0]\n",
        "suspect_vals = suspects_clean[suspects_clean['Nom']==coupable][['L1','L2','L3']].to_numpy(dtype=float).flatten()\n",
        "loci = ['L1','L2','L3']\n",
        "plt.figure(figsize=(6,4))\n",
        "plt.bar(loci, suspect_vals, yerr=2, alpha=0.6, label=coupable)\n",
        "plt.bar(loci, scene_vals, yerr=2, alpha=0.6, label='ADN_scene')\n",
        "plt.ylabel('Longueur (pb)')\n",
        "plt.title(f'Comparaison ADN : {coupable} vs scène')\n",
        "plt.legend()\n",
        "plt.show()\n",
        "# Régression\n",
        "a,b = np.polyfit(scene_vals, suspect_vals, 1)\n",
        "plt.figure(figsize=(6,4))\n",
        "plt.plot(scene_vals, suspect_vals, 'o')\n",
        "xs = np.linspace(min(scene_vals)-5, max(scene_vals)+5, 100)\n",
        "plt.plot(xs, a*xs+b, '-', label=f'y={a:.2f}x+{b:.2f}')\n",
        "plt.xlabel('ADN scène (pb)')\n",
        "plt.ylabel(f'ADN {coupable} (pb)')\n",
        "plt.legend()\n",
        "plt.show()\n"
      ]
    },
    {
      "cell_type": "markdown",
      "metadata": {},
      "source": [
        "---\n",
        "### Étape 5 — Résultat final\n",
        "Enregistrez le nom du coupable probable et les scores dans un fichier texte `resultats_adn.txt`. Rédigez une courte conclusion (3-5 lignes).\n"
      ]
    },
    {
      "cell_type": "code",
      "execution_count": null,
      "metadata": {},
      "outputs": [],
      "source": [
        "# TODO : Enregistrer les résultats\n",
        "with open('Projet_ADN/resultats_adn.txt', 'w') as f:\n",
        "    f.write(f'Coupable probable: {coupable}\\n')\n",
        "    f.write('Scores:\\n')\n",
        "    for name, sc in scores_sorted.items():\n",
        "        f.write(f'{name}: {sc:.3f}\\n')\n",
        "print('Fichier resultats_adn.txt créé dans le dossier Projet_ADN/')\n"
      ]
    },
    {
      "cell_type": "markdown",
      "metadata": {},
      "source": [
        "---\n",
        "Bon travail ! Remets ce notebook (.ipynb) avec vos graphiques et le fichier `resultats_adn.txt`.\n"
      ]
    }
  ],
  "metadata": {
    "kernelspec": {
      "display_name": "Python 3",
      "language": "python",
      "name": "python3"
    },
    "language_info": {
      "name": "python",
      "version": "3.13.5"
    }
  },
  "nbformat": 4,
  "nbformat_minor": 5
}
