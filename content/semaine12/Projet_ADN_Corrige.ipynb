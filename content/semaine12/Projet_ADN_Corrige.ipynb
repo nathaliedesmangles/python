{
  "cells": [
    {
      "cell_type": "markdown",
      "metadata": {},
      "source": [
        "# Corrigé — Projet : Enquête ADN\n",
        "Version corrigée avec solutions et explications.\n"
      ]
    },
    {
      "cell_type": "code",
      "execution_count": null,
      "metadata": {},
      "outputs": [],
      "source": [
        "import pandas as pd\n",
        "import numpy as np\n",
        "import matplotlib.pyplot as plt\n",
        "from IPython.display import display\n",
        "\n",
        "# Lecture des fichiers\n",
        "suspects = pd.read_csv('Projet_ADN/adn_suspects.csv')\n",
        "scene = pd.read_csv('Projet_ADN/adn_scene.csv')\n",
        "display(suspects)\n",
        "display(scene)\n"
      ]
    },
    {
      "cell_type": "code",
      "execution_count": null,
      "metadata": {},
      "outputs": [],
      "source": [
        "# Nettoyage des données\n",
        "print('NaN par colonne (avant) :')\n",
        "print(suspects.isna().sum())\n",
        "suspects_clean = suspects.fillna(suspects.mean(numeric_only=True))\n",
        "print('\\nNaN par colonne (après) :')\n",
        "print(suspects_clean.isna().sum())\n",
        "display(suspects_clean)\n"
      ]
    },
    {
      "cell_type": "code",
      "execution_count": null,
      "metadata": {},
      "outputs": [],
      "source": [
        "# Analyse comparative\n",
        "scene_vals = scene.iloc[0,1:].to_numpy(dtype=float)\n",
        "scores = {}\n",
        "for i, row in suspects_clean.iterrows():\n",
        "    vals = row[['L1','L2','L3']].to_numpy(dtype=float)\n",
        "    diff = np.abs(vals - scene_vals)\n",
        "    scores[row['Nom']] = diff.mean()\n",
        "scores_sorted = dict(sorted(scores.items(), key=lambda x: x[1]))\n",
        "print('Scores (de la plus petite à la plus grande) :')\n",
        "for k,v in scores_sorted.items():\n",
        "    print(f'{k}: {v:.3f}')\n"
      ]
    },
    {
      "cell_type": "code",
      "execution_count": null,
      "id": "efdd85b4",
      "metadata": {},
      "outputs": [],
      "source": [
        "import numpy as np\n",
        "import matplotlib.pyplot as plt\n",
        "\n",
        "# Supposons que le DataFrame des suspects s’appelle df_suspects\n",
        "data = df_suspects[[\"Locus1\", \"Locus2\", \"Locus3\"]].to_numpy()\n",
        "\n",
        "# Calculs statistiques\n",
        "moyennes = np.mean(data, axis=0)\n",
        "ecarts = np.std(data, axis=0)\n",
        "\n",
        "print(\"Moyennes par locus :\", np.round(moyennes, 3))\n",
        "print(\"Écarts-types par locus :\", np.round(ecarts, 3))\n",
        "\n",
        "# Graphique à barres avec barres d’erreur\n",
        "locus = [\"Locus 1\", \"Locus 2\", \"Locus 3\"]\n",
        "\n",
        "plt.bar(locus, moyennes, yerr=ecarts, capsize=5, color=\"lightblue\")\n",
        "plt.xlabel(\"Locus\")\n",
        "plt.ylabel(\"Valeurs moyennes (unités arbitraires)\")\n",
        "plt.title(\"Variabilité des loci chez les suspects\")\n",
        "plt.show()\n"
      ]
    },
    {
      "cell_type": "markdown",
      "id": "27aa8b88",
      "metadata": {},
      "source": [
        "### Interprétation\n",
        "\n",
        "- **Locus 1** présente la plus faible variabilité : il est donc plus stable dans la population.\n",
        "- **Locus 3** montre un écart-type plus élevé : il varie davantage d’un individu à l’autre.\n",
        "- En biologie, cette variabilité reflète la **diversité génétique**.  \n",
        "  Dans le cadre de l’enquête, un locus très variable est plus utile pour distinguer les suspects.\n"
      ]
    },
    {
      "cell_type": "code",
      "execution_count": null,
      "metadata": {},
      "outputs": [],
      "source": [
        "# Visualisation : barres + erreurs\n",
        "coupable = list(scores_sorted.keys())[0]\n",
        "suspect_vals = suspects_clean[suspects_clean['Nom']==coupable][['L1','L2','L3']].to_numpy(dtype=float).flatten()\n",
        "loci = ['L1','L2','L3']\n",
        "plt.figure(figsize=(6,4))\n",
        "x = np.arange(len(loci))\n",
        "plt.bar(x-0.15, suspect_vals, width=0.3, yerr=2, label=coupable, alpha=0.7)\n",
        "plt.bar(x+0.15, scene_vals, width=0.3, yerr=2, label='ADN_scene', alpha=0.7)\n",
        "plt.xticks(x, loci)\n",
        "plt.ylabel('Longueur (pb)')\n",
        "plt.title(f'Comparaison ADN : {coupable} vs scène')\n",
        "plt.legend()\n",
        "plt.show()\n"
      ]
    },
    {
      "cell_type": "code",
      "execution_count": null,
      "metadata": {},
      "outputs": [],
      "source": [
        "# Régression linéaire\n",
        "a,b = np.polyfit(scene_vals, suspect_vals, 1)\n",
        "plt.figure(figsize=(6,4))\n",
        "plt.plot(scene_vals, suspect_vals, 'o', label='données')\n",
        "xs = np.linspace(min(scene_vals)-5, max(scene_vals)+5, 100)\n",
        "plt.plot(xs, a*xs+b, '-', label=f'y={a:.2f}x+{b:.2f}')\n",
        "plt.xlabel('ADN scène (pb)')\n",
        "plt.ylabel(f'ADN {coupable} (pb)')\n",
        "plt.legend()\n",
        "plt.show()\n"
      ]
    },
    {
      "cell_type": "code",
      "execution_count": null,
      "metadata": {},
      "outputs": [],
      "source": [
        "# Sauvegarde des résultats\n",
        "with open('Projet_ADN/resultats_adn.txt', 'w') as f:\n",
        "    f.write(f'Coupable probable: {coupable}\\n')\n",
        "    f.write('Scores:\\n')\n",
        "    for name, sc in scores_sorted.items():\n",
        "        f.write(f'{name}: {sc:.3f}\\n')\n",
        "print('resultats_adn.txt créé (voir dossier Projet_ADN/)')\n",
        "display(pd.read_csv('Projet_ADN/resultats_adn.txt', header=None))\n"
      ]
    },
    {
      "cell_type": "markdown",
      "metadata": {},
      "source": [
        "---\n",
        "## Conclusion (exemple)\n",
        "Selon l'analyse des trois loci, le suspect dont le profil présente la plus faible différence moyenne par rapport à l'échantillon trouvé est indiqué ci‑dessus. Cette méthode simple (différence absolue moyenne) fournit une première hypothèse de travail ; en contexte réel, on utiliserait davantage de loci et des méthodes statistiques plus robustes.\n"
      ]
    }
  ],
  "metadata": {
    "kernelspec": {
      "display_name": "Python 3",
      "language": "python",
      "name": "python3"
    }
  },
  "nbformat": 4,
  "nbformat_minor": 5
}
