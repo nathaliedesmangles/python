{
 "cells": [
  {
   "cell_type": "markdown",
   "id": "586bf9a8",
   "metadata": {},
   "source": [
    "### Exercice 1 – Création d’un dictionnaire\n",
    "\n",
    "Crée un dictionnaire appelé `etudiant` qui contient les clés suivantes : `nom`, `programme`, `age`. Attribue des valeurs fictives à chacune des clés et affiche le dictionnaire."
   ]
  },
  {
   "cell_type": "code",
   "execution_count": null,
   "id": "03b50894",
   "metadata": {},
   "outputs": [],
   "source": [
    "etudiant = {\n",
    "    \"nom\": \"Alice\",\n",
    "    \"programme\": \"Sciences de la nature\",\n",
    "    \"age\": 18\n",
    "}\n",
    "print(etudiant)"
   ]
  },
  {
   "cell_type": "markdown",
   "id": "9614d978",
   "metadata": {},
   "source": [
    "### Exercice 2 – Accéder à une valeur\n",
    "\n",
    "À partir du dictionnaire `etudiant`, affiche uniquement le programme de l’étudiant."
   ]
  },
  {
   "cell_type": "code",
   "execution_count": null,
   "id": "0b60c98d",
   "metadata": {},
   "outputs": [],
   "source": [
    "print(etudiant[\"programme\"])"
   ]
  },
  {
   "cell_type": "markdown",
   "id": "44cf11c1",
   "metadata": {},
   "source": [
    "### Exercice 3 – Ajouter une clé\n",
    "\n",
    "Ajoute une clé `moyenne` avec une valeur numérique au dictionnaire `etudiant`, puis affiche-le."
   ]
  },
  {
   "cell_type": "code",
   "execution_count": null,
   "id": "2ae10c25",
   "metadata": {},
   "outputs": [],
   "source": [
    "etudiant[\"moyenne\"] = 87\n",
    "print(etudiant)"
   ]
  },
  {
   "cell_type": "markdown",
   "id": "1bbc560c",
   "metadata": {},
   "source": [
    "### Exercice 4 – Modifier une valeur\n",
    "\n",
    "Change l’âge de l’étudiant dans le dictionnaire `etudiant` pour 19 ans."
   ]
  },
  {
   "cell_type": "code",
   "execution_count": null,
   "id": "49809595",
   "metadata": {},
   "outputs": [],
   "source": [
    "etudiant[\"age\"] = 19\n",
    "print(etudiant)"
   ]
  },
  {
   "cell_type": "markdown",
   "id": "92e09eb2",
   "metadata": {},
   "source": [
    "### Exercice 5 – Parcourir un dictionnaire\n",
    "\n",
    "Écris une boucle `for` qui parcourt les clés et valeurs du dictionnaire `etudiant` et les affiche dans la forme : `clé : valeur`."
   ]
  },
  {
   "cell_type": "code",
   "execution_count": null,
   "id": "ad8d231d",
   "metadata": {},
   "outputs": [],
   "source": [
    "for cle, valeur in etudiant.items():\n",
    "    print(cle, \":\", valeur)"
   ]
  }
 ],
 "metadata": {},
 "nbformat": 4,
 "nbformat_minor": 5
}
